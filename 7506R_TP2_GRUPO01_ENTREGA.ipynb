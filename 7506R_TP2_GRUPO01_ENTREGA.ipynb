{
 "cells": [
  {
   "cell_type": "markdown",
   "metadata": {
    "pycharm": {
     "name": "#%% md\n"
    }
   },
   "source": [
    "# 7506 - Trabajo Práctico 2"
   ]
  },
  {
   "cell_type": "markdown",
   "metadata": {
    "pycharm": {
     "name": "#%% md\n"
    }
   },
   "source": [
    "---"
   ]
  },
  {
   "cell_type": "markdown",
   "metadata": {
    "pycharm": {
     "name": "#%% md\n"
    }
   },
   "source": [
    "## Introducción"
   ]
  },
  {
   "cell_type": "markdown",
   "metadata": {
    "pycharm": {
     "name": "#%% md\n"
    }
   },
   "source": [
    "### Librerías"
   ]
  },
  {
   "cell_type": "code",
   "execution_count": 1,
   "outputs": [
    {
     "name": "stderr",
     "output_type": "stream",
     "text": [
      "2022-12-03 14:55:51.689570: I tensorflow/core/platform/cpu_feature_guard.cc:193] This TensorFlow binary is optimized with oneAPI Deep Neural Network Library (oneDNN) to use the following CPU instructions in performance-critical operations:  AVX2 FMA\n",
      "To enable them in other operations, rebuild TensorFlow with the appropriate compiler flags.\n",
      "2022-12-03 14:55:51.823583: W tensorflow/stream_executor/platform/default/dso_loader.cc:64] Could not load dynamic library 'libcudart.so.11.0'; dlerror: libcudart.so.11.0: cannot open shared object file: No such file or directory\n",
      "2022-12-03 14:55:51.823598: I tensorflow/stream_executor/cuda/cudart_stub.cc:29] Ignore above cudart dlerror if you do not have a GPU set up on your machine.\n",
      "2022-12-03 14:55:51.850265: E tensorflow/stream_executor/cuda/cuda_blas.cc:2981] Unable to register cuBLAS factory: Attempting to register factory for plugin cuBLAS when one has already been registered\n",
      "2022-12-03 14:55:52.633745: W tensorflow/stream_executor/platform/default/dso_loader.cc:64] Could not load dynamic library 'libnvinfer.so.7'; dlerror: libnvinfer.so.7: cannot open shared object file: No such file or directory\n",
      "2022-12-03 14:55:52.633866: W tensorflow/stream_executor/platform/default/dso_loader.cc:64] Could not load dynamic library 'libnvinfer_plugin.so.7'; dlerror: libnvinfer_plugin.so.7: cannot open shared object file: No such file or directory\n",
      "2022-12-03 14:55:52.633877: W tensorflow/compiler/tf2tensorrt/utils/py_utils.cc:38] TF-TRT Warning: Cannot dlopen some TensorRT libraries. If you would like to use Nvidia GPU with TensorRT, please make sure the missing libraries mentioned above are installed properly.\n"
     ]
    }
   ],
   "source": [
    "import pandas as pd\n",
    "import numpy as np\n",
    "import seaborn as sns\n",
    "import re\n",
    "from sklearn.model_selection import train_test_split, KFold, cross_val_score, StratifiedKFold, RandomizedSearchCV\n",
    "from sklearn.preprocessing import StandardScaler\n",
    "from scikeras.wrappers import KerasClassifier, KerasRegressor\n",
    "from sklearn.metrics import *\n",
    "import tensorflow as tf\n",
    "from tensorflow import keras\n",
    "import keras_tuner as kt\n",
    "import matplotlib.pyplot as plt\n",
    "from matplotlib import style\n",
    "from joblib import load\n",
    "import sklearn as sk\n",
    "import plotly.graph_objects as go\n",
    "from sklearn.datasets import load_diabetes\n",
    "from sklearn.model_selection import train_test_split\n",
    "from sklearn.linear_model import LinearRegression\n",
    "from sklearn.neighbors import KNeighborsRegressor\n",
    "from sklearn.svm import SVR\n",
    "from sklearn.ensemble import RandomForestRegressor, StackingRegressor\n",
    "from sklearn.metrics import mean_squared_error\n",
    "import timeit\n",
    "from sklearn.neighbors import KNeighborsClassifier\n",
    "from sklearn.ensemble import VotingClassifier\n",
    "from sklearn.model_selection import RepeatedStratifiedKFold\n",
    "from matplotlib import pyplot\n",
    "from numpy import mean\n",
    "from numpy import std\n",
    "from sklearn.datasets import make_classification\n",
    "from sklearn.model_selection import cross_val_score\n",
    "from sklearn.model_selection import RepeatedStratifiedKFold\n",
    "from sklearn.svm import SVC\n",
    "from sklearn.ensemble import VotingClassifier\n",
    "from matplotlib import pyplot\n"
   ],
   "metadata": {
    "collapsed": false,
    "pycharm": {
     "name": "#%%\n"
    }
   }
  },
  {
   "cell_type": "code",
   "execution_count": 2,
   "outputs": [
    {
     "data": {
      "text/plain": "                         id  start_date                       end_date  \\\n0  AkvIZkI7XvbCQ/Z7zZ7lXw==  2021-07-29  2021-09-06 00:00:00.000000000   \n1  fPYqaGC1CO4tGa5Lfbsfxw==  2021-12-16  2022-02-09 00:00:00.000000000   \n2  iEf87GrVMz/FhIPsQTns4w==  2021-06-19  2021-09-01 15:14:13.531306906   \n3  po58pOgih96xIX9iBLCejA==  2021-12-16  2022-02-09 00:00:00.000000000   \n4  GNPH2InKGIZ3mGgnJGK9HQ==  2021-12-16  2022-02-09 00:00:00.000000000   \n\n     latitud   longitud  place_l3 property_type  property_rooms  \\\n0 -34.564800 -58.444631  Belgrano  Departamento             5.0   \n1 -34.591359 -58.418809   Palermo  Departamento             2.0   \n2 -34.602632 -58.428399   Almagro  Departamento             2.0   \n3 -34.564290 -58.439272   Palermo  Departamento             3.0   \n4 -34.630517 -58.377143  Barracas  Departamento             1.0   \n\n   property_bedrooms  property_surface_total  property_surface_covered  \\\n0                4.0                   279.0                     245.0   \n1                1.0                    42.0                      42.0   \n2                1.0                    46.0                      42.0   \n3                2.0                    69.0                      58.0   \n4                1.0                    45.0                      41.0   \n\n   property_price                                     property_title  \n0       1000000.0  Espectacular torre en la mejor zona de Belgran...  \n1         89900.0              VENTA 2 AMBIENTES RECICLADO - PALERMO  \n2        119900.0      2 ambientes al frente con balcón. A estrenar.  \n3        175000.0  DEPARTAMENTO 3 Ambientes Palermo-Balcón C/Parr...  \n4        120000.0                Venta-Barracas-Mono divisible- MOCA  ",
      "text/html": "<div>\n<style scoped>\n    .dataframe tbody tr th:only-of-type {\n        vertical-align: middle;\n    }\n\n    .dataframe tbody tr th {\n        vertical-align: top;\n    }\n\n    .dataframe thead th {\n        text-align: right;\n    }\n</style>\n<table border=\"1\" class=\"dataframe\">\n  <thead>\n    <tr style=\"text-align: right;\">\n      <th></th>\n      <th>id</th>\n      <th>start_date</th>\n      <th>end_date</th>\n      <th>latitud</th>\n      <th>longitud</th>\n      <th>place_l3</th>\n      <th>property_type</th>\n      <th>property_rooms</th>\n      <th>property_bedrooms</th>\n      <th>property_surface_total</th>\n      <th>property_surface_covered</th>\n      <th>property_price</th>\n      <th>property_title</th>\n    </tr>\n  </thead>\n  <tbody>\n    <tr>\n      <th>0</th>\n      <td>AkvIZkI7XvbCQ/Z7zZ7lXw==</td>\n      <td>2021-07-29</td>\n      <td>2021-09-06 00:00:00.000000000</td>\n      <td>-34.564800</td>\n      <td>-58.444631</td>\n      <td>Belgrano</td>\n      <td>Departamento</td>\n      <td>5.0</td>\n      <td>4.0</td>\n      <td>279.0</td>\n      <td>245.0</td>\n      <td>1000000.0</td>\n      <td>Espectacular torre en la mejor zona de Belgran...</td>\n    </tr>\n    <tr>\n      <th>1</th>\n      <td>fPYqaGC1CO4tGa5Lfbsfxw==</td>\n      <td>2021-12-16</td>\n      <td>2022-02-09 00:00:00.000000000</td>\n      <td>-34.591359</td>\n      <td>-58.418809</td>\n      <td>Palermo</td>\n      <td>Departamento</td>\n      <td>2.0</td>\n      <td>1.0</td>\n      <td>42.0</td>\n      <td>42.0</td>\n      <td>89900.0</td>\n      <td>VENTA 2 AMBIENTES RECICLADO - PALERMO</td>\n    </tr>\n    <tr>\n      <th>2</th>\n      <td>iEf87GrVMz/FhIPsQTns4w==</td>\n      <td>2021-06-19</td>\n      <td>2021-09-01 15:14:13.531306906</td>\n      <td>-34.602632</td>\n      <td>-58.428399</td>\n      <td>Almagro</td>\n      <td>Departamento</td>\n      <td>2.0</td>\n      <td>1.0</td>\n      <td>46.0</td>\n      <td>42.0</td>\n      <td>119900.0</td>\n      <td>2 ambientes al frente con balcón. A estrenar.</td>\n    </tr>\n    <tr>\n      <th>3</th>\n      <td>po58pOgih96xIX9iBLCejA==</td>\n      <td>2021-12-16</td>\n      <td>2022-02-09 00:00:00.000000000</td>\n      <td>-34.564290</td>\n      <td>-58.439272</td>\n      <td>Palermo</td>\n      <td>Departamento</td>\n      <td>3.0</td>\n      <td>2.0</td>\n      <td>69.0</td>\n      <td>58.0</td>\n      <td>175000.0</td>\n      <td>DEPARTAMENTO 3 Ambientes Palermo-Balcón C/Parr...</td>\n    </tr>\n    <tr>\n      <th>4</th>\n      <td>GNPH2InKGIZ3mGgnJGK9HQ==</td>\n      <td>2021-12-16</td>\n      <td>2022-02-09 00:00:00.000000000</td>\n      <td>-34.630517</td>\n      <td>-58.377143</td>\n      <td>Barracas</td>\n      <td>Departamento</td>\n      <td>1.0</td>\n      <td>1.0</td>\n      <td>45.0</td>\n      <td>41.0</td>\n      <td>120000.0</td>\n      <td>Venta-Barracas-Mono divisible- MOCA</td>\n    </tr>\n  </tbody>\n</table>\n</div>"
     },
     "execution_count": 2,
     "metadata": {},
     "output_type": "execute_result"
    }
   ],
   "source": [
    "# Dataset Train preprocesado\n",
    "ds_train = pd.read_csv('datasets/tp1-train_id.csv')\n",
    "ds_train = ds_train.drop(['Unnamed: 0'], axis=1)\n",
    "ds_train.head()"
   ],
   "metadata": {
    "collapsed": false,
    "pycharm": {
     "name": "#%%\n"
    }
   }
  },
  {
   "cell_type": "code",
   "execution_count": 3,
   "outputs": [
    {
     "data": {
      "text/plain": "                             id  start_date  end_date    latitud   longitud  \\\n0      alZlUcnGhQjicsCUrLelUg==         NaN       NaN -34.589649 -58.434926   \n1      MizJ7379YN8pr1oUXkuoJQ==         NaN       NaN -34.598508 -58.443084   \n2      WjEJRWaB6ZSmhsePTNh9Cg==         NaN       NaN -34.582098 -58.448859   \n3      zTFHwNW12MiipUveEst26g==         NaN       NaN -34.569662 -58.487762   \n4      UajHnX8NrKB2DNhHfsNi5Q==         NaN       NaN -34.598582 -58.376689   \n...                         ...         ...       ...        ...        ...   \n16271  lDeKHBlacLmv2ZH7xigDpA==         NaN       NaN -34.652357 -58.385489   \n16272  G0ZNNHzhWnaU2b98RtQFcQ==         NaN       NaN -34.653920 -58.410842   \n16273  Gt5aQa+OhShvfllYT1q6/Q==         NaN       NaN -34.593420 -58.421077   \n16274  U2IhO00Ih+tOALgXL9cs3g==         NaN       NaN -34.593404 -58.402309   \n16275  8B5zSdQFvJTuJfPWXcVaEg==         NaN       NaN -34.603144 -58.428451   \n\n            place_l3 property_type  property_rooms  property_bedrooms  \\\n0            Palermo          Casa             4.0                3.0   \n1       Villa Crespo  Departamento             1.0                1.0   \n2            Palermo  Departamento             1.0                1.0   \n3      Villa Urquiza  Departamento             3.0                2.0   \n4        San Nicolás  Departamento             2.0                1.0   \n...              ...           ...             ...                ...   \n16271       Barracas          Casa             5.0                4.0   \n16272        Pompeya          Casa             4.0                2.0   \n16273        Palermo  Departamento             3.0                2.0   \n16274   Barrio Norte  Departamento             2.0                1.0   \n16275        Almagro  Departamento             4.0                3.0   \n\n       property_surface_total  property_surface_covered  property_price  \\\n0                       140.0                     140.0        530000.0   \n1                        33.0                      30.0         78000.0   \n2                        35.0                      30.0         87100.0   \n3                        80.0                      68.0        250000.0   \n4                        37.0                      37.0         79000.0   \n...                       ...                       ...             ...   \n16271                   223.0                     223.0        295000.0   \n16272                   257.0                     130.0        180000.0   \n16273                    91.0                      71.0        348000.0   \n16274                    45.0                      45.0        133000.0   \n16275                    99.0                      70.0        183000.0   \n\n                                          property_title  \n0                                         Casa - Palermo  \n1      Monoambiente Departamento a Estrenar - Villa C...  \n2                Venta - Newbery Jorge  3445 3º I Jardin  \n3                           Departamento - Villa Urquiza  \n4      Venta de departamento  estilo frances de 2 amb...  \n...                                                  ...  \n16271  CASA EN LOTE DE 10X27 MTS 223 M2 CUB - RIO CUA...  \n16272       VENTA-POMPEYA-CASA-2PLANTAS-DIST TECNOLOGICO  \n16273  Excelente oportunidad, Hermoso 3 Ambientes, nu...  \n16274                        Departamento - Barrio Norte  \n16275               Departamento 4 Amb con PATIO Almagro  \n\n[16276 rows x 13 columns]",
      "text/html": "<div>\n<style scoped>\n    .dataframe tbody tr th:only-of-type {\n        vertical-align: middle;\n    }\n\n    .dataframe tbody tr th {\n        vertical-align: top;\n    }\n\n    .dataframe thead th {\n        text-align: right;\n    }\n</style>\n<table border=\"1\" class=\"dataframe\">\n  <thead>\n    <tr style=\"text-align: right;\">\n      <th></th>\n      <th>id</th>\n      <th>start_date</th>\n      <th>end_date</th>\n      <th>latitud</th>\n      <th>longitud</th>\n      <th>place_l3</th>\n      <th>property_type</th>\n      <th>property_rooms</th>\n      <th>property_bedrooms</th>\n      <th>property_surface_total</th>\n      <th>property_surface_covered</th>\n      <th>property_price</th>\n      <th>property_title</th>\n    </tr>\n  </thead>\n  <tbody>\n    <tr>\n      <th>0</th>\n      <td>alZlUcnGhQjicsCUrLelUg==</td>\n      <td>NaN</td>\n      <td>NaN</td>\n      <td>-34.589649</td>\n      <td>-58.434926</td>\n      <td>Palermo</td>\n      <td>Casa</td>\n      <td>4.0</td>\n      <td>3.0</td>\n      <td>140.0</td>\n      <td>140.0</td>\n      <td>530000.0</td>\n      <td>Casa - Palermo</td>\n    </tr>\n    <tr>\n      <th>1</th>\n      <td>MizJ7379YN8pr1oUXkuoJQ==</td>\n      <td>NaN</td>\n      <td>NaN</td>\n      <td>-34.598508</td>\n      <td>-58.443084</td>\n      <td>Villa Crespo</td>\n      <td>Departamento</td>\n      <td>1.0</td>\n      <td>1.0</td>\n      <td>33.0</td>\n      <td>30.0</td>\n      <td>78000.0</td>\n      <td>Monoambiente Departamento a Estrenar - Villa C...</td>\n    </tr>\n    <tr>\n      <th>2</th>\n      <td>WjEJRWaB6ZSmhsePTNh9Cg==</td>\n      <td>NaN</td>\n      <td>NaN</td>\n      <td>-34.582098</td>\n      <td>-58.448859</td>\n      <td>Palermo</td>\n      <td>Departamento</td>\n      <td>1.0</td>\n      <td>1.0</td>\n      <td>35.0</td>\n      <td>30.0</td>\n      <td>87100.0</td>\n      <td>Venta - Newbery Jorge  3445 3º I Jardin</td>\n    </tr>\n    <tr>\n      <th>3</th>\n      <td>zTFHwNW12MiipUveEst26g==</td>\n      <td>NaN</td>\n      <td>NaN</td>\n      <td>-34.569662</td>\n      <td>-58.487762</td>\n      <td>Villa Urquiza</td>\n      <td>Departamento</td>\n      <td>3.0</td>\n      <td>2.0</td>\n      <td>80.0</td>\n      <td>68.0</td>\n      <td>250000.0</td>\n      <td>Departamento - Villa Urquiza</td>\n    </tr>\n    <tr>\n      <th>4</th>\n      <td>UajHnX8NrKB2DNhHfsNi5Q==</td>\n      <td>NaN</td>\n      <td>NaN</td>\n      <td>-34.598582</td>\n      <td>-58.376689</td>\n      <td>San Nicolás</td>\n      <td>Departamento</td>\n      <td>2.0</td>\n      <td>1.0</td>\n      <td>37.0</td>\n      <td>37.0</td>\n      <td>79000.0</td>\n      <td>Venta de departamento  estilo frances de 2 amb...</td>\n    </tr>\n    <tr>\n      <th>...</th>\n      <td>...</td>\n      <td>...</td>\n      <td>...</td>\n      <td>...</td>\n      <td>...</td>\n      <td>...</td>\n      <td>...</td>\n      <td>...</td>\n      <td>...</td>\n      <td>...</td>\n      <td>...</td>\n      <td>...</td>\n      <td>...</td>\n    </tr>\n    <tr>\n      <th>16271</th>\n      <td>lDeKHBlacLmv2ZH7xigDpA==</td>\n      <td>NaN</td>\n      <td>NaN</td>\n      <td>-34.652357</td>\n      <td>-58.385489</td>\n      <td>Barracas</td>\n      <td>Casa</td>\n      <td>5.0</td>\n      <td>4.0</td>\n      <td>223.0</td>\n      <td>223.0</td>\n      <td>295000.0</td>\n      <td>CASA EN LOTE DE 10X27 MTS 223 M2 CUB - RIO CUA...</td>\n    </tr>\n    <tr>\n      <th>16272</th>\n      <td>G0ZNNHzhWnaU2b98RtQFcQ==</td>\n      <td>NaN</td>\n      <td>NaN</td>\n      <td>-34.653920</td>\n      <td>-58.410842</td>\n      <td>Pompeya</td>\n      <td>Casa</td>\n      <td>4.0</td>\n      <td>2.0</td>\n      <td>257.0</td>\n      <td>130.0</td>\n      <td>180000.0</td>\n      <td>VENTA-POMPEYA-CASA-2PLANTAS-DIST TECNOLOGICO</td>\n    </tr>\n    <tr>\n      <th>16273</th>\n      <td>Gt5aQa+OhShvfllYT1q6/Q==</td>\n      <td>NaN</td>\n      <td>NaN</td>\n      <td>-34.593420</td>\n      <td>-58.421077</td>\n      <td>Palermo</td>\n      <td>Departamento</td>\n      <td>3.0</td>\n      <td>2.0</td>\n      <td>91.0</td>\n      <td>71.0</td>\n      <td>348000.0</td>\n      <td>Excelente oportunidad, Hermoso 3 Ambientes, nu...</td>\n    </tr>\n    <tr>\n      <th>16274</th>\n      <td>U2IhO00Ih+tOALgXL9cs3g==</td>\n      <td>NaN</td>\n      <td>NaN</td>\n      <td>-34.593404</td>\n      <td>-58.402309</td>\n      <td>Barrio Norte</td>\n      <td>Departamento</td>\n      <td>2.0</td>\n      <td>1.0</td>\n      <td>45.0</td>\n      <td>45.0</td>\n      <td>133000.0</td>\n      <td>Departamento - Barrio Norte</td>\n    </tr>\n    <tr>\n      <th>16275</th>\n      <td>8B5zSdQFvJTuJfPWXcVaEg==</td>\n      <td>NaN</td>\n      <td>NaN</td>\n      <td>-34.603144</td>\n      <td>-58.428451</td>\n      <td>Almagro</td>\n      <td>Departamento</td>\n      <td>4.0</td>\n      <td>3.0</td>\n      <td>99.0</td>\n      <td>70.0</td>\n      <td>183000.0</td>\n      <td>Departamento 4 Amb con PATIO Almagro</td>\n    </tr>\n  </tbody>\n</table>\n<p>16276 rows × 13 columns</p>\n</div>"
     },
     "execution_count": 3,
     "metadata": {},
     "output_type": "execute_result"
    }
   ],
   "source": [
    "# Dataset Test preprocesado\n",
    "ds_test = pd.read_csv('datasets/tp1-test_id.csv')\n",
    "ds_test = ds_test.drop(['Unnamed: 0'], axis=1)\n",
    "ds_test"
   ],
   "metadata": {
    "collapsed": false,
    "pycharm": {
     "name": "#%%\n"
    }
   }
  },
  {
   "cell_type": "markdown",
   "source": [
    "## Procesamiento del lenguaje natural"
   ],
   "metadata": {
    "collapsed": false,
    "pycharm": {
     "name": "#%% md\n"
    }
   }
  },
  {
   "cell_type": "markdown",
   "source": [
    "### Ampliación del dataset"
   ],
   "metadata": {
    "collapsed": false,
    "pycharm": {
     "name": "#%% md\n"
    }
   }
  },
  {
   "cell_type": "markdown",
   "source": [
    "Este dataset incluye descripciones de las propiedades del otro dataset. Veremos como podemos extraer información de estas descripciones."
   ],
   "metadata": {
    "collapsed": false,
    "pycharm": {
     "name": "#%% md\n"
    }
   }
  },
  {
   "cell_type": "code",
   "execution_count": 4,
   "outputs": [
    {
     "data": {
      "text/plain": "                         id                               property_description\n0  BZCeiGkJr1WBUi6pKJQwJQ==  Corredor Responsable: MARIA ALEJANDRA GENOVEVA...\n1  zuHOGgUE0UB71W7m/YCLoA==  ¡HERMOSO PH TIPO CASA DE 2 AMBIENTES!<br>APTO ...\n2  TUL813tXchVBlHUsfaA6DA==  Excelente PH en Núñez 4 amb!!!! Oportunidad !!...\n3  gn55JPmcjftBV/at1a7fPg==  UNICO PH DE 4 DORMITORIOS EN IMPECABLE ESTADO,...\n4  qg4m3QHcuo1+wMmyp7kx3Q==  Ph 2 Amb. Villa Crespo exclusivo uso profesion...",
      "text/html": "<div>\n<style scoped>\n    .dataframe tbody tr th:only-of-type {\n        vertical-align: middle;\n    }\n\n    .dataframe tbody tr th {\n        vertical-align: top;\n    }\n\n    .dataframe thead th {\n        text-align: right;\n    }\n</style>\n<table border=\"1\" class=\"dataframe\">\n  <thead>\n    <tr style=\"text-align: right;\">\n      <th></th>\n      <th>id</th>\n      <th>property_description</th>\n    </tr>\n  </thead>\n  <tbody>\n    <tr>\n      <th>0</th>\n      <td>BZCeiGkJr1WBUi6pKJQwJQ==</td>\n      <td>Corredor Responsable: MARIA ALEJANDRA GENOVEVA...</td>\n    </tr>\n    <tr>\n      <th>1</th>\n      <td>zuHOGgUE0UB71W7m/YCLoA==</td>\n      <td>¡HERMOSO PH TIPO CASA DE 2 AMBIENTES!&lt;br&gt;APTO ...</td>\n    </tr>\n    <tr>\n      <th>2</th>\n      <td>TUL813tXchVBlHUsfaA6DA==</td>\n      <td>Excelente PH en Núñez 4 amb!!!! Oportunidad !!...</td>\n    </tr>\n    <tr>\n      <th>3</th>\n      <td>gn55JPmcjftBV/at1a7fPg==</td>\n      <td>UNICO PH DE 4 DORMITORIOS EN IMPECABLE ESTADO,...</td>\n    </tr>\n    <tr>\n      <th>4</th>\n      <td>qg4m3QHcuo1+wMmyp7kx3Q==</td>\n      <td>Ph 2 Amb. Villa Crespo exclusivo uso profesion...</td>\n    </tr>\n  </tbody>\n</table>\n</div>"
     },
     "execution_count": 4,
     "metadata": {},
     "output_type": "execute_result"
    }
   ],
   "source": [
    "descriptions_dataset = pd.read_csv('datasets/properati_argentina_2021_decrip.csv')\n",
    "descriptions_dataset.head()"
   ],
   "metadata": {
    "collapsed": false,
    "pycharm": {
     "name": "#%%\n"
    }
   }
  },
  {
   "cell_type": "markdown",
   "source": [
    "Tomaremos las descripciones correspondientes a los datasets de train y test"
   ],
   "metadata": {
    "collapsed": false,
    "pycharm": {
     "name": "#%% md\n"
    }
   }
  },
  {
   "cell_type": "code",
   "execution_count": 5,
   "outputs": [
    {
     "data": {
      "text/plain": "((69693, 2), (16276, 2))"
     },
     "execution_count": 5,
     "metadata": {},
     "output_type": "execute_result"
    }
   ],
   "source": [
    "descriptions_train = descriptions_dataset[descriptions_dataset.id.isin(ds_train.id)].copy()\n",
    "descriptions_test = descriptions_dataset[descriptions_dataset.id.isin(ds_test.id)].copy()\n",
    "descriptions_train.shape, descriptions_test.shape"
   ],
   "metadata": {
    "collapsed": false,
    "pycharm": {
     "name": "#%%\n"
    }
   }
  },
  {
   "cell_type": "markdown",
   "source": [
    "#### Análisis de sentimientos - Tecnica Minqing Hu y Bing Liu"
   ],
   "metadata": {
    "collapsed": false,
    "pycharm": {
     "name": "#%% md\n"
    }
   }
  },
  {
   "cell_type": "markdown",
   "source": [
    "Una forma de analizar el sentimiento de un de un texto es considerando su sentimiento como la suma de los sentimientos de cada una de las palabras que lo forman.\n",
    "\n",
    "Para el analisis de sentimiento nos guiamos del analisis realizado en esta pagina: https://www.cienciadedatos.net/documentos/py25-text-mining-python.html\n",
    "\n",
    "Utilizamos algunas funciones de tokenizacion y limpieza de ahi con alguna sutil modificacion para nuestro caso de uso en particular."
   ],
   "metadata": {
    "collapsed": false,
    "pycharm": {
     "name": "#%% md\n"
    }
   }
  },
  {
   "cell_type": "code",
   "execution_count": 6,
   "outputs": [],
   "source": [
    "def limpiar_tokenizar(texto):\n",
    "    '''\n",
    "    Esta función limpia y tokeniza el texto en palabras individuales.\n",
    "    El orden en el que se va limpiando el texto no es arbitrario.\n",
    "    El listado de signos de puntuación se ha obtenido de: print(string.punctuation)\n",
    "    y re.escape(string.punctuation)\n",
    "    '''\n",
    "\n",
    "    # Se convierte todo el texto a minúsculas\n",
    "    nuevo_texto = str(texto).lower()\n",
    "    # Eliminación de páginas web (palabras que empiezan por \"http\")\n",
    "    nuevo_texto = re.sub('http\\S+', ' ', nuevo_texto)\n",
    "    # Eliminación de signos de puntuación\n",
    "    regex = '[\\\\!\\\\¡\\\\\"\\\\#\\\\$\\\\%\\\\&\\\\\\'\\\\(\\\\)\\\\*\\\\+\\\\,\\\\-\\\\.\\\\/\\\\:\\\\;\\\\<\\\\=\\\\>\\\\?\\\\@\\\\[\\\\\\\\\\\\]\\\\^_\\\\`\\\\{\\\\|\\\\}\\\\~]'\n",
    "    nuevo_texto = re.sub(regex, ' ', nuevo_texto)\n",
    "    # Eliminación de números\n",
    "    nuevo_texto = re.sub(\"\\d+\", ' ', nuevo_texto)\n",
    "    # Eliminación de espacios en blanco múltiples\n",
    "    nuevo_texto = re.sub(\"\\\\s+\", ' ', nuevo_texto)\n",
    "    # Tokenización por palabras individuales\n",
    "    nuevo_texto = nuevo_texto.split(sep=' ')\n",
    "    # Eliminación de tokens con una longitud < 2\n",
    "    nuevo_texto = [token for token in nuevo_texto if len(token) > 1]\n",
    "\n",
    "    return (nuevo_texto)"
   ],
   "metadata": {
    "collapsed": false,
    "pycharm": {
     "name": "#%%\n"
    }
   }
  },
  {
   "cell_type": "code",
   "execution_count": 7,
   "outputs": [
    {
     "data": {
      "text/plain": "                          id  \\\n0   BZCeiGkJr1WBUi6pKJQwJQ==   \n2   TUL813tXchVBlHUsfaA6DA==   \n3   gn55JPmcjftBV/at1a7fPg==   \n10  +9uGr8tPEUkKnpjOef+gUw==   \n11  uH5H+RfQM87Qtrb13+T4hA==   \n\n                                 property_description  \n0   [corredor, responsable, maria, alejandra, geno...  \n2   [excelente, ph, en, núñez, amb, oportunidad, t...  \n3   [unico, ph, de, dormitorios, en, impecable, es...  \n10  [se, vende, excelente, ph, de, cómodos, ambien...  \n11  [venta, ph, ambientes, paternal, br, br, cálid...  ",
      "text/html": "<div>\n<style scoped>\n    .dataframe tbody tr th:only-of-type {\n        vertical-align: middle;\n    }\n\n    .dataframe tbody tr th {\n        vertical-align: top;\n    }\n\n    .dataframe thead th {\n        text-align: right;\n    }\n</style>\n<table border=\"1\" class=\"dataframe\">\n  <thead>\n    <tr style=\"text-align: right;\">\n      <th></th>\n      <th>id</th>\n      <th>property_description</th>\n    </tr>\n  </thead>\n  <tbody>\n    <tr>\n      <th>0</th>\n      <td>BZCeiGkJr1WBUi6pKJQwJQ==</td>\n      <td>[corredor, responsable, maria, alejandra, geno...</td>\n    </tr>\n    <tr>\n      <th>2</th>\n      <td>TUL813tXchVBlHUsfaA6DA==</td>\n      <td>[excelente, ph, en, núñez, amb, oportunidad, t...</td>\n    </tr>\n    <tr>\n      <th>3</th>\n      <td>gn55JPmcjftBV/at1a7fPg==</td>\n      <td>[unico, ph, de, dormitorios, en, impecable, es...</td>\n    </tr>\n    <tr>\n      <th>10</th>\n      <td>+9uGr8tPEUkKnpjOef+gUw==</td>\n      <td>[se, vende, excelente, ph, de, cómodos, ambien...</td>\n    </tr>\n    <tr>\n      <th>11</th>\n      <td>uH5H+RfQM87Qtrb13+T4hA==</td>\n      <td>[venta, ph, ambientes, paternal, br, br, cálid...</td>\n    </tr>\n  </tbody>\n</table>\n</div>"
     },
     "execution_count": 7,
     "metadata": {},
     "output_type": "execute_result"
    }
   ],
   "source": [
    "# se aplica la función de limpieza a train y test y tokenización a cada descripcion\n",
    "\n",
    "tokenized_train = pd.concat([descriptions_train.id, descriptions_train['property_description'].apply(limpiar_tokenizar)], axis=1)\n",
    "tokenized_test = pd.concat([descriptions_test.id, descriptions_test['property_description'].apply(limpiar_tokenizar)], axis=1)\n",
    "tokenized_train.head()"
   ],
   "metadata": {
    "collapsed": false,
    "pycharm": {
     "name": "#%%\n"
    }
   }
  },
  {
   "cell_type": "markdown",
   "source": [
    "Separamos los tokens según ids tanto en train como en test."
   ],
   "metadata": {
    "collapsed": false,
    "pycharm": {
     "name": "#%% md\n"
    }
   }
  },
  {
   "cell_type": "code",
   "execution_count": 8,
   "outputs": [
    {
     "data": {
      "text/plain": "                         id        token\n0  BZCeiGkJr1WBUi6pKJQwJQ==     corredor\n1  BZCeiGkJr1WBUi6pKJQwJQ==  responsable\n2  BZCeiGkJr1WBUi6pKJQwJQ==        maria\n3  BZCeiGkJr1WBUi6pKJQwJQ==    alejandra\n4  BZCeiGkJr1WBUi6pKJQwJQ==     genoveva",
      "text/html": "<div>\n<style scoped>\n    .dataframe tbody tr th:only-of-type {\n        vertical-align: middle;\n    }\n\n    .dataframe tbody tr th {\n        vertical-align: top;\n    }\n\n    .dataframe thead th {\n        text-align: right;\n    }\n</style>\n<table border=\"1\" class=\"dataframe\">\n  <thead>\n    <tr style=\"text-align: right;\">\n      <th></th>\n      <th>id</th>\n      <th>token</th>\n    </tr>\n  </thead>\n  <tbody>\n    <tr>\n      <th>0</th>\n      <td>BZCeiGkJr1WBUi6pKJQwJQ==</td>\n      <td>corredor</td>\n    </tr>\n    <tr>\n      <th>1</th>\n      <td>BZCeiGkJr1WBUi6pKJQwJQ==</td>\n      <td>responsable</td>\n    </tr>\n    <tr>\n      <th>2</th>\n      <td>BZCeiGkJr1WBUi6pKJQwJQ==</td>\n      <td>maria</td>\n    </tr>\n    <tr>\n      <th>3</th>\n      <td>BZCeiGkJr1WBUi6pKJQwJQ==</td>\n      <td>alejandra</td>\n    </tr>\n    <tr>\n      <th>4</th>\n      <td>BZCeiGkJr1WBUi6pKJQwJQ==</td>\n      <td>genoveva</td>\n    </tr>\n  </tbody>\n</table>\n</div>"
     },
     "execution_count": 8,
     "metadata": {},
     "output_type": "execute_result"
    }
   ],
   "source": [
    "tokens_train = tokenized_train.explode(column='property_description')\n",
    "tokens_train = tokens_train.rename(columns={'property_description': 'token'})\n",
    "tokens_train.reset_index(inplace=True, drop=True)\n",
    "tokens_train.head()"
   ],
   "metadata": {
    "collapsed": false,
    "pycharm": {
     "name": "#%%\n"
    }
   }
  },
  {
   "cell_type": "code",
   "execution_count": 9,
   "outputs": [],
   "source": [
    "# Replicamos en test.\n",
    "tokens_test = tokenized_test.explode(column='property_description')\n",
    "tokens_test = tokens_test.rename(columns={'property_description': 'token'})\n",
    "tokens_test.reset_index(inplace=True, drop=True)"
   ],
   "metadata": {
    "collapsed": false,
    "pycharm": {
     "name": "#%%\n"
    }
   }
  },
  {
   "cell_type": "code",
   "execution_count": 10,
   "outputs": [
    {
     "data": {
      "text/plain": "((12977108, 2), (3053563, 2))"
     },
     "execution_count": 10,
     "metadata": {},
     "output_type": "execute_result"
    }
   ],
   "source": [
    "tokens_train.shape, tokens_test.shape"
   ],
   "metadata": {
    "collapsed": false,
    "pycharm": {
     "name": "#%%\n"
    }
   }
  },
  {
   "cell_type": "markdown",
   "source": [
    "Vemos que tenemos 11 millones de palabras en train y 3 millones en test"
   ],
   "metadata": {
    "collapsed": false,
    "pycharm": {
     "name": "#%% md\n"
    }
   }
  },
  {
   "cell_type": "markdown",
   "source": [
    "Notamos que las preposiciones no son relevantes para entender que atributo podria ser mejor para expandir el datast, asi que decidimos agregarlas como stopwords.\n",
    "\n",
    "Tampoco van a variar mucho el analisis de sentimiento realizado en este trabajo."
   ],
   "metadata": {
    "collapsed": false,
    "pycharm": {
     "name": "#%% md\n"
    }
   }
  },
  {
   "cell_type": "code",
   "execution_count": 11,
   "outputs": [],
   "source": [
    "## listado de stopwords\n",
    "\n",
    "preposiciones = [\"a\", \"ante\", \"bajo\", \"cabe\", \"con\", \"contra\", \"de\", \"desde\", \"durante\", \"en\", \"entre\", \"hacia\",\n",
    "                 \"hasta\", \"mediante\", \"para\", \"por\", \"según\", \"sin\", \"sobre\", \"tras\", \"vía\"]\n",
    "\n",
    "stop_words = []\n",
    "\n",
    "stop_words += preposiciones\n",
    "\n",
    "# filtrado para excluir stopwords\n",
    "tokens_train = tokens_train[~(tokens_train[\"token\"].isin(stop_words))]\n",
    "\n",
    "tokens_test = tokens_test[~(tokens_test[\"token\"].isin(stop_words))]"
   ],
   "metadata": {
    "collapsed": false,
    "pycharm": {
     "name": "#%%\n"
    }
   }
  },
  {
   "cell_type": "markdown",
   "source": [
    "Agregamos un lexicon en español de esta pagina: https://github.com/jboscomendoza/lexicos-nrc-afinn"
   ],
   "metadata": {
    "collapsed": false,
    "pycharm": {
     "name": "#%% md\n"
    }
   }
  },
  {
   "cell_type": "code",
   "execution_count": 12,
   "outputs": [
    {
     "data": {
      "text/plain": "             palabra   sentimiento        word\n0         ciegamente      negativo     blindly\n1         ciegamente      tristeza     blindly\n2        a distancia      negativo       aloof\n3      a hurtadillas      sorpresa  stealthily\n4        a la deriva  anticipación      adrift\n...              ...           ...         ...\n15302        zumbido  anticipación        buzz\n15303        zumbido         miedo        buzz\n15304        zumbido      positivo        buzz\n15305        zumbido      negativo       drone\n15306      zurcidura      positivo     mending\n\n[15307 rows x 3 columns]",
      "text/html": "<div>\n<style scoped>\n    .dataframe tbody tr th:only-of-type {\n        vertical-align: middle;\n    }\n\n    .dataframe tbody tr th {\n        vertical-align: top;\n    }\n\n    .dataframe thead th {\n        text-align: right;\n    }\n</style>\n<table border=\"1\" class=\"dataframe\">\n  <thead>\n    <tr style=\"text-align: right;\">\n      <th></th>\n      <th>palabra</th>\n      <th>sentimiento</th>\n      <th>word</th>\n    </tr>\n  </thead>\n  <tbody>\n    <tr>\n      <th>0</th>\n      <td>ciegamente</td>\n      <td>negativo</td>\n      <td>blindly</td>\n    </tr>\n    <tr>\n      <th>1</th>\n      <td>ciegamente</td>\n      <td>tristeza</td>\n      <td>blindly</td>\n    </tr>\n    <tr>\n      <th>2</th>\n      <td>a distancia</td>\n      <td>negativo</td>\n      <td>aloof</td>\n    </tr>\n    <tr>\n      <th>3</th>\n      <td>a hurtadillas</td>\n      <td>sorpresa</td>\n      <td>stealthily</td>\n    </tr>\n    <tr>\n      <th>4</th>\n      <td>a la deriva</td>\n      <td>anticipación</td>\n      <td>adrift</td>\n    </tr>\n    <tr>\n      <th>...</th>\n      <td>...</td>\n      <td>...</td>\n      <td>...</td>\n    </tr>\n    <tr>\n      <th>15302</th>\n      <td>zumbido</td>\n      <td>anticipación</td>\n      <td>buzz</td>\n    </tr>\n    <tr>\n      <th>15303</th>\n      <td>zumbido</td>\n      <td>miedo</td>\n      <td>buzz</td>\n    </tr>\n    <tr>\n      <th>15304</th>\n      <td>zumbido</td>\n      <td>positivo</td>\n      <td>buzz</td>\n    </tr>\n    <tr>\n      <th>15305</th>\n      <td>zumbido</td>\n      <td>negativo</td>\n      <td>drone</td>\n    </tr>\n    <tr>\n      <th>15306</th>\n      <td>zurcidura</td>\n      <td>positivo</td>\n      <td>mending</td>\n    </tr>\n  </tbody>\n</table>\n<p>15307 rows × 3 columns</p>\n</div>"
     },
     "execution_count": 12,
     "metadata": {},
     "output_type": "execute_result"
    }
   ],
   "source": [
    "# lexicon sentimientos\n",
    "lexicon = pd.read_csv('datasets/lexico_nrc.csv')\n",
    "lexicon"
   ],
   "metadata": {
    "collapsed": false,
    "pycharm": {
     "name": "#%%\n"
    }
   }
  },
  {
   "cell_type": "code",
   "execution_count": 13,
   "outputs": [],
   "source": [
    "def mappear_valores_sentimiento(s):\n",
    "    # 1 Positivo\n",
    "    # 0 Neutro\n",
    "    # -1 Negativo\n",
    "    sentimiento_numerico = 0\n",
    "    if str(s) in ['negativo', 'tristeza', 'miedo', 'enfado', 'tristeza', 'asco']:\n",
    "        sentimiento_numerico = -1\n",
    "    if str(s) in ['sorpresa', 'positivo', 'confianza', 'alegría']:\n",
    "        sentimiento_numerico = 1\n",
    "    if str(s) in ['anticipación']:\n",
    "        sentimiento_numerico = 0\n",
    "\n",
    "    return sentimiento_numerico\n"
   ],
   "metadata": {
    "collapsed": false,
    "pycharm": {
     "name": "#%%\n"
    }
   }
  },
  {
   "cell_type": "code",
   "execution_count": 14,
   "outputs": [
    {
     "data": {
      "text/plain": "   sentimiento\n0           -1\n1           -1\n2           -1\n3            1\n4            0",
      "text/html": "<div>\n<style scoped>\n    .dataframe tbody tr th:only-of-type {\n        vertical-align: middle;\n    }\n\n    .dataframe tbody tr th {\n        vertical-align: top;\n    }\n\n    .dataframe thead th {\n        text-align: right;\n    }\n</style>\n<table border=\"1\" class=\"dataframe\">\n  <thead>\n    <tr style=\"text-align: right;\">\n      <th></th>\n      <th>sentimiento</th>\n    </tr>\n  </thead>\n  <tbody>\n    <tr>\n      <th>0</th>\n      <td>-1</td>\n    </tr>\n    <tr>\n      <th>1</th>\n      <td>-1</td>\n    </tr>\n    <tr>\n      <th>2</th>\n      <td>-1</td>\n    </tr>\n    <tr>\n      <th>3</th>\n      <td>1</td>\n    </tr>\n    <tr>\n      <th>4</th>\n      <td>0</td>\n    </tr>\n  </tbody>\n</table>\n</div>"
     },
     "execution_count": 14,
     "metadata": {},
     "output_type": "execute_result"
    }
   ],
   "source": [
    "lexicon['sentimiento'] = lexicon['sentimiento'].apply(lambda x: mappear_valores_sentimiento(x))\n",
    "lexicon[['sentimiento']].head()"
   ],
   "metadata": {
    "collapsed": false,
    "pycharm": {
     "name": "#%%\n"
    }
   }
  },
  {
   "cell_type": "code",
   "execution_count": 15,
   "outputs": [
    {
     "data": {
      "text/plain": "((1516206, 2), (356714, 2))"
     },
     "execution_count": 15,
     "metadata": {},
     "output_type": "execute_result"
    }
   ],
   "source": [
    "tokens_train[tokens_train.token.isin(lexicon.palabra)].shape, tokens_test[tokens_test.token.isin(lexicon.palabra)].shape"
   ],
   "metadata": {
    "collapsed": false,
    "pycharm": {
     "name": "#%%\n"
    }
   }
  },
  {
   "cell_type": "code",
   "execution_count": 16,
   "outputs": [
    {
     "data": {
      "text/plain": "             palabra  sentimiento        word\n0         ciegamente           -1     blindly\n1         ciegamente           -1     blindly\n2        a distancia           -1       aloof\n3      a hurtadillas            1  stealthily\n4        a la deriva            0      adrift\n...              ...          ...         ...\n15302        zumbido            0        buzz\n15303        zumbido           -1        buzz\n15304        zumbido            1        buzz\n15305        zumbido           -1       drone\n15306      zurcidura            1     mending\n\n[15307 rows x 3 columns]",
      "text/html": "<div>\n<style scoped>\n    .dataframe tbody tr th:only-of-type {\n        vertical-align: middle;\n    }\n\n    .dataframe tbody tr th {\n        vertical-align: top;\n    }\n\n    .dataframe thead th {\n        text-align: right;\n    }\n</style>\n<table border=\"1\" class=\"dataframe\">\n  <thead>\n    <tr style=\"text-align: right;\">\n      <th></th>\n      <th>palabra</th>\n      <th>sentimiento</th>\n      <th>word</th>\n    </tr>\n  </thead>\n  <tbody>\n    <tr>\n      <th>0</th>\n      <td>ciegamente</td>\n      <td>-1</td>\n      <td>blindly</td>\n    </tr>\n    <tr>\n      <th>1</th>\n      <td>ciegamente</td>\n      <td>-1</td>\n      <td>blindly</td>\n    </tr>\n    <tr>\n      <th>2</th>\n      <td>a distancia</td>\n      <td>-1</td>\n      <td>aloof</td>\n    </tr>\n    <tr>\n      <th>3</th>\n      <td>a hurtadillas</td>\n      <td>1</td>\n      <td>stealthily</td>\n    </tr>\n    <tr>\n      <th>4</th>\n      <td>a la deriva</td>\n      <td>0</td>\n      <td>adrift</td>\n    </tr>\n    <tr>\n      <th>...</th>\n      <td>...</td>\n      <td>...</td>\n      <td>...</td>\n    </tr>\n    <tr>\n      <th>15302</th>\n      <td>zumbido</td>\n      <td>0</td>\n      <td>buzz</td>\n    </tr>\n    <tr>\n      <th>15303</th>\n      <td>zumbido</td>\n      <td>-1</td>\n      <td>buzz</td>\n    </tr>\n    <tr>\n      <th>15304</th>\n      <td>zumbido</td>\n      <td>1</td>\n      <td>buzz</td>\n    </tr>\n    <tr>\n      <th>15305</th>\n      <td>zumbido</td>\n      <td>-1</td>\n      <td>drone</td>\n    </tr>\n    <tr>\n      <th>15306</th>\n      <td>zurcidura</td>\n      <td>1</td>\n      <td>mending</td>\n    </tr>\n  </tbody>\n</table>\n<p>15307 rows × 3 columns</p>\n</div>"
     },
     "execution_count": 16,
     "metadata": {},
     "output_type": "execute_result"
    }
   ],
   "source": [
    "lexicon"
   ],
   "metadata": {
    "collapsed": false,
    "pycharm": {
     "name": "#%%\n"
    }
   }
  },
  {
   "cell_type": "markdown",
   "source": [
    "Tenemos un millon y medio de coincidencias con el lexicón en train. Usaremos estos sentimientos para puntuar las propiedades"
   ],
   "metadata": {
    "collapsed": false,
    "pycharm": {
     "name": "#%% md\n"
    }
   }
  },
  {
   "cell_type": "code",
   "execution_count": 17,
   "outputs": [
    {
     "data": {
      "text/plain": "                         id        token  sentimiento\n0  BZCeiGkJr1WBUi6pKJQwJQ==  responsable            1\n1  BZCeiGkJr1WBUi6pKJQwJQ==  responsable            1\n2  BZCeiGkJr1WBUi6pKJQwJQ==  responsable            1\n3  ns8QWxBXYIdnEccdiu3qog==  responsable            1\n4  ns8QWxBXYIdnEccdiu3qog==  responsable            1",
      "text/html": "<div>\n<style scoped>\n    .dataframe tbody tr th:only-of-type {\n        vertical-align: middle;\n    }\n\n    .dataframe tbody tr th {\n        vertical-align: top;\n    }\n\n    .dataframe thead th {\n        text-align: right;\n    }\n</style>\n<table border=\"1\" class=\"dataframe\">\n  <thead>\n    <tr style=\"text-align: right;\">\n      <th></th>\n      <th>id</th>\n      <th>token</th>\n      <th>sentimiento</th>\n    </tr>\n  </thead>\n  <tbody>\n    <tr>\n      <th>0</th>\n      <td>BZCeiGkJr1WBUi6pKJQwJQ==</td>\n      <td>responsable</td>\n      <td>1</td>\n    </tr>\n    <tr>\n      <th>1</th>\n      <td>BZCeiGkJr1WBUi6pKJQwJQ==</td>\n      <td>responsable</td>\n      <td>1</td>\n    </tr>\n    <tr>\n      <th>2</th>\n      <td>BZCeiGkJr1WBUi6pKJQwJQ==</td>\n      <td>responsable</td>\n      <td>1</td>\n    </tr>\n    <tr>\n      <th>3</th>\n      <td>ns8QWxBXYIdnEccdiu3qog==</td>\n      <td>responsable</td>\n      <td>1</td>\n    </tr>\n    <tr>\n      <th>4</th>\n      <td>ns8QWxBXYIdnEccdiu3qog==</td>\n      <td>responsable</td>\n      <td>1</td>\n    </tr>\n  </tbody>\n</table>\n</div>"
     },
     "execution_count": 17,
     "metadata": {},
     "output_type": "execute_result"
    }
   ],
   "source": [
    "# sentimiento promedio de cada descripcion\n",
    "tokens_sentimientos_train = pd.merge(\n",
    "    left=tokens_train,\n",
    "    right=lexicon,\n",
    "    left_on=\"token\",\n",
    "    right_on=\"palabra\",\n",
    "    how=\"inner\"\n",
    ")\n",
    "tokens_sentimientos_train = tokens_sentimientos_train.drop(columns=[\"palabra\", \"word\"])\n",
    "\n",
    "tokens_sentimientos_test = pd.merge(\n",
    "    left=tokens_test,\n",
    "    right=lexicon,\n",
    "    left_on=\"token\",\n",
    "    right_on=\"palabra\",\n",
    "    how=\"inner\"\n",
    ")\n",
    "tokens_sentimientos_test = tokens_sentimientos_test.drop(columns=[\"palabra\", \"word\"])\n",
    "\n",
    "tokens_sentimientos_train.head()"
   ],
   "metadata": {
    "collapsed": false,
    "pycharm": {
     "name": "#%%\n"
    }
   }
  },
  {
   "cell_type": "markdown",
   "source": [
    "Ahora calcularemos el puntaje para cada propiedad como la suma de los sentimientos."
   ],
   "metadata": {
    "collapsed": false,
    "pycharm": {
     "name": "#%% md\n"
    }
   }
  },
  {
   "cell_type": "code",
   "execution_count": 18,
   "outputs": [],
   "source": [
    "score_train = tokens_sentimientos_train[[\"id\", \"token\", \"sentimiento\"]].groupby([\"id\"]).sum().reset_index()\n",
    "\n",
    "score_test = tokens_sentimientos_test[[\"id\", \"token\", \"sentimiento\"]].groupby([\"id\"]).sum().reset_index()"
   ],
   "metadata": {
    "collapsed": false,
    "pycharm": {
     "name": "#%%\n"
    }
   }
  },
  {
   "cell_type": "code",
   "execution_count": 19,
   "outputs": [
    {
     "data": {
      "text/plain": "                             id  sentimiento\n0      +++LrfX9dl/rsnbNTgVaSw==           24\n1      ++170jViMoXTsnGwVScNsA==            5\n2      ++20Jf3Ha2Epz88cJxEmJw==           10\n3      ++2AcJNn9KYBeuOard+DZw==           18\n4      ++5o0X5nwMy3BtfAvsFAaA==           -2\n...                         ...          ...\n69133  zzifKawPn7V8Z63LI9+K9Q==           16\n69134  zziqoG25k9M8rIgzpKwFwg==           29\n69135  zzjbYucw7Rj0OtPfDWrsuA==           15\n69136  zzkHuJd+M8QH9JSoKm9e0A==           19\n69137  zzrpS8TqDA6px1h/DuQdmw==           20\n\n[69138 rows x 2 columns]",
      "text/html": "<div>\n<style scoped>\n    .dataframe tbody tr th:only-of-type {\n        vertical-align: middle;\n    }\n\n    .dataframe tbody tr th {\n        vertical-align: top;\n    }\n\n    .dataframe thead th {\n        text-align: right;\n    }\n</style>\n<table border=\"1\" class=\"dataframe\">\n  <thead>\n    <tr style=\"text-align: right;\">\n      <th></th>\n      <th>id</th>\n      <th>sentimiento</th>\n    </tr>\n  </thead>\n  <tbody>\n    <tr>\n      <th>0</th>\n      <td>+++LrfX9dl/rsnbNTgVaSw==</td>\n      <td>24</td>\n    </tr>\n    <tr>\n      <th>1</th>\n      <td>++170jViMoXTsnGwVScNsA==</td>\n      <td>5</td>\n    </tr>\n    <tr>\n      <th>2</th>\n      <td>++20Jf3Ha2Epz88cJxEmJw==</td>\n      <td>10</td>\n    </tr>\n    <tr>\n      <th>3</th>\n      <td>++2AcJNn9KYBeuOard+DZw==</td>\n      <td>18</td>\n    </tr>\n    <tr>\n      <th>4</th>\n      <td>++5o0X5nwMy3BtfAvsFAaA==</td>\n      <td>-2</td>\n    </tr>\n    <tr>\n      <th>...</th>\n      <td>...</td>\n      <td>...</td>\n    </tr>\n    <tr>\n      <th>69133</th>\n      <td>zzifKawPn7V8Z63LI9+K9Q==</td>\n      <td>16</td>\n    </tr>\n    <tr>\n      <th>69134</th>\n      <td>zziqoG25k9M8rIgzpKwFwg==</td>\n      <td>29</td>\n    </tr>\n    <tr>\n      <th>69135</th>\n      <td>zzjbYucw7Rj0OtPfDWrsuA==</td>\n      <td>15</td>\n    </tr>\n    <tr>\n      <th>69136</th>\n      <td>zzkHuJd+M8QH9JSoKm9e0A==</td>\n      <td>19</td>\n    </tr>\n    <tr>\n      <th>69137</th>\n      <td>zzrpS8TqDA6px1h/DuQdmw==</td>\n      <td>20</td>\n    </tr>\n  </tbody>\n</table>\n<p>69138 rows × 2 columns</p>\n</div>"
     },
     "execution_count": 19,
     "metadata": {},
     "output_type": "execute_result"
    }
   ],
   "source": [
    "score_train"
   ],
   "metadata": {
    "collapsed": false,
    "pycharm": {
     "name": "#%%\n"
    }
   }
  },
  {
   "cell_type": "code",
   "execution_count": 20,
   "outputs": [
    {
     "data": {
      "text/plain": "216"
     },
     "execution_count": 20,
     "metadata": {},
     "output_type": "execute_result"
    }
   ],
   "source": [
    "score_train.sentimiento.max()"
   ],
   "metadata": {
    "collapsed": false,
    "pycharm": {
     "name": "#%%\n"
    }
   }
  },
  {
   "cell_type": "markdown",
   "source": [
    "La mejor propiedad tiene un puntaje de 216. Analizaremos un poco las descripciones de las mejores y peores."
   ],
   "metadata": {
    "collapsed": false,
    "pycharm": {
     "name": "#%% md\n"
    }
   }
  },
  {
   "cell_type": "code",
   "execution_count": 21,
   "outputs": [
    {
     "data": {
      "text/plain": "                             id  sentimiento\n64035  vJRa8QKk0d9i9L4Rk6Bvng==          216\n11085  8HZPdHHB8QMCi2U/iJkYmw==          185\n28846  Ordgp/sLvmhD+RwAtErcvw==          185\n49161  hWcrJ6XkTCTGVo80jBvI1g==          185\n20651  HApisqgDT/EcQsf/Z9pwSA==          185",
      "text/html": "<div>\n<style scoped>\n    .dataframe tbody tr th:only-of-type {\n        vertical-align: middle;\n    }\n\n    .dataframe tbody tr th {\n        vertical-align: top;\n    }\n\n    .dataframe thead th {\n        text-align: right;\n    }\n</style>\n<table border=\"1\" class=\"dataframe\">\n  <thead>\n    <tr style=\"text-align: right;\">\n      <th></th>\n      <th>id</th>\n      <th>sentimiento</th>\n    </tr>\n  </thead>\n  <tbody>\n    <tr>\n      <th>64035</th>\n      <td>vJRa8QKk0d9i9L4Rk6Bvng==</td>\n      <td>216</td>\n    </tr>\n    <tr>\n      <th>11085</th>\n      <td>8HZPdHHB8QMCi2U/iJkYmw==</td>\n      <td>185</td>\n    </tr>\n    <tr>\n      <th>28846</th>\n      <td>Ordgp/sLvmhD+RwAtErcvw==</td>\n      <td>185</td>\n    </tr>\n    <tr>\n      <th>49161</th>\n      <td>hWcrJ6XkTCTGVo80jBvI1g==</td>\n      <td>185</td>\n    </tr>\n    <tr>\n      <th>20651</th>\n      <td>HApisqgDT/EcQsf/Z9pwSA==</td>\n      <td>185</td>\n    </tr>\n  </tbody>\n</table>\n</div>"
     },
     "execution_count": 21,
     "metadata": {},
     "output_type": "execute_result"
    }
   ],
   "source": [
    "top5_positivas = score_train.sort_values(by='sentimiento', ascending=False).head(5)\n",
    "top5_positivas"
   ],
   "metadata": {
    "collapsed": false,
    "pycharm": {
     "name": "#%%\n"
    }
   }
  },
  {
   "cell_type": "code",
   "execution_count": 22,
   "outputs": [
    {
     "data": {
      "text/plain": "432780    Corredor Responsable: Mónica Silvia Martinuzzi...\n72634     LINDO DPTO CON PATIO EN PB, MUY BUENA LUMINOSI...\n191701    DEPARTAMENTO TIPO PH A ESTRENAR. 120 M2 TOTALE...\n330723    Venta de departamento 2 ambientes de 51m2 tota...\n137760    LAPRIDA Y FRENCH<br>Hall de ingreso al living ...\nName: property_description, dtype: object"
     },
     "execution_count": 22,
     "metadata": {},
     "output_type": "execute_result"
    }
   ],
   "source": [
    "descriptions_train.property_description.iloc[top5_positivas.index]"
   ],
   "metadata": {
    "collapsed": false,
    "pycharm": {
     "name": "#%%\n"
    }
   }
  },
  {
   "cell_type": "code",
   "execution_count": 23,
   "outputs": [
    {
     "data": {
      "text/plain": "-37"
     },
     "execution_count": 23,
     "metadata": {},
     "output_type": "execute_result"
    }
   ],
   "source": [
    "score_train.sentimiento.min()"
   ],
   "metadata": {
    "collapsed": false,
    "pycharm": {
     "name": "#%%\n"
    }
   }
  },
  {
   "cell_type": "code",
   "execution_count": 24,
   "outputs": [
    {
     "data": {
      "text/plain": "                             id  sentimiento\n24284  KWFIk6SR8JFrfLNsfJcoPg==          -37\n44166  d2ghEGP8mv2R8W1wvl47yA==          -25\n67046  y6+EaqbgQiNEm0O9xuj5qA==          -23\n62681  u/IcqZ+M9BeXX58mOBAsXw==          -23\n67571  yZ1q8SipMwHAKNK0xa1ApQ==          -22",
      "text/html": "<div>\n<style scoped>\n    .dataframe tbody tr th:only-of-type {\n        vertical-align: middle;\n    }\n\n    .dataframe tbody tr th {\n        vertical-align: top;\n    }\n\n    .dataframe thead th {\n        text-align: right;\n    }\n</style>\n<table border=\"1\" class=\"dataframe\">\n  <thead>\n    <tr style=\"text-align: right;\">\n      <th></th>\n      <th>id</th>\n      <th>sentimiento</th>\n    </tr>\n  </thead>\n  <tbody>\n    <tr>\n      <th>24284</th>\n      <td>KWFIk6SR8JFrfLNsfJcoPg==</td>\n      <td>-37</td>\n    </tr>\n    <tr>\n      <th>44166</th>\n      <td>d2ghEGP8mv2R8W1wvl47yA==</td>\n      <td>-25</td>\n    </tr>\n    <tr>\n      <th>67046</th>\n      <td>y6+EaqbgQiNEm0O9xuj5qA==</td>\n      <td>-23</td>\n    </tr>\n    <tr>\n      <th>62681</th>\n      <td>u/IcqZ+M9BeXX58mOBAsXw==</td>\n      <td>-23</td>\n    </tr>\n    <tr>\n      <th>67571</th>\n      <td>yZ1q8SipMwHAKNK0xa1ApQ==</td>\n      <td>-22</td>\n    </tr>\n  </tbody>\n</table>\n</div>"
     },
     "execution_count": 24,
     "metadata": {},
     "output_type": "execute_result"
    }
   ],
   "source": [
    "top5_negativas = score_train.sort_values(by='sentimiento').head(5)\n",
    "top5_negativas"
   ],
   "metadata": {
    "collapsed": false,
    "pycharm": {
     "name": "#%%\n"
    }
   }
  },
  {
   "cell_type": "code",
   "execution_count": 25,
   "outputs": [
    {
     "data": {
      "text/plain": "161559    Corredor Responsable: Marcelo Trujillo - CUCIC...\n296335    VENTA DEPARTAMENTO 2 AMBIENTES EN INMEJORABLE ...\n447336    Corredor Responsable: MARCELO GRUNBAUM CMCPSI ...\n423957    Corredor Responsable: Daniel Acosta - CUCICBA ...\n449064    Corredor Responsable: Grupo Village S.R.L. MAR...\nName: property_description, dtype: object"
     },
     "execution_count": 25,
     "metadata": {},
     "output_type": "execute_result"
    }
   ],
   "source": [
    "descriptions_train.iloc[top5_negativas.index].property_description"
   ],
   "metadata": {
    "collapsed": false,
    "pycharm": {
     "name": "#%%\n"
    }
   }
  },
  {
   "cell_type": "markdown",
   "source": [
    "descriptions_test.head()Como es claro, la gente que publica la venta de una propiedad va a tratar de expresar la mejor publicacion y descripcion posible. Es por eso que tenemos una tasa altisima de positividad. No buscamos hacer un analisis tan profundo de las descripciones sino crear un puntaje relativamente estandarizado para poder usar la descripción como feature."
   ],
   "metadata": {
    "collapsed": false,
    "pycharm": {
     "name": "#%% md\n"
    }
   }
  },
  {
   "cell_type": "code",
   "execution_count": 26,
   "outputs": [
    {
     "name": "stdout",
     "output_type": "stream",
     "text": [
      "Train: \n",
      "Positivos: 93.57\n",
      "Neutros  : 1.61\n",
      "Negativos: 4.82\n",
      "\n",
      "Test: \n",
      "Positivos: 93.57\n",
      "Neutros  : 1.52\n",
      "Negativos: 4.91\n"
     ]
    }
   ],
   "source": [
    "def perfil_sentimientos(title, df):\n",
    "    print(title)\n",
    "    print(f\"Positivos: {round(100 * np.mean(df.sentimiento > 0), 2)}\")\n",
    "    print(f\"Neutros  : {round(100 * np.mean(df.sentimiento == 0), 2)}\")\n",
    "    print(f\"Negativos: {round(100 * np.mean(df.sentimiento < 0), 2)}\")\n",
    "\n",
    "\n",
    "perfil_sentimientos(\"Train: \", score_train)\n",
    "print()\n",
    "perfil_sentimientos(\"Test: \", score_test)"
   ],
   "metadata": {
    "collapsed": false,
    "pycharm": {
     "name": "#%%\n"
    }
   }
  },
  {
   "cell_type": "markdown",
   "source": [
    "Finalmente, agregaremos nuestro puntaje como columnas nuevas del dataset."
   ],
   "metadata": {
    "collapsed": false,
    "pycharm": {
     "name": "#%% md\n"
    }
   }
  },
  {
   "cell_type": "code",
   "execution_count": 27,
   "outputs": [
    {
     "data": {
      "text/plain": "                             id  start_date  end_date    latitud   longitud  \\\n0      alZlUcnGhQjicsCUrLelUg==         NaN       NaN -34.589649 -58.434926   \n1      MizJ7379YN8pr1oUXkuoJQ==         NaN       NaN -34.598508 -58.443084   \n2      WjEJRWaB6ZSmhsePTNh9Cg==         NaN       NaN -34.582098 -58.448859   \n3      zTFHwNW12MiipUveEst26g==         NaN       NaN -34.569662 -58.487762   \n4      UajHnX8NrKB2DNhHfsNi5Q==         NaN       NaN -34.598582 -58.376689   \n...                         ...         ...       ...        ...        ...   \n16271  lDeKHBlacLmv2ZH7xigDpA==         NaN       NaN -34.652357 -58.385489   \n16272  G0ZNNHzhWnaU2b98RtQFcQ==         NaN       NaN -34.653920 -58.410842   \n16273  Gt5aQa+OhShvfllYT1q6/Q==         NaN       NaN -34.593420 -58.421077   \n16274  U2IhO00Ih+tOALgXL9cs3g==         NaN       NaN -34.593404 -58.402309   \n16275  8B5zSdQFvJTuJfPWXcVaEg==         NaN       NaN -34.603144 -58.428451   \n\n            place_l3 property_type  property_rooms  property_bedrooms  \\\n0            Palermo          Casa             4.0                3.0   \n1       Villa Crespo  Departamento             1.0                1.0   \n2            Palermo  Departamento             1.0                1.0   \n3      Villa Urquiza  Departamento             3.0                2.0   \n4        San Nicolás  Departamento             2.0                1.0   \n...              ...           ...             ...                ...   \n16271       Barracas          Casa             5.0                4.0   \n16272        Pompeya          Casa             4.0                2.0   \n16273        Palermo  Departamento             3.0                2.0   \n16274   Barrio Norte  Departamento             2.0                1.0   \n16275        Almagro  Departamento             4.0                3.0   \n\n       property_surface_total  property_surface_covered  property_price  \\\n0                       140.0                     140.0        530000.0   \n1                        33.0                      30.0         78000.0   \n2                        35.0                      30.0         87100.0   \n3                        80.0                      68.0        250000.0   \n4                        37.0                      37.0         79000.0   \n...                       ...                       ...             ...   \n16271                   223.0                     223.0        295000.0   \n16272                   257.0                     130.0        180000.0   \n16273                    91.0                      71.0        348000.0   \n16274                    45.0                      45.0        133000.0   \n16275                    99.0                      70.0        183000.0   \n\n                                          property_title  \n0                                         Casa - Palermo  \n1      Monoambiente Departamento a Estrenar - Villa C...  \n2                Venta - Newbery Jorge  3445 3º I Jardin  \n3                           Departamento - Villa Urquiza  \n4      Venta de departamento  estilo frances de 2 amb...  \n...                                                  ...  \n16271  CASA EN LOTE DE 10X27 MTS 223 M2 CUB - RIO CUA...  \n16272       VENTA-POMPEYA-CASA-2PLANTAS-DIST TECNOLOGICO  \n16273  Excelente oportunidad, Hermoso 3 Ambientes, nu...  \n16274                        Departamento - Barrio Norte  \n16275               Departamento 4 Amb con PATIO Almagro  \n\n[16276 rows x 13 columns]",
      "text/html": "<div>\n<style scoped>\n    .dataframe tbody tr th:only-of-type {\n        vertical-align: middle;\n    }\n\n    .dataframe tbody tr th {\n        vertical-align: top;\n    }\n\n    .dataframe thead th {\n        text-align: right;\n    }\n</style>\n<table border=\"1\" class=\"dataframe\">\n  <thead>\n    <tr style=\"text-align: right;\">\n      <th></th>\n      <th>id</th>\n      <th>start_date</th>\n      <th>end_date</th>\n      <th>latitud</th>\n      <th>longitud</th>\n      <th>place_l3</th>\n      <th>property_type</th>\n      <th>property_rooms</th>\n      <th>property_bedrooms</th>\n      <th>property_surface_total</th>\n      <th>property_surface_covered</th>\n      <th>property_price</th>\n      <th>property_title</th>\n    </tr>\n  </thead>\n  <tbody>\n    <tr>\n      <th>0</th>\n      <td>alZlUcnGhQjicsCUrLelUg==</td>\n      <td>NaN</td>\n      <td>NaN</td>\n      <td>-34.589649</td>\n      <td>-58.434926</td>\n      <td>Palermo</td>\n      <td>Casa</td>\n      <td>4.0</td>\n      <td>3.0</td>\n      <td>140.0</td>\n      <td>140.0</td>\n      <td>530000.0</td>\n      <td>Casa - Palermo</td>\n    </tr>\n    <tr>\n      <th>1</th>\n      <td>MizJ7379YN8pr1oUXkuoJQ==</td>\n      <td>NaN</td>\n      <td>NaN</td>\n      <td>-34.598508</td>\n      <td>-58.443084</td>\n      <td>Villa Crespo</td>\n      <td>Departamento</td>\n      <td>1.0</td>\n      <td>1.0</td>\n      <td>33.0</td>\n      <td>30.0</td>\n      <td>78000.0</td>\n      <td>Monoambiente Departamento a Estrenar - Villa C...</td>\n    </tr>\n    <tr>\n      <th>2</th>\n      <td>WjEJRWaB6ZSmhsePTNh9Cg==</td>\n      <td>NaN</td>\n      <td>NaN</td>\n      <td>-34.582098</td>\n      <td>-58.448859</td>\n      <td>Palermo</td>\n      <td>Departamento</td>\n      <td>1.0</td>\n      <td>1.0</td>\n      <td>35.0</td>\n      <td>30.0</td>\n      <td>87100.0</td>\n      <td>Venta - Newbery Jorge  3445 3º I Jardin</td>\n    </tr>\n    <tr>\n      <th>3</th>\n      <td>zTFHwNW12MiipUveEst26g==</td>\n      <td>NaN</td>\n      <td>NaN</td>\n      <td>-34.569662</td>\n      <td>-58.487762</td>\n      <td>Villa Urquiza</td>\n      <td>Departamento</td>\n      <td>3.0</td>\n      <td>2.0</td>\n      <td>80.0</td>\n      <td>68.0</td>\n      <td>250000.0</td>\n      <td>Departamento - Villa Urquiza</td>\n    </tr>\n    <tr>\n      <th>4</th>\n      <td>UajHnX8NrKB2DNhHfsNi5Q==</td>\n      <td>NaN</td>\n      <td>NaN</td>\n      <td>-34.598582</td>\n      <td>-58.376689</td>\n      <td>San Nicolás</td>\n      <td>Departamento</td>\n      <td>2.0</td>\n      <td>1.0</td>\n      <td>37.0</td>\n      <td>37.0</td>\n      <td>79000.0</td>\n      <td>Venta de departamento  estilo frances de 2 amb...</td>\n    </tr>\n    <tr>\n      <th>...</th>\n      <td>...</td>\n      <td>...</td>\n      <td>...</td>\n      <td>...</td>\n      <td>...</td>\n      <td>...</td>\n      <td>...</td>\n      <td>...</td>\n      <td>...</td>\n      <td>...</td>\n      <td>...</td>\n      <td>...</td>\n      <td>...</td>\n    </tr>\n    <tr>\n      <th>16271</th>\n      <td>lDeKHBlacLmv2ZH7xigDpA==</td>\n      <td>NaN</td>\n      <td>NaN</td>\n      <td>-34.652357</td>\n      <td>-58.385489</td>\n      <td>Barracas</td>\n      <td>Casa</td>\n      <td>5.0</td>\n      <td>4.0</td>\n      <td>223.0</td>\n      <td>223.0</td>\n      <td>295000.0</td>\n      <td>CASA EN LOTE DE 10X27 MTS 223 M2 CUB - RIO CUA...</td>\n    </tr>\n    <tr>\n      <th>16272</th>\n      <td>G0ZNNHzhWnaU2b98RtQFcQ==</td>\n      <td>NaN</td>\n      <td>NaN</td>\n      <td>-34.653920</td>\n      <td>-58.410842</td>\n      <td>Pompeya</td>\n      <td>Casa</td>\n      <td>4.0</td>\n      <td>2.0</td>\n      <td>257.0</td>\n      <td>130.0</td>\n      <td>180000.0</td>\n      <td>VENTA-POMPEYA-CASA-2PLANTAS-DIST TECNOLOGICO</td>\n    </tr>\n    <tr>\n      <th>16273</th>\n      <td>Gt5aQa+OhShvfllYT1q6/Q==</td>\n      <td>NaN</td>\n      <td>NaN</td>\n      <td>-34.593420</td>\n      <td>-58.421077</td>\n      <td>Palermo</td>\n      <td>Departamento</td>\n      <td>3.0</td>\n      <td>2.0</td>\n      <td>91.0</td>\n      <td>71.0</td>\n      <td>348000.0</td>\n      <td>Excelente oportunidad, Hermoso 3 Ambientes, nu...</td>\n    </tr>\n    <tr>\n      <th>16274</th>\n      <td>U2IhO00Ih+tOALgXL9cs3g==</td>\n      <td>NaN</td>\n      <td>NaN</td>\n      <td>-34.593404</td>\n      <td>-58.402309</td>\n      <td>Barrio Norte</td>\n      <td>Departamento</td>\n      <td>2.0</td>\n      <td>1.0</td>\n      <td>45.0</td>\n      <td>45.0</td>\n      <td>133000.0</td>\n      <td>Departamento - Barrio Norte</td>\n    </tr>\n    <tr>\n      <th>16275</th>\n      <td>8B5zSdQFvJTuJfPWXcVaEg==</td>\n      <td>NaN</td>\n      <td>NaN</td>\n      <td>-34.603144</td>\n      <td>-58.428451</td>\n      <td>Almagro</td>\n      <td>Departamento</td>\n      <td>4.0</td>\n      <td>3.0</td>\n      <td>99.0</td>\n      <td>70.0</td>\n      <td>183000.0</td>\n      <td>Departamento 4 Amb con PATIO Almagro</td>\n    </tr>\n  </tbody>\n</table>\n<p>16276 rows × 13 columns</p>\n</div>"
     },
     "execution_count": 27,
     "metadata": {},
     "output_type": "execute_result"
    }
   ],
   "source": [
    "ds_test"
   ],
   "metadata": {
    "collapsed": false,
    "pycharm": {
     "name": "#%%\n"
    }
   }
  },
  {
   "cell_type": "code",
   "execution_count": 28,
   "outputs": [],
   "source": [
    "ds_train = pd.merge(ds_train, score_train, on='id')\n",
    "ds_train.rename(columns={'sentimiento': 'score_sentimientos'}, inplace=True)\n",
    "ds_test = pd.merge(ds_test, score_test, on='id')\n",
    "ds_test.rename(columns={'sentimiento': 'score_sentimientos'}, inplace=True)"
   ],
   "metadata": {
    "collapsed": false,
    "pycharm": {
     "name": "#%%\n"
    }
   }
  },
  {
   "cell_type": "code",
   "execution_count": 29,
   "outputs": [
    {
     "data": {
      "text/plain": "                         id  start_date                       end_date  \\\n0  AkvIZkI7XvbCQ/Z7zZ7lXw==  2021-07-29  2021-09-06 00:00:00.000000000   \n1  fPYqaGC1CO4tGa5Lfbsfxw==  2021-12-16  2022-02-09 00:00:00.000000000   \n2  iEf87GrVMz/FhIPsQTns4w==  2021-06-19  2021-09-01 15:14:13.531306906   \n3  po58pOgih96xIX9iBLCejA==  2021-12-16  2022-02-09 00:00:00.000000000   \n4  GNPH2InKGIZ3mGgnJGK9HQ==  2021-12-16  2022-02-09 00:00:00.000000000   \n\n     latitud   longitud  place_l3 property_type  property_rooms  \\\n0 -34.564800 -58.444631  Belgrano  Departamento             5.0   \n1 -34.591359 -58.418809   Palermo  Departamento             2.0   \n2 -34.602632 -58.428399   Almagro  Departamento             2.0   \n3 -34.564290 -58.439272   Palermo  Departamento             3.0   \n4 -34.630517 -58.377143  Barracas  Departamento             1.0   \n\n   property_bedrooms  property_surface_total  property_surface_covered  \\\n0                4.0                   279.0                     245.0   \n1                1.0                    42.0                      42.0   \n2                1.0                    46.0                      42.0   \n3                2.0                    69.0                      58.0   \n4                1.0                    45.0                      41.0   \n\n   property_price                                     property_title  \\\n0       1000000.0  Espectacular torre en la mejor zona de Belgran...   \n1         89900.0              VENTA 2 AMBIENTES RECICLADO - PALERMO   \n2        119900.0      2 ambientes al frente con balcón. A estrenar.   \n3        175000.0  DEPARTAMENTO 3 Ambientes Palermo-Balcón C/Parr...   \n4        120000.0                Venta-Barracas-Mono divisible- MOCA   \n\n   score_sentimientos  \n0                   1  \n1                  37  \n2                  -5  \n3                  50  \n4                  94  ",
      "text/html": "<div>\n<style scoped>\n    .dataframe tbody tr th:only-of-type {\n        vertical-align: middle;\n    }\n\n    .dataframe tbody tr th {\n        vertical-align: top;\n    }\n\n    .dataframe thead th {\n        text-align: right;\n    }\n</style>\n<table border=\"1\" class=\"dataframe\">\n  <thead>\n    <tr style=\"text-align: right;\">\n      <th></th>\n      <th>id</th>\n      <th>start_date</th>\n      <th>end_date</th>\n      <th>latitud</th>\n      <th>longitud</th>\n      <th>place_l3</th>\n      <th>property_type</th>\n      <th>property_rooms</th>\n      <th>property_bedrooms</th>\n      <th>property_surface_total</th>\n      <th>property_surface_covered</th>\n      <th>property_price</th>\n      <th>property_title</th>\n      <th>score_sentimientos</th>\n    </tr>\n  </thead>\n  <tbody>\n    <tr>\n      <th>0</th>\n      <td>AkvIZkI7XvbCQ/Z7zZ7lXw==</td>\n      <td>2021-07-29</td>\n      <td>2021-09-06 00:00:00.000000000</td>\n      <td>-34.564800</td>\n      <td>-58.444631</td>\n      <td>Belgrano</td>\n      <td>Departamento</td>\n      <td>5.0</td>\n      <td>4.0</td>\n      <td>279.0</td>\n      <td>245.0</td>\n      <td>1000000.0</td>\n      <td>Espectacular torre en la mejor zona de Belgran...</td>\n      <td>1</td>\n    </tr>\n    <tr>\n      <th>1</th>\n      <td>fPYqaGC1CO4tGa5Lfbsfxw==</td>\n      <td>2021-12-16</td>\n      <td>2022-02-09 00:00:00.000000000</td>\n      <td>-34.591359</td>\n      <td>-58.418809</td>\n      <td>Palermo</td>\n      <td>Departamento</td>\n      <td>2.0</td>\n      <td>1.0</td>\n      <td>42.0</td>\n      <td>42.0</td>\n      <td>89900.0</td>\n      <td>VENTA 2 AMBIENTES RECICLADO - PALERMO</td>\n      <td>37</td>\n    </tr>\n    <tr>\n      <th>2</th>\n      <td>iEf87GrVMz/FhIPsQTns4w==</td>\n      <td>2021-06-19</td>\n      <td>2021-09-01 15:14:13.531306906</td>\n      <td>-34.602632</td>\n      <td>-58.428399</td>\n      <td>Almagro</td>\n      <td>Departamento</td>\n      <td>2.0</td>\n      <td>1.0</td>\n      <td>46.0</td>\n      <td>42.0</td>\n      <td>119900.0</td>\n      <td>2 ambientes al frente con balcón. A estrenar.</td>\n      <td>-5</td>\n    </tr>\n    <tr>\n      <th>3</th>\n      <td>po58pOgih96xIX9iBLCejA==</td>\n      <td>2021-12-16</td>\n      <td>2022-02-09 00:00:00.000000000</td>\n      <td>-34.564290</td>\n      <td>-58.439272</td>\n      <td>Palermo</td>\n      <td>Departamento</td>\n      <td>3.0</td>\n      <td>2.0</td>\n      <td>69.0</td>\n      <td>58.0</td>\n      <td>175000.0</td>\n      <td>DEPARTAMENTO 3 Ambientes Palermo-Balcón C/Parr...</td>\n      <td>50</td>\n    </tr>\n    <tr>\n      <th>4</th>\n      <td>GNPH2InKGIZ3mGgnJGK9HQ==</td>\n      <td>2021-12-16</td>\n      <td>2022-02-09 00:00:00.000000000</td>\n      <td>-34.630517</td>\n      <td>-58.377143</td>\n      <td>Barracas</td>\n      <td>Departamento</td>\n      <td>1.0</td>\n      <td>1.0</td>\n      <td>45.0</td>\n      <td>41.0</td>\n      <td>120000.0</td>\n      <td>Venta-Barracas-Mono divisible- MOCA</td>\n      <td>94</td>\n    </tr>\n  </tbody>\n</table>\n</div>"
     },
     "execution_count": 29,
     "metadata": {},
     "output_type": "execute_result"
    }
   ],
   "source": [
    "ds_train.head()"
   ],
   "metadata": {
    "collapsed": false,
    "pycharm": {
     "name": "#%%\n"
    }
   }
  },
  {
   "cell_type": "markdown",
   "source": [
    "#### Tecnica Regex"
   ],
   "metadata": {
    "collapsed": false,
    "pycharm": {
     "name": "#%% md\n"
    }
   }
  },
  {
   "cell_type": "markdown",
   "source": [
    "Revisamos las siguientes paginas para entender cuales son los ammenities mas buscados en CABA, y en Argentina en general.\n",
    "\n",
    "https://www.iprofesional.com/negocios/371702-cuales-son-los-amenities-mas-exoticos-de-edificios-en-argentina\n",
    "\n",
    "https://www.baenegocios.com/sociedad/Ranking-de-amenities-los-servicios-que-mas-pesan-al-comprar-una-propiedad-20220119-0068.html\n",
    "\n",
    "https://www.forbesargentina.com/negocios/amenities-servicios-mas-demandados-argentinos-comprar-una-propiedad-n11901\n",
    "\n",
    "Dichos ammenities parecen hacer que la propiedad cotice entre un 15% y un 20% más que el precio de venta.\n",
    "\n",
    "Sacando un promedio y haciendo un top-5 ranking, podemos notar que los mas relevantes son:\n",
    "\n",
    "- Garage/Estacionamiento\n",
    "- Pileta\n",
    "- Jardin/Espacio al aire libre\n",
    "- Parrilla\n",
    "- SUM (Gimnasio/Spa/Sauna)\n",
    "\n",
    "Al buscar estos datos, podriamos tratar de entender si el precio resulta mayor, contra una propiedad de similares caracteristicas pero sin estos ammenities y a partir de eso, entender que % varía del precio de venta original."
   ],
   "metadata": {
    "collapsed": false,
    "pycharm": {
     "name": "#%% md\n"
    }
   }
  },
  {
   "cell_type": "code",
   "execution_count": 30,
   "outputs": [],
   "source": [
    "def calculate_freq(feature, regex):\n",
    "    freq = descriptions_train.property_description.str.contains(regex, regex=True).sum()\n",
    "    print(\n",
    "        f\"Los anuncios de propiedades que tienen la feature {feature} son: {freq} y representan el {freq * 100 // len(descriptions_train)}% de los datos\")"
   ],
   "metadata": {
    "collapsed": false,
    "pycharm": {
     "name": "#%%\n"
    }
   }
  },
  {
   "cell_type": "markdown",
   "source": [
    "##### Amenities"
   ],
   "metadata": {
    "collapsed": false,
    "pycharm": {
     "name": "#%% md\n"
    }
   }
  },
  {
   "cell_type": "code",
   "execution_count": 31,
   "outputs": [
    {
     "name": "stdout",
     "output_type": "stream",
     "text": [
      "Los anuncios de propiedades que tienen la feature Garage son: 1453 y representan el 2% de los datos\n"
     ]
    }
   ],
   "source": [
    "garage = re.compile(r\"\\s*garage|garaje|estacionamiento|parking\")\n",
    "calculate_freq(\"Garage\", garage)"
   ],
   "metadata": {
    "collapsed": false,
    "pycharm": {
     "name": "#%%\n"
    }
   }
  },
  {
   "cell_type": "code",
   "execution_count": 32,
   "outputs": [
    {
     "name": "stdout",
     "output_type": "stream",
     "text": [
      "Los anuncios de propiedades que tienen la feature Pileta son: 4587 y representan el 6% de los datos\n"
     ]
    }
   ],
   "source": [
    "pileta = re.compile(r\"\\s*pileta\")\n",
    "calculate_freq(\"Pileta\", pileta)"
   ],
   "metadata": {
    "collapsed": false,
    "pycharm": {
     "name": "#%%\n"
    }
   }
  },
  {
   "cell_type": "code",
   "execution_count": 33,
   "outputs": [
    {
     "name": "stdout",
     "output_type": "stream",
     "text": [
      "Los anuncios de propiedades que tienen la feature Jardín son: 1456 y representan el 2% de los datos\n"
     ]
    }
   ],
   "source": [
    "jardin = re.compile(r\"\\s*jardin|espacio verde\")\n",
    "calculate_freq(\"Jardín\", jardin)"
   ],
   "metadata": {
    "collapsed": false,
    "pycharm": {
     "name": "#%%\n"
    }
   }
  },
  {
   "cell_type": "code",
   "execution_count": 34,
   "outputs": [
    {
     "name": "stdout",
     "output_type": "stream",
     "text": [
      "Los anuncios de propiedades que tienen la feature Parrilla son: 12782 y representan el 18% de los datos\n"
     ]
    }
   ],
   "source": [
    "parrilla = re.compile(r\"\\s*parrilla|bbq\")\n",
    "calculate_freq(\"Parrilla\", parrilla)"
   ],
   "metadata": {
    "collapsed": false,
    "pycharm": {
     "name": "#%%\n"
    }
   }
  },
  {
   "cell_type": "code",
   "execution_count": 35,
   "outputs": [
    {
     "name": "stdout",
     "output_type": "stream",
     "text": [
      "Los anuncios de propiedades que tienen la feature SUM son: 26346 y representan el 37% de los datos\n"
     ]
    }
   ],
   "source": [
    "sum = re.compile(r\"\\s*zoom|sum|gimansio|spa\")\n",
    "calculate_freq(\"SUM\", sum)"
   ],
   "metadata": {
    "collapsed": false,
    "pycharm": {
     "name": "#%%\n"
    }
   }
  },
  {
   "cell_type": "code",
   "execution_count": 36,
   "outputs": [
    {
     "name": "stdout",
     "output_type": "stream",
     "text": [
      "Los anuncios de propiedades que tienen la feature Balcón son: 32793 y representan el 47% de los datos\n"
     ]
    }
   ],
   "source": [
    "balcon = re.compile(r\"\\s*balcon|balcón\")\n",
    "calculate_freq(\"Balcón\", balcon)"
   ],
   "metadata": {
    "collapsed": false,
    "pycharm": {
     "name": "#%%\n"
    }
   }
  },
  {
   "cell_type": "markdown",
   "source": [
    "Otro aspecto interesante que dejamos fuera del análisis es a que tipo de vivienda pertenece cada ammenity. Y si donde encontramos una amenity en particular, encontramos consecuentemente otra. Por ejemplo, una casa con jardin y parrila y/o pileta. De esta manera podriamos tratar de determinar el costo de cada ammenity o como afecta al precio."
   ],
   "metadata": {
    "collapsed": false,
    "pycharm": {
     "name": "#%% md\n"
    }
   }
  },
  {
   "cell_type": "markdown",
   "source": [
    "Por último, construiremos columnas booleanas para los mejores features y las agregaremos a nuestros datasets. Usaremos parrilla, sum, balcón y pileta."
   ],
   "metadata": {
    "collapsed": false,
    "pycharm": {
     "name": "#%% md\n"
    }
   }
  },
  {
   "cell_type": "code",
   "execution_count": 37,
   "outputs": [
    {
     "data": {
      "text/plain": "                          id  pileta  parrilla  balcon    sum\n0   BZCeiGkJr1WBUi6pKJQwJQ==   False     False   False  False\n2   TUL813tXchVBlHUsfaA6DA==   False      True    True  False\n3   gn55JPmcjftBV/at1a7fPg==   False     False   False  False\n10  +9uGr8tPEUkKnpjOef+gUw==   False     False   False  False\n11  uH5H+RfQM87Qtrb13+T4hA==   False     False   False  False",
      "text/html": "<div>\n<style scoped>\n    .dataframe tbody tr th:only-of-type {\n        vertical-align: middle;\n    }\n\n    .dataframe tbody tr th {\n        vertical-align: top;\n    }\n\n    .dataframe thead th {\n        text-align: right;\n    }\n</style>\n<table border=\"1\" class=\"dataframe\">\n  <thead>\n    <tr style=\"text-align: right;\">\n      <th></th>\n      <th>id</th>\n      <th>pileta</th>\n      <th>parrilla</th>\n      <th>balcon</th>\n      <th>sum</th>\n    </tr>\n  </thead>\n  <tbody>\n    <tr>\n      <th>0</th>\n      <td>BZCeiGkJr1WBUi6pKJQwJQ==</td>\n      <td>False</td>\n      <td>False</td>\n      <td>False</td>\n      <td>False</td>\n    </tr>\n    <tr>\n      <th>2</th>\n      <td>TUL813tXchVBlHUsfaA6DA==</td>\n      <td>False</td>\n      <td>True</td>\n      <td>True</td>\n      <td>False</td>\n    </tr>\n    <tr>\n      <th>3</th>\n      <td>gn55JPmcjftBV/at1a7fPg==</td>\n      <td>False</td>\n      <td>False</td>\n      <td>False</td>\n      <td>False</td>\n    </tr>\n    <tr>\n      <th>10</th>\n      <td>+9uGr8tPEUkKnpjOef+gUw==</td>\n      <td>False</td>\n      <td>False</td>\n      <td>False</td>\n      <td>False</td>\n    </tr>\n    <tr>\n      <th>11</th>\n      <td>uH5H+RfQM87Qtrb13+T4hA==</td>\n      <td>False</td>\n      <td>False</td>\n      <td>False</td>\n      <td>False</td>\n    </tr>\n  </tbody>\n</table>\n</div>"
     },
     "execution_count": 37,
     "metadata": {},
     "output_type": "execute_result"
    }
   ],
   "source": [
    "amenities_train = pd.DataFrame({\n",
    "    'id': descriptions_train.id,\n",
    "    'pileta': descriptions_train.property_description.str.contains(pileta, regex=True),\n",
    "    'parrilla': descriptions_train.property_description.str.contains(parrilla, regex=True),\n",
    "    'balcon': descriptions_train.property_description.str.contains(balcon, regex=True),\n",
    "    'sum': descriptions_train.property_description.str.contains(sum, regex=True)\n",
    "})\n",
    "amenities_train.head()"
   ],
   "metadata": {
    "collapsed": false,
    "pycharm": {
     "name": "#%%\n"
    }
   }
  },
  {
   "cell_type": "code",
   "execution_count": 38,
   "outputs": [
    {
     "data": {
      "text/plain": "                           id  pileta  parrilla  balcon    sum\n153  lZyClw0vqQvUiJkIemcg8A==   False     False    True   True\n154  AZJX5ab3sBKZK1bSC3zW9A==   False     False   False  False\n224  FZ+k4wGZyeJ+BWk+xJNPSw==   False     False   False  False\n341  TFL4KKRhKUuOS9QiO4VM+g==   False     False   False  False\n359  APC2eIlMSeZ/dIGh8WByNA==   False      True    True  False",
      "text/html": "<div>\n<style scoped>\n    .dataframe tbody tr th:only-of-type {\n        vertical-align: middle;\n    }\n\n    .dataframe tbody tr th {\n        vertical-align: top;\n    }\n\n    .dataframe thead th {\n        text-align: right;\n    }\n</style>\n<table border=\"1\" class=\"dataframe\">\n  <thead>\n    <tr style=\"text-align: right;\">\n      <th></th>\n      <th>id</th>\n      <th>pileta</th>\n      <th>parrilla</th>\n      <th>balcon</th>\n      <th>sum</th>\n    </tr>\n  </thead>\n  <tbody>\n    <tr>\n      <th>153</th>\n      <td>lZyClw0vqQvUiJkIemcg8A==</td>\n      <td>False</td>\n      <td>False</td>\n      <td>True</td>\n      <td>True</td>\n    </tr>\n    <tr>\n      <th>154</th>\n      <td>AZJX5ab3sBKZK1bSC3zW9A==</td>\n      <td>False</td>\n      <td>False</td>\n      <td>False</td>\n      <td>False</td>\n    </tr>\n    <tr>\n      <th>224</th>\n      <td>FZ+k4wGZyeJ+BWk+xJNPSw==</td>\n      <td>False</td>\n      <td>False</td>\n      <td>False</td>\n      <td>False</td>\n    </tr>\n    <tr>\n      <th>341</th>\n      <td>TFL4KKRhKUuOS9QiO4VM+g==</td>\n      <td>False</td>\n      <td>False</td>\n      <td>False</td>\n      <td>False</td>\n    </tr>\n    <tr>\n      <th>359</th>\n      <td>APC2eIlMSeZ/dIGh8WByNA==</td>\n      <td>False</td>\n      <td>True</td>\n      <td>True</td>\n      <td>False</td>\n    </tr>\n  </tbody>\n</table>\n</div>"
     },
     "execution_count": 38,
     "metadata": {},
     "output_type": "execute_result"
    }
   ],
   "source": [
    "# Replicamos lo mismo en test\n",
    "amenities_test = pd.DataFrame({\n",
    "    'id': descriptions_test.id,\n",
    "    'pileta': descriptions_test.property_description.str.contains(pileta, regex=True),\n",
    "    'parrilla': descriptions_test.property_description.str.contains(parrilla, regex=True),\n",
    "    'balcon': descriptions_test.property_description.str.contains(balcon, regex=True),\n",
    "    'sum': descriptions_test.property_description.str.contains(sum, regex=True)\n",
    "})\n",
    "amenities_test.head()"
   ],
   "metadata": {
    "collapsed": false,
    "pycharm": {
     "name": "#%%\n"
    }
   }
  },
  {
   "cell_type": "code",
   "execution_count": 39,
   "outputs": [
    {
     "data": {
      "text/plain": "                             id  start_date  end_date    latitud   longitud  \\\n0      alZlUcnGhQjicsCUrLelUg==         NaN       NaN -34.589649 -58.434926   \n1      MizJ7379YN8pr1oUXkuoJQ==         NaN       NaN -34.598508 -58.443084   \n2      WjEJRWaB6ZSmhsePTNh9Cg==         NaN       NaN -34.582098 -58.448859   \n3      zTFHwNW12MiipUveEst26g==         NaN       NaN -34.569662 -58.487762   \n4      UajHnX8NrKB2DNhHfsNi5Q==         NaN       NaN -34.598582 -58.376689   \n...                         ...         ...       ...        ...        ...   \n16127  lDeKHBlacLmv2ZH7xigDpA==         NaN       NaN -34.652357 -58.385489   \n16128  G0ZNNHzhWnaU2b98RtQFcQ==         NaN       NaN -34.653920 -58.410842   \n16129  Gt5aQa+OhShvfllYT1q6/Q==         NaN       NaN -34.593420 -58.421077   \n16130  U2IhO00Ih+tOALgXL9cs3g==         NaN       NaN -34.593404 -58.402309   \n16131  8B5zSdQFvJTuJfPWXcVaEg==         NaN       NaN -34.603144 -58.428451   \n\n            place_l3 property_type  property_rooms  property_bedrooms  \\\n0            Palermo          Casa             4.0                3.0   \n1       Villa Crespo  Departamento             1.0                1.0   \n2            Palermo  Departamento             1.0                1.0   \n3      Villa Urquiza  Departamento             3.0                2.0   \n4        San Nicolás  Departamento             2.0                1.0   \n...              ...           ...             ...                ...   \n16127       Barracas          Casa             5.0                4.0   \n16128        Pompeya          Casa             4.0                2.0   \n16129        Palermo  Departamento             3.0                2.0   \n16130   Barrio Norte  Departamento             2.0                1.0   \n16131        Almagro  Departamento             4.0                3.0   \n\n       property_surface_total  property_surface_covered  property_price  \\\n0                       140.0                     140.0        530000.0   \n1                        33.0                      30.0         78000.0   \n2                        35.0                      30.0         87100.0   \n3                        80.0                      68.0        250000.0   \n4                        37.0                      37.0         79000.0   \n...                       ...                       ...             ...   \n16127                   223.0                     223.0        295000.0   \n16128                   257.0                     130.0        180000.0   \n16129                    91.0                      71.0        348000.0   \n16130                    45.0                      45.0        133000.0   \n16131                    99.0                      70.0        183000.0   \n\n                                          property_title  score_sentimientos  \n0                                         Casa - Palermo                   1  \n1      Monoambiente Departamento a Estrenar - Villa C...                  53  \n2                Venta - Newbery Jorge  3445 3º I Jardin                   2  \n3                           Departamento - Villa Urquiza                  -4  \n4      Venta de departamento  estilo frances de 2 amb...                  13  \n...                                                  ...                 ...  \n16127  CASA EN LOTE DE 10X27 MTS 223 M2 CUB - RIO CUA...                   8  \n16128       VENTA-POMPEYA-CASA-2PLANTAS-DIST TECNOLOGICO                  14  \n16129  Excelente oportunidad, Hermoso 3 Ambientes, nu...                  15  \n16130                        Departamento - Barrio Norte                  25  \n16131               Departamento 4 Amb con PATIO Almagro                  11  \n\n[16132 rows x 14 columns]",
      "text/html": "<div>\n<style scoped>\n    .dataframe tbody tr th:only-of-type {\n        vertical-align: middle;\n    }\n\n    .dataframe tbody tr th {\n        vertical-align: top;\n    }\n\n    .dataframe thead th {\n        text-align: right;\n    }\n</style>\n<table border=\"1\" class=\"dataframe\">\n  <thead>\n    <tr style=\"text-align: right;\">\n      <th></th>\n      <th>id</th>\n      <th>start_date</th>\n      <th>end_date</th>\n      <th>latitud</th>\n      <th>longitud</th>\n      <th>place_l3</th>\n      <th>property_type</th>\n      <th>property_rooms</th>\n      <th>property_bedrooms</th>\n      <th>property_surface_total</th>\n      <th>property_surface_covered</th>\n      <th>property_price</th>\n      <th>property_title</th>\n      <th>score_sentimientos</th>\n    </tr>\n  </thead>\n  <tbody>\n    <tr>\n      <th>0</th>\n      <td>alZlUcnGhQjicsCUrLelUg==</td>\n      <td>NaN</td>\n      <td>NaN</td>\n      <td>-34.589649</td>\n      <td>-58.434926</td>\n      <td>Palermo</td>\n      <td>Casa</td>\n      <td>4.0</td>\n      <td>3.0</td>\n      <td>140.0</td>\n      <td>140.0</td>\n      <td>530000.0</td>\n      <td>Casa - Palermo</td>\n      <td>1</td>\n    </tr>\n    <tr>\n      <th>1</th>\n      <td>MizJ7379YN8pr1oUXkuoJQ==</td>\n      <td>NaN</td>\n      <td>NaN</td>\n      <td>-34.598508</td>\n      <td>-58.443084</td>\n      <td>Villa Crespo</td>\n      <td>Departamento</td>\n      <td>1.0</td>\n      <td>1.0</td>\n      <td>33.0</td>\n      <td>30.0</td>\n      <td>78000.0</td>\n      <td>Monoambiente Departamento a Estrenar - Villa C...</td>\n      <td>53</td>\n    </tr>\n    <tr>\n      <th>2</th>\n      <td>WjEJRWaB6ZSmhsePTNh9Cg==</td>\n      <td>NaN</td>\n      <td>NaN</td>\n      <td>-34.582098</td>\n      <td>-58.448859</td>\n      <td>Palermo</td>\n      <td>Departamento</td>\n      <td>1.0</td>\n      <td>1.0</td>\n      <td>35.0</td>\n      <td>30.0</td>\n      <td>87100.0</td>\n      <td>Venta - Newbery Jorge  3445 3º I Jardin</td>\n      <td>2</td>\n    </tr>\n    <tr>\n      <th>3</th>\n      <td>zTFHwNW12MiipUveEst26g==</td>\n      <td>NaN</td>\n      <td>NaN</td>\n      <td>-34.569662</td>\n      <td>-58.487762</td>\n      <td>Villa Urquiza</td>\n      <td>Departamento</td>\n      <td>3.0</td>\n      <td>2.0</td>\n      <td>80.0</td>\n      <td>68.0</td>\n      <td>250000.0</td>\n      <td>Departamento - Villa Urquiza</td>\n      <td>-4</td>\n    </tr>\n    <tr>\n      <th>4</th>\n      <td>UajHnX8NrKB2DNhHfsNi5Q==</td>\n      <td>NaN</td>\n      <td>NaN</td>\n      <td>-34.598582</td>\n      <td>-58.376689</td>\n      <td>San Nicolás</td>\n      <td>Departamento</td>\n      <td>2.0</td>\n      <td>1.0</td>\n      <td>37.0</td>\n      <td>37.0</td>\n      <td>79000.0</td>\n      <td>Venta de departamento  estilo frances de 2 amb...</td>\n      <td>13</td>\n    </tr>\n    <tr>\n      <th>...</th>\n      <td>...</td>\n      <td>...</td>\n      <td>...</td>\n      <td>...</td>\n      <td>...</td>\n      <td>...</td>\n      <td>...</td>\n      <td>...</td>\n      <td>...</td>\n      <td>...</td>\n      <td>...</td>\n      <td>...</td>\n      <td>...</td>\n      <td>...</td>\n    </tr>\n    <tr>\n      <th>16127</th>\n      <td>lDeKHBlacLmv2ZH7xigDpA==</td>\n      <td>NaN</td>\n      <td>NaN</td>\n      <td>-34.652357</td>\n      <td>-58.385489</td>\n      <td>Barracas</td>\n      <td>Casa</td>\n      <td>5.0</td>\n      <td>4.0</td>\n      <td>223.0</td>\n      <td>223.0</td>\n      <td>295000.0</td>\n      <td>CASA EN LOTE DE 10X27 MTS 223 M2 CUB - RIO CUA...</td>\n      <td>8</td>\n    </tr>\n    <tr>\n      <th>16128</th>\n      <td>G0ZNNHzhWnaU2b98RtQFcQ==</td>\n      <td>NaN</td>\n      <td>NaN</td>\n      <td>-34.653920</td>\n      <td>-58.410842</td>\n      <td>Pompeya</td>\n      <td>Casa</td>\n      <td>4.0</td>\n      <td>2.0</td>\n      <td>257.0</td>\n      <td>130.0</td>\n      <td>180000.0</td>\n      <td>VENTA-POMPEYA-CASA-2PLANTAS-DIST TECNOLOGICO</td>\n      <td>14</td>\n    </tr>\n    <tr>\n      <th>16129</th>\n      <td>Gt5aQa+OhShvfllYT1q6/Q==</td>\n      <td>NaN</td>\n      <td>NaN</td>\n      <td>-34.593420</td>\n      <td>-58.421077</td>\n      <td>Palermo</td>\n      <td>Departamento</td>\n      <td>3.0</td>\n      <td>2.0</td>\n      <td>91.0</td>\n      <td>71.0</td>\n      <td>348000.0</td>\n      <td>Excelente oportunidad, Hermoso 3 Ambientes, nu...</td>\n      <td>15</td>\n    </tr>\n    <tr>\n      <th>16130</th>\n      <td>U2IhO00Ih+tOALgXL9cs3g==</td>\n      <td>NaN</td>\n      <td>NaN</td>\n      <td>-34.593404</td>\n      <td>-58.402309</td>\n      <td>Barrio Norte</td>\n      <td>Departamento</td>\n      <td>2.0</td>\n      <td>1.0</td>\n      <td>45.0</td>\n      <td>45.0</td>\n      <td>133000.0</td>\n      <td>Departamento - Barrio Norte</td>\n      <td>25</td>\n    </tr>\n    <tr>\n      <th>16131</th>\n      <td>8B5zSdQFvJTuJfPWXcVaEg==</td>\n      <td>NaN</td>\n      <td>NaN</td>\n      <td>-34.603144</td>\n      <td>-58.428451</td>\n      <td>Almagro</td>\n      <td>Departamento</td>\n      <td>4.0</td>\n      <td>3.0</td>\n      <td>99.0</td>\n      <td>70.0</td>\n      <td>183000.0</td>\n      <td>Departamento 4 Amb con PATIO Almagro</td>\n      <td>11</td>\n    </tr>\n  </tbody>\n</table>\n<p>16132 rows × 14 columns</p>\n</div>"
     },
     "execution_count": 39,
     "metadata": {},
     "output_type": "execute_result"
    }
   ],
   "source": [
    "ds_test"
   ],
   "metadata": {
    "collapsed": false,
    "pycharm": {
     "name": "#%%\n"
    }
   }
  },
  {
   "cell_type": "code",
   "execution_count": 40,
   "outputs": [
    {
     "data": {
      "text/plain": "                         id  start_date                       end_date  \\\n0  AkvIZkI7XvbCQ/Z7zZ7lXw==  2021-07-29  2021-09-06 00:00:00.000000000   \n1  fPYqaGC1CO4tGa5Lfbsfxw==  2021-12-16  2022-02-09 00:00:00.000000000   \n2  iEf87GrVMz/FhIPsQTns4w==  2021-06-19  2021-09-01 15:14:13.531306906   \n3  po58pOgih96xIX9iBLCejA==  2021-12-16  2022-02-09 00:00:00.000000000   \n4  GNPH2InKGIZ3mGgnJGK9HQ==  2021-12-16  2022-02-09 00:00:00.000000000   \n\n     latitud   longitud  place_l3 property_type  property_rooms  \\\n0 -34.564800 -58.444631  Belgrano  Departamento             5.0   \n1 -34.591359 -58.418809   Palermo  Departamento             2.0   \n2 -34.602632 -58.428399   Almagro  Departamento             2.0   \n3 -34.564290 -58.439272   Palermo  Departamento             3.0   \n4 -34.630517 -58.377143  Barracas  Departamento             1.0   \n\n   property_bedrooms  property_surface_total  property_surface_covered  \\\n0                4.0                   279.0                     245.0   \n1                1.0                    42.0                      42.0   \n2                1.0                    46.0                      42.0   \n3                2.0                    69.0                      58.0   \n4                1.0                    45.0                      41.0   \n\n   property_price                                     property_title  \\\n0       1000000.0  Espectacular torre en la mejor zona de Belgran...   \n1         89900.0              VENTA 2 AMBIENTES RECICLADO - PALERMO   \n2        119900.0      2 ambientes al frente con balcón. A estrenar.   \n3        175000.0  DEPARTAMENTO 3 Ambientes Palermo-Balcón C/Parr...   \n4        120000.0                Venta-Barracas-Mono divisible- MOCA   \n\n   score_sentimientos  pileta  parrilla  balcon    sum  \n0                   1   False     False   False  False  \n1                  37   False     False    True  False  \n2                  -5   False      True    True   True  \n3                  50   False      True    True   True  \n4                  94    True      True   False   True  ",
      "text/html": "<div>\n<style scoped>\n    .dataframe tbody tr th:only-of-type {\n        vertical-align: middle;\n    }\n\n    .dataframe tbody tr th {\n        vertical-align: top;\n    }\n\n    .dataframe thead th {\n        text-align: right;\n    }\n</style>\n<table border=\"1\" class=\"dataframe\">\n  <thead>\n    <tr style=\"text-align: right;\">\n      <th></th>\n      <th>id</th>\n      <th>start_date</th>\n      <th>end_date</th>\n      <th>latitud</th>\n      <th>longitud</th>\n      <th>place_l3</th>\n      <th>property_type</th>\n      <th>property_rooms</th>\n      <th>property_bedrooms</th>\n      <th>property_surface_total</th>\n      <th>property_surface_covered</th>\n      <th>property_price</th>\n      <th>property_title</th>\n      <th>score_sentimientos</th>\n      <th>pileta</th>\n      <th>parrilla</th>\n      <th>balcon</th>\n      <th>sum</th>\n    </tr>\n  </thead>\n  <tbody>\n    <tr>\n      <th>0</th>\n      <td>AkvIZkI7XvbCQ/Z7zZ7lXw==</td>\n      <td>2021-07-29</td>\n      <td>2021-09-06 00:00:00.000000000</td>\n      <td>-34.564800</td>\n      <td>-58.444631</td>\n      <td>Belgrano</td>\n      <td>Departamento</td>\n      <td>5.0</td>\n      <td>4.0</td>\n      <td>279.0</td>\n      <td>245.0</td>\n      <td>1000000.0</td>\n      <td>Espectacular torre en la mejor zona de Belgran...</td>\n      <td>1</td>\n      <td>False</td>\n      <td>False</td>\n      <td>False</td>\n      <td>False</td>\n    </tr>\n    <tr>\n      <th>1</th>\n      <td>fPYqaGC1CO4tGa5Lfbsfxw==</td>\n      <td>2021-12-16</td>\n      <td>2022-02-09 00:00:00.000000000</td>\n      <td>-34.591359</td>\n      <td>-58.418809</td>\n      <td>Palermo</td>\n      <td>Departamento</td>\n      <td>2.0</td>\n      <td>1.0</td>\n      <td>42.0</td>\n      <td>42.0</td>\n      <td>89900.0</td>\n      <td>VENTA 2 AMBIENTES RECICLADO - PALERMO</td>\n      <td>37</td>\n      <td>False</td>\n      <td>False</td>\n      <td>True</td>\n      <td>False</td>\n    </tr>\n    <tr>\n      <th>2</th>\n      <td>iEf87GrVMz/FhIPsQTns4w==</td>\n      <td>2021-06-19</td>\n      <td>2021-09-01 15:14:13.531306906</td>\n      <td>-34.602632</td>\n      <td>-58.428399</td>\n      <td>Almagro</td>\n      <td>Departamento</td>\n      <td>2.0</td>\n      <td>1.0</td>\n      <td>46.0</td>\n      <td>42.0</td>\n      <td>119900.0</td>\n      <td>2 ambientes al frente con balcón. A estrenar.</td>\n      <td>-5</td>\n      <td>False</td>\n      <td>True</td>\n      <td>True</td>\n      <td>True</td>\n    </tr>\n    <tr>\n      <th>3</th>\n      <td>po58pOgih96xIX9iBLCejA==</td>\n      <td>2021-12-16</td>\n      <td>2022-02-09 00:00:00.000000000</td>\n      <td>-34.564290</td>\n      <td>-58.439272</td>\n      <td>Palermo</td>\n      <td>Departamento</td>\n      <td>3.0</td>\n      <td>2.0</td>\n      <td>69.0</td>\n      <td>58.0</td>\n      <td>175000.0</td>\n      <td>DEPARTAMENTO 3 Ambientes Palermo-Balcón C/Parr...</td>\n      <td>50</td>\n      <td>False</td>\n      <td>True</td>\n      <td>True</td>\n      <td>True</td>\n    </tr>\n    <tr>\n      <th>4</th>\n      <td>GNPH2InKGIZ3mGgnJGK9HQ==</td>\n      <td>2021-12-16</td>\n      <td>2022-02-09 00:00:00.000000000</td>\n      <td>-34.630517</td>\n      <td>-58.377143</td>\n      <td>Barracas</td>\n      <td>Departamento</td>\n      <td>1.0</td>\n      <td>1.0</td>\n      <td>45.0</td>\n      <td>41.0</td>\n      <td>120000.0</td>\n      <td>Venta-Barracas-Mono divisible- MOCA</td>\n      <td>94</td>\n      <td>True</td>\n      <td>True</td>\n      <td>False</td>\n      <td>True</td>\n    </tr>\n  </tbody>\n</table>\n</div>"
     },
     "execution_count": 40,
     "metadata": {},
     "output_type": "execute_result"
    }
   ],
   "source": [
    "ds_train = pd.merge(ds_train, amenities_train, on='id')\n",
    "ds_train.head()"
   ],
   "metadata": {
    "collapsed": false,
    "pycharm": {
     "name": "#%%\n"
    }
   }
  },
  {
   "cell_type": "code",
   "execution_count": 41,
   "outputs": [
    {
     "data": {
      "text/plain": "                         id  start_date  end_date    latitud   longitud  \\\n0  alZlUcnGhQjicsCUrLelUg==         NaN       NaN -34.589649 -58.434926   \n1  MizJ7379YN8pr1oUXkuoJQ==         NaN       NaN -34.598508 -58.443084   \n2  WjEJRWaB6ZSmhsePTNh9Cg==         NaN       NaN -34.582098 -58.448859   \n3  zTFHwNW12MiipUveEst26g==         NaN       NaN -34.569662 -58.487762   \n4  UajHnX8NrKB2DNhHfsNi5Q==         NaN       NaN -34.598582 -58.376689   \n\n        place_l3 property_type  property_rooms  property_bedrooms  \\\n0        Palermo          Casa             4.0                3.0   \n1   Villa Crespo  Departamento             1.0                1.0   \n2        Palermo  Departamento             1.0                1.0   \n3  Villa Urquiza  Departamento             3.0                2.0   \n4    San Nicolás  Departamento             2.0                1.0   \n\n   property_surface_total  property_surface_covered  property_price  \\\n0                   140.0                     140.0        530000.0   \n1                    33.0                      30.0         78000.0   \n2                    35.0                      30.0         87100.0   \n3                    80.0                      68.0        250000.0   \n4                    37.0                      37.0         79000.0   \n\n                                      property_title  score_sentimientos  \\\n0                                     Casa - Palermo                   1   \n1  Monoambiente Departamento a Estrenar - Villa C...                  53   \n2            Venta - Newbery Jorge  3445 3º I Jardin                   2   \n3                       Departamento - Villa Urquiza                  -4   \n4  Venta de departamento  estilo frances de 2 amb...                  13   \n\n   pileta  parrilla  balcon    sum  \n0   False     False   False  False  \n1   False      True    True  False  \n2   False     False   False  False  \n3   False     False   False  False  \n4   False     False   False   True  ",
      "text/html": "<div>\n<style scoped>\n    .dataframe tbody tr th:only-of-type {\n        vertical-align: middle;\n    }\n\n    .dataframe tbody tr th {\n        vertical-align: top;\n    }\n\n    .dataframe thead th {\n        text-align: right;\n    }\n</style>\n<table border=\"1\" class=\"dataframe\">\n  <thead>\n    <tr style=\"text-align: right;\">\n      <th></th>\n      <th>id</th>\n      <th>start_date</th>\n      <th>end_date</th>\n      <th>latitud</th>\n      <th>longitud</th>\n      <th>place_l3</th>\n      <th>property_type</th>\n      <th>property_rooms</th>\n      <th>property_bedrooms</th>\n      <th>property_surface_total</th>\n      <th>property_surface_covered</th>\n      <th>property_price</th>\n      <th>property_title</th>\n      <th>score_sentimientos</th>\n      <th>pileta</th>\n      <th>parrilla</th>\n      <th>balcon</th>\n      <th>sum</th>\n    </tr>\n  </thead>\n  <tbody>\n    <tr>\n      <th>0</th>\n      <td>alZlUcnGhQjicsCUrLelUg==</td>\n      <td>NaN</td>\n      <td>NaN</td>\n      <td>-34.589649</td>\n      <td>-58.434926</td>\n      <td>Palermo</td>\n      <td>Casa</td>\n      <td>4.0</td>\n      <td>3.0</td>\n      <td>140.0</td>\n      <td>140.0</td>\n      <td>530000.0</td>\n      <td>Casa - Palermo</td>\n      <td>1</td>\n      <td>False</td>\n      <td>False</td>\n      <td>False</td>\n      <td>False</td>\n    </tr>\n    <tr>\n      <th>1</th>\n      <td>MizJ7379YN8pr1oUXkuoJQ==</td>\n      <td>NaN</td>\n      <td>NaN</td>\n      <td>-34.598508</td>\n      <td>-58.443084</td>\n      <td>Villa Crespo</td>\n      <td>Departamento</td>\n      <td>1.0</td>\n      <td>1.0</td>\n      <td>33.0</td>\n      <td>30.0</td>\n      <td>78000.0</td>\n      <td>Monoambiente Departamento a Estrenar - Villa C...</td>\n      <td>53</td>\n      <td>False</td>\n      <td>True</td>\n      <td>True</td>\n      <td>False</td>\n    </tr>\n    <tr>\n      <th>2</th>\n      <td>WjEJRWaB6ZSmhsePTNh9Cg==</td>\n      <td>NaN</td>\n      <td>NaN</td>\n      <td>-34.582098</td>\n      <td>-58.448859</td>\n      <td>Palermo</td>\n      <td>Departamento</td>\n      <td>1.0</td>\n      <td>1.0</td>\n      <td>35.0</td>\n      <td>30.0</td>\n      <td>87100.0</td>\n      <td>Venta - Newbery Jorge  3445 3º I Jardin</td>\n      <td>2</td>\n      <td>False</td>\n      <td>False</td>\n      <td>False</td>\n      <td>False</td>\n    </tr>\n    <tr>\n      <th>3</th>\n      <td>zTFHwNW12MiipUveEst26g==</td>\n      <td>NaN</td>\n      <td>NaN</td>\n      <td>-34.569662</td>\n      <td>-58.487762</td>\n      <td>Villa Urquiza</td>\n      <td>Departamento</td>\n      <td>3.0</td>\n      <td>2.0</td>\n      <td>80.0</td>\n      <td>68.0</td>\n      <td>250000.0</td>\n      <td>Departamento - Villa Urquiza</td>\n      <td>-4</td>\n      <td>False</td>\n      <td>False</td>\n      <td>False</td>\n      <td>False</td>\n    </tr>\n    <tr>\n      <th>4</th>\n      <td>UajHnX8NrKB2DNhHfsNi5Q==</td>\n      <td>NaN</td>\n      <td>NaN</td>\n      <td>-34.598582</td>\n      <td>-58.376689</td>\n      <td>San Nicolás</td>\n      <td>Departamento</td>\n      <td>2.0</td>\n      <td>1.0</td>\n      <td>37.0</td>\n      <td>37.0</td>\n      <td>79000.0</td>\n      <td>Venta de departamento  estilo frances de 2 amb...</td>\n      <td>13</td>\n      <td>False</td>\n      <td>False</td>\n      <td>False</td>\n      <td>True</td>\n    </tr>\n  </tbody>\n</table>\n</div>"
     },
     "execution_count": 41,
     "metadata": {},
     "output_type": "execute_result"
    }
   ],
   "source": [
    "ds_test = pd.merge(ds_test, amenities_test, on='id')\n",
    "ds_test.head()"
   ],
   "metadata": {
    "collapsed": false,
    "pycharm": {
     "name": "#%%\n"
    }
   }
  },
  {
   "cell_type": "markdown",
   "source": [
    "##### Expensas"
   ],
   "metadata": {
    "collapsed": false,
    "pycharm": {
     "name": "#%% md\n"
    }
   }
  },
  {
   "cell_type": "markdown",
   "source": [
    "Por último, trabajaremos en crear una columna numérica con el valor de las expensas. Evaluaremos primero que porcentaje de valores podemos conseguir con regex"
   ],
   "metadata": {
    "collapsed": false,
    "pycharm": {
     "name": "#%% md\n"
    }
   }
  },
  {
   "cell_type": "code",
   "execution_count": null,
   "outputs": [],
   "source": [
    "expensas = re.compile(r\"\\s*[0-9.]*\\s*exp|expensas\")\n",
    "calculate_freq(\"Expensas\", expensas)"
   ],
   "metadata": {
    "collapsed": false,
    "pycharm": {
     "name": "#%%\n"
    }
   }
  },
  {
   "cell_type": "code",
   "execution_count": null,
   "outputs": [],
   "source": [
    "expensas_extract = re.compile('((?:[a-zA-Z0-9]+\\s*){5}(?:expensas|exp)\\s(?:[a-zA-Z0-9]+\\s){10})')\n",
    "expensas_train = descriptions_train.property_description.str.extract(expensas_extract)\n",
    "expensas_train.value_counts()"
   ],
   "metadata": {
    "collapsed": false,
    "pycharm": {
     "name": "#%%\n"
    }
   }
  },
  {
   "cell_type": "code",
   "execution_count": null,
   "outputs": [],
   "source": [
    "expensas_extract = re.compile('((?:[0-9a-zA-Z,.]+\\s*){5}?(?:con|sin|de)\\s*(?:expensas|exp))')\n",
    "expensas_train = descriptions_train.sample(100).property_description.str.extract(expensas_extract)"
   ],
   "metadata": {
    "collapsed": false,
    "pycharm": {
     "name": "#%%\n"
    }
   }
  },
  {
   "cell_type": "code",
   "execution_count": null,
   "outputs": [],
   "source": [
    "sin_expensas = re.compile('\\s*([0-9.]+)\\s*exp|expensas')\n",
    "descriptions_train.property_description.str.extract(sin_expensas)"
   ],
   "metadata": {
    "collapsed": false,
    "pycharm": {
     "name": "#%%\n"
    }
   }
  },
  {
   "cell_type": "markdown",
   "source": [
    "## Modelos"
   ],
   "metadata": {
    "collapsed": false,
    "pycharm": {
     "name": "#%% md\n"
    }
   }
  },
  {
   "cell_type": "markdown",
   "source": [
    "#### Selección de features"
   ],
   "metadata": {
    "collapsed": false,
    "pycharm": {
     "name": "#%% md\n"
    }
   }
  },
  {
   "cell_type": "markdown",
   "source": [
    "Para entrenar los modelos usaremos nuestro dataset recien generado, descartaremos el id, el título y las fechas. Convertiremos las categóricas en variables numéricas."
   ],
   "metadata": {
    "collapsed": false,
    "pycharm": {
     "name": "#%% md\n"
    }
   }
  },
  {
   "cell_type": "code",
   "execution_count": 42,
   "outputs": [
    {
     "data": {
      "text/plain": "Index(['id', 'start_date', 'end_date', 'latitud', 'longitud', 'place_l3',\n       'property_type', 'property_rooms', 'property_bedrooms',\n       'property_surface_total', 'property_surface_covered', 'property_price',\n       'property_title', 'score_sentimientos', 'pileta', 'parrilla', 'balcon',\n       'sum'],\n      dtype='object')"
     },
     "execution_count": 42,
     "metadata": {},
     "output_type": "execute_result"
    }
   ],
   "source": [
    "ds_train.columns"
   ],
   "metadata": {
    "collapsed": false,
    "pycharm": {
     "name": "#%%\n"
    }
   }
  },
  {
   "cell_type": "code",
   "execution_count": 43,
   "outputs": [
    {
     "data": {
      "text/plain": "         latitud   longitud  place_l3  property_type  property_rooms  \\\n0     -34.564800 -58.444631         0              0             5.0   \n1     -34.591359 -58.418809         1              0             2.0   \n2     -34.602632 -58.428399         2              0             2.0   \n3     -34.564290 -58.439272         1              0             3.0   \n4     -34.630517 -58.377143         3              0             1.0   \n...          ...        ...       ...            ...             ...   \n69133 -34.594455 -58.380096        14              0             2.0   \n69134 -34.584074 -58.422690         1              0             4.0   \n69135 -34.615638 -58.390416         8              0             3.0   \n69136 -34.584958 -58.509413        15              1             3.0   \n69137 -34.625870 -58.471979        25              0             3.0   \n\n       property_bedrooms  property_surface_total  property_surface_covered  \\\n0                    4.0                   279.0                     245.0   \n1                    1.0                    42.0                      42.0   \n2                    1.0                    46.0                      42.0   \n3                    2.0                    69.0                      58.0   \n4                    1.0                    45.0                      41.0   \n...                  ...                     ...                       ...   \n69133                1.0                    45.0                      45.0   \n69134                3.0                    55.0                      55.0   \n69135                2.0                    97.0                      97.0   \n69136                2.0                   125.0                      67.0   \n69137                2.0                    93.0                      87.0   \n\n       property_price  score_sentimientos  pileta  parrilla  balcon    sum  \n0           1000000.0                   1   False     False   False  False  \n1             89900.0                  37   False     False    True  False  \n2            119900.0                  -5   False      True    True   True  \n3            175000.0                  50   False      True    True   True  \n4            120000.0                  94    True      True   False   True  \n...               ...                 ...     ...       ...     ...    ...  \n69133        139000.0                   3   False     False   False  False  \n69134        170000.0                  11   False     False   False   True  \n69135        134000.0                  -4   False     False   False  False  \n69136        145000.0                  12   False     False   False  False  \n69137        144000.0                  29   False     False   False  False  \n\n[69138 rows x 14 columns]",
      "text/html": "<div>\n<style scoped>\n    .dataframe tbody tr th:only-of-type {\n        vertical-align: middle;\n    }\n\n    .dataframe tbody tr th {\n        vertical-align: top;\n    }\n\n    .dataframe thead th {\n        text-align: right;\n    }\n</style>\n<table border=\"1\" class=\"dataframe\">\n  <thead>\n    <tr style=\"text-align: right;\">\n      <th></th>\n      <th>latitud</th>\n      <th>longitud</th>\n      <th>place_l3</th>\n      <th>property_type</th>\n      <th>property_rooms</th>\n      <th>property_bedrooms</th>\n      <th>property_surface_total</th>\n      <th>property_surface_covered</th>\n      <th>property_price</th>\n      <th>score_sentimientos</th>\n      <th>pileta</th>\n      <th>parrilla</th>\n      <th>balcon</th>\n      <th>sum</th>\n    </tr>\n  </thead>\n  <tbody>\n    <tr>\n      <th>0</th>\n      <td>-34.564800</td>\n      <td>-58.444631</td>\n      <td>0</td>\n      <td>0</td>\n      <td>5.0</td>\n      <td>4.0</td>\n      <td>279.0</td>\n      <td>245.0</td>\n      <td>1000000.0</td>\n      <td>1</td>\n      <td>False</td>\n      <td>False</td>\n      <td>False</td>\n      <td>False</td>\n    </tr>\n    <tr>\n      <th>1</th>\n      <td>-34.591359</td>\n      <td>-58.418809</td>\n      <td>1</td>\n      <td>0</td>\n      <td>2.0</td>\n      <td>1.0</td>\n      <td>42.0</td>\n      <td>42.0</td>\n      <td>89900.0</td>\n      <td>37</td>\n      <td>False</td>\n      <td>False</td>\n      <td>True</td>\n      <td>False</td>\n    </tr>\n    <tr>\n      <th>2</th>\n      <td>-34.602632</td>\n      <td>-58.428399</td>\n      <td>2</td>\n      <td>0</td>\n      <td>2.0</td>\n      <td>1.0</td>\n      <td>46.0</td>\n      <td>42.0</td>\n      <td>119900.0</td>\n      <td>-5</td>\n      <td>False</td>\n      <td>True</td>\n      <td>True</td>\n      <td>True</td>\n    </tr>\n    <tr>\n      <th>3</th>\n      <td>-34.564290</td>\n      <td>-58.439272</td>\n      <td>1</td>\n      <td>0</td>\n      <td>3.0</td>\n      <td>2.0</td>\n      <td>69.0</td>\n      <td>58.0</td>\n      <td>175000.0</td>\n      <td>50</td>\n      <td>False</td>\n      <td>True</td>\n      <td>True</td>\n      <td>True</td>\n    </tr>\n    <tr>\n      <th>4</th>\n      <td>-34.630517</td>\n      <td>-58.377143</td>\n      <td>3</td>\n      <td>0</td>\n      <td>1.0</td>\n      <td>1.0</td>\n      <td>45.0</td>\n      <td>41.0</td>\n      <td>120000.0</td>\n      <td>94</td>\n      <td>True</td>\n      <td>True</td>\n      <td>False</td>\n      <td>True</td>\n    </tr>\n    <tr>\n      <th>...</th>\n      <td>...</td>\n      <td>...</td>\n      <td>...</td>\n      <td>...</td>\n      <td>...</td>\n      <td>...</td>\n      <td>...</td>\n      <td>...</td>\n      <td>...</td>\n      <td>...</td>\n      <td>...</td>\n      <td>...</td>\n      <td>...</td>\n      <td>...</td>\n    </tr>\n    <tr>\n      <th>69133</th>\n      <td>-34.594455</td>\n      <td>-58.380096</td>\n      <td>14</td>\n      <td>0</td>\n      <td>2.0</td>\n      <td>1.0</td>\n      <td>45.0</td>\n      <td>45.0</td>\n      <td>139000.0</td>\n      <td>3</td>\n      <td>False</td>\n      <td>False</td>\n      <td>False</td>\n      <td>False</td>\n    </tr>\n    <tr>\n      <th>69134</th>\n      <td>-34.584074</td>\n      <td>-58.422690</td>\n      <td>1</td>\n      <td>0</td>\n      <td>4.0</td>\n      <td>3.0</td>\n      <td>55.0</td>\n      <td>55.0</td>\n      <td>170000.0</td>\n      <td>11</td>\n      <td>False</td>\n      <td>False</td>\n      <td>False</td>\n      <td>True</td>\n    </tr>\n    <tr>\n      <th>69135</th>\n      <td>-34.615638</td>\n      <td>-58.390416</td>\n      <td>8</td>\n      <td>0</td>\n      <td>3.0</td>\n      <td>2.0</td>\n      <td>97.0</td>\n      <td>97.0</td>\n      <td>134000.0</td>\n      <td>-4</td>\n      <td>False</td>\n      <td>False</td>\n      <td>False</td>\n      <td>False</td>\n    </tr>\n    <tr>\n      <th>69136</th>\n      <td>-34.584958</td>\n      <td>-58.509413</td>\n      <td>15</td>\n      <td>1</td>\n      <td>3.0</td>\n      <td>2.0</td>\n      <td>125.0</td>\n      <td>67.0</td>\n      <td>145000.0</td>\n      <td>12</td>\n      <td>False</td>\n      <td>False</td>\n      <td>False</td>\n      <td>False</td>\n    </tr>\n    <tr>\n      <th>69137</th>\n      <td>-34.625870</td>\n      <td>-58.471979</td>\n      <td>25</td>\n      <td>0</td>\n      <td>3.0</td>\n      <td>2.0</td>\n      <td>93.0</td>\n      <td>87.0</td>\n      <td>144000.0</td>\n      <td>29</td>\n      <td>False</td>\n      <td>False</td>\n      <td>False</td>\n      <td>False</td>\n    </tr>\n  </tbody>\n</table>\n<p>69138 rows × 14 columns</p>\n</div>"
     },
     "execution_count": 43,
     "metadata": {},
     "output_type": "execute_result"
    }
   ],
   "source": [
    "ds_trabajo_train = ds_train.drop(['id','property_title', 'start_date', 'end_date'], axis=1)\n",
    "ds_trabajo_train['place_l3'] = pd.factorize(ds_train['place_l3'])[0]\n",
    "ds_trabajo_train['property_type'] = pd.factorize(ds_train['property_type'])[0]\n",
    "ds_trabajo_train"
   ],
   "metadata": {
    "collapsed": false,
    "pycharm": {
     "name": "#%%\n"
    }
   }
  },
  {
   "cell_type": "code",
   "execution_count": 44,
   "outputs": [
    {
     "data": {
      "text/plain": "         latitud   longitud  place_l3  property_type  property_rooms  \\\n0     -34.589649 -58.434926         0              0             4.0   \n1     -34.598508 -58.443084         1              1             1.0   \n2     -34.582098 -58.448859         0              1             1.0   \n3     -34.569662 -58.487762         2              1             3.0   \n4     -34.598582 -58.376689         3              1             2.0   \n...          ...        ...       ...            ...             ...   \n16127 -34.652357 -58.385489        15              0             5.0   \n16128 -34.653920 -58.410842        44              0             4.0   \n16129 -34.593420 -58.421077         0              1             3.0   \n16130 -34.593404 -58.402309        16              1             2.0   \n16131 -34.603144 -58.428451         8              1             4.0   \n\n       property_bedrooms  property_surface_total  property_surface_covered  \\\n0                    3.0                   140.0                     140.0   \n1                    1.0                    33.0                      30.0   \n2                    1.0                    35.0                      30.0   \n3                    2.0                    80.0                      68.0   \n4                    1.0                    37.0                      37.0   \n...                  ...                     ...                       ...   \n16127                4.0                   223.0                     223.0   \n16128                2.0                   257.0                     130.0   \n16129                2.0                    91.0                      71.0   \n16130                1.0                    45.0                      45.0   \n16131                3.0                    99.0                      70.0   \n\n       property_price  score_sentimientos  pileta  parrilla  balcon    sum  \n0            530000.0                   1   False     False   False  False  \n1             78000.0                  53   False      True    True  False  \n2             87100.0                   2   False     False   False  False  \n3            250000.0                  -4   False     False   False  False  \n4             79000.0                  13   False     False   False   True  \n...               ...                 ...     ...       ...     ...    ...  \n16127        295000.0                   8   False     False   False  False  \n16128        180000.0                  14   False     False    True  False  \n16129        348000.0                  15    True     False    True   True  \n16130        133000.0                  25   False     False   False  False  \n16131        183000.0                  11   False     False   False   True  \n\n[16132 rows x 14 columns]",
      "text/html": "<div>\n<style scoped>\n    .dataframe tbody tr th:only-of-type {\n        vertical-align: middle;\n    }\n\n    .dataframe tbody tr th {\n        vertical-align: top;\n    }\n\n    .dataframe thead th {\n        text-align: right;\n    }\n</style>\n<table border=\"1\" class=\"dataframe\">\n  <thead>\n    <tr style=\"text-align: right;\">\n      <th></th>\n      <th>latitud</th>\n      <th>longitud</th>\n      <th>place_l3</th>\n      <th>property_type</th>\n      <th>property_rooms</th>\n      <th>property_bedrooms</th>\n      <th>property_surface_total</th>\n      <th>property_surface_covered</th>\n      <th>property_price</th>\n      <th>score_sentimientos</th>\n      <th>pileta</th>\n      <th>parrilla</th>\n      <th>balcon</th>\n      <th>sum</th>\n    </tr>\n  </thead>\n  <tbody>\n    <tr>\n      <th>0</th>\n      <td>-34.589649</td>\n      <td>-58.434926</td>\n      <td>0</td>\n      <td>0</td>\n      <td>4.0</td>\n      <td>3.0</td>\n      <td>140.0</td>\n      <td>140.0</td>\n      <td>530000.0</td>\n      <td>1</td>\n      <td>False</td>\n      <td>False</td>\n      <td>False</td>\n      <td>False</td>\n    </tr>\n    <tr>\n      <th>1</th>\n      <td>-34.598508</td>\n      <td>-58.443084</td>\n      <td>1</td>\n      <td>1</td>\n      <td>1.0</td>\n      <td>1.0</td>\n      <td>33.0</td>\n      <td>30.0</td>\n      <td>78000.0</td>\n      <td>53</td>\n      <td>False</td>\n      <td>True</td>\n      <td>True</td>\n      <td>False</td>\n    </tr>\n    <tr>\n      <th>2</th>\n      <td>-34.582098</td>\n      <td>-58.448859</td>\n      <td>0</td>\n      <td>1</td>\n      <td>1.0</td>\n      <td>1.0</td>\n      <td>35.0</td>\n      <td>30.0</td>\n      <td>87100.0</td>\n      <td>2</td>\n      <td>False</td>\n      <td>False</td>\n      <td>False</td>\n      <td>False</td>\n    </tr>\n    <tr>\n      <th>3</th>\n      <td>-34.569662</td>\n      <td>-58.487762</td>\n      <td>2</td>\n      <td>1</td>\n      <td>3.0</td>\n      <td>2.0</td>\n      <td>80.0</td>\n      <td>68.0</td>\n      <td>250000.0</td>\n      <td>-4</td>\n      <td>False</td>\n      <td>False</td>\n      <td>False</td>\n      <td>False</td>\n    </tr>\n    <tr>\n      <th>4</th>\n      <td>-34.598582</td>\n      <td>-58.376689</td>\n      <td>3</td>\n      <td>1</td>\n      <td>2.0</td>\n      <td>1.0</td>\n      <td>37.0</td>\n      <td>37.0</td>\n      <td>79000.0</td>\n      <td>13</td>\n      <td>False</td>\n      <td>False</td>\n      <td>False</td>\n      <td>True</td>\n    </tr>\n    <tr>\n      <th>...</th>\n      <td>...</td>\n      <td>...</td>\n      <td>...</td>\n      <td>...</td>\n      <td>...</td>\n      <td>...</td>\n      <td>...</td>\n      <td>...</td>\n      <td>...</td>\n      <td>...</td>\n      <td>...</td>\n      <td>...</td>\n      <td>...</td>\n      <td>...</td>\n    </tr>\n    <tr>\n      <th>16127</th>\n      <td>-34.652357</td>\n      <td>-58.385489</td>\n      <td>15</td>\n      <td>0</td>\n      <td>5.0</td>\n      <td>4.0</td>\n      <td>223.0</td>\n      <td>223.0</td>\n      <td>295000.0</td>\n      <td>8</td>\n      <td>False</td>\n      <td>False</td>\n      <td>False</td>\n      <td>False</td>\n    </tr>\n    <tr>\n      <th>16128</th>\n      <td>-34.653920</td>\n      <td>-58.410842</td>\n      <td>44</td>\n      <td>0</td>\n      <td>4.0</td>\n      <td>2.0</td>\n      <td>257.0</td>\n      <td>130.0</td>\n      <td>180000.0</td>\n      <td>14</td>\n      <td>False</td>\n      <td>False</td>\n      <td>True</td>\n      <td>False</td>\n    </tr>\n    <tr>\n      <th>16129</th>\n      <td>-34.593420</td>\n      <td>-58.421077</td>\n      <td>0</td>\n      <td>1</td>\n      <td>3.0</td>\n      <td>2.0</td>\n      <td>91.0</td>\n      <td>71.0</td>\n      <td>348000.0</td>\n      <td>15</td>\n      <td>True</td>\n      <td>False</td>\n      <td>True</td>\n      <td>True</td>\n    </tr>\n    <tr>\n      <th>16130</th>\n      <td>-34.593404</td>\n      <td>-58.402309</td>\n      <td>16</td>\n      <td>1</td>\n      <td>2.0</td>\n      <td>1.0</td>\n      <td>45.0</td>\n      <td>45.0</td>\n      <td>133000.0</td>\n      <td>25</td>\n      <td>False</td>\n      <td>False</td>\n      <td>False</td>\n      <td>False</td>\n    </tr>\n    <tr>\n      <th>16131</th>\n      <td>-34.603144</td>\n      <td>-58.428451</td>\n      <td>8</td>\n      <td>1</td>\n      <td>4.0</td>\n      <td>3.0</td>\n      <td>99.0</td>\n      <td>70.0</td>\n      <td>183000.0</td>\n      <td>11</td>\n      <td>False</td>\n      <td>False</td>\n      <td>False</td>\n      <td>True</td>\n    </tr>\n  </tbody>\n</table>\n<p>16132 rows × 14 columns</p>\n</div>"
     },
     "execution_count": 44,
     "metadata": {},
     "output_type": "execute_result"
    }
   ],
   "source": [
    "## Replicamos en test\n",
    "ds_trabajo_test = ds_test.drop(['id','property_title', 'start_date', 'end_date'], axis=1)\n",
    "ds_trabajo_test['place_l3'] = pd.factorize(ds_test['place_l3'])[0]\n",
    "ds_trabajo_test['property_type'] = pd.factorize(ds_test['property_type'])[0]\n",
    "ds_trabajo_test"
   ],
   "metadata": {
    "collapsed": false,
    "pycharm": {
     "name": "#%%\n"
    }
   }
  },
  {
   "cell_type": "code",
   "execution_count": 45,
   "outputs": [
    {
     "data": {
      "text/plain": "((69138, 14), (16132, 14))"
     },
     "execution_count": 45,
     "metadata": {},
     "output_type": "execute_result"
    }
   ],
   "source": [
    "ds_trabajo_train.shape, ds_trabajo_test.shape"
   ],
   "metadata": {
    "collapsed": false,
    "pycharm": {
     "name": "#%%\n"
    }
   }
  },
  {
   "cell_type": "markdown",
   "source": [
    "Sacamos la variable target y creamos nuestros datasets de entrenamiento"
   ],
   "metadata": {
    "collapsed": false,
    "pycharm": {
     "name": "#%% md\n"
    }
   }
  },
  {
   "cell_type": "code",
   "execution_count": 46,
   "outputs": [
    {
     "data": {
      "text/plain": "['latitud',\n 'longitud',\n 'place_l3',\n 'property_type',\n 'property_rooms',\n 'property_bedrooms',\n 'property_surface_total',\n 'property_surface_covered',\n 'score_sentimientos',\n 'pileta',\n 'parrilla',\n 'balcon',\n 'sum']"
     },
     "execution_count": 46,
     "metadata": {},
     "output_type": "execute_result"
    }
   ],
   "source": [
    "columnas_predictoras = ds_trabajo_train.columns.to_list()\n",
    "columnas_predictoras.remove('property_price')\n",
    "columnas_predictoras"
   ],
   "metadata": {
    "collapsed": false,
    "pycharm": {
     "name": "#%%\n"
    }
   }
  },
  {
   "cell_type": "code",
   "execution_count": 47,
   "outputs": [],
   "source": [
    "x_train = ds_trabajo_train.loc[:, columnas_predictoras]\n",
    "x_test = ds_trabajo_test.loc[:, columnas_predictoras]\n",
    "\n",
    "y_train = ds_trabajo_train.property_price\n",
    "y_test = ds_trabajo_test.property_price"
   ],
   "metadata": {
    "collapsed": false,
    "pycharm": {
     "name": "#%%\n"
    }
   }
  },
  {
   "cell_type": "code",
   "execution_count": 48,
   "outputs": [
    {
     "data": {
      "text/plain": "         latitud   longitud  place_l3  property_type  property_rooms  \\\n0     -34.564800 -58.444631         0              0             5.0   \n1     -34.591359 -58.418809         1              0             2.0   \n2     -34.602632 -58.428399         2              0             2.0   \n3     -34.564290 -58.439272         1              0             3.0   \n4     -34.630517 -58.377143         3              0             1.0   \n...          ...        ...       ...            ...             ...   \n69133 -34.594455 -58.380096        14              0             2.0   \n69134 -34.584074 -58.422690         1              0             4.0   \n69135 -34.615638 -58.390416         8              0             3.0   \n69136 -34.584958 -58.509413        15              1             3.0   \n69137 -34.625870 -58.471979        25              0             3.0   \n\n       property_bedrooms  property_surface_total  property_surface_covered  \\\n0                    4.0                   279.0                     245.0   \n1                    1.0                    42.0                      42.0   \n2                    1.0                    46.0                      42.0   \n3                    2.0                    69.0                      58.0   \n4                    1.0                    45.0                      41.0   \n...                  ...                     ...                       ...   \n69133                1.0                    45.0                      45.0   \n69134                3.0                    55.0                      55.0   \n69135                2.0                    97.0                      97.0   \n69136                2.0                   125.0                      67.0   \n69137                2.0                    93.0                      87.0   \n\n       score_sentimientos  pileta  parrilla  balcon    sum  \n0                       1   False     False   False  False  \n1                      37   False     False    True  False  \n2                      -5   False      True    True   True  \n3                      50   False      True    True   True  \n4                      94    True      True   False   True  \n...                   ...     ...       ...     ...    ...  \n69133                   3   False     False   False  False  \n69134                  11   False     False   False   True  \n69135                  -4   False     False   False  False  \n69136                  12   False     False   False  False  \n69137                  29   False     False   False  False  \n\n[69138 rows x 13 columns]",
      "text/html": "<div>\n<style scoped>\n    .dataframe tbody tr th:only-of-type {\n        vertical-align: middle;\n    }\n\n    .dataframe tbody tr th {\n        vertical-align: top;\n    }\n\n    .dataframe thead th {\n        text-align: right;\n    }\n</style>\n<table border=\"1\" class=\"dataframe\">\n  <thead>\n    <tr style=\"text-align: right;\">\n      <th></th>\n      <th>latitud</th>\n      <th>longitud</th>\n      <th>place_l3</th>\n      <th>property_type</th>\n      <th>property_rooms</th>\n      <th>property_bedrooms</th>\n      <th>property_surface_total</th>\n      <th>property_surface_covered</th>\n      <th>score_sentimientos</th>\n      <th>pileta</th>\n      <th>parrilla</th>\n      <th>balcon</th>\n      <th>sum</th>\n    </tr>\n  </thead>\n  <tbody>\n    <tr>\n      <th>0</th>\n      <td>-34.564800</td>\n      <td>-58.444631</td>\n      <td>0</td>\n      <td>0</td>\n      <td>5.0</td>\n      <td>4.0</td>\n      <td>279.0</td>\n      <td>245.0</td>\n      <td>1</td>\n      <td>False</td>\n      <td>False</td>\n      <td>False</td>\n      <td>False</td>\n    </tr>\n    <tr>\n      <th>1</th>\n      <td>-34.591359</td>\n      <td>-58.418809</td>\n      <td>1</td>\n      <td>0</td>\n      <td>2.0</td>\n      <td>1.0</td>\n      <td>42.0</td>\n      <td>42.0</td>\n      <td>37</td>\n      <td>False</td>\n      <td>False</td>\n      <td>True</td>\n      <td>False</td>\n    </tr>\n    <tr>\n      <th>2</th>\n      <td>-34.602632</td>\n      <td>-58.428399</td>\n      <td>2</td>\n      <td>0</td>\n      <td>2.0</td>\n      <td>1.0</td>\n      <td>46.0</td>\n      <td>42.0</td>\n      <td>-5</td>\n      <td>False</td>\n      <td>True</td>\n      <td>True</td>\n      <td>True</td>\n    </tr>\n    <tr>\n      <th>3</th>\n      <td>-34.564290</td>\n      <td>-58.439272</td>\n      <td>1</td>\n      <td>0</td>\n      <td>3.0</td>\n      <td>2.0</td>\n      <td>69.0</td>\n      <td>58.0</td>\n      <td>50</td>\n      <td>False</td>\n      <td>True</td>\n      <td>True</td>\n      <td>True</td>\n    </tr>\n    <tr>\n      <th>4</th>\n      <td>-34.630517</td>\n      <td>-58.377143</td>\n      <td>3</td>\n      <td>0</td>\n      <td>1.0</td>\n      <td>1.0</td>\n      <td>45.0</td>\n      <td>41.0</td>\n      <td>94</td>\n      <td>True</td>\n      <td>True</td>\n      <td>False</td>\n      <td>True</td>\n    </tr>\n    <tr>\n      <th>...</th>\n      <td>...</td>\n      <td>...</td>\n      <td>...</td>\n      <td>...</td>\n      <td>...</td>\n      <td>...</td>\n      <td>...</td>\n      <td>...</td>\n      <td>...</td>\n      <td>...</td>\n      <td>...</td>\n      <td>...</td>\n      <td>...</td>\n    </tr>\n    <tr>\n      <th>69133</th>\n      <td>-34.594455</td>\n      <td>-58.380096</td>\n      <td>14</td>\n      <td>0</td>\n      <td>2.0</td>\n      <td>1.0</td>\n      <td>45.0</td>\n      <td>45.0</td>\n      <td>3</td>\n      <td>False</td>\n      <td>False</td>\n      <td>False</td>\n      <td>False</td>\n    </tr>\n    <tr>\n      <th>69134</th>\n      <td>-34.584074</td>\n      <td>-58.422690</td>\n      <td>1</td>\n      <td>0</td>\n      <td>4.0</td>\n      <td>3.0</td>\n      <td>55.0</td>\n      <td>55.0</td>\n      <td>11</td>\n      <td>False</td>\n      <td>False</td>\n      <td>False</td>\n      <td>True</td>\n    </tr>\n    <tr>\n      <th>69135</th>\n      <td>-34.615638</td>\n      <td>-58.390416</td>\n      <td>8</td>\n      <td>0</td>\n      <td>3.0</td>\n      <td>2.0</td>\n      <td>97.0</td>\n      <td>97.0</td>\n      <td>-4</td>\n      <td>False</td>\n      <td>False</td>\n      <td>False</td>\n      <td>False</td>\n    </tr>\n    <tr>\n      <th>69136</th>\n      <td>-34.584958</td>\n      <td>-58.509413</td>\n      <td>15</td>\n      <td>1</td>\n      <td>3.0</td>\n      <td>2.0</td>\n      <td>125.0</td>\n      <td>67.0</td>\n      <td>12</td>\n      <td>False</td>\n      <td>False</td>\n      <td>False</td>\n      <td>False</td>\n    </tr>\n    <tr>\n      <th>69137</th>\n      <td>-34.625870</td>\n      <td>-58.471979</td>\n      <td>25</td>\n      <td>0</td>\n      <td>3.0</td>\n      <td>2.0</td>\n      <td>93.0</td>\n      <td>87.0</td>\n      <td>29</td>\n      <td>False</td>\n      <td>False</td>\n      <td>False</td>\n      <td>False</td>\n    </tr>\n  </tbody>\n</table>\n<p>69138 rows × 13 columns</p>\n</div>"
     },
     "execution_count": 48,
     "metadata": {},
     "output_type": "execute_result"
    }
   ],
   "source": [
    "x_train"
   ],
   "metadata": {
    "collapsed": false,
    "pycharm": {
     "name": "#%%\n"
    }
   }
  },
  {
   "cell_type": "markdown",
   "source": [
    "#### XGBoost - Regresión"
   ],
   "metadata": {
    "collapsed": false,
    "pycharm": {
     "name": "#%% md\n"
    }
   }
  },
  {
   "cell_type": "markdown",
   "source": [
    "best_xgb_tp1 es el arbol que tiene los mejores hiper parametros y estimaodores obtenidos en el TP1."
   ],
   "metadata": {
    "collapsed": false,
    "pycharm": {
     "name": "#%% md\n"
    }
   }
  },
  {
   "cell_type": "code",
   "execution_count": 49,
   "outputs": [],
   "source": [
    "def regression_metrics(title, real, predicted):\n",
    "    mse = sk.metrics.mean_squared_error(y_true=real, y_pred=predicted)\n",
    "    rmse = sk.metrics.mean_squared_error(y_true=real, y_pred=predicted, squared=False)\n",
    "    r2 = sk.metrics.r2_score(y_true=real, y_pred=predicted)\n",
    "\n",
    "    print(title)\n",
    "    print(f\"El error (mse) es: {mse}\")\n",
    "    print(f\"El error (rmse) es: {rmse}\")\n",
    "    print(f\"El error (r²) es: {r2}\\n\")"
   ],
   "metadata": {
    "collapsed": false,
    "pycharm": {
     "name": "#%%\n"
    }
   }
  },
  {
   "cell_type": "code",
   "execution_count": null,
   "outputs": [],
   "source": [
    "best_xgb_tp1 = load('XGBoost-pca.joblib')"
   ],
   "metadata": {
    "collapsed": false,
    "pycharm": {
     "name": "#%%\n"
    }
   }
  },
  {
   "cell_type": "code",
   "execution_count": null,
   "outputs": [],
   "source": [
    "best_xgb_tp1.fit(x_train_transform, y_train)\n",
    "y_pred = best_xgb_tp1.predict(x_train_transform)\n",
    "y_pred_test = best_xgb_tp1.predict(x_test)"
   ],
   "metadata": {
    "collapsed": false,
    "pycharm": {
     "name": "#%%\n"
    }
   }
  },
  {
   "cell_type": "markdown",
   "source": [
    "##### Metricas obtenidas con el dataset del TP1."
   ],
   "metadata": {
    "collapsed": false,
    "pycharm": {
     "name": "#%% md\n"
    }
   }
  },
  {
   "cell_type": "markdown",
   "source": [
    "Metricas XGBoost optimizado - Train\n",
    "\n",
    "El error (mse) es: 761704416.3937123\n",
    "\n",
    "El error (rmse) es: 27598.993032241455\n",
    "\n",
    "El error (r²) es: 0.9652453545965177\n",
    "\n",
    "---------------------------------------\n",
    "\n",
    "Metricas XGBoost optimizado - Test\n",
    "\n",
    "El error (mse) es: 3287902738.8784523\n",
    "\n",
    "El error (rmse) es: 57340.23664825994\n",
    "\n",
    "El error (r²) es: 0.8477123168506954"
   ],
   "metadata": {
    "collapsed": false,
    "pycharm": {
     "name": "#%% md\n"
    }
   }
  },
  {
   "cell_type": "code",
   "execution_count": null,
   "outputs": [],
   "source": [
    "regression_metrics(\"Metricas XGBoost optimizado - Train\", y_train, y_pred)\n",
    "regression_metrics(\"Metricas XGBoost optimizado - Test\", y_test, y_pred_test)"
   ],
   "metadata": {
    "collapsed": false,
    "pycharm": {
     "name": "#%%\n"
    }
   }
  },
  {
   "cell_type": "markdown",
   "source": [
    "Utilizamos esta pagina como soporte para entender mejor que representa cada metrica de error: \n",
    "\n",
    "https://sitiobigdata.com/2018/08/27/machine-learning-metricas-regresion-mse/"
   ],
   "metadata": {
    "collapsed": false,
    "pycharm": {
     "name": "#%% md\n"
    }
   }
  },
  {
   "cell_type": "markdown",
   "source": [
    "**Train**\n",
    "\n",
    "Notamos como el modelo con el dataset expandido mejora significativamente.\n",
    "\n",
    "Podemos observar un delta de **MSE** de: 432564299. Esto significa que el error se redujo un 400%. Esto es relevante ya que esta metrica nos dice sobre cuan bueno es realmente el modelo entrenado.\n",
    "\n",
    "Luego, para **RMSE** tenemos un delta de: 9456. Esto significa que el error se redujo un 65%.\n",
    "\n",
    "Finalmente para **R2** obtuvimos un delta de: -0,19. Esto significa que el modelo mejoró un 20%, ya que, mientras mas tengamos un valor mas cercano a uno, tenemos un modelo con un error cercano a cero."
   ],
   "metadata": {
    "collapsed": false,
    "pycharm": {
     "name": "#%% md\n"
    }
   }
  },
  {
   "cell_type": "markdown",
   "source": [
    "**Test**\n",
    "\n",
    "Notamos como el modelo con el dataset expandido mejora significativamente.\n",
    "\n",
    "Podemos observar un delta de **MSE** de: -96136560337. Esto significa que el error en test empeoró un 3%. \n",
    "\n",
    "Luego, para **RMSE** tenemos un delta de: -257976,21245748526. Esto significa que el error empeoró un 550%.\n",
    "\n",
    "Finalmente para **R2** obtuvimos un delta de: 0,52. Esto significa que el modelo empeoró un 52%."
   ],
   "metadata": {
    "collapsed": false,
    "pycharm": {
     "name": "#%% md\n"
    }
   }
  },
  {
   "cell_type": "markdown",
   "source": [
    "##### Nuevos Hiperparametros optimizados con el nuevo dataset ampliado."
   ],
   "metadata": {
    "collapsed": false,
    "pycharm": {
     "name": "#%% md\n"
    }
   }
  },
  {
   "cell_type": "code",
   "execution_count": null,
   "outputs": [],
   "source": [
    "from xgboost import XGBRegressor\n",
    "\n",
    "#Cantidad de combinaciones que quiero porbar\n",
    "n = 10\n",
    "\n",
    "params = {\n",
    "    \"max_depth\": [3, 12, 4],\n",
    "    \"learning_rate\": [0.02, 0.03, 0.06],\n",
    "    \"min_child_weight\": [2, 12, 2],\n",
    "    \"n_estimators\": [100, 350],\n",
    "    'alpha': np.linspace(0.03, 0.09, n),\n",
    "}\n",
    "\n",
    "kfold = KFold(n_splits=5)\n",
    "\n",
    "search_regressor = XGBRegressor()\n",
    "\n",
    "search = RandomizedSearchCV(search_regressor, params, cv=5, random_state=9, n_iter=10, verbose=10000)\n",
    "\n",
    "search.fit(x_train_transform, y_train)"
   ],
   "metadata": {
    "collapsed": false,
    "pycharm": {
     "name": "#%%\n"
    }
   }
  },
  {
   "cell_type": "code",
   "execution_count": null,
   "outputs": [],
   "source": [
    "# Mejores Hiperparámetros\n",
    "search.best_params_"
   ],
   "metadata": {
    "collapsed": false,
    "pycharm": {
     "name": "#%%\n"
    }
   }
  },
  {
   "cell_type": "code",
   "execution_count": null,
   "outputs": [],
   "source": [
    "# Mejor Metrica\n",
    "search.best_score_"
   ],
   "metadata": {
    "collapsed": false,
    "pycharm": {
     "name": "#%%\n"
    }
   }
  },
  {
   "cell_type": "code",
   "execution_count": null,
   "outputs": [],
   "source": [
    "best_xgb = search.best_estimator_\n",
    "best_xgb.fit(x_train_transform, y_train)\n",
    "y_pred = best_xgb.predict(x_train_transform)\n",
    "y_pred_test = best_xgb.predict(x_test)"
   ],
   "metadata": {
    "collapsed": false,
    "pycharm": {
     "name": "#%%\n"
    }
   }
  },
  {
   "cell_type": "code",
   "execution_count": null,
   "outputs": [],
   "source": [
    "regression_metrics(\"Metricas XGBoost optimizado - Train\", y_train, y_pred)\n",
    "regression_metrics(\"Metricas XGBoost optimizado - Test\", y_test, y_pred_test)"
   ],
   "metadata": {
    "collapsed": false,
    "pycharm": {
     "name": "#%%\n"
    }
   }
  },
  {
   "cell_type": "markdown",
   "source": [
    "**Train**\n",
    "\n",
    "Notamos como el modelo con el dataset sigue teniendo muy buenos resultados para el dataset de Train pero con una leve baja.\n",
    "\n",
    "Con respecto a las metricas obtenidas con el dataset del TP1, podemos observar un delta de **MSE** de: 617388041. Esto significa que el error, en comparacion con las metricas anteriores se incrementó un 287%.\n",
    "\n",
    "Luego, para **RMSE** tenemos un delta de: 12623. Esto significa que el error se redujo un 3%.\n",
    "\n",
    "Finalmente para **R2** obtuvimos un delta de: -0,02. Esto significa que el modelo empeoró un 2%."
   ],
   "metadata": {
    "collapsed": false,
    "pycharm": {
     "name": "#%% md\n"
    }
   }
  },
  {
   "cell_type": "markdown",
   "source": [
    "**Test**\n",
    "\n",
    "Notamos como el modelo con el dataset expandido y la busqueda de un nuevo arbol con mejores hiper-parametros, resulto en un pequeño detrimento del dataset de train pero mejoró mucho mas el dataset de test.\n",
    "\n",
    "Con respecto a las metricas obtenidas con el dataset del TP1, podemos observar un delta de **MSE** de: 45032742345. Esto significa que el error en test mejoró un 54%. \n",
    "\n",
    "Luego, para **RMSE** tenemos un delta de: 82096. Esto significa que el error mejoró un 73%.\n",
    "\n",
    "Finalmente para **R2** obtuvimos un delta de: -9795260413860356. Esto significa que el modelo mejoró un 405%."
   ],
   "metadata": {
    "collapsed": false,
    "pycharm": {
     "name": "#%% md\n"
    }
   }
  },
  {
   "cell_type": "markdown",
   "source": [
    "----------------------------------------------------\n",
    "\n",
    "Como **conclusion**, notamos que el dataset expandido nos mejora el modelo con el dataset de train un 20% pero para el dataset de test, nos lo empeora un 52%.\n",
    "\n",
    "Cuando hicimos la busqueda de mejores hiper-parametros para el nuevo dataset expandido, logramos balancear estos resultados.\n",
    "\n",
    "Finalmente, haciendo el delta final, el resultado de expandir el dataset nos resulto en una mejora del 18% para el dataset de train y en un 353% de mejora en el dataset de test."
   ],
   "metadata": {
    "collapsed": false,
    "pycharm": {
     "name": "#%% md\n"
    }
   }
  },
  {
   "cell_type": "markdown",
   "source": [
    "### Redes Neuronales"
   ],
   "metadata": {
    "collapsed": false,
    "pycharm": {
     "name": "#%% md\n"
    }
   }
  },
  {
   "cell_type": "markdown",
   "source": [
    "#### Regresión"
   ],
   "metadata": {
    "collapsed": false,
    "pycharm": {
     "name": "#%% md\n"
    }
   }
  },
  {
   "cell_type": "markdown",
   "source": [
    "Predecir el precio de la propiedad y utilizar como métrica de evaluación el error cuadrático medio."
   ],
   "metadata": {
    "collapsed": false,
    "pycharm": {
     "name": "#%% md\n"
    }
   }
  },
  {
   "cell_type": "markdown",
   "source": [
    "Vamos a predecir el precio de la propiedad (dolares) en base a la superifice total y cubierta. Ya que como vimos en el trabajo pasado, eran los atributos que mas se correlacionaban con el precio.\n",
    "\n",
    "(Todas columnas tienen que ser numericas para Redes Neuronales)"
   ],
   "metadata": {
    "collapsed": false,
    "pycharm": {
     "name": "#%% md\n"
    }
   }
  },
  {
   "cell_type": "code",
   "execution_count": 82,
   "outputs": [],
   "source": [
    "def regression_scatter(x, y_true, y_pred):\n",
    "    fig, (ax1, ax2, ax3) = plt.subplots(1, 3, figsize=(15, 5))\n",
    "\n",
    "    fig.suptitle(f\"Precio según {x.name}\")\n",
    "    sns.scatterplot(x=x, y=y_true, ax=ax1)\n",
    "    ax1.set_title(f\"{x.name} vs Precio real\")\n",
    "\n",
    "    sns.scatterplot(x=x, y=y_pred, ax=ax2)\n",
    "    ax1.set_title(f\"{x.name} vs Precio predicho\")\n",
    "\n",
    "    sns.scatterplot(x=x, y=y_true, ax=ax3)\n",
    "    sns.scatterplot(x=x, y=y_pred, ax=ax3)\n",
    "    ax3.set_title(f\"Grafico combinado\");"
   ],
   "metadata": {
    "collapsed": false,
    "pycharm": {
     "name": "#%%\n"
    }
   }
  },
  {
   "cell_type": "code",
   "execution_count": null,
   "outputs": [],
   "source": [
    "def plot_regression(x, y_true, y_pred, title=\"\", xlabel=\"x\", ylabel=\"y\"):\n",
    "    plt.figure()\n",
    "\n",
    "    plt.plot(x, y_true, \"o\", label=\"Valores verdaderos\")\n",
    "    plt.plot(x, y_pred, \"x\", label=\"Valores estimados\")\n",
    "\n",
    "    plt.xlabel(xlabel)\n",
    "    plt.ylabel(ylabel)\n",
    "    plt.title(title)\n",
    "    plt.legend()\n",
    "    plt.show()"
   ],
   "metadata": {
    "collapsed": false,
    "pycharm": {
     "name": "#%%\n"
    }
   }
  },
  {
   "cell_type": "code",
   "execution_count": null,
   "outputs": [],
   "source": [
    "def calcular_metricas_error(title, real, predicted):\n",
    "    mae = mean_absolute_error(real, predicted)\n",
    "    mse = mean_squared_error(real, predicted)\n",
    "    rmse = mean_squared_error(real, predicted, squared=False)\n",
    "    r2 = r2_score(real, predicted)\n",
    "\n",
    "    print(title)\n",
    "    print(f\"Error absoluto medio {mae}\")\n",
    "    print(f\"Error cuadrático medio {mse}\")\n",
    "    print(f\"Raiz del error cuadrático medio {rmse}\")\n",
    "    print(f\"R² {r2}\")"
   ],
   "metadata": {
    "collapsed": false,
    "pycharm": {
     "name": "#%%\n"
    }
   }
  },
  {
   "cell_type": "markdown",
   "source": [
    "Como todas las features que tenemos están en escalas completamente diferentes y no pueden compararse, normalizaremos el dataset"
   ],
   "metadata": {
    "collapsed": false,
    "pycharm": {
     "name": "#%% md\n"
    }
   }
  },
  {
   "cell_type": "code",
   "execution_count": null,
   "outputs": [],
   "source": [
    "sscaler = StandardScaler()\n",
    "x_train_transform = sscaler.fit_transform(pd.DataFrame(x_train))\n",
    "x_test_transform = sscaler.fit_transform(pd.DataFrame(x_test))"
   ],
   "metadata": {
    "collapsed": false,
    "pycharm": {
     "name": "#%%\n"
    }
   }
  },
  {
   "cell_type": "markdown",
   "source": [
    "#### Construcción del modelo"
   ],
   "metadata": {
    "collapsed": false,
    "pycharm": {
     "name": "#%% md\n"
    }
   }
  },
  {
   "cell_type": "markdown",
   "source": [
    "##### Modelo base"
   ],
   "metadata": {
    "collapsed": false,
    "pycharm": {
     "name": "#%% md\n"
    }
   }
  },
  {
   "cell_type": "markdown",
   "source": [
    "Entrenaremos este modelo base con una Cross validation de 10 folds"
   ],
   "metadata": {
    "collapsed": false,
    "pycharm": {
     "name": "#%% md\n"
    }
   }
  },
  {
   "cell_type": "code",
   "execution_count": null,
   "outputs": [],
   "source": [
    "d_in = 13\n",
    "d_out = 1\n",
    "\n",
    "\n",
    "def base_model():\n",
    "    model = keras.Sequential([\n",
    "        keras.layers.Dense(13, input_shape=(d_in,), kernel_initializer='normal', activation='relu'),\n",
    "        keras.layers.Dense(d_out, kernel_initializer='normal')])\n",
    "    model.compile(loss='mean_squared_error', optimizer='adam')\n",
    "    return model"
   ],
   "metadata": {
    "collapsed": false,
    "pycharm": {
     "name": "#%%\n"
    }
   }
  },
  {
   "cell_type": "code",
   "execution_count": null,
   "outputs": [],
   "source": [
    "estimator = KerasRegressor(model=base_model, batch_size=5, epochs=100)\n",
    "kfold = KFold(n_splits=5)\n",
    "results_base = cross_val_score(estimator, x_train_transform, y_train, cv=kfold, scoring='neg_mean_squared_error')"
   ],
   "metadata": {
    "collapsed": false,
    "pycharm": {
     "name": "#%%\n"
    }
   }
  },
  {
   "cell_type": "code",
   "execution_count": null,
   "outputs": [],
   "source": [
    "print(\"Baseline: %.2f (%.2f) MSE\" % (results_base.mean(), results_base.std()))\n",
    "print(\"La raíz del error cuadrático medio para el modelo base es: %.2f\" % np.sqrt(abs(results_base.mean())))"
   ],
   "metadata": {
    "collapsed": false,
    "pycharm": {
     "name": "#%%\n"
    }
   }
  },
  {
   "cell_type": "markdown",
   "source": [
    "Ahora probaremos lo mismo pero en un modelo un poco más grande, agregaremos una capa intermedia. Reduciremos los splits a 5 para reducir un poco el tiempo de ejecución."
   ],
   "metadata": {
    "collapsed": false,
    "pycharm": {
     "name": "#%% md\n"
    }
   }
  },
  {
   "cell_type": "markdown",
   "source": [
    "##### Modelo de 3 capas"
   ],
   "metadata": {
    "collapsed": false,
    "pycharm": {
     "name": "#%% md\n"
    }
   }
  },
  {
   "cell_type": "code",
   "execution_count": null,
   "outputs": [],
   "source": [
    "def larger_model():\n",
    "    model = keras.Sequential([\n",
    "        keras.layers.Dense(13, input_shape=(d_in,), kernel_initializer='normal', activation='relu'),\n",
    "        keras.layers.Dense(6, kernel_initializer='normal', activation='relu'),\n",
    "        keras.layers.Dense(1, kernel_initializer='normal')\n",
    "    ])\n",
    "    model.compile(loss='mean_squared_error', optimizer='adam')\n",
    "    return model"
   ],
   "metadata": {
    "collapsed": false,
    "pycharm": {
     "name": "#%%\n"
    }
   }
  },
  {
   "cell_type": "code",
   "execution_count": null,
   "outputs": [],
   "source": [
    "estimator = KerasRegressor(build_fn=larger_model, batch_size=5, epochs=100)\n",
    "kfold = KFold(n_splits=5)\n",
    "results_larger = cross_val_score(estimator, x_train_transform, y_train, cv=kfold, scoring='neg_mean_squared_error')"
   ],
   "metadata": {
    "collapsed": false,
    "pycharm": {
     "name": "#%%\n"
    }
   }
  },
  {
   "cell_type": "code",
   "execution_count": null,
   "outputs": [],
   "source": [
    "print(\"El MSE %.2f (%.2f)\" % (results_larger.mean(), results_larger.std()))\n",
    "print(f\"La raíz del error cuadrático medio para el modelo profundo es {np.sqrt(abs(results_larger.mean()))}\")"
   ],
   "metadata": {
    "collapsed": false,
    "pycharm": {
     "name": "#%%\n"
    }
   }
  },
  {
   "cell_type": "markdown",
   "source": [
    "Por último, probaremos un tercer modelo con una capa inical más ancha."
   ],
   "metadata": {
    "collapsed": false,
    "pycharm": {
     "name": "#%% md\n"
    }
   }
  },
  {
   "cell_type": "markdown",
   "source": [
    "##### Modelo ancho"
   ],
   "metadata": {
    "collapsed": false,
    "pycharm": {
     "name": "#%% md\n"
    }
   }
  },
  {
   "cell_type": "code",
   "execution_count": null,
   "outputs": [],
   "source": [
    "def wider_model():\n",
    "    model = keras.Sequential([\n",
    "        keras.layers.Dense(26, input_shape=(d_in,), kernel_initializer='normal', activation='relu'),\n",
    "        keras.layers.Dense(1, kernel_initializer='normal')\n",
    "    ])\n",
    "    model.compile(loss='mean_squared_error', optimizer='adam')\n",
    "    return model"
   ],
   "metadata": {
    "collapsed": false,
    "pycharm": {
     "name": "#%%\n"
    }
   }
  },
  {
   "cell_type": "code",
   "execution_count": null,
   "outputs": [],
   "source": [
    "estimator = KerasRegressor(build_fn=wider_model, batch_size=5, epochs=100)\n",
    "kfold = KFold(n_splits=5)\n",
    "results_wider = cross_val_score(estimator, x_train_transform, y_train, cv=kfold, scoring='neg_mean_squared_error')"
   ],
   "metadata": {
    "collapsed": false,
    "pycharm": {
     "name": "#%%\n"
    }
   }
  },
  {
   "cell_type": "code",
   "execution_count": null,
   "outputs": [],
   "source": [
    "print(\"El MSE %.2f (%.2f)\" % (results_wider.mean(), results_wider.std()))\n",
    "print(f\"La raíz del error cuadrático medio para el modelo ancho es {np.sqrt(abs(results_wider.mean()))}\")"
   ],
   "metadata": {
    "collapsed": false,
    "pycharm": {
     "name": "#%%\n"
    }
   }
  },
  {
   "cell_type": "markdown",
   "source": [
    "#### Análisis de métricas"
   ],
   "metadata": {
    "collapsed": false,
    "pycharm": {
     "name": "#%% md\n"
    }
   }
  },
  {
   "cell_type": "code",
   "execution_count": null,
   "outputs": [],
   "source": [
    "print(\"La raíz del error cuadrático medio para el modelo base es: %.2f\" % np.sqrt(abs(results_base.mean())))\n",
    "print(\"La raíz del error cuadrático medio para el modelo profundo es: %.2f\" % np.sqrt(abs(results_larger.mean())))\n",
    "print(f\"La raíz del error cuadrático medio para el modelo ancho es {np.sqrt(abs(results_wider.mean()))}\")"
   ],
   "metadata": {
    "collapsed": false,
    "pycharm": {
     "name": "#%%\n"
    }
   }
  },
  {
   "cell_type": "markdown",
   "source": [
    "Analizaremos un poco más en detalle el modelo profundo que tiene mejor métrica."
   ],
   "metadata": {
    "collapsed": false,
    "pycharm": {
     "name": "#%% md\n"
    }
   }
  },
  {
   "cell_type": "code",
   "execution_count": null,
   "outputs": [],
   "source": [
    "model = larger_model()\n",
    "\n",
    "model.fit(x_train_transform, y_train)"
   ],
   "metadata": {
    "collapsed": false,
    "pycharm": {
     "name": "#%%\n"
    }
   }
  },
  {
   "cell_type": "code",
   "execution_count": null,
   "outputs": [],
   "source": [
    "y_pred = model.predict(x_train_transform)\n",
    "y_pred_test = model.predict(x_test_transform)"
   ],
   "metadata": {
    "collapsed": false,
    "pycharm": {
     "name": "#%%\n"
    }
   }
  },
  {
   "cell_type": "code",
   "execution_count": null,
   "outputs": [],
   "source": [
    "precios_train = pd.concat([y_train, pd.DataFrame(y_pred, columns=['predicted'])], axis=1)\n",
    "precios_test = pd.concat([y_test, pd.DataFrame(y_pred_test, columns=['predicted'])], axis=1)"
   ],
   "metadata": {
    "collapsed": false,
    "pycharm": {
     "name": "#%%\n"
    }
   }
  },
  {
   "cell_type": "code",
   "execution_count": null,
   "outputs": [],
   "source": [
    "fig, (ax1, ax2) = plt.subplots(1, 2, figsize=(20, 5))\n",
    "fig.suptitle(\"Distribución de precios reales y predichos Train\")\n",
    "\n",
    "sns.kdeplot(precios_train['property_price'], ax=ax1)\n",
    "sns.kdeplot(y_pred[:,0], ax=ax2)"
   ],
   "metadata": {
    "collapsed": false,
    "pycharm": {
     "name": "#%%\n"
    }
   }
  },
  {
   "cell_type": "markdown",
   "source": [
    "Podemos ver que la campana real es bastante similar a la predicha tanto en train como en test. La campana predicha es levemente más baja habiendo menos densidad en los precios medios."
   ],
   "metadata": {
    "collapsed": false,
    "pycharm": {
     "name": "#%% md\n"
    }
   }
  },
  {
   "cell_type": "code",
   "execution_count": null,
   "outputs": [],
   "source": [
    "calcular_metricas_error(\"Metricas de train:\", y_train, y_pred)\n",
    "calcular_metricas_error(\"Metricas de test:\", y_test, y_pred_test)"
   ],
   "metadata": {
    "collapsed": false,
    "pycharm": {
     "name": "#%%\n"
    }
   }
  },
  {
   "cell_type": "code",
   "execution_count": null,
   "outputs": [],
   "source": [
    "regression_scatter(ds_train.property_surface_covered, y_train, y_pred[:, 0])\n",
    "regression_scatter(ds_train.property_surface_total, y_train, y_pred[:, 0])\n",
    "regression_scatter(ds_train.latitud, y_train, y_pred[:, 0])\n",
    "regression_scatter(ds_train.longitud, y_train, y_pred[:, 0])"
   ],
   "metadata": {
    "collapsed": false,
    "pycharm": {
     "name": "#%%\n"
    }
   }
  },
  {
   "cell_type": "markdown",
   "source": [
    "#### Clasificación"
   ],
   "metadata": {
    "collapsed": false,
    "pycharm": {
     "name": "#%% md\n"
    }
   }
  },
  {
   "cell_type": "markdown",
   "source": [
    "##### Construcción del target"
   ],
   "metadata": {
    "collapsed": false,
    "pycharm": {
     "name": "#%% md\n"
    }
   }
  },
  {
   "cell_type": "markdown",
   "source": [
    "##### Modelo"
   ],
   "metadata": {
    "collapsed": false,
    "pycharm": {
     "name": "#%% md\n"
    }
   }
  },
  {
   "cell_type": "code",
   "execution_count": null,
   "outputs": [],
   "source": [
    "### DS Expandido:\n",
    "\n",
    "### top3 > % regex -> booleanas\n",
    "### expensas sacadas con regex --> numerico\n",
    "### property_desc_score = tecnica chino -> numerico\n",
    "### serian 5 columnas en total"
   ],
   "metadata": {
    "collapsed": false,
    "pycharm": {
     "name": "#%%\n"
    }
   }
  },
  {
   "cell_type": "markdown",
   "source": [
    "Otro factor interesante que podriamos analizar es a que tipo de vivienda pertenece cada ammenity. Y si donde encontramos una ammenity en particular, encontramos consecuentemente otra. Por ejemplo, una casa con jardin y parrila y/o pileta.\n",
    "De esta manera podriamos tratar de determinar el costo de cada ammenity o como afecta al precio."
   ],
   "metadata": {
    "collapsed": false,
    "pycharm": {
     "name": "#%% md\n"
    }
   }
  },
  {
   "cell_type": "markdown",
   "source": [
    "## Ensambles de modelos"
   ],
   "metadata": {
    "collapsed": false,
    "pycharm": {
     "name": "#%% md\n"
    }
   }
  },
  {
   "cell_type": "markdown",
   "source": [
    "### Ensamble Voting"
   ],
   "metadata": {
    "collapsed": false,
    "pycharm": {
     "name": "#%% md\n"
    }
   }
  },
  {
   "cell_type": "markdown",
   "source": [
    "Un modelo de ensamble es un modelo de machine learning que combina las predicciones de multiples modelos.\n",
    "\n",
    "Un ensamble de tipo Voting puede ser utilizado para problemas de clasificacion o problemas de regresion. En el caso de clasificacion, las predicciones de cada label son sumadas y el label con mayoria de votos es el predicho.\n",
    "\n",
    "Hay dos approaches para la votacion de la mayoria en los problemas de clasificacion.\n",
    "\n",
    "1. Hard Voting = Predice la clase con la mayor cantidad de votos de los modelos.\n",
    "2. Soft Voting = Predice la clase con la mayor suma de probabilidad de los modelos.\n",
    "\n",
    "Nosotros haremos un analisis con los 2 approaches y despues de ver las metricas, nos quedaremos con el que mejor se ajuste a nuestro problema."
   ],
   "metadata": {
    "collapsed": false,
    "pycharm": {
     "name": "#%% md\n"
    }
   }
  },
  {
   "cell_type": "markdown",
   "source": [
    "##### Hard Voting"
   ],
   "metadata": {
    "collapsed": false,
    "pycharm": {
     "name": "#%% md\n"
    }
   }
  },
  {
   "cell_type": "markdown",
   "source": [
    "Para este analisis, vamos a utilizar 5 versiones diferentes del algoritmos de KNN, y cada uno de ellos tendra un numero diferenete de vecinos para hacer las predicciones.\n",
    "\n",
    "La idea es que al combinar los labels de la clase predicha por cada modelo diferente de KNN, hacer que el ensamble pueda obtener una mejor prediccion que cualquier modelo utilizado por separado en promedio."
   ],
   "metadata": {
    "collapsed": false,
    "pycharm": {
     "name": "#%% md\n"
    }
   }
  },
  {
   "cell_type": "code",
   "execution_count": 49,
   "outputs": [],
   "source": [
    "# obtener un ensamble de modelos\n",
    "def get_knn_voting():\n",
    "    # definir las bases del modelo\n",
    "    models = list()\n",
    "    models.append(('knn1', KNeighborsClassifier(n_neighbors=1)))\n",
    "    models.append(('knn3', KNeighborsClassifier(n_neighbors=3)))\n",
    "    models.append(('knn5', KNeighborsClassifier(n_neighbors=5)))\n",
    "    models.append(('knn7', KNeighborsClassifier(n_neighbors=7)))\n",
    "    models.append(('knn9', KNeighborsClassifier(n_neighbors=9)))\n",
    "    # definir el ensamble de voto\n",
    "    ensemble = VotingClassifier(estimators=models, voting='hard')\n",
    "    return ensemble"
   ],
   "metadata": {
    "collapsed": false,
    "pycharm": {
     "name": "#%%\n"
    }
   }
  },
  {
   "cell_type": "code",
   "execution_count": 50,
   "outputs": [],
   "source": [
    "# obtener lista de modelos a evaluar\n",
    "def get_knn_models():\n",
    "    models = dict()\n",
    "    models['knn1'] = KNeighborsClassifier(n_neighbors=1)\n",
    "    models['knn3'] = KNeighborsClassifier(n_neighbors=3)\n",
    "    models['knn5'] = KNeighborsClassifier(n_neighbors=5)\n",
    "    models['knn7'] = KNeighborsClassifier(n_neighbors=7)\n",
    "    models['knn9'] = KNeighborsClassifier(n_neighbors=9)\n",
    "    models['hard_voting'] = get_knn_voting()\n",
    "    return models"
   ],
   "metadata": {
    "collapsed": false,
    "pycharm": {
     "name": "#%%\n"
    }
   }
  },
  {
   "cell_type": "code",
   "execution_count": 51,
   "outputs": [],
   "source": [
    "# evaluar un modelo dado usando cross-validation\n",
    "def evaluate_model(model, X, y):\n",
    "    cv = RepeatedStratifiedKFold(n_splits=10, n_repeats=3, random_state=1)\n",
    "    scores = cross_val_score(model, X, y, scoring='accuracy', cv=cv, n_jobs=-1, error_score='raise')\n",
    "    return scores"
   ],
   "metadata": {
    "collapsed": false,
    "pycharm": {
     "name": "#%%\n"
    }
   }
  },
  {
   "cell_type": "code",
   "execution_count": 53,
   "outputs": [],
   "source": [
    "def process_models(models, X, y):\n",
    "    results, names = list(), list()\n",
    "    for name, model in models.items():\n",
    "        scores = evaluate_model(model, X, y)\n",
    "        results.append(scores)\n",
    "        names.append(name)\n",
    "        print('>%s %.3f (%.3f)' % (name, np.mean(scores), np.std(scores)))\n",
    "    return results, names"
   ],
   "metadata": {
    "collapsed": false,
    "pycharm": {
     "name": "#%%\n"
    }
   }
  },
  {
   "cell_type": "markdown",
   "source": [
    "Evaluamos la performance de los distintos KNN"
   ],
   "metadata": {
    "collapsed": false,
    "pycharm": {
     "name": "#%% md\n"
    }
   }
  },
  {
   "cell_type": "code",
   "execution_count": 58,
   "outputs": [
    {
     "name": "stderr",
     "output_type": "stream",
     "text": [
      "/home/ivanloyarte/anaconda3/lib/python3.9/site-packages/sklearn/model_selection/_split.py:684: UserWarning: The least populated class in y has only 1 members, which is less than n_splits=10.\n",
      "  warnings.warn(\n",
      "/home/ivanloyarte/anaconda3/lib/python3.9/site-packages/sklearn/model_selection/_split.py:684: UserWarning: The least populated class in y has only 1 members, which is less than n_splits=10.\n",
      "  warnings.warn(\n",
      "/home/ivanloyarte/anaconda3/lib/python3.9/site-packages/sklearn/model_selection/_split.py:684: UserWarning: The least populated class in y has only 1 members, which is less than n_splits=10.\n",
      "  warnings.warn(\n"
     ]
    },
    {
     "name": "stdout",
     "output_type": "stream",
     "text": [
      ">knn1 0.172 (0.004)\n"
     ]
    },
    {
     "name": "stderr",
     "output_type": "stream",
     "text": [
      "/home/ivanloyarte/anaconda3/lib/python3.9/site-packages/sklearn/model_selection/_split.py:684: UserWarning: The least populated class in y has only 1 members, which is less than n_splits=10.\n",
      "  warnings.warn(\n",
      "/home/ivanloyarte/anaconda3/lib/python3.9/site-packages/sklearn/model_selection/_split.py:684: UserWarning: The least populated class in y has only 1 members, which is less than n_splits=10.\n",
      "  warnings.warn(\n",
      "/home/ivanloyarte/anaconda3/lib/python3.9/site-packages/sklearn/model_selection/_split.py:684: UserWarning: The least populated class in y has only 1 members, which is less than n_splits=10.\n",
      "  warnings.warn(\n"
     ]
    },
    {
     "name": "stdout",
     "output_type": "stream",
     "text": [
      ">knn3 0.113 (0.003)\n"
     ]
    },
    {
     "name": "stderr",
     "output_type": "stream",
     "text": [
      "/home/ivanloyarte/anaconda3/lib/python3.9/site-packages/sklearn/model_selection/_split.py:684: UserWarning: The least populated class in y has only 1 members, which is less than n_splits=10.\n",
      "  warnings.warn(\n",
      "/home/ivanloyarte/anaconda3/lib/python3.9/site-packages/sklearn/model_selection/_split.py:684: UserWarning: The least populated class in y has only 1 members, which is less than n_splits=10.\n",
      "  warnings.warn(\n",
      "/home/ivanloyarte/anaconda3/lib/python3.9/site-packages/sklearn/model_selection/_split.py:684: UserWarning: The least populated class in y has only 1 members, which is less than n_splits=10.\n",
      "  warnings.warn(\n"
     ]
    },
    {
     "name": "stdout",
     "output_type": "stream",
     "text": [
      ">knn5 0.096 (0.003)\n"
     ]
    },
    {
     "name": "stderr",
     "output_type": "stream",
     "text": [
      "/home/ivanloyarte/anaconda3/lib/python3.9/site-packages/sklearn/model_selection/_split.py:684: UserWarning: The least populated class in y has only 1 members, which is less than n_splits=10.\n",
      "  warnings.warn(\n",
      "/home/ivanloyarte/anaconda3/lib/python3.9/site-packages/sklearn/model_selection/_split.py:684: UserWarning: The least populated class in y has only 1 members, which is less than n_splits=10.\n",
      "  warnings.warn(\n",
      "/home/ivanloyarte/anaconda3/lib/python3.9/site-packages/sklearn/model_selection/_split.py:684: UserWarning: The least populated class in y has only 1 members, which is less than n_splits=10.\n",
      "  warnings.warn(\n"
     ]
    },
    {
     "ename": "KeyboardInterrupt",
     "evalue": "",
     "output_type": "error",
     "traceback": [
      "\u001B[0;31m---------------------------------------------------------------------------\u001B[0m",
      "\u001B[0;31mKeyboardInterrupt\u001B[0m                         Traceback (most recent call last)",
      "Input \u001B[0;32mIn [58]\u001B[0m, in \u001B[0;36m<cell line: 4>\u001B[0;34m()\u001B[0m\n\u001B[1;32m      1\u001B[0m models \u001B[38;5;241m=\u001B[39m get_knn_models()\n\u001B[1;32m      3\u001B[0m \u001B[38;5;66;03m# evaluate the models and store results\u001B[39;00m\n\u001B[0;32m----> 4\u001B[0m results, names \u001B[38;5;241m=\u001B[39m \u001B[43mprocess_models\u001B[49m\u001B[43m(\u001B[49m\u001B[43mmodels\u001B[49m\u001B[43m,\u001B[49m\u001B[43m \u001B[49m\u001B[43mx_train\u001B[49m\u001B[43m,\u001B[49m\u001B[43m \u001B[49m\u001B[43my_train\u001B[49m\u001B[43m)\u001B[49m\n\u001B[1;32m      6\u001B[0m \u001B[38;5;66;03m# plot model performance for comparison\u001B[39;00m\n\u001B[1;32m      7\u001B[0m pyplot\u001B[38;5;241m.\u001B[39mboxplot(results, labels\u001B[38;5;241m=\u001B[39mnames, showmeans\u001B[38;5;241m=\u001B[39m\u001B[38;5;28;01mTrue\u001B[39;00m)\n",
      "Input \u001B[0;32mIn [53]\u001B[0m, in \u001B[0;36mprocess_models\u001B[0;34m(models, X, y)\u001B[0m\n\u001B[1;32m      2\u001B[0m results, names \u001B[38;5;241m=\u001B[39m \u001B[38;5;28mlist\u001B[39m(), \u001B[38;5;28mlist\u001B[39m()\n\u001B[1;32m      3\u001B[0m \u001B[38;5;28;01mfor\u001B[39;00m name, model \u001B[38;5;129;01min\u001B[39;00m models\u001B[38;5;241m.\u001B[39mitems():\n\u001B[0;32m----> 4\u001B[0m     scores \u001B[38;5;241m=\u001B[39m \u001B[43mevaluate_model\u001B[49m\u001B[43m(\u001B[49m\u001B[43mmodel\u001B[49m\u001B[43m,\u001B[49m\u001B[43m \u001B[49m\u001B[43mX\u001B[49m\u001B[43m,\u001B[49m\u001B[43m \u001B[49m\u001B[43my\u001B[49m\u001B[43m)\u001B[49m\n\u001B[1;32m      5\u001B[0m     results\u001B[38;5;241m.\u001B[39mappend(scores)\n\u001B[1;32m      6\u001B[0m     names\u001B[38;5;241m.\u001B[39mappend(name)\n",
      "Input \u001B[0;32mIn [51]\u001B[0m, in \u001B[0;36mevaluate_model\u001B[0;34m(model, X, y)\u001B[0m\n\u001B[1;32m      2\u001B[0m \u001B[38;5;28;01mdef\u001B[39;00m \u001B[38;5;21mevaluate_model\u001B[39m(model, X, y):\n\u001B[1;32m      3\u001B[0m     cv \u001B[38;5;241m=\u001B[39m RepeatedStratifiedKFold(n_splits\u001B[38;5;241m=\u001B[39m\u001B[38;5;241m10\u001B[39m, n_repeats\u001B[38;5;241m=\u001B[39m\u001B[38;5;241m3\u001B[39m, random_state\u001B[38;5;241m=\u001B[39m\u001B[38;5;241m1\u001B[39m)\n\u001B[0;32m----> 4\u001B[0m     scores \u001B[38;5;241m=\u001B[39m \u001B[43mcross_val_score\u001B[49m\u001B[43m(\u001B[49m\u001B[43mmodel\u001B[49m\u001B[43m,\u001B[49m\u001B[43m \u001B[49m\u001B[43mX\u001B[49m\u001B[43m,\u001B[49m\u001B[43m \u001B[49m\u001B[43my\u001B[49m\u001B[43m,\u001B[49m\u001B[43m \u001B[49m\u001B[43mscoring\u001B[49m\u001B[38;5;241;43m=\u001B[39;49m\u001B[38;5;124;43m'\u001B[39;49m\u001B[38;5;124;43maccuracy\u001B[39;49m\u001B[38;5;124;43m'\u001B[39;49m\u001B[43m,\u001B[49m\u001B[43m \u001B[49m\u001B[43mcv\u001B[49m\u001B[38;5;241;43m=\u001B[39;49m\u001B[43mcv\u001B[49m\u001B[43m,\u001B[49m\u001B[43m \u001B[49m\u001B[43mn_jobs\u001B[49m\u001B[38;5;241;43m=\u001B[39;49m\u001B[38;5;241;43m-\u001B[39;49m\u001B[38;5;241;43m1\u001B[39;49m\u001B[43m,\u001B[49m\u001B[43m \u001B[49m\u001B[43merror_score\u001B[49m\u001B[38;5;241;43m=\u001B[39;49m\u001B[38;5;124;43m'\u001B[39;49m\u001B[38;5;124;43mraise\u001B[39;49m\u001B[38;5;124;43m'\u001B[39;49m\u001B[43m)\u001B[49m\n\u001B[1;32m      5\u001B[0m     \u001B[38;5;28;01mreturn\u001B[39;00m scores\n",
      "File \u001B[0;32m~/anaconda3/lib/python3.9/site-packages/sklearn/model_selection/_validation.py:515\u001B[0m, in \u001B[0;36mcross_val_score\u001B[0;34m(estimator, X, y, groups, scoring, cv, n_jobs, verbose, fit_params, pre_dispatch, error_score)\u001B[0m\n\u001B[1;32m    512\u001B[0m \u001B[38;5;66;03m# To ensure multimetric format is not supported\u001B[39;00m\n\u001B[1;32m    513\u001B[0m scorer \u001B[38;5;241m=\u001B[39m check_scoring(estimator, scoring\u001B[38;5;241m=\u001B[39mscoring)\n\u001B[0;32m--> 515\u001B[0m cv_results \u001B[38;5;241m=\u001B[39m \u001B[43mcross_validate\u001B[49m\u001B[43m(\u001B[49m\n\u001B[1;32m    516\u001B[0m \u001B[43m    \u001B[49m\u001B[43mestimator\u001B[49m\u001B[38;5;241;43m=\u001B[39;49m\u001B[43mestimator\u001B[49m\u001B[43m,\u001B[49m\n\u001B[1;32m    517\u001B[0m \u001B[43m    \u001B[49m\u001B[43mX\u001B[49m\u001B[38;5;241;43m=\u001B[39;49m\u001B[43mX\u001B[49m\u001B[43m,\u001B[49m\n\u001B[1;32m    518\u001B[0m \u001B[43m    \u001B[49m\u001B[43my\u001B[49m\u001B[38;5;241;43m=\u001B[39;49m\u001B[43my\u001B[49m\u001B[43m,\u001B[49m\n\u001B[1;32m    519\u001B[0m \u001B[43m    \u001B[49m\u001B[43mgroups\u001B[49m\u001B[38;5;241;43m=\u001B[39;49m\u001B[43mgroups\u001B[49m\u001B[43m,\u001B[49m\n\u001B[1;32m    520\u001B[0m \u001B[43m    \u001B[49m\u001B[43mscoring\u001B[49m\u001B[38;5;241;43m=\u001B[39;49m\u001B[43m{\u001B[49m\u001B[38;5;124;43m\"\u001B[39;49m\u001B[38;5;124;43mscore\u001B[39;49m\u001B[38;5;124;43m\"\u001B[39;49m\u001B[43m:\u001B[49m\u001B[43m \u001B[49m\u001B[43mscorer\u001B[49m\u001B[43m}\u001B[49m\u001B[43m,\u001B[49m\n\u001B[1;32m    521\u001B[0m \u001B[43m    \u001B[49m\u001B[43mcv\u001B[49m\u001B[38;5;241;43m=\u001B[39;49m\u001B[43mcv\u001B[49m\u001B[43m,\u001B[49m\n\u001B[1;32m    522\u001B[0m \u001B[43m    \u001B[49m\u001B[43mn_jobs\u001B[49m\u001B[38;5;241;43m=\u001B[39;49m\u001B[43mn_jobs\u001B[49m\u001B[43m,\u001B[49m\n\u001B[1;32m    523\u001B[0m \u001B[43m    \u001B[49m\u001B[43mverbose\u001B[49m\u001B[38;5;241;43m=\u001B[39;49m\u001B[43mverbose\u001B[49m\u001B[43m,\u001B[49m\n\u001B[1;32m    524\u001B[0m \u001B[43m    \u001B[49m\u001B[43mfit_params\u001B[49m\u001B[38;5;241;43m=\u001B[39;49m\u001B[43mfit_params\u001B[49m\u001B[43m,\u001B[49m\n\u001B[1;32m    525\u001B[0m \u001B[43m    \u001B[49m\u001B[43mpre_dispatch\u001B[49m\u001B[38;5;241;43m=\u001B[39;49m\u001B[43mpre_dispatch\u001B[49m\u001B[43m,\u001B[49m\n\u001B[1;32m    526\u001B[0m \u001B[43m    \u001B[49m\u001B[43merror_score\u001B[49m\u001B[38;5;241;43m=\u001B[39;49m\u001B[43merror_score\u001B[49m\u001B[43m,\u001B[49m\n\u001B[1;32m    527\u001B[0m \u001B[43m\u001B[49m\u001B[43m)\u001B[49m\n\u001B[1;32m    528\u001B[0m \u001B[38;5;28;01mreturn\u001B[39;00m cv_results[\u001B[38;5;124m\"\u001B[39m\u001B[38;5;124mtest_score\u001B[39m\u001B[38;5;124m\"\u001B[39m]\n",
      "File \u001B[0;32m~/anaconda3/lib/python3.9/site-packages/sklearn/model_selection/_validation.py:266\u001B[0m, in \u001B[0;36mcross_validate\u001B[0;34m(estimator, X, y, groups, scoring, cv, n_jobs, verbose, fit_params, pre_dispatch, return_train_score, return_estimator, error_score)\u001B[0m\n\u001B[1;32m    263\u001B[0m \u001B[38;5;66;03m# We clone the estimator to make sure that all the folds are\u001B[39;00m\n\u001B[1;32m    264\u001B[0m \u001B[38;5;66;03m# independent, and that it is pickle-able.\u001B[39;00m\n\u001B[1;32m    265\u001B[0m parallel \u001B[38;5;241m=\u001B[39m Parallel(n_jobs\u001B[38;5;241m=\u001B[39mn_jobs, verbose\u001B[38;5;241m=\u001B[39mverbose, pre_dispatch\u001B[38;5;241m=\u001B[39mpre_dispatch)\n\u001B[0;32m--> 266\u001B[0m results \u001B[38;5;241m=\u001B[39m \u001B[43mparallel\u001B[49m\u001B[43m(\u001B[49m\n\u001B[1;32m    267\u001B[0m \u001B[43m    \u001B[49m\u001B[43mdelayed\u001B[49m\u001B[43m(\u001B[49m\u001B[43m_fit_and_score\u001B[49m\u001B[43m)\u001B[49m\u001B[43m(\u001B[49m\n\u001B[1;32m    268\u001B[0m \u001B[43m        \u001B[49m\u001B[43mclone\u001B[49m\u001B[43m(\u001B[49m\u001B[43mestimator\u001B[49m\u001B[43m)\u001B[49m\u001B[43m,\u001B[49m\n\u001B[1;32m    269\u001B[0m \u001B[43m        \u001B[49m\u001B[43mX\u001B[49m\u001B[43m,\u001B[49m\n\u001B[1;32m    270\u001B[0m \u001B[43m        \u001B[49m\u001B[43my\u001B[49m\u001B[43m,\u001B[49m\n\u001B[1;32m    271\u001B[0m \u001B[43m        \u001B[49m\u001B[43mscorers\u001B[49m\u001B[43m,\u001B[49m\n\u001B[1;32m    272\u001B[0m \u001B[43m        \u001B[49m\u001B[43mtrain\u001B[49m\u001B[43m,\u001B[49m\n\u001B[1;32m    273\u001B[0m \u001B[43m        \u001B[49m\u001B[43mtest\u001B[49m\u001B[43m,\u001B[49m\n\u001B[1;32m    274\u001B[0m \u001B[43m        \u001B[49m\u001B[43mverbose\u001B[49m\u001B[43m,\u001B[49m\n\u001B[1;32m    275\u001B[0m \u001B[43m        \u001B[49m\u001B[38;5;28;43;01mNone\u001B[39;49;00m\u001B[43m,\u001B[49m\n\u001B[1;32m    276\u001B[0m \u001B[43m        \u001B[49m\u001B[43mfit_params\u001B[49m\u001B[43m,\u001B[49m\n\u001B[1;32m    277\u001B[0m \u001B[43m        \u001B[49m\u001B[43mreturn_train_score\u001B[49m\u001B[38;5;241;43m=\u001B[39;49m\u001B[43mreturn_train_score\u001B[49m\u001B[43m,\u001B[49m\n\u001B[1;32m    278\u001B[0m \u001B[43m        \u001B[49m\u001B[43mreturn_times\u001B[49m\u001B[38;5;241;43m=\u001B[39;49m\u001B[38;5;28;43;01mTrue\u001B[39;49;00m\u001B[43m,\u001B[49m\n\u001B[1;32m    279\u001B[0m \u001B[43m        \u001B[49m\u001B[43mreturn_estimator\u001B[49m\u001B[38;5;241;43m=\u001B[39;49m\u001B[43mreturn_estimator\u001B[49m\u001B[43m,\u001B[49m\n\u001B[1;32m    280\u001B[0m \u001B[43m        \u001B[49m\u001B[43merror_score\u001B[49m\u001B[38;5;241;43m=\u001B[39;49m\u001B[43merror_score\u001B[49m\u001B[43m,\u001B[49m\n\u001B[1;32m    281\u001B[0m \u001B[43m    \u001B[49m\u001B[43m)\u001B[49m\n\u001B[1;32m    282\u001B[0m \u001B[43m    \u001B[49m\u001B[38;5;28;43;01mfor\u001B[39;49;00m\u001B[43m \u001B[49m\u001B[43mtrain\u001B[49m\u001B[43m,\u001B[49m\u001B[43m \u001B[49m\u001B[43mtest\u001B[49m\u001B[43m \u001B[49m\u001B[38;5;129;43;01min\u001B[39;49;00m\u001B[43m \u001B[49m\u001B[43mcv\u001B[49m\u001B[38;5;241;43m.\u001B[39;49m\u001B[43msplit\u001B[49m\u001B[43m(\u001B[49m\u001B[43mX\u001B[49m\u001B[43m,\u001B[49m\u001B[43m \u001B[49m\u001B[43my\u001B[49m\u001B[43m,\u001B[49m\u001B[43m \u001B[49m\u001B[43mgroups\u001B[49m\u001B[43m)\u001B[49m\n\u001B[1;32m    283\u001B[0m \u001B[43m\u001B[49m\u001B[43m)\u001B[49m\n\u001B[1;32m    285\u001B[0m _warn_or_raise_about_fit_failures(results, error_score)\n\u001B[1;32m    287\u001B[0m \u001B[38;5;66;03m# For callabe scoring, the return type is only know after calling. If the\u001B[39;00m\n\u001B[1;32m    288\u001B[0m \u001B[38;5;66;03m# return type is a dictionary, the error scores can now be inserted with\u001B[39;00m\n\u001B[1;32m    289\u001B[0m \u001B[38;5;66;03m# the correct key.\u001B[39;00m\n",
      "File \u001B[0;32m~/anaconda3/lib/python3.9/site-packages/joblib/parallel.py:1056\u001B[0m, in \u001B[0;36mParallel.__call__\u001B[0;34m(self, iterable)\u001B[0m\n\u001B[1;32m   1053\u001B[0m     \u001B[38;5;28mself\u001B[39m\u001B[38;5;241m.\u001B[39m_iterating \u001B[38;5;241m=\u001B[39m \u001B[38;5;28;01mFalse\u001B[39;00m\n\u001B[1;32m   1055\u001B[0m \u001B[38;5;28;01mwith\u001B[39;00m \u001B[38;5;28mself\u001B[39m\u001B[38;5;241m.\u001B[39m_backend\u001B[38;5;241m.\u001B[39mretrieval_context():\n\u001B[0;32m-> 1056\u001B[0m     \u001B[38;5;28;43mself\u001B[39;49m\u001B[38;5;241;43m.\u001B[39;49m\u001B[43mretrieve\u001B[49m\u001B[43m(\u001B[49m\u001B[43m)\u001B[49m\n\u001B[1;32m   1057\u001B[0m \u001B[38;5;66;03m# Make sure that we get a last message telling us we are done\u001B[39;00m\n\u001B[1;32m   1058\u001B[0m elapsed_time \u001B[38;5;241m=\u001B[39m time\u001B[38;5;241m.\u001B[39mtime() \u001B[38;5;241m-\u001B[39m \u001B[38;5;28mself\u001B[39m\u001B[38;5;241m.\u001B[39m_start_time\n",
      "File \u001B[0;32m~/anaconda3/lib/python3.9/site-packages/joblib/parallel.py:935\u001B[0m, in \u001B[0;36mParallel.retrieve\u001B[0;34m(self)\u001B[0m\n\u001B[1;32m    933\u001B[0m \u001B[38;5;28;01mtry\u001B[39;00m:\n\u001B[1;32m    934\u001B[0m     \u001B[38;5;28;01mif\u001B[39;00m \u001B[38;5;28mgetattr\u001B[39m(\u001B[38;5;28mself\u001B[39m\u001B[38;5;241m.\u001B[39m_backend, \u001B[38;5;124m'\u001B[39m\u001B[38;5;124msupports_timeout\u001B[39m\u001B[38;5;124m'\u001B[39m, \u001B[38;5;28;01mFalse\u001B[39;00m):\n\u001B[0;32m--> 935\u001B[0m         \u001B[38;5;28mself\u001B[39m\u001B[38;5;241m.\u001B[39m_output\u001B[38;5;241m.\u001B[39mextend(\u001B[43mjob\u001B[49m\u001B[38;5;241;43m.\u001B[39;49m\u001B[43mget\u001B[49m\u001B[43m(\u001B[49m\u001B[43mtimeout\u001B[49m\u001B[38;5;241;43m=\u001B[39;49m\u001B[38;5;28;43mself\u001B[39;49m\u001B[38;5;241;43m.\u001B[39;49m\u001B[43mtimeout\u001B[49m\u001B[43m)\u001B[49m)\n\u001B[1;32m    936\u001B[0m     \u001B[38;5;28;01melse\u001B[39;00m:\n\u001B[1;32m    937\u001B[0m         \u001B[38;5;28mself\u001B[39m\u001B[38;5;241m.\u001B[39m_output\u001B[38;5;241m.\u001B[39mextend(job\u001B[38;5;241m.\u001B[39mget())\n",
      "File \u001B[0;32m~/anaconda3/lib/python3.9/site-packages/joblib/_parallel_backends.py:542\u001B[0m, in \u001B[0;36mLokyBackend.wrap_future_result\u001B[0;34m(future, timeout)\u001B[0m\n\u001B[1;32m    539\u001B[0m \u001B[38;5;124;03m\"\"\"Wrapper for Future.result to implement the same behaviour as\u001B[39;00m\n\u001B[1;32m    540\u001B[0m \u001B[38;5;124;03mAsyncResults.get from multiprocessing.\"\"\"\u001B[39;00m\n\u001B[1;32m    541\u001B[0m \u001B[38;5;28;01mtry\u001B[39;00m:\n\u001B[0;32m--> 542\u001B[0m     \u001B[38;5;28;01mreturn\u001B[39;00m \u001B[43mfuture\u001B[49m\u001B[38;5;241;43m.\u001B[39;49m\u001B[43mresult\u001B[49m\u001B[43m(\u001B[49m\u001B[43mtimeout\u001B[49m\u001B[38;5;241;43m=\u001B[39;49m\u001B[43mtimeout\u001B[49m\u001B[43m)\u001B[49m\n\u001B[1;32m    543\u001B[0m \u001B[38;5;28;01mexcept\u001B[39;00m CfTimeoutError \u001B[38;5;28;01mas\u001B[39;00m e:\n\u001B[1;32m    544\u001B[0m     \u001B[38;5;28;01mraise\u001B[39;00m \u001B[38;5;167;01mTimeoutError\u001B[39;00m \u001B[38;5;28;01mfrom\u001B[39;00m \u001B[38;5;21;01me\u001B[39;00m\n",
      "File \u001B[0;32m~/anaconda3/lib/python3.9/concurrent/futures/_base.py:441\u001B[0m, in \u001B[0;36mFuture.result\u001B[0;34m(self, timeout)\u001B[0m\n\u001B[1;32m    438\u001B[0m \u001B[38;5;28;01melif\u001B[39;00m \u001B[38;5;28mself\u001B[39m\u001B[38;5;241m.\u001B[39m_state \u001B[38;5;241m==\u001B[39m FINISHED:\n\u001B[1;32m    439\u001B[0m     \u001B[38;5;28;01mreturn\u001B[39;00m \u001B[38;5;28mself\u001B[39m\u001B[38;5;241m.\u001B[39m__get_result()\n\u001B[0;32m--> 441\u001B[0m \u001B[38;5;28;43mself\u001B[39;49m\u001B[38;5;241;43m.\u001B[39;49m\u001B[43m_condition\u001B[49m\u001B[38;5;241;43m.\u001B[39;49m\u001B[43mwait\u001B[49m\u001B[43m(\u001B[49m\u001B[43mtimeout\u001B[49m\u001B[43m)\u001B[49m\n\u001B[1;32m    443\u001B[0m \u001B[38;5;28;01mif\u001B[39;00m \u001B[38;5;28mself\u001B[39m\u001B[38;5;241m.\u001B[39m_state \u001B[38;5;129;01min\u001B[39;00m [CANCELLED, CANCELLED_AND_NOTIFIED]:\n\u001B[1;32m    444\u001B[0m     \u001B[38;5;28;01mraise\u001B[39;00m CancelledError()\n",
      "File \u001B[0;32m~/anaconda3/lib/python3.9/threading.py:312\u001B[0m, in \u001B[0;36mCondition.wait\u001B[0;34m(self, timeout)\u001B[0m\n\u001B[1;32m    310\u001B[0m \u001B[38;5;28;01mtry\u001B[39;00m:    \u001B[38;5;66;03m# restore state no matter what (e.g., KeyboardInterrupt)\u001B[39;00m\n\u001B[1;32m    311\u001B[0m     \u001B[38;5;28;01mif\u001B[39;00m timeout \u001B[38;5;129;01mis\u001B[39;00m \u001B[38;5;28;01mNone\u001B[39;00m:\n\u001B[0;32m--> 312\u001B[0m         \u001B[43mwaiter\u001B[49m\u001B[38;5;241;43m.\u001B[39;49m\u001B[43macquire\u001B[49m\u001B[43m(\u001B[49m\u001B[43m)\u001B[49m\n\u001B[1;32m    313\u001B[0m         gotit \u001B[38;5;241m=\u001B[39m \u001B[38;5;28;01mTrue\u001B[39;00m\n\u001B[1;32m    314\u001B[0m     \u001B[38;5;28;01melse\u001B[39;00m:\n",
      "\u001B[0;31mKeyboardInterrupt\u001B[0m: "
     ]
    }
   ],
   "source": [
    "models = get_knn_models()\n",
    "\n",
    "# evaluate the models and store results\n",
    "results, names = process_models(models, x_train, y_train)\n",
    "\n",
    "# plot model performance for comparison\n",
    "pyplot.boxplot(results, labels=names, showmeans=True)\n",
    "pyplot.show()"
   ],
   "metadata": {
    "collapsed": false,
    "pycharm": {
     "name": "#%%\n"
    }
   }
  },
  {
   "cell_type": "code",
   "execution_count": null,
   "outputs": [],
   "source": [
    "# define the base models\n",
    "def set_knn_models(models):\n",
    "    models.append(('knn1', KNeighborsClassifier(n_neighbors=1)))\n",
    "    models.append(('knn3', KNeighborsClassifier(n_neighbors=3)))\n",
    "    models.append(('knn5', KNeighborsClassifier(n_neighbors=5)))\n",
    "    models.append(('knn7', KNeighborsClassifier(n_neighbors=7)))\n",
    "    models.append(('knn9', KNeighborsClassifier(n_neighbors=9)))\n",
    "    return models[:]\n"
   ],
   "metadata": {
    "collapsed": false,
    "pycharm": {
     "name": "#%%\n"
    }
   }
  },
  {
   "cell_type": "code",
   "execution_count": null,
   "outputs": [],
   "source": [
    "# Si elegimos hard voting\n",
    "\n",
    "# make a prediction with a hard voting ensemble\n",
    "\n",
    "k_models = list()\n",
    "\n",
    "knn_models = set_knn_models(k_models)\n",
    "\n",
    "# define the hard voting ensemble\n",
    "ensemble = VotingClassifier(estimators=knn_models, voting='hard')\n",
    "\n",
    "# fit the model on all available data\n",
    "ensemble.fit(x_train, y_train)\n",
    "\n",
    "# make a prediction for one example\n",
    "pred = ensemble.predict(x_test)\n",
    "accuracy_score(y_test, pred)"
   ],
   "metadata": {
    "collapsed": false,
    "pycharm": {
     "name": "#%%\n"
    }
   }
  },
  {
   "cell_type": "markdown",
   "source": [
    "##### Soft Voting"
   ],
   "metadata": {
    "collapsed": false,
    "pycharm": {
     "name": "#%% md\n"
    }
   }
  },
  {
   "cell_type": "code",
   "execution_count": 54,
   "outputs": [],
   "source": [
    "# define the base models\n",
    "def set_svm_models(models):\n",
    "    models.append(('svm1', SVC(probability=True, kernel='poly', degree=1)))\n",
    "    models.append(('svm2', SVC(probability=True, kernel='poly', degree=2)))\n",
    "    models.append(('svm3', SVC(probability=True, kernel='poly', degree=3)))\n",
    "    models.append(('svm4', SVC(probability=True, kernel='poly', degree=4)))\n",
    "    models.append(('svm5', SVC(probability=True, kernel='poly', degree=5)))\n",
    "    return models[:]"
   ],
   "metadata": {
    "collapsed": false,
    "pycharm": {
     "name": "#%%\n"
    }
   }
  },
  {
   "cell_type": "code",
   "execution_count": 55,
   "outputs": [],
   "source": [
    "# get a voting ensemble of models\n",
    "def get_svm_voting():\n",
    "    # define the base models\n",
    "    models = list()\n",
    "    models.append(('svm1', SVC(probability=True, kernel='poly', degree=1)))\n",
    "    models.append(('svm2', SVC(probability=True, kernel='poly', degree=2)))\n",
    "    models.append(('svm3', SVC(probability=True, kernel='poly', degree=3)))\n",
    "    models.append(('svm4', SVC(probability=True, kernel='poly', degree=4)))\n",
    "    models.append(('svm5', SVC(probability=True, kernel='poly', degree=5)))\n",
    "    # define the voting ensemble\n",
    "    ensemble = VotingClassifier(estimators=models, voting='soft')\n",
    "    return ensemble"
   ],
   "metadata": {
    "collapsed": false,
    "pycharm": {
     "name": "#%%\n"
    }
   }
  },
  {
   "cell_type": "code",
   "execution_count": 56,
   "outputs": [],
   "source": [
    "# get a list of models to evaluate\n",
    "def get_svm_models():\n",
    "    models = dict()\n",
    "    models['svm1'] = SVC(probability=True, kernel='poly', degree=1)\n",
    "    models['svm2'] = SVC(probability=True, kernel='poly', degree=2)\n",
    "    models['svm3'] = SVC(probability=True, kernel='poly', degree=3)\n",
    "    models['svm4'] = SVC(probability=True, kernel='poly', degree=4)\n",
    "    models['svm5'] = SVC(probability=True, kernel='poly', degree=5)\n",
    "    models['soft_voting'] = get_svm_voting()\n",
    "    return models"
   ],
   "metadata": {
    "collapsed": false,
    "pycharm": {
     "name": "#%%\n"
    }
   }
  },
  {
   "cell_type": "code",
   "execution_count": 57,
   "outputs": [
    {
     "name": "stdout",
     "output_type": "stream",
     "text": [
      ">svm1 0.855 (0.035)\n",
      ">svm2 0.859 (0.034)\n",
      ">svm3 0.890 (0.035)\n",
      ">svm4 0.808 (0.037)\n",
      ">svm5 0.850 (0.037)\n",
      ">soft_voting 0.923 (0.027)\n"
     ]
    },
    {
     "data": {
      "text/plain": "<Figure size 432x288 with 1 Axes>",
      "image/png": "[encoded data removed]"
     },
     "metadata": {},
     "output_type": "display_data"
    }
   ],
   "source": [
    "# compare soft voting ensemble to standalone classifiers\n",
    "# get the models to evaluate\n",
    "svm_models = get_svm_models()\n",
    "    \n",
    "# evaluate the models and store results\n",
    "results, names = process_models(svm_models, x_train, y_train)\n",
    "\n",
    "# plot model performance for comparison\n",
    "pyplot.boxplot(results, labels=names, showmeans=True)\n",
    "pyplot.show()"
   ],
   "metadata": {
    "collapsed": false,
    "pycharm": {
     "name": "#%%\n"
    }
   }
  },
  {
   "cell_type": "code",
   "execution_count": null,
   "outputs": [],
   "source": [
    "# make a prediction with a soft voting ensemble\n",
    "from sklearn.datasets import make_classification\n",
    "from sklearn.ensemble import VotingClassifier\n",
    "from sklearn.svm import SVC\n",
    "\n",
    "# define dataset\n",
    "X, y = make_classification(n_samples=1000, n_features=20, n_informative=15, n_redundant=5, random_state=42)\n",
    "\n",
    "models = list()\n",
    "\n",
    "# define the base models\n",
    "svm_models = set_svm_models(models)\n",
    "\n",
    "# define the soft voting ensemble\n",
    "ensemble = VotingClassifier(estimators=svm_models, voting='soft')\n",
    "\n",
    "# fit the model on all available data\n",
    "ensemble.fit(x_train, y_train)\n",
    "\n",
    "# make a prediction for one example\n",
    "pred = ensemble.predict(x_test)\n",
    "accuracy_score(y_test, pred)"
   ],
   "metadata": {
    "collapsed": false,
    "pycharm": {
     "name": "#%%\n"
    }
   }
  },
  {
   "cell_type": "markdown",
   "source": [
    "Despues de hacer los respectivos analisis, notamos que el approach de Vorting Soft resulto ser mas efectivo en accuracy que el Hard. **Soft = 0,82** VS **Hard = 0.79** de accuraccy. Nos quedaremos con el Soft."
   ],
   "metadata": {
    "collapsed": false,
    "pycharm": {
     "name": "#%% md\n"
    }
   }
  },
  {
   "cell_type": "markdown",
   "source": [
    "### Ensamble Stacking"
   ],
   "metadata": {
    "collapsed": false,
    "pycharm": {
     "name": "#%% md\n"
    }
   }
  },
  {
   "cell_type": "markdown",
   "source": [
    "Vamos a utilizar KNN, SV, Random Forest y Regresion Lineal.\n",
    "\n",
    "Tambien vamos a definir un regresor de Stacking del modulo de Scikit Learn’s, seteando los estimadores base como los modelos base y como estimador finaluna regresion lineal con 5 cross folds."
   ],
   "metadata": {
    "collapsed": false,
    "pycharm": {
     "name": "#%% md\n"
    }
   }
  },
  {
   "cell_type": "code",
   "execution_count": 50,
   "outputs": [],
   "source": [
    "base_models = [\n",
    "    ('KNN', KNeighborsRegressor()),\n",
    "    ('SVR',SVR()),\n",
    "    ('Random Forest',RandomForestRegressor()),\n",
    "    ('Linear Regression',LinearRegression()),\n",
    "    ]\n",
    "stacked = StackingRegressor(\n",
    "    estimators = base_models,\n",
    "    final_estimator = LinearRegression(),\n",
    "    cv = 5)"
   ],
   "metadata": {
    "collapsed": false,
    "pycharm": {
     "name": "#%%\n"
    }
   }
  },
  {
   "cell_type": "markdown",
   "source": [
    "Luego, vamos a fittear los modelos base y predecir la data de test que ya habiamos previamente separado en train (80%) y test (20%) para asi poder comparar los resultado con el ensamble regresor."
   ],
   "metadata": {
    "collapsed": false,
    "pycharm": {
     "name": "#%% md\n"
    }
   }
  },
  {
   "cell_type": "code",
   "execution_count": 51,
   "outputs": [],
   "source": [
    "# Entrenamos cada modelo con una validación cruzada\n",
    "def evaluate_model(model, x, y):\n",
    "    cv = KFold(n_splits=5)\n",
    "    scores = cross_val_score(model, x, y, scoring='r2', cv=cv, verbose=1, n_jobs=2, error_score='raise')\n",
    "    return scores"
   ],
   "metadata": {
    "collapsed": false,
    "pycharm": {
     "name": "#%%\n"
    }
   }
  },
  {
   "cell_type": "markdown",
   "source": [
    "Calculamos los puntajes en validación cruzada los modelos"
   ],
   "metadata": {
    "collapsed": false,
    "pycharm": {
     "name": "#%% md\n"
    }
   }
  },
  {
   "cell_type": "code",
   "execution_count": 52,
   "outputs": [
    {
     "name": "stdout",
     "output_type": "stream",
     "text": [
      "-------------- KNN --------------\n"
     ]
    },
    {
     "name": "stderr",
     "output_type": "stream",
     "text": [
      "[Parallel(n_jobs=2)]: Using backend LokyBackend with 2 concurrent workers.\n",
      "[Parallel(n_jobs=2)]: Done   5 out of   5 | elapsed:    2.6s finished\n",
      "[Parallel(n_jobs=2)]: Using backend LokyBackend with 2 concurrent workers.\n"
     ]
    },
    {
     "name": "stdout",
     "output_type": "stream",
     "text": [
      "Computation Time: 2.778773069381714\n",
      "----------------------------------\n",
      "\n",
      "-------------- SVR --------------\n"
     ]
    },
    {
     "name": "stderr",
     "output_type": "stream",
     "text": [
      "[Parallel(n_jobs=2)]: Done   5 out of   5 | elapsed: 11.1min finished\n",
      "[Parallel(n_jobs=2)]: Using backend LokyBackend with 2 concurrent workers.\n"
     ]
    },
    {
     "name": "stdout",
     "output_type": "stream",
     "text": [
      "Computation Time: 665.5892972946167\n",
      "----------------------------------\n",
      "\n",
      "-------------- Random Forest --------------\n"
     ]
    },
    {
     "name": "stderr",
     "output_type": "stream",
     "text": [
      "[Parallel(n_jobs=2)]: Done   5 out of   5 | elapsed:  1.1min finished\n",
      "[Parallel(n_jobs=2)]: Using backend LokyBackend with 2 concurrent workers.\n"
     ]
    },
    {
     "name": "stdout",
     "output_type": "stream",
     "text": [
      "Computation Time: 68.72992610931396\n",
      "----------------------------------\n",
      "\n",
      "-------------- Linear Regression --------------\n"
     ]
    },
    {
     "name": "stderr",
     "output_type": "stream",
     "text": [
      "[Parallel(n_jobs=2)]: Done   5 out of   5 | elapsed:    0.2s finished\n",
      "[Parallel(n_jobs=2)]: Using backend LokyBackend with 2 concurrent workers.\n"
     ]
    },
    {
     "name": "stdout",
     "output_type": "stream",
     "text": [
      "Computation Time: 0.3449859619140625\n",
      "----------------------------------\n",
      "\n",
      "-------Stacked Ensemble-------\n"
     ]
    },
    {
     "name": "stderr",
     "output_type": "stream",
     "text": [
      "/home/ivanloyarte/anaconda3/lib/python3.9/site-packages/joblib/externals/loky/process_executor.py:702: UserWarning: A worker stopped while some jobs were given to the executor. This can be caused by a too short worker timeout or by a memory leak.\n",
      "  warnings.warn(\n"
     ]
    },
    {
     "name": "stdout",
     "output_type": "stream",
     "text": [
      "Computation Time: 3091.487542629242\n",
      "----------------------------------\n"
     ]
    },
    {
     "name": "stderr",
     "output_type": "stream",
     "text": [
      "[Parallel(n_jobs=2)]: Done   5 out of   5 | elapsed: 51.5min finished\n"
     ]
    }
   ],
   "source": [
    "import time\n",
    "from collections import defaultdict\n",
    "\n",
    "model_scores = defaultdict()\n",
    "\n",
    "for name, model in base_models:\n",
    "    print(\"-------------- {} --------------\".format(name))\n",
    "    start_time = time.time()\n",
    "    model_scores[name] = evaluate_model(model, x_train, y_train)\n",
    "    end_time = time.time()\n",
    "\n",
    "    print(\"Computation Time: {}\".format(end_time - start_time))\n",
    "    print(\"----------------------------------\\n\")\n",
    "\n",
    "print(\"-------Stacked Ensemble-------\")\n",
    "start_time = time.time()\n",
    "model_scores['Stacking'] = evaluate_model(stacked,x_train, y_train)\n",
    "end_time = time.time()\n",
    "print(\"Computation Time: {}\".format(end_time - start_time))\n",
    "print(\"----------------------------------\")"
   ],
   "metadata": {
    "collapsed": false,
    "pycharm": {
     "name": "#%%\n"
    }
   }
  },
  {
   "cell_type": "markdown",
   "source": [
    "El top 3 de los mejores modelos son:\n",
    "    \n",
    "    1. KNN\n",
    "    2. Random Forest\n",
    "    3. Ensamble de Stacking\n",
    "    \n",
    "Random Forest y el Ensamble estan a la par, mientras que KNN se separa por un muy pequeño porcentaje. El ensamble logra obtener grandes reusltados dada su naturaleza. El ensamble logra optimizar las mejores combincaiones lineales de los modelos permitiendonos obtener una mejor mezcla de diversidad de cada modelo y de cada predicción.\n",
    "La unica contra que parece tener el ensamble es el tiempo computacional que tarda, es por ese motivo, y porque la metrica da levemente mejor, que en este caso, optamos por mencionar que KNN resulta superior."
   ],
   "metadata": {
    "collapsed": false,
    "pycharm": {
     "name": "#%% md\n"
    }
   }
  },
  {
   "cell_type": "code",
   "execution_count": 53,
   "outputs": [],
   "source": [
    "#Funcion para plotear a performance\n",
    "def plot_results(model_scores, name):\n",
    "\n",
    "    model_names = list(model_scores.keys())\n",
    "    results = [model_scores[model] for model in model_names]\n",
    "    print(model_names)\n",
    "    print(results)\n",
    "    fig = go.Figure()\n",
    "    for model, result in zip(model_names, results):\n",
    "        fig.add_trace(go.Box(\n",
    "            x=[abs(x) for x in result],\n",
    "            name=model,\n",
    "            boxpoints='all',\n",
    "            jitter=0.5,\n",
    "            whiskerwidth=0.2,\n",
    "            marker_size=2,\n",
    "            line_width=1)\n",
    "        )\n",
    "\n",
    "    fig.update_layout(\n",
    "    title='Performance of Different Models Using 5-Fold Cross-Validation',\n",
    "    paper_bgcolor='rgb(243, 243, 243)',\n",
    "    plot_bgcolor='rgb(243, 243, 243)',\n",
    "    xaxis_title='Model',\n",
    "    yaxis_title='Accuracy',\n",
    "    showlegend=False)\n",
    "    fig.show()"
   ],
   "metadata": {
    "collapsed": false,
    "pycharm": {
     "name": "#%%\n"
    }
   }
  },
  {
   "cell_type": "code",
   "execution_count": 70,
   "outputs": [
    {
     "data": {
      "text/plain": "defaultdict(None,\n            {'KNN': array([0.7916919 , 0.78750079, 0.80132562, 0.78196079, 0.80766544]),\n             'SVR': array([-0.04149322, -0.03395958, -0.04301916, -0.03758395, -0.03951549]),\n             'Random Forest': array([0.91264912, 0.91748904, 0.91106146, 0.9095985 , 0.91909794]),\n             'Linear Regression': array([0.77886179, 0.78692218, 0.78899079, 0.78652763, 0.79028369]),\n             'Stacking': array([0.91304408, 0.91666211, 0.91214027, 0.909469  , 0.91942806])})"
     },
     "execution_count": 70,
     "metadata": {},
     "output_type": "execute_result"
    }
   ],
   "source": [
    "model_scores"
   ],
   "metadata": {
    "collapsed": false,
    "pycharm": {
     "name": "#%%\n"
    }
   }
  },
  {
   "cell_type": "code",
   "execution_count": 55,
   "outputs": [
    {
     "name": "stdout",
     "output_type": "stream",
     "text": [
      "['KNN', 'SVR', 'Random Forest', 'Linear Regression', 'Stacking']\n",
      "[[0.791691898004958, 0.787500791701287, 0.8013256198681664, 0.781960788438601, 0.8076654385019967], [0.04149321903527525, 0.03395957911829428, 0.04301915640392173, 0.03758395344702903, 0.03951549293768819], [0.9126491177928887, 0.9174890360314049, 0.9110614573247702, 0.9095984951693854, 0.9190979379321212], [0.7788617920015115, 0.7869221761134517, 0.788990786634186, 0.786527634479802, 0.7902836913296807], [0.9130440764026166, 0.9166621124536924, 0.9121402664864907, 0.9094690019508661, 0.9194280586274756]]\n"
     ]
    }
   ],
   "source": [
    "model_names = list(model_scores.keys())\n",
    "results = [[abs(x) for x in model_scores[model]] for model in model_names]\n",
    "print(model_names)\n",
    "print(results)"
   ],
   "metadata": {
    "collapsed": false,
    "pycharm": {
     "name": "#%%\n"
    }
   }
  },
  {
   "cell_type": "markdown",
   "source": [
    "Tomaremos el valor absoluto de todos los puntajes."
   ],
   "metadata": {
    "collapsed": false,
    "pycharm": {
     "name": "#%% md\n"
    }
   }
  },
  {
   "cell_type": "code",
   "execution_count": 81,
   "outputs": [
    {
     "data": {
      "text/plain": "                       mean       min       max\nKNN                0.794029  0.781961  0.807665\nSVR               -0.039114 -0.043019 -0.033960\nRandom Forest      0.913979  0.909598  0.919098\nLinear Regression  0.786317  0.778862  0.790284\nStacking           0.914149  0.909469  0.919428",
      "text/html": "<div>\n<style scoped>\n    .dataframe tbody tr th:only-of-type {\n        vertical-align: middle;\n    }\n\n    .dataframe tbody tr th {\n        vertical-align: top;\n    }\n\n    .dataframe thead th {\n        text-align: right;\n    }\n</style>\n<table border=\"1\" class=\"dataframe\">\n  <thead>\n    <tr style=\"text-align: right;\">\n      <th></th>\n      <th>mean</th>\n      <th>min</th>\n      <th>max</th>\n    </tr>\n  </thead>\n  <tbody>\n    <tr>\n      <th>KNN</th>\n      <td>0.794029</td>\n      <td>0.781961</td>\n      <td>0.807665</td>\n    </tr>\n    <tr>\n      <th>SVR</th>\n      <td>-0.039114</td>\n      <td>-0.043019</td>\n      <td>-0.033960</td>\n    </tr>\n    <tr>\n      <th>Random Forest</th>\n      <td>0.913979</td>\n      <td>0.909598</td>\n      <td>0.919098</td>\n    </tr>\n    <tr>\n      <th>Linear Regression</th>\n      <td>0.786317</td>\n      <td>0.778862</td>\n      <td>0.790284</td>\n    </tr>\n    <tr>\n      <th>Stacking</th>\n      <td>0.914149</td>\n      <td>0.909469</td>\n      <td>0.919428</td>\n    </tr>\n  </tbody>\n</table>\n</div>"
     },
     "execution_count": 81,
     "metadata": {},
     "output_type": "execute_result"
    }
   ],
   "source": [
    "model_scores = pd.DataFrame(model_scores)\n",
    "model_scores.describe().T[['mean', 'min', 'max']]"
   ],
   "metadata": {
    "collapsed": false,
    "pycharm": {
     "name": "#%%\n"
    }
   }
  },
  {
   "cell_type": "code",
   "execution_count": 75,
   "outputs": [
    {
     "data": {
      "text/plain": "Text(0, 0.5, 'R²')"
     },
     "execution_count": 75,
     "metadata": {},
     "output_type": "execute_result"
    },
    {
     "data": {
      "text/plain": "<Figure size 432x288 with 1 Axes>",
      "image/png": "[encoded data removed]"
     },
     "metadata": {},
     "output_type": "display_data"
    }
   ],
   "source": [
    "ax = sns.boxplot(data=model_scores)\n",
    "ax.set_xlabel('Modelo')\n",
    "ax.set_ylabel('R²')"
   ],
   "metadata": {
    "collapsed": false,
    "pycharm": {
     "name": "#%%\n"
    }
   }
  },
  {
   "cell_type": "code",
   "execution_count": null,
   "outputs": [],
   "source": [
    "regression_scatter()"
   ],
   "metadata": {
    "collapsed": false,
    "pycharm": {
     "name": "#%%\n"
    }
   }
  },
  {
   "cell_type": "code",
   "execution_count": null,
   "outputs": [],
   "source": [],
   "metadata": {
    "collapsed": false,
    "pycharm": {
     "name": "#%%\n"
    }
   }
  },
  {
   "cell_type": "code",
   "execution_count": null,
   "metadata": {},
   "outputs": [],
   "source": [
    "# evaluar un modelo dado usando cross-validation\n",
    "def evaluate_model(model, X, y):\n",
    "    cv = RepeatedStratifiedKFold(n_splits=10, n_repeats=3, random_state=1)\n",
    "    scores = cross_val_score(model, X, y, scoring='accuracy', cv=cv, n_jobs=-1, error_score='raise')\n",
    "    return scores"
   ]
  },
  {
   "cell_type": "code",
   "execution_count": null,
   "metadata": {},
   "outputs": [],
   "source": [
    "# obtener el ds\n",
    "def get_dataset():\n",
    "    X, y = make_classification(n_samples=1000, n_features=20, n_informative=15, n_redundant=5, random_state=2)\n",
    "    return X, y"
   ]
  },
  {
   "cell_type": "code",
   "execution_count": 66,
   "metadata": {},
   "outputs": [],
   "source": [
    "def process_models(models, X, y):\n",
    "    results, names = list(), list()\n",
    "    for name, model in models.items():\n",
    "        scores = evaluate_model(model, X, y)\n",
    "        results.append(scores)\n",
    "        names.append(name)\n",
    "        print('>%s %.3f (%.3f)' % (name, np.mean(scores), np.std(scores)))\n",
    "    return results, names"
   ]
  },
  {
   "cell_type": "code",
   "execution_count": 67,
   "metadata": {},
   "outputs": [
    {
     "name": "stdout",
     "output_type": "stream",
     "text": [
      ">knn1 0.873 (0.030)\n",
      ">knn3 0.889 (0.038)\n",
      ">knn5 0.895 (0.031)\n",
      ">knn7 0.899 (0.035)\n",
      ">knn9 0.900 (0.033)\n",
      ">hard_voting 0.902 (0.034)\n"
     ]
    },
    {
     "data": {
      "image/png": "[encoded data removed]",
      "text/plain": [
       "<Figure size 640x480 with 1 Axes>"
      ]
     },
     "metadata": {},
     "output_type": "display_data"
    }
   ],
   "source": [
    "# define dataset\n",
    "X, y = get_dataset()\n",
    "\n",
    "# get the models to evaluate\n",
    "models = get_knn_models()\n",
    "\n",
    "# evaluate the models and store results\n",
    "results, names = process_models(models, X, y)\n",
    "\n",
    "# plot model performance for comparison\n",
    "pyplot.boxplot(results, labels=names, showmeans=True)\n",
    "pyplot.show()"
   ]
  },
  {
   "cell_type": "code",
   "execution_count": 68,
   "metadata": {},
   "outputs": [],
   "source": [
    "# define the base models\n",
    "def set_knn_models(models):\n",
    "    models.append(('knn1', KNeighborsClassifier(n_neighbors=1)))\n",
    "    models.append(('knn3', KNeighborsClassifier(n_neighbors=3)))\n",
    "    models.append(('knn5', KNeighborsClassifier(n_neighbors=5)))\n",
    "    models.append(('knn7', KNeighborsClassifier(n_neighbors=7)))\n",
    "    models.append(('knn9', KNeighborsClassifier(n_neighbors=9)))\n",
    "    return models[:]\n"
   ]
  },
  {
   "cell_type": "code",
   "execution_count": 69,
   "metadata": {},
   "outputs": [
    {
     "data": {
      "text/plain": [
       "0.057215472353087035"
      ]
     },
     "execution_count": 69,
     "metadata": {},
     "output_type": "execute_result"
    }
   ],
   "source": [
    "# Si elegimos hard voting\n",
    "\n",
    "# make a prediction with a hard voting ensemble\n",
    "\n",
    "k_models = list()\n",
    "\n",
    "knn_models = set_knn_models(k_models)\n",
    "\n",
    "# define the hard voting ensemble\n",
    "ensemble = VotingClassifier(estimators=knn_models, voting='hard')\n",
    "\n",
    "# fit the model on all available data\n",
    "ensemble.fit(x_train, y_train)\n",
    "\n",
    "# make a prediction for one example\n",
    "pred = ensemble.predict(x_test)\n",
    "accuracy_score(y_test, pred)"
   ]
  },
  {
   "cell_type": "markdown",
   "metadata": {},
   "source": [
    "##### Soft Voting"
   ]
  },
  {
   "cell_type": "code",
   "execution_count": 70,
   "metadata": {},
   "outputs": [],
   "source": [
    "# define the base models\n",
    "def set_svm_models(models):\n",
    "    models.append(('svm1', SVC(probability=True, kernel='poly', degree=1)))\n",
    "    models.append(('svm2', SVC(probability=True, kernel='poly', degree=2)))\n",
    "    models.append(('svm3', SVC(probability=True, kernel='poly', degree=3)))\n",
    "    models.append(('svm4', SVC(probability=True, kernel='poly', degree=4)))\n",
    "    models.append(('svm5', SVC(probability=True, kernel='poly', degree=5)))\n",
    "    return models[:]"
   ]
  },
  {
   "cell_type": "code",
   "execution_count": 71,
   "metadata": {},
   "outputs": [],
   "source": [
    "# get a voting ensemble of models\n",
    "def get_svm_voting():\n",
    "    # define the base models\n",
    "    models = list()\n",
    "    models.append(('svm1', SVC(probability=True, kernel='poly', degree=1)))\n",
    "    models.append(('svm2', SVC(probability=True, kernel='poly', degree=2)))\n",
    "    models.append(('svm3', SVC(probability=True, kernel='poly', degree=3)))\n",
    "    models.append(('svm4', SVC(probability=True, kernel='poly', degree=4)))\n",
    "    models.append(('svm5', SVC(probability=True, kernel='poly', degree=5)))\n",
    "    # define the voting ensemble\n",
    "    ensemble = VotingClassifier(estimators=models, voting='soft')\n",
    "    return ensemble"
   ]
  },
  {
   "cell_type": "code",
   "execution_count": 72,
   "metadata": {},
   "outputs": [],
   "source": [
    "# get a list of models to evaluate\n",
    "def get_svm_models():\n",
    "    models = dict()\n",
    "    models['svm1'] = SVC(probability=True, kernel='poly', degree=1)\n",
    "    models['svm2'] = SVC(probability=True, kernel='poly', degree=2)\n",
    "    models['svm3'] = SVC(probability=True, kernel='poly', degree=3)\n",
    "    models['svm4'] = SVC(probability=True, kernel='poly', degree=4)\n",
    "    models['svm5'] = SVC(probability=True, kernel='poly', degree=5)\n",
    "    models['soft_voting'] = get_svm_voting()\n",
    "    return models"
   ]
  },
  {
   "cell_type": "code",
   "execution_count": 73,
   "metadata": {},
   "outputs": [
    {
     "name": "stdout",
     "output_type": "stream",
     "text": [
      ">svm1 0.855 (0.035)\n",
      ">svm2 0.859 (0.034)\n",
      ">svm3 0.890 (0.035)\n",
      ">svm4 0.808 (0.037)\n",
      ">svm5 0.850 (0.037)\n",
      ">soft_voting 0.924 (0.026)\n"
     ]
    },
    {
     "data": {
      "image/png": "[encoded data removed]",
      "text/plain": [
       "<Figure size 640x480 with 1 Axes>"
      ]
     },
     "metadata": {},
     "output_type": "display_data"
    }
   ],
   "source": [
    "# compare soft voting ensemble to standalone classifiers\n",
    " \n",
    "# define dataset\n",
    "X, y = get_dataset()\n",
    "\n",
    "# get the models to evaluate\n",
    "svm_models = get_svm_models()\n",
    "    \n",
    "# evaluate the models and store results\n",
    "results, names = process_models(svm_models, X, y)\n",
    "\n",
    "# plot model performance for comparison\n",
    "pyplot.boxplot(results, labels=names, showmeans=True)\n",
    "pyplot.show()"
   ]
  },
  {
   "cell_type": "code",
   "execution_count": null,
   "metadata": {},
   "outputs": [],
   "source": [
    "# make a prediction with a soft voting ensemble\n",
    "from sklearn.datasets import make_classification\n",
    "from sklearn.ensemble import VotingClassifier\n",
    "from sklearn.svm import SVC\n",
    "\n",
    "# define dataset\n",
    "X, y = make_classification(n_samples=1000, n_features=20, n_informative=15, n_redundant=5, random_state=42)\n",
    "\n",
    "models = list()\n",
    "\n",
    "# define the base models\n",
    "svm_models = set_svm_models(models)\n",
    "\n",
    "# define the soft voting ensemble\n",
    "ensemble = VotingClassifier(estimators=svm_models, voting='soft')\n",
    "\n",
    "# fit the model on all available data\n",
    "ensemble.fit(x_train, y_train)\n",
    "\n",
    "# make a prediction for one example\n",
    "pred = ensemble.predict(x_test)\n",
    "accuracy_score(y_test, pred)"
   ]
  },
  {
   "cell_type": "markdown",
   "metadata": {},
   "source": [
    "Despues de hacer los respectivos analisis, notamos que el approach de Vorting Soft resulto ser mas efectivo en accuracy que el Hard. **Soft = 0,82** VS **Hard = 0.79** de accuraccy. Nos quedaremos con el Soft."
   ]
  },
  {
   "cell_type": "markdown",
   "metadata": {
    "pycharm": {
     "name": "#%% md\n"
    }
   },
   "source": [
    "### Ensamble Stacking"
   ]
  },
  {
   "cell_type": "code",
   "execution_count": 56,
   "metadata": {},
   "outputs": [],
   "source": [
    "#Funcion para plotear a performance\n",
    "def plot_results(model_scores, name):\n",
    "    \n",
    "    model_names = list(model_scores.keys())\n",
    "    results = [model_scores[model] for model in model_names]\n",
    "    print(model_names)\n",
    "    print(results)\n",
    "    fig = go.Figure()\n",
    "    for model, result in zip(model_names, results):\n",
    "        fig.add_trace(go.Box(\n",
    "            y=result,\n",
    "            name=model,\n",
    "            boxpoints='all',\n",
    "            jitter=0.5,\n",
    "            whiskerwidth=0.2,\n",
    "            marker_size=2,\n",
    "            line_width=1)\n",
    "        )\n",
    "    \n",
    "    fig.update_layout(\n",
    "    title='Performance of Different Models Using 5-Fold Cross-Validation',\n",
    "    paper_bgcolor='rgb(243, 243, 243)',\n",
    "    plot_bgcolor='rgb(243, 243, 243)',\n",
    "    xaxis_title='Model',\n",
    "    yaxis_title='Accuracy',\n",
    "    showlegend=False)\n",
    "    fig.show()"
   ]
  },
  {
   "cell_type": "markdown",
   "metadata": {},
   "source": [
    "Vamos a utilizar KNN, SV, Random Forest y Regresion Lineal.\n",
    "\n",
    "Tambien vamos a definir un regresor de Stacking del modulo de Scikit Learn’s, seteando los estimadores base como los modelos base y como estimador finaluna regresion lineal con 5 cross folds."
   ]
  },
  {
   "cell_type": "code",
   "execution_count": 57,
   "metadata": {},
   "outputs": [],
   "source": [
    "base_models = [\n",
    "    ('KNN', KNeighborsRegressor()),\n",
    "    ('SVR',SVR()),\n",
    "    ('Random Forest',RandomForestRegressor()),\n",
    "    ('Linear Regression',LinearRegression()),\n",
    "    ]\n",
    "stacked = StackingRegressor(\n",
    "    estimators = base_models,\n",
    "    final_estimator = LinearRegression(),\n",
    "    cv = 5)"
   ]
  },
  {
   "cell_type": "markdown",
   "metadata": {},
   "source": [
    "Luego, vamos a fittear los modelos base y predecir la data de test que ya habiamos previamente separado en train (80%) y test (20%) para asi poder comparar los resultado con el ensamble regresor. "
   ]
  },
  {
   "cell_type": "code",
   "execution_count": 58,
   "metadata": {},
   "outputs": [
    {
     "name": "stdout",
     "output_type": "stream",
     "text": [
      "-------KNN-------\n",
      "Coefficient of determination: 0.757085578353342\n",
      "Root Mean Squared Error: 75793.99766203108\n",
      "Computation Time: 0.20350384712219238\n",
      "----------------------------------\n",
      "\n",
      "-------SVR-------\n",
      "Coefficient of determination: -0.036801193079063044\n",
      "Root Mean Squared Error: 156587.07384473557\n",
      "Computation Time: 178.1650948524475\n",
      "----------------------------------\n",
      "\n",
      "-------Random Forest-------\n",
      "Coefficient of determination: 0.7345270046677944\n",
      "Root Mean Squared Error: 79235.23299863655\n",
      "Computation Time: 21.569891929626465\n",
      "----------------------------------\n",
      "\n",
      "-------Linear Regression-------\n",
      "Coefficient of determination: 0.6009578953777688\n",
      "Root Mean Squared Error: 97144.3452582448\n",
      "Computation Time: 0.025851011276245117\n",
      "----------------------------------\n",
      "\n",
      "-------Stacked Ensemble-------\n",
      "Coefficient of determination: 0.7284435299082954\n",
      "Root Mean Squared Error: 80137.95242010949\n",
      "Computation Time: 859.7234020233154\n",
      "----------------------------------\n"
     ]
    }
   ],
   "source": [
    "import time\n",
    "from collections import defaultdict\n",
    "\n",
    "#Guarda los scores de cada modelo\n",
    "model_scores = defaultdict()\n",
    "\n",
    "for name, model in base_models:\n",
    "    start_time = time.time()\n",
    "    model.fit(x_train, y_train)\n",
    "    prediction = model.predict(x_test)\n",
    "    end_time = time.time()\n",
    "    \n",
    "    r2 = model.score(x_test, y_test)\n",
    "    rmse = mean_squared_error(y_test, prediction, squared = False)\n",
    "    model_scores[name] = r2\n",
    "    \n",
    "    print(\"-------{}-------\".format(name))\n",
    "    print(\"Coefficient of determination: {}\".format(r2))\n",
    "    print(\"Root Mean Squared Error: {}\".format(rmse))\n",
    "    print(\"Computation Time: {}\".format(end_time - start_time))\n",
    "    print(\"----------------------------------\\n\")\n",
    "    \n",
    "start_time = time.time()\n",
    "stacked.fit(x_train, y_train)    \n",
    "stacked_prediction = stacked.predict(x_test)\n",
    "end_time = time.time()\n",
    "stacked_r2 = stacked.score(x_test, y_test)\n",
    "model_scores['Stacking'] = stacked_r2\n",
    "stacked_rmse = mean_squared_error(y_test, stacked_prediction, squared = False)\n",
    "print(\"-------Stacked Ensemble-------\")\n",
    "print(\"Coefficient of determination: {}\".format(stacked_r2))\n",
    "print(\"Root Mean Squared Error: {}\".format(stacked_rmse))\n",
    "print(\"Computation Time: {}\".format(end_time - start_time))\n",
    "print(\"----------------------------------\")"
   ]
  },
  {
   "cell_type": "markdown",
   "metadata": {},
   "source": [
    "El top 3 de los mejores modelos son:\n",
    "    \n",
    "    1. KNN\n",
    "    2. Random Forest\n",
    "    3. Ensamble de Stacking\n",
    "    \n",
    "Random Forest y el Ensamble estan a la par, mientras que KNN se separa por un muy pequeño porcentaje. El ensamble logra obtener grandes reusltados dada su naturaleza. El ensamble logra optimizar las mejores combincaiones lineales de los modelos permitiendonos obtener una mejor mezcla de diversidad de cada modelo y de cada predicción.\n",
    "La unica contra que parece tener el ensamble es el tiempo computacional que tarda, es por ese motivo, y porque la metrica da levemente mejor, que en este caso, optamos por mencionar que KNN resulta superior."
   ]
  },
  {
   "cell_type": "code",
   "execution_count": 59,
   "metadata": {},
   "outputs": [
    {
     "data": {
      "text/plain": [
       "defaultdict(None,\n",
       "            {'KNN': 0.757085578353342,\n",
       "             'SVR': -0.036801193079063044,\n",
       "             'Random Forest': 0.7345270046677944,\n",
       "             'Linear Regression': 0.6009578953777688,\n",
       "             'Stacking': 0.7284435299082954})"
      ]
     },
     "execution_count": 59,
     "metadata": {},
     "output_type": "execute_result"
    }
   ],
   "source": [
    "model_scores"
   ]
  },
  {
   "cell_type": "code",
   "execution_count": 61,
   "metadata": {},
   "outputs": [
    {
     "name": "stdout",
     "output_type": "stream",
     "text": [
      "['KNN', 'SVR', 'Random Forest', 'Linear Regression', 'Stacking']\n",
      "[0.757085578353342, -0.036801193079063044, 0.7345270046677944, 0.6009578953777688, 0.7284435299082954]\n"
     ]
    },
    {
     "ename": "ValueError",
     "evalue": "\n    Invalid value of type 'numpy.float64' received for the 'y' property of box\n        Received value: 0.757085578353342\n\n    The 'y' property is an array that may be specified as a tuple,\n    list, numpy array, or pandas Series",
     "output_type": "error",
     "traceback": [
      "\u001B[0;31m---------------------------------------------------------------------------\u001B[0m",
      "\u001B[0;31mValueError\u001B[0m                                Traceback (most recent call last)",
      "Input \u001B[0;32mIn [61]\u001B[0m, in \u001B[0;36m<cell line: 2>\u001B[0;34m()\u001B[0m\n\u001B[1;32m      1\u001B[0m \u001B[38;5;66;03m#Grafico performance\u001B[39;00m\n\u001B[0;32m----> 2\u001B[0m \u001B[43mplot_results\u001B[49m\u001B[43m(\u001B[49m\u001B[43mmodel_scores\u001B[49m\u001B[43m,\u001B[49m\u001B[43m \u001B[49m\u001B[43mname\u001B[49m\u001B[38;5;241;43m=\u001B[39;49m\u001B[38;5;124;43m'\u001B[39;49m\u001B[38;5;124;43mstacking_model_cv\u001B[39;49m\u001B[38;5;124;43m'\u001B[39;49m\u001B[43m)\u001B[49m\n",
      "Input \u001B[0;32mIn [56]\u001B[0m, in \u001B[0;36mplot_results\u001B[0;34m(model_scores, name)\u001B[0m\n\u001B[1;32m      8\u001B[0m fig \u001B[38;5;241m=\u001B[39m go\u001B[38;5;241m.\u001B[39mFigure()\n\u001B[1;32m      9\u001B[0m \u001B[38;5;28;01mfor\u001B[39;00m model, result \u001B[38;5;129;01min\u001B[39;00m \u001B[38;5;28mzip\u001B[39m(model_names, results):\n\u001B[0;32m---> 10\u001B[0m     fig\u001B[38;5;241m.\u001B[39madd_trace(\u001B[43mgo\u001B[49m\u001B[38;5;241;43m.\u001B[39;49m\u001B[43mBox\u001B[49m\u001B[43m(\u001B[49m\n\u001B[1;32m     11\u001B[0m \u001B[43m        \u001B[49m\u001B[43my\u001B[49m\u001B[38;5;241;43m=\u001B[39;49m\u001B[43mresult\u001B[49m\u001B[43m,\u001B[49m\n\u001B[1;32m     12\u001B[0m \u001B[43m        \u001B[49m\u001B[43mname\u001B[49m\u001B[38;5;241;43m=\u001B[39;49m\u001B[43mmodel\u001B[49m\u001B[43m,\u001B[49m\n\u001B[1;32m     13\u001B[0m \u001B[43m        \u001B[49m\u001B[43mboxpoints\u001B[49m\u001B[38;5;241;43m=\u001B[39;49m\u001B[38;5;124;43m'\u001B[39;49m\u001B[38;5;124;43mall\u001B[39;49m\u001B[38;5;124;43m'\u001B[39;49m\u001B[43m,\u001B[49m\n\u001B[1;32m     14\u001B[0m \u001B[43m        \u001B[49m\u001B[43mjitter\u001B[49m\u001B[38;5;241;43m=\u001B[39;49m\u001B[38;5;241;43m0.5\u001B[39;49m\u001B[43m,\u001B[49m\n\u001B[1;32m     15\u001B[0m \u001B[43m        \u001B[49m\u001B[43mwhiskerwidth\u001B[49m\u001B[38;5;241;43m=\u001B[39;49m\u001B[38;5;241;43m0.2\u001B[39;49m\u001B[43m,\u001B[49m\n\u001B[1;32m     16\u001B[0m \u001B[43m        \u001B[49m\u001B[43mmarker_size\u001B[49m\u001B[38;5;241;43m=\u001B[39;49m\u001B[38;5;241;43m2\u001B[39;49m\u001B[43m,\u001B[49m\n\u001B[1;32m     17\u001B[0m \u001B[43m        \u001B[49m\u001B[43mline_width\u001B[49m\u001B[38;5;241;43m=\u001B[39;49m\u001B[38;5;241;43m1\u001B[39;49m\u001B[43m)\u001B[49m\n\u001B[1;32m     18\u001B[0m     )\n\u001B[1;32m     20\u001B[0m fig\u001B[38;5;241m.\u001B[39mupdate_layout(\n\u001B[1;32m     21\u001B[0m title\u001B[38;5;241m=\u001B[39m\u001B[38;5;124m'\u001B[39m\u001B[38;5;124mPerformance of Different Models Using 5-Fold Cross-Validation\u001B[39m\u001B[38;5;124m'\u001B[39m,\n\u001B[1;32m     22\u001B[0m paper_bgcolor\u001B[38;5;241m=\u001B[39m\u001B[38;5;124m'\u001B[39m\u001B[38;5;124mrgb(243, 243, 243)\u001B[39m\u001B[38;5;124m'\u001B[39m,\n\u001B[0;32m   (...)\u001B[0m\n\u001B[1;32m     25\u001B[0m yaxis_title\u001B[38;5;241m=\u001B[39m\u001B[38;5;124m'\u001B[39m\u001B[38;5;124mAccuracy\u001B[39m\u001B[38;5;124m'\u001B[39m,\n\u001B[1;32m     26\u001B[0m showlegend\u001B[38;5;241m=\u001B[39m\u001B[38;5;28;01mFalse\u001B[39;00m)\n\u001B[1;32m     27\u001B[0m fig\u001B[38;5;241m.\u001B[39mshow()\n",
      "File \u001B[0;32m/Library/Frameworks/Python.framework/Versions/3.10/lib/python3.10/site-packages/plotly/graph_objs/_box.py:3393\u001B[0m, in \u001B[0;36mBox.__init__\u001B[0;34m(self, arg, alignmentgroup, boxmean, boxpoints, customdata, customdatasrc, dx, dy, fillcolor, hoverinfo, hoverinfosrc, hoverlabel, hoveron, hovertemplate, hovertemplatesrc, hovertext, hovertextsrc, ids, idssrc, jitter, legendgroup, legendgrouptitle, legendrank, legendwidth, line, lowerfence, lowerfencesrc, marker, mean, meansrc, median, mediansrc, meta, metasrc, name, notched, notchspan, notchspansrc, notchwidth, offsetgroup, opacity, orientation, pointpos, q1, q1src, q3, q3src, quartilemethod, sd, sdsrc, selected, selectedpoints, showlegend, stream, text, textsrc, uid, uirevision, unselected, upperfence, upperfencesrc, visible, whiskerwidth, width, x, x0, xaxis, xcalendar, xhoverformat, xperiod, xperiod0, xperiodalignment, xsrc, y, y0, yaxis, ycalendar, yhoverformat, yperiod, yperiod0, yperiodalignment, ysrc, **kwargs)\u001B[0m\n\u001B[1;32m   3391\u001B[0m _v \u001B[38;5;241m=\u001B[39m y \u001B[38;5;28;01mif\u001B[39;00m y \u001B[38;5;129;01mis\u001B[39;00m \u001B[38;5;129;01mnot\u001B[39;00m \u001B[38;5;28;01mNone\u001B[39;00m \u001B[38;5;28;01melse\u001B[39;00m _v\n\u001B[1;32m   3392\u001B[0m \u001B[38;5;28;01mif\u001B[39;00m _v \u001B[38;5;129;01mis\u001B[39;00m \u001B[38;5;129;01mnot\u001B[39;00m \u001B[38;5;28;01mNone\u001B[39;00m:\n\u001B[0;32m-> 3393\u001B[0m     \u001B[38;5;28;43mself\u001B[39;49m\u001B[43m[\u001B[49m\u001B[38;5;124;43m\"\u001B[39;49m\u001B[38;5;124;43my\u001B[39;49m\u001B[38;5;124;43m\"\u001B[39;49m\u001B[43m]\u001B[49m \u001B[38;5;241m=\u001B[39m _v\n\u001B[1;32m   3394\u001B[0m _v \u001B[38;5;241m=\u001B[39m arg\u001B[38;5;241m.\u001B[39mpop(\u001B[38;5;124m\"\u001B[39m\u001B[38;5;124my0\u001B[39m\u001B[38;5;124m\"\u001B[39m, \u001B[38;5;28;01mNone\u001B[39;00m)\n\u001B[1;32m   3395\u001B[0m _v \u001B[38;5;241m=\u001B[39m y0 \u001B[38;5;28;01mif\u001B[39;00m y0 \u001B[38;5;129;01mis\u001B[39;00m \u001B[38;5;129;01mnot\u001B[39;00m \u001B[38;5;28;01mNone\u001B[39;00m \u001B[38;5;28;01melse\u001B[39;00m _v\n",
      "File \u001B[0;32m/Library/Frameworks/Python.framework/Versions/3.10/lib/python3.10/site-packages/plotly/basedatatypes.py:4859\u001B[0m, in \u001B[0;36mBasePlotlyType.__setitem__\u001B[0;34m(self, prop, value)\u001B[0m\n\u001B[1;32m   4855\u001B[0m         \u001B[38;5;28mself\u001B[39m\u001B[38;5;241m.\u001B[39m_set_array_prop(prop, value)\n\u001B[1;32m   4857\u001B[0m     \u001B[38;5;66;03m# ### Handle simple property ###\u001B[39;00m\n\u001B[1;32m   4858\u001B[0m     \u001B[38;5;28;01melse\u001B[39;00m:\n\u001B[0;32m-> 4859\u001B[0m         \u001B[38;5;28;43mself\u001B[39;49m\u001B[38;5;241;43m.\u001B[39;49m\u001B[43m_set_prop\u001B[49m\u001B[43m(\u001B[49m\u001B[43mprop\u001B[49m\u001B[43m,\u001B[49m\u001B[43m \u001B[49m\u001B[43mvalue\u001B[49m\u001B[43m)\u001B[49m\n\u001B[1;32m   4860\u001B[0m \u001B[38;5;28;01melse\u001B[39;00m:\n\u001B[1;32m   4861\u001B[0m     \u001B[38;5;66;03m# Make sure properties dict is initialized\u001B[39;00m\n\u001B[1;32m   4862\u001B[0m     \u001B[38;5;28mself\u001B[39m\u001B[38;5;241m.\u001B[39m_init_props()\n",
      "File \u001B[0;32m/Library/Frameworks/Python.framework/Versions/3.10/lib/python3.10/site-packages/plotly/basedatatypes.py:5203\u001B[0m, in \u001B[0;36mBasePlotlyType._set_prop\u001B[0;34m(self, prop, val)\u001B[0m\n\u001B[1;32m   5201\u001B[0m         \u001B[38;5;28;01mreturn\u001B[39;00m\n\u001B[1;32m   5202\u001B[0m     \u001B[38;5;28;01melse\u001B[39;00m:\n\u001B[0;32m-> 5203\u001B[0m         \u001B[38;5;28;01mraise\u001B[39;00m err\n\u001B[1;32m   5205\u001B[0m \u001B[38;5;66;03m# val is None\u001B[39;00m\n\u001B[1;32m   5206\u001B[0m \u001B[38;5;66;03m# -----------\u001B[39;00m\n\u001B[1;32m   5207\u001B[0m \u001B[38;5;28;01mif\u001B[39;00m val \u001B[38;5;129;01mis\u001B[39;00m \u001B[38;5;28;01mNone\u001B[39;00m:\n\u001B[1;32m   5208\u001B[0m     \u001B[38;5;66;03m# Check if we should send null update\u001B[39;00m\n",
      "File \u001B[0;32m/Library/Frameworks/Python.framework/Versions/3.10/lib/python3.10/site-packages/plotly/basedatatypes.py:5198\u001B[0m, in \u001B[0;36mBasePlotlyType._set_prop\u001B[0;34m(self, prop, val)\u001B[0m\n\u001B[1;32m   5195\u001B[0m validator \u001B[38;5;241m=\u001B[39m \u001B[38;5;28mself\u001B[39m\u001B[38;5;241m.\u001B[39m_get_validator(prop)\n\u001B[1;32m   5197\u001B[0m \u001B[38;5;28;01mtry\u001B[39;00m:\n\u001B[0;32m-> 5198\u001B[0m     val \u001B[38;5;241m=\u001B[39m \u001B[43mvalidator\u001B[49m\u001B[38;5;241;43m.\u001B[39;49m\u001B[43mvalidate_coerce\u001B[49m\u001B[43m(\u001B[49m\u001B[43mval\u001B[49m\u001B[43m)\u001B[49m\n\u001B[1;32m   5199\u001B[0m \u001B[38;5;28;01mexcept\u001B[39;00m \u001B[38;5;167;01mValueError\u001B[39;00m \u001B[38;5;28;01mas\u001B[39;00m err:\n\u001B[1;32m   5200\u001B[0m     \u001B[38;5;28;01mif\u001B[39;00m \u001B[38;5;28mself\u001B[39m\u001B[38;5;241m.\u001B[39m_skip_invalid:\n",
      "File \u001B[0;32m/Library/Frameworks/Python.framework/Versions/3.10/lib/python3.10/site-packages/_plotly_utils/basevalidators.py:404\u001B[0m, in \u001B[0;36mDataArrayValidator.validate_coerce\u001B[0;34m(self, v)\u001B[0m\n\u001B[1;32m    402\u001B[0m     v \u001B[38;5;241m=\u001B[39m to_scalar_or_list(v)\n\u001B[1;32m    403\u001B[0m \u001B[38;5;28;01melse\u001B[39;00m:\n\u001B[0;32m--> 404\u001B[0m     \u001B[38;5;28;43mself\u001B[39;49m\u001B[38;5;241;43m.\u001B[39;49m\u001B[43mraise_invalid_val\u001B[49m\u001B[43m(\u001B[49m\u001B[43mv\u001B[49m\u001B[43m)\u001B[49m\n\u001B[1;32m    405\u001B[0m \u001B[38;5;28;01mreturn\u001B[39;00m v\n",
      "File \u001B[0;32m/Library/Frameworks/Python.framework/Versions/3.10/lib/python3.10/site-packages/_plotly_utils/basevalidators.py:288\u001B[0m, in \u001B[0;36mBaseValidator.raise_invalid_val\u001B[0;34m(self, v, inds)\u001B[0m\n\u001B[1;32m    285\u001B[0m             \u001B[38;5;28;01mfor\u001B[39;00m i \u001B[38;5;129;01min\u001B[39;00m inds:\n\u001B[1;32m    286\u001B[0m                 name \u001B[38;5;241m+\u001B[39m\u001B[38;5;241m=\u001B[39m \u001B[38;5;124m\"\u001B[39m\u001B[38;5;124m[\u001B[39m\u001B[38;5;124m\"\u001B[39m \u001B[38;5;241m+\u001B[39m \u001B[38;5;28mstr\u001B[39m(i) \u001B[38;5;241m+\u001B[39m \u001B[38;5;124m\"\u001B[39m\u001B[38;5;124m]\u001B[39m\u001B[38;5;124m\"\u001B[39m\n\u001B[0;32m--> 288\u001B[0m         \u001B[38;5;28;01mraise\u001B[39;00m \u001B[38;5;167;01mValueError\u001B[39;00m(\n\u001B[1;32m    289\u001B[0m             \u001B[38;5;124;03m\"\"\"\u001B[39;00m\n\u001B[1;32m    290\u001B[0m \u001B[38;5;124;03m    Invalid value of type {typ} received for the '{name}' property of {pname}\u001B[39;00m\n\u001B[1;32m    291\u001B[0m \u001B[38;5;124;03m        Received value: {v}\u001B[39;00m\n\u001B[1;32m    292\u001B[0m \n\u001B[1;32m    293\u001B[0m \u001B[38;5;124;03m{valid_clr_desc}\"\"\"\u001B[39;00m\u001B[38;5;241m.\u001B[39mformat(\n\u001B[1;32m    294\u001B[0m                 name\u001B[38;5;241m=\u001B[39mname,\n\u001B[1;32m    295\u001B[0m                 pname\u001B[38;5;241m=\u001B[39m\u001B[38;5;28mself\u001B[39m\u001B[38;5;241m.\u001B[39mparent_name,\n\u001B[1;32m    296\u001B[0m                 typ\u001B[38;5;241m=\u001B[39mtype_str(v),\n\u001B[1;32m    297\u001B[0m                 v\u001B[38;5;241m=\u001B[39m\u001B[38;5;28mrepr\u001B[39m(v),\n\u001B[1;32m    298\u001B[0m                 valid_clr_desc\u001B[38;5;241m=\u001B[39m\u001B[38;5;28mself\u001B[39m\u001B[38;5;241m.\u001B[39mdescription(),\n\u001B[1;32m    299\u001B[0m             )\n\u001B[1;32m    300\u001B[0m         )\n",
      "\u001B[0;31mValueError\u001B[0m: \n    Invalid value of type 'numpy.float64' received for the 'y' property of box\n        Received value: 0.757085578353342\n\n    The 'y' property is an array that may be specified as a tuple,\n    list, numpy array, or pandas Series"
     ]
    }
   ],
   "source": [
    "#Grafico performance\n",
    "plot_results(model_scores, name='stacking_model_cv')"
   ]
  },
  {
   "cell_type": "markdown",
   "metadata": {
    "jp-MarkdownHeadingCollapsed": true,
    "pycharm": {
     "name": "#%% md\n"
    },
    "tags": []
   },
   "source": [
    "## Conclusiones"
   ]
  }
 ],
 "metadata": {
  "kernelspec": {
   "display_name": "Python 3 (ipykernel)",
   "language": "python",
   "name": "python3"
  },
  "language_info": {
   "codemirror_mode": {
    "name": "ipython",
    "version": 3
   },
   "file_extension": ".py",
   "mimetype": "text/x-python",
   "name": "python",
   "nbconvert_exporter": "python",
   "pygments_lexer": "ipython3",
   "version": "3.10.4"
  }
 },
 "nbformat": 4,
 "nbformat_minor": 4
}