{
 "cells": [
  {
   "cell_type": "markdown",
   "metadata": {
    "pycharm": {
     "name": "#%% md\n"
    }
   },
   "source": [
    "# 7506 - Trabajo Práctico 2"
   ]
  },
  {
   "cell_type": "markdown",
   "metadata": {
    "pycharm": {
     "name": "#%% md\n"
    }
   },
   "source": [
    "---"
   ]
  },
  {
   "cell_type": "markdown",
   "metadata": {
    "pycharm": {
     "name": "#%% md\n"
    }
   },
   "source": [
    "## Introducción"
   ]
  },
  {
   "cell_type": "markdown",
   "metadata": {
    "pycharm": {
     "name": "#%% md\n"
    }
   },
   "source": [
    "### Librerías"
   ]
  },
  {
   "cell_type": "code",
   "execution_count": 1,
   "metadata": {
    "jupyter": {
     "outputs_hidden": false
    },
    "pycharm": {
     "name": "#%%\n"
    }
   },
   "outputs": [
    {
     "name": "stderr",
     "output_type": "stream",
     "text": [
      "2022-11-29 02:03:05.068389: I tensorflow/core/platform/cpu_feature_guard.cc:193] This TensorFlow binary is optimized with oneAPI Deep Neural Network Library (oneDNN) to use the following CPU instructions in performance-critical operations:  AVX2 FMA\n",
      "To enable them in other operations, rebuild TensorFlow with the appropriate compiler flags.\n",
      "2022-11-29 02:03:05.737701: W tensorflow/compiler/xla/stream_executor/platform/default/dso_loader.cc:64] Could not load dynamic library 'libnvinfer.so.7'; dlerror: libnvinfer.so.7: cannot open shared object file: No such file or directory; LD_LIBRARY_PATH: :/home/fede/anaconda3/lib/\n",
      "2022-11-29 02:03:05.737804: W tensorflow/compiler/xla/stream_executor/platform/default/dso_loader.cc:64] Could not load dynamic library 'libnvinfer_plugin.so.7'; dlerror: libnvinfer_plugin.so.7: cannot open shared object file: No such file or directory; LD_LIBRARY_PATH: :/home/fede/anaconda3/lib/\n",
      "2022-11-29 02:03:05.737811: W tensorflow/compiler/tf2tensorrt/utils/py_utils.cc:38] TF-TRT Warning: Cannot dlopen some TensorRT libraries. If you would like to use Nvidia GPU with TensorRT, please make sure the missing libraries mentioned above are installed properly.\n"
     ]
    }
   ],
   "source": [
    "import pandas as pd\n",
    "import numpy as np\n",
    "import seaborn as sns\n",
    "import re\n",
    "from sklearn.model_selection import train_test_split, KFold, cross_val_score, StratifiedKFold, RandomizedSearchCV\n",
    "from sklearn.preprocessing import StandardScaler\n",
    "from scikeras.wrappers import KerasClassifier, KerasRegressor\n",
    "from sklearn.metrics import *\n",
    "import tensorflow as tf\n",
    "from tensorflow import keras\n",
    "import keras_tuner as kt\n",
    "import matplotlib.pyplot as plt\n",
    "from matplotlib import style\n",
    "from joblib import load\n",
    "import sklearn as sk"
   ]
  },
  {
   "cell_type": "code",
   "execution_count": 2,
   "metadata": {
    "jupyter": {
     "outputs_hidden": false
    },
    "pycharm": {
     "name": "#%%\n"
    }
   },
   "outputs": [
    {
     "data": {
      "text/html": [
       "<div>\n",
       "<style scoped>\n",
       "    .dataframe tbody tr th:only-of-type {\n",
       "        vertical-align: middle;\n",
       "    }\n",
       "\n",
       "    .dataframe tbody tr th {\n",
       "        vertical-align: top;\n",
       "    }\n",
       "\n",
       "    .dataframe thead th {\n",
       "        text-align: right;\n",
       "    }\n",
       "</style>\n",
       "<table border=\"1\" class=\"dataframe\">\n",
       "  <thead>\n",
       "    <tr style=\"text-align: right;\">\n",
       "      <th></th>\n",
       "      <th>id</th>\n",
       "      <th>start_date</th>\n",
       "      <th>end_date</th>\n",
       "      <th>latitud</th>\n",
       "      <th>longitud</th>\n",
       "      <th>place_l3</th>\n",
       "      <th>property_type</th>\n",
       "      <th>property_rooms</th>\n",
       "      <th>property_bedrooms</th>\n",
       "      <th>property_surface_total</th>\n",
       "      <th>property_surface_covered</th>\n",
       "      <th>property_price</th>\n",
       "      <th>property_title</th>\n",
       "    </tr>\n",
       "  </thead>\n",
       "  <tbody>\n",
       "    <tr>\n",
       "      <th>0</th>\n",
       "      <td>1PYAQFsAktkYlJpcdrH9uQ==</td>\n",
       "      <td>2021-03-24</td>\n",
       "      <td>2021-05-26</td>\n",
       "      <td>-34.589481</td>\n",
       "      <td>-58.389144</td>\n",
       "      <td>Recoleta</td>\n",
       "      <td>Departamento</td>\n",
       "      <td>4.0</td>\n",
       "      <td>3.0</td>\n",
       "      <td>192.0</td>\n",
       "      <td>170.0</td>\n",
       "      <td>580000.0</td>\n",
       "      <td>Balcón terraza y totalmente reciclado en Recol...</td>\n",
       "    </tr>\n",
       "    <tr>\n",
       "      <th>1</th>\n",
       "      <td>Qgy7pmJ4NulNrdbxa8a7MQ==</td>\n",
       "      <td>2021-12-13</td>\n",
       "      <td>2021-12-23</td>\n",
       "      <td>-34.555436</td>\n",
       "      <td>-58.475303</td>\n",
       "      <td>Nuñez</td>\n",
       "      <td>Departamento</td>\n",
       "      <td>3.0</td>\n",
       "      <td>2.0</td>\n",
       "      <td>83.0</td>\n",
       "      <td>83.0</td>\n",
       "      <td>100000.0</td>\n",
       "      <td>Departamento - Nuñez</td>\n",
       "    </tr>\n",
       "    <tr>\n",
       "      <th>2</th>\n",
       "      <td>QO1fBv/XWsHIqP59T0Xngg==</td>\n",
       "      <td>2021-09-24</td>\n",
       "      <td>2022-03-09</td>\n",
       "      <td>-34.577124</td>\n",
       "      <td>-58.475892</td>\n",
       "      <td>Villa Urquiza</td>\n",
       "      <td>Casa</td>\n",
       "      <td>4.0</td>\n",
       "      <td>3.0</td>\n",
       "      <td>150.0</td>\n",
       "      <td>105.0</td>\n",
       "      <td>229000.0</td>\n",
       "      <td>Casa en venta 4Amb c/patio y terraza - Urquiza R</td>\n",
       "    </tr>\n",
       "    <tr>\n",
       "      <th>3</th>\n",
       "      <td>9yo77b8vzfYAXyFJHVhLiw==</td>\n",
       "      <td>2021-07-16</td>\n",
       "      <td>9999-12-31</td>\n",
       "      <td>-34.639306</td>\n",
       "      <td>-58.368501</td>\n",
       "      <td>Barracas</td>\n",
       "      <td>Departamento</td>\n",
       "      <td>2.0</td>\n",
       "      <td>1.0</td>\n",
       "      <td>122.0</td>\n",
       "      <td>75.0</td>\n",
       "      <td>195000.0</td>\n",
       "      <td>Departamento - Barracas</td>\n",
       "    </tr>\n",
       "    <tr>\n",
       "      <th>4</th>\n",
       "      <td>HEyW45D+cF+tLUGaQPDgXg==</td>\n",
       "      <td>2021-08-30</td>\n",
       "      <td>2022-01-27</td>\n",
       "      <td>-34.563572</td>\n",
       "      <td>-58.439407</td>\n",
       "      <td>Palermo</td>\n",
       "      <td>Departamento</td>\n",
       "      <td>3.0</td>\n",
       "      <td>2.0</td>\n",
       "      <td>50.0</td>\n",
       "      <td>50.0</td>\n",
       "      <td>115000.0</td>\n",
       "      <td>Dpto. 3 ambientes, con cocina independiente y ...</td>\n",
       "    </tr>\n",
       "  </tbody>\n",
       "</table>\n",
       "</div>"
      ],
      "text/plain": [
       "                         id  start_date    end_date    latitud   longitud  \\\n",
       "0  1PYAQFsAktkYlJpcdrH9uQ==  2021-03-24  2021-05-26 -34.589481 -58.389144   \n",
       "1  Qgy7pmJ4NulNrdbxa8a7MQ==  2021-12-13  2021-12-23 -34.555436 -58.475303   \n",
       "2  QO1fBv/XWsHIqP59T0Xngg==  2021-09-24  2022-03-09 -34.577124 -58.475892   \n",
       "3  9yo77b8vzfYAXyFJHVhLiw==  2021-07-16  9999-12-31 -34.639306 -58.368501   \n",
       "4  HEyW45D+cF+tLUGaQPDgXg==  2021-08-30  2022-01-27 -34.563572 -58.439407   \n",
       "\n",
       "        place_l3 property_type  property_rooms  property_bedrooms  \\\n",
       "0       Recoleta  Departamento             4.0                3.0   \n",
       "1          Nuñez  Departamento             3.0                2.0   \n",
       "2  Villa Urquiza          Casa             4.0                3.0   \n",
       "3       Barracas  Departamento             2.0                1.0   \n",
       "4        Palermo  Departamento             3.0                2.0   \n",
       "\n",
       "   property_surface_total  property_surface_covered  property_price  \\\n",
       "0                   192.0                     170.0        580000.0   \n",
       "1                    83.0                      83.0        100000.0   \n",
       "2                   150.0                     105.0        229000.0   \n",
       "3                   122.0                      75.0        195000.0   \n",
       "4                    50.0                      50.0        115000.0   \n",
       "\n",
       "                                      property_title  \n",
       "0  Balcón terraza y totalmente reciclado en Recol...  \n",
       "1                               Departamento - Nuñez  \n",
       "2   Casa en venta 4Amb c/patio y terraza - Urquiza R  \n",
       "3                            Departamento - Barracas  \n",
       "4  Dpto. 3 ambientes, con cocina independiente y ...  "
      ]
     },
     "execution_count": 2,
     "metadata": {},
     "output_type": "execute_result"
    }
   ],
   "source": [
    "# Dataset Train preprocesado\n",
    "ds_train = pd.read_csv('datasets/tp1-train_id.csv')\n",
    "ds_train = ds_train.drop(['Unnamed: 0'], axis=1)\n",
    "ds_train.head()"
   ]
  },
  {
   "cell_type": "code",
   "execution_count": 3,
   "metadata": {
    "jupyter": {
     "outputs_hidden": false
    },
    "pycharm": {
     "name": "#%%\n"
    }
   },
   "outputs": [
    {
     "data": {
      "text/html": [
       "<div>\n",
       "<style scoped>\n",
       "    .dataframe tbody tr th:only-of-type {\n",
       "        vertical-align: middle;\n",
       "    }\n",
       "\n",
       "    .dataframe tbody tr th {\n",
       "        vertical-align: top;\n",
       "    }\n",
       "\n",
       "    .dataframe thead th {\n",
       "        text-align: right;\n",
       "    }\n",
       "</style>\n",
       "<table border=\"1\" class=\"dataframe\">\n",
       "  <thead>\n",
       "    <tr style=\"text-align: right;\">\n",
       "      <th></th>\n",
       "      <th>id</th>\n",
       "      <th>start_date</th>\n",
       "      <th>end_date</th>\n",
       "      <th>latitud</th>\n",
       "      <th>longitud</th>\n",
       "      <th>place_l3</th>\n",
       "      <th>property_type</th>\n",
       "      <th>property_rooms</th>\n",
       "      <th>property_bedrooms</th>\n",
       "      <th>property_surface_total</th>\n",
       "      <th>property_surface_covered</th>\n",
       "      <th>property_price</th>\n",
       "      <th>property_title</th>\n",
       "    </tr>\n",
       "  </thead>\n",
       "  <tbody>\n",
       "    <tr>\n",
       "      <th>0</th>\n",
       "      <td>poGOTUlIzEZKiMYhXKdYQQ==</td>\n",
       "      <td>2021-01-15</td>\n",
       "      <td>2021-04-29</td>\n",
       "      <td>-34.577306</td>\n",
       "      <td>-58.434056</td>\n",
       "      <td>Palermo</td>\n",
       "      <td>Departamento</td>\n",
       "      <td>3.0</td>\n",
       "      <td>2.0</td>\n",
       "      <td>68.0</td>\n",
       "      <td>68.0</td>\n",
       "      <td>158000.0</td>\n",
       "      <td>Departamento 3 Ambientes Reciclado Escritorio ...</td>\n",
       "    </tr>\n",
       "    <tr>\n",
       "      <th>1</th>\n",
       "      <td>/vmZVmXMvf5tTlS14gcC8w==</td>\n",
       "      <td>2021-09-01</td>\n",
       "      <td>2022-09-10</td>\n",
       "      <td>-34.558066</td>\n",
       "      <td>-58.473512</td>\n",
       "      <td>Belgrano</td>\n",
       "      <td>Casa</td>\n",
       "      <td>6.0</td>\n",
       "      <td>5.0</td>\n",
       "      <td>341.0</td>\n",
       "      <td>206.0</td>\n",
       "      <td>399000.0</td>\n",
       "      <td>Casa belgrano  jardin pileta luminoso doble co...</td>\n",
       "    </tr>\n",
       "    <tr>\n",
       "      <th>2</th>\n",
       "      <td>ko5Ol+Mv8KN8Kglz1k/ubA==</td>\n",
       "      <td>2021-12-08</td>\n",
       "      <td>2021-12-19</td>\n",
       "      <td>-34.545531</td>\n",
       "      <td>-58.474900</td>\n",
       "      <td>Saavedra</td>\n",
       "      <td>PH</td>\n",
       "      <td>1.0</td>\n",
       "      <td>1.0</td>\n",
       "      <td>20.0</td>\n",
       "      <td>20.0</td>\n",
       "      <td>45000.0</td>\n",
       "      <td>Dpto PH Saavedra 1amb sin expe P.Baja a la cal...</td>\n",
       "    </tr>\n",
       "    <tr>\n",
       "      <th>3</th>\n",
       "      <td>/Z37wOCvzjGlLKMdOFky+Q==</td>\n",
       "      <td>2021-04-26</td>\n",
       "      <td>2021-06-05</td>\n",
       "      <td>-34.605870</td>\n",
       "      <td>-58.457702</td>\n",
       "      <td>Caballito</td>\n",
       "      <td>Departamento</td>\n",
       "      <td>3.0</td>\n",
       "      <td>2.0</td>\n",
       "      <td>60.0</td>\n",
       "      <td>52.0</td>\n",
       "      <td>149000.0</td>\n",
       "      <td>Venta, Departamento, 3 ambientes, Balcón, coch...</td>\n",
       "    </tr>\n",
       "    <tr>\n",
       "      <th>4</th>\n",
       "      <td>RXg51b1AdPe+UXZkpRNEqg==</td>\n",
       "      <td>2021-01-07</td>\n",
       "      <td>2021-02-10</td>\n",
       "      <td>-34.587415</td>\n",
       "      <td>-58.438877</td>\n",
       "      <td>Palermo</td>\n",
       "      <td>Departamento</td>\n",
       "      <td>2.0</td>\n",
       "      <td>1.0</td>\n",
       "      <td>99.0</td>\n",
       "      <td>58.0</td>\n",
       "      <td>210000.0</td>\n",
       "      <td>U$S 210.000 - 2 amb - Palermo - Niceto Vega 52...</td>\n",
       "    </tr>\n",
       "    <tr>\n",
       "      <th>...</th>\n",
       "      <td>...</td>\n",
       "      <td>...</td>\n",
       "      <td>...</td>\n",
       "      <td>...</td>\n",
       "      <td>...</td>\n",
       "      <td>...</td>\n",
       "      <td>...</td>\n",
       "      <td>...</td>\n",
       "      <td>...</td>\n",
       "      <td>...</td>\n",
       "      <td>...</td>\n",
       "      <td>...</td>\n",
       "      <td>...</td>\n",
       "    </tr>\n",
       "    <tr>\n",
       "      <th>12061</th>\n",
       "      <td>zMNYVtyC8ZPLlHJDVEzcJg==</td>\n",
       "      <td>2021-05-22</td>\n",
       "      <td>2021-06-05</td>\n",
       "      <td>-34.562450</td>\n",
       "      <td>-58.454040</td>\n",
       "      <td>Belgrano</td>\n",
       "      <td>Departamento</td>\n",
       "      <td>3.0</td>\n",
       "      <td>2.0</td>\n",
       "      <td>76.0</td>\n",
       "      <td>70.0</td>\n",
       "      <td>204000.0</td>\n",
       "      <td>Venta Departamento 3 amb con Balcón Dependenci...</td>\n",
       "    </tr>\n",
       "    <tr>\n",
       "      <th>12062</th>\n",
       "      <td>TI8pKfusTlHy5oPeb/ZBWQ==</td>\n",
       "      <td>2021-03-02</td>\n",
       "      <td>2021-03-10</td>\n",
       "      <td>-34.598424</td>\n",
       "      <td>-58.440173</td>\n",
       "      <td>Villa Crespo</td>\n",
       "      <td>Departamento</td>\n",
       "      <td>4.0</td>\n",
       "      <td>3.0</td>\n",
       "      <td>136.0</td>\n",
       "      <td>123.0</td>\n",
       "      <td>299000.0</td>\n",
       "      <td>4 AMB C/DEP, COCHERA, PISO ALTO! VILLA CRESPO</td>\n",
       "    </tr>\n",
       "    <tr>\n",
       "      <th>12063</th>\n",
       "      <td>y8Uvsi21S5hPqQT7OeAwAw==</td>\n",
       "      <td>2021-08-10</td>\n",
       "      <td>9999-12-31</td>\n",
       "      <td>-34.639597</td>\n",
       "      <td>-58.369096</td>\n",
       "      <td>Barracas</td>\n",
       "      <td>Departamento</td>\n",
       "      <td>2.0</td>\n",
       "      <td>1.0</td>\n",
       "      <td>105.0</td>\n",
       "      <td>92.0</td>\n",
       "      <td>230000.0</td>\n",
       "      <td>Departamento - Barracas</td>\n",
       "    </tr>\n",
       "    <tr>\n",
       "      <th>12064</th>\n",
       "      <td>R1uGoXBwjP52Z1ZAwqQ3dQ==</td>\n",
       "      <td>2021-01-11</td>\n",
       "      <td>2021-02-08</td>\n",
       "      <td>-34.574611</td>\n",
       "      <td>-58.492324</td>\n",
       "      <td>Villa Urquiza</td>\n",
       "      <td>Departamento</td>\n",
       "      <td>2.0</td>\n",
       "      <td>1.0</td>\n",
       "      <td>67.0</td>\n",
       "      <td>59.0</td>\n",
       "      <td>119538.0</td>\n",
       "      <td>Departamento - Villa Urquiza</td>\n",
       "    </tr>\n",
       "    <tr>\n",
       "      <th>12065</th>\n",
       "      <td>iy6JRE+pzJhRjPEbqnQqmA==</td>\n",
       "      <td>2021-09-29</td>\n",
       "      <td>2021-12-05</td>\n",
       "      <td>-34.583990</td>\n",
       "      <td>-58.419339</td>\n",
       "      <td>Palermo</td>\n",
       "      <td>Departamento</td>\n",
       "      <td>2.0</td>\n",
       "      <td>1.0</td>\n",
       "      <td>44.0</td>\n",
       "      <td>44.0</td>\n",
       "      <td>130000.0</td>\n",
       "      <td>Departamento - Palermo</td>\n",
       "    </tr>\n",
       "  </tbody>\n",
       "</table>\n",
       "<p>12066 rows × 13 columns</p>\n",
       "</div>"
      ],
      "text/plain": [
       "                             id  start_date    end_date    latitud   longitud  \\\n",
       "0      poGOTUlIzEZKiMYhXKdYQQ==  2021-01-15  2021-04-29 -34.577306 -58.434056   \n",
       "1      /vmZVmXMvf5tTlS14gcC8w==  2021-09-01  2022-09-10 -34.558066 -58.473512   \n",
       "2      ko5Ol+Mv8KN8Kglz1k/ubA==  2021-12-08  2021-12-19 -34.545531 -58.474900   \n",
       "3      /Z37wOCvzjGlLKMdOFky+Q==  2021-04-26  2021-06-05 -34.605870 -58.457702   \n",
       "4      RXg51b1AdPe+UXZkpRNEqg==  2021-01-07  2021-02-10 -34.587415 -58.438877   \n",
       "...                         ...         ...         ...        ...        ...   \n",
       "12061  zMNYVtyC8ZPLlHJDVEzcJg==  2021-05-22  2021-06-05 -34.562450 -58.454040   \n",
       "12062  TI8pKfusTlHy5oPeb/ZBWQ==  2021-03-02  2021-03-10 -34.598424 -58.440173   \n",
       "12063  y8Uvsi21S5hPqQT7OeAwAw==  2021-08-10  9999-12-31 -34.639597 -58.369096   \n",
       "12064  R1uGoXBwjP52Z1ZAwqQ3dQ==  2021-01-11  2021-02-08 -34.574611 -58.492324   \n",
       "12065  iy6JRE+pzJhRjPEbqnQqmA==  2021-09-29  2021-12-05 -34.583990 -58.419339   \n",
       "\n",
       "            place_l3 property_type  property_rooms  property_bedrooms  \\\n",
       "0            Palermo  Departamento             3.0                2.0   \n",
       "1           Belgrano          Casa             6.0                5.0   \n",
       "2           Saavedra            PH             1.0                1.0   \n",
       "3          Caballito  Departamento             3.0                2.0   \n",
       "4            Palermo  Departamento             2.0                1.0   \n",
       "...              ...           ...             ...                ...   \n",
       "12061       Belgrano  Departamento             3.0                2.0   \n",
       "12062   Villa Crespo  Departamento             4.0                3.0   \n",
       "12063       Barracas  Departamento             2.0                1.0   \n",
       "12064  Villa Urquiza  Departamento             2.0                1.0   \n",
       "12065        Palermo  Departamento             2.0                1.0   \n",
       "\n",
       "       property_surface_total  property_surface_covered  property_price  \\\n",
       "0                        68.0                      68.0        158000.0   \n",
       "1                       341.0                     206.0        399000.0   \n",
       "2                        20.0                      20.0         45000.0   \n",
       "3                        60.0                      52.0        149000.0   \n",
       "4                        99.0                      58.0        210000.0   \n",
       "...                       ...                       ...             ...   \n",
       "12061                    76.0                      70.0        204000.0   \n",
       "12062                   136.0                     123.0        299000.0   \n",
       "12063                   105.0                      92.0        230000.0   \n",
       "12064                    67.0                      59.0        119538.0   \n",
       "12065                    44.0                      44.0        130000.0   \n",
       "\n",
       "                                          property_title  \n",
       "0      Departamento 3 Ambientes Reciclado Escritorio ...  \n",
       "1      Casa belgrano  jardin pileta luminoso doble co...  \n",
       "2      Dpto PH Saavedra 1amb sin expe P.Baja a la cal...  \n",
       "3      Venta, Departamento, 3 ambientes, Balcón, coch...  \n",
       "4      U$S 210.000 - 2 amb - Palermo - Niceto Vega 52...  \n",
       "...                                                  ...  \n",
       "12061  Venta Departamento 3 amb con Balcón Dependenci...  \n",
       "12062      4 AMB C/DEP, COCHERA, PISO ALTO! VILLA CRESPO  \n",
       "12063                            Departamento - Barracas  \n",
       "12064                       Departamento - Villa Urquiza  \n",
       "12065                             Departamento - Palermo  \n",
       "\n",
       "[12066 rows x 13 columns]"
      ]
     },
     "execution_count": 3,
     "metadata": {},
     "output_type": "execute_result"
    }
   ],
   "source": [
    "# Dataset Test preprocesado\n",
    "ds_test = pd.read_csv('datasets/tp1-test_id.csv')\n",
    "ds_test = ds_test.drop(['Unnamed: 0'], axis=1)\n",
    "ds_test"
   ]
  },
  {
   "cell_type": "markdown",
   "metadata": {
    "pycharm": {
     "name": "#%% md\n"
    }
   },
   "source": [
    "## Procesamiento del lenguaje natural"
   ]
  },
  {
   "cell_type": "markdown",
   "metadata": {
    "pycharm": {
     "name": "#%% md\n"
    }
   },
   "source": [
    "### Ampliación del dataset"
   ]
  },
  {
   "cell_type": "markdown",
   "metadata": {
    "pycharm": {
     "name": "#%% md\n"
    }
   },
   "source": [
    "Este dataset incluye descripciones de las propiedades del otro dataset. Veremos como podemos extraer información de estas descripciones."
   ]
  },
  {
   "cell_type": "code",
   "execution_count": 4,
   "metadata": {
    "jupyter": {
     "outputs_hidden": false
    },
    "pycharm": {
     "name": "#%%\n"
    }
   },
   "outputs": [
    {
     "data": {
      "text/html": [
       "<div>\n",
       "<style scoped>\n",
       "    .dataframe tbody tr th:only-of-type {\n",
       "        vertical-align: middle;\n",
       "    }\n",
       "\n",
       "    .dataframe tbody tr th {\n",
       "        vertical-align: top;\n",
       "    }\n",
       "\n",
       "    .dataframe thead th {\n",
       "        text-align: right;\n",
       "    }\n",
       "</style>\n",
       "<table border=\"1\" class=\"dataframe\">\n",
       "  <thead>\n",
       "    <tr style=\"text-align: right;\">\n",
       "      <th></th>\n",
       "      <th>id</th>\n",
       "      <th>property_description</th>\n",
       "    </tr>\n",
       "  </thead>\n",
       "  <tbody>\n",
       "    <tr>\n",
       "      <th>0</th>\n",
       "      <td>BZCeiGkJr1WBUi6pKJQwJQ==</td>\n",
       "      <td>Corredor Responsable: MARIA ALEJANDRA GENOVEVA...</td>\n",
       "    </tr>\n",
       "    <tr>\n",
       "      <th>1</th>\n",
       "      <td>zuHOGgUE0UB71W7m/YCLoA==</td>\n",
       "      <td>¡HERMOSO PH TIPO CASA DE 2 AMBIENTES!&lt;br&gt;APTO ...</td>\n",
       "    </tr>\n",
       "    <tr>\n",
       "      <th>2</th>\n",
       "      <td>TUL813tXchVBlHUsfaA6DA==</td>\n",
       "      <td>Excelente PH en Núñez 4 amb!!!! Oportunidad !!...</td>\n",
       "    </tr>\n",
       "    <tr>\n",
       "      <th>3</th>\n",
       "      <td>gn55JPmcjftBV/at1a7fPg==</td>\n",
       "      <td>UNICO PH DE 4 DORMITORIOS EN IMPECABLE ESTADO,...</td>\n",
       "    </tr>\n",
       "    <tr>\n",
       "      <th>4</th>\n",
       "      <td>qg4m3QHcuo1+wMmyp7kx3Q==</td>\n",
       "      <td>Ph 2 Amb. Villa Crespo exclusivo uso profesion...</td>\n",
       "    </tr>\n",
       "  </tbody>\n",
       "</table>\n",
       "</div>"
      ],
      "text/plain": [
       "                         id                               property_description\n",
       "0  BZCeiGkJr1WBUi6pKJQwJQ==  Corredor Responsable: MARIA ALEJANDRA GENOVEVA...\n",
       "1  zuHOGgUE0UB71W7m/YCLoA==  ¡HERMOSO PH TIPO CASA DE 2 AMBIENTES!<br>APTO ...\n",
       "2  TUL813tXchVBlHUsfaA6DA==  Excelente PH en Núñez 4 amb!!!! Oportunidad !!...\n",
       "3  gn55JPmcjftBV/at1a7fPg==  UNICO PH DE 4 DORMITORIOS EN IMPECABLE ESTADO,...\n",
       "4  qg4m3QHcuo1+wMmyp7kx3Q==  Ph 2 Amb. Villa Crespo exclusivo uso profesion..."
      ]
     },
     "execution_count": 4,
     "metadata": {},
     "output_type": "execute_result"
    }
   ],
   "source": [
    "descriptions_dataset = pd.read_csv('datasets/properati_argentina_2021_decrip.csv')\n",
    "descriptions_dataset.head()"
   ]
  },
  {
   "cell_type": "markdown",
   "metadata": {
    "pycharm": {
     "name": "#%% md\n"
    }
   },
   "source": [
    "Tomaremos las descripciones correspondientes a los datasets de train y test"
   ]
  },
  {
   "cell_type": "code",
   "execution_count": 5,
   "metadata": {
    "jupyter": {
     "outputs_hidden": false
    },
    "pycharm": {
     "name": "#%%\n"
    }
   },
   "outputs": [
    {
     "data": {
      "text/plain": [
       "((60705, 2), (12066, 2))"
      ]
     },
     "execution_count": 5,
     "metadata": {},
     "output_type": "execute_result"
    }
   ],
   "source": [
    "descriptions_train = descriptions_dataset[descriptions_dataset.id.isin(ds_train.id)].copy()\n",
    "descriptions_test = descriptions_dataset[descriptions_dataset.id.isin(ds_test.id)].copy()\n",
    "descriptions_train.shape, descriptions_test.shape"
   ]
  },
  {
   "cell_type": "markdown",
   "metadata": {
    "pycharm": {
     "name": "#%% md\n"
    }
   },
   "source": [
    "#### Análisis de sentimientos - Tecnica Minqing Hu y Bing Liu"
   ]
  },
  {
   "cell_type": "markdown",
   "metadata": {
    "pycharm": {
     "name": "#%% md\n"
    }
   },
   "source": [
    "Una forma de analizar el sentimiento de un de un texto es considerando su sentimiento como la suma de los sentimientos de cada una de las palabras que lo forman.\n",
    "\n",
    "Para el analisis de sentimiento nos guiamos del analisis realizado en esta pagina: https://www.cienciadedatos.net/documentos/py25-text-mining-python.html\n",
    "\n",
    "Utilizamos algunas funciones de tokenizacion y limpieza de ahi con alguna sutil modificacion para nuestro caso de uso en particular."
   ]
  },
  {
   "cell_type": "code",
   "execution_count": 6,
   "metadata": {
    "jupyter": {
     "outputs_hidden": false
    },
    "pycharm": {
     "name": "#%%\n"
    }
   },
   "outputs": [],
   "source": [
    "def limpiar_tokenizar(texto):\n",
    "    '''\n",
    "    Esta función limpia y tokeniza el texto en palabras individuales.\n",
    "    El orden en el que se va limpiando el texto no es arbitrario.\n",
    "    El listado de signos de puntuación se ha obtenido de: print(string.punctuation)\n",
    "    y re.escape(string.punctuation)\n",
    "    '''\n",
    "\n",
    "    # Se convierte todo el texto a minúsculas\n",
    "    nuevo_texto = str(texto).lower()\n",
    "    # Eliminación de páginas web (palabras que empiezan por \"http\")\n",
    "    nuevo_texto = re.sub('http\\S+', ' ', nuevo_texto)\n",
    "    # Eliminación de signos de puntuación\n",
    "    regex = '[\\\\!\\\\¡\\\\\"\\\\#\\\\$\\\\%\\\\&\\\\\\'\\\\(\\\\)\\\\*\\\\+\\\\,\\\\-\\\\.\\\\/\\\\:\\\\;\\\\<\\\\=\\\\>\\\\?\\\\@\\\\[\\\\\\\\\\\\]\\\\^_\\\\`\\\\{\\\\|\\\\}\\\\~]'\n",
    "    nuevo_texto = re.sub(regex, ' ', nuevo_texto)\n",
    "    # Eliminación de números\n",
    "    nuevo_texto = re.sub(\"\\d+\", ' ', nuevo_texto)\n",
    "    # Eliminación de espacios en blanco múltiples\n",
    "    nuevo_texto = re.sub(\"\\\\s+\", ' ', nuevo_texto)\n",
    "    # Tokenización por palabras individuales\n",
    "    nuevo_texto = nuevo_texto.split(sep=' ')\n",
    "    # Eliminación de tokens con una longitud < 2\n",
    "    nuevo_texto = [token for token in nuevo_texto if len(token) > 1]\n",
    "\n",
    "    return (nuevo_texto)"
   ]
  },
  {
   "cell_type": "code",
   "execution_count": 7,
   "metadata": {
    "jupyter": {
     "outputs_hidden": false
    },
    "pycharm": {
     "name": "#%%\n"
    }
   },
   "outputs": [
    {
     "data": {
      "text/html": [
       "<div>\n",
       "<style scoped>\n",
       "    .dataframe tbody tr th:only-of-type {\n",
       "        vertical-align: middle;\n",
       "    }\n",
       "\n",
       "    .dataframe tbody tr th {\n",
       "        vertical-align: top;\n",
       "    }\n",
       "\n",
       "    .dataframe thead th {\n",
       "        text-align: right;\n",
       "    }\n",
       "</style>\n",
       "<table border=\"1\" class=\"dataframe\">\n",
       "  <thead>\n",
       "    <tr style=\"text-align: right;\">\n",
       "      <th></th>\n",
       "      <th>id</th>\n",
       "      <th>property_description</th>\n",
       "    </tr>\n",
       "  </thead>\n",
       "  <tbody>\n",
       "    <tr>\n",
       "      <th>0</th>\n",
       "      <td>BZCeiGkJr1WBUi6pKJQwJQ==</td>\n",
       "      <td>[corredor, responsable, maria, alejandra, geno...</td>\n",
       "    </tr>\n",
       "    <tr>\n",
       "      <th>3</th>\n",
       "      <td>gn55JPmcjftBV/at1a7fPg==</td>\n",
       "      <td>[unico, ph, de, dormitorios, en, impecable, es...</td>\n",
       "    </tr>\n",
       "    <tr>\n",
       "      <th>11</th>\n",
       "      <td>uH5H+RfQM87Qtrb13+T4hA==</td>\n",
       "      <td>[venta, ph, ambientes, paternal, br, br, cálid...</td>\n",
       "    </tr>\n",
       "    <tr>\n",
       "      <th>16</th>\n",
       "      <td>n7NJmavbeNUlyKufoGRr+g==</td>\n",
       "      <td>[oportunidad, br, acceso, por, escalera, ampli...</td>\n",
       "    </tr>\n",
       "    <tr>\n",
       "      <th>153</th>\n",
       "      <td>lZyClw0vqQvUiJkIemcg8A==</td>\n",
       "      <td>[departamento, piso, ambientes, con, dependenc...</td>\n",
       "    </tr>\n",
       "  </tbody>\n",
       "</table>\n",
       "</div>"
      ],
      "text/plain": [
       "                           id  \\\n",
       "0    BZCeiGkJr1WBUi6pKJQwJQ==   \n",
       "3    gn55JPmcjftBV/at1a7fPg==   \n",
       "11   uH5H+RfQM87Qtrb13+T4hA==   \n",
       "16   n7NJmavbeNUlyKufoGRr+g==   \n",
       "153  lZyClw0vqQvUiJkIemcg8A==   \n",
       "\n",
       "                                  property_description  \n",
       "0    [corredor, responsable, maria, alejandra, geno...  \n",
       "3    [unico, ph, de, dormitorios, en, impecable, es...  \n",
       "11   [venta, ph, ambientes, paternal, br, br, cálid...  \n",
       "16   [oportunidad, br, acceso, por, escalera, ampli...  \n",
       "153  [departamento, piso, ambientes, con, dependenc...  "
      ]
     },
     "execution_count": 7,
     "metadata": {},
     "output_type": "execute_result"
    }
   ],
   "source": [
    "# se aplica la función de limpieza a train y test y tokenización a cada descripcion\n",
    "\n",
    "tokenized_train = pd.concat([descriptions_train.id, descriptions_train['property_description'].apply(limpiar_tokenizar)], axis=1)\n",
    "tokenized_test = pd.concat([descriptions_test.id, descriptions_test['property_description'].apply(limpiar_tokenizar)], axis=1)\n",
    "tokenized_train.head()"
   ]
  },
  {
   "cell_type": "markdown",
   "metadata": {
    "pycharm": {
     "name": "#%% md\n"
    }
   },
   "source": [
    "Separamos los tokens según ids tanto en train como en test."
   ]
  },
  {
   "cell_type": "code",
   "execution_count": 8,
   "metadata": {
    "jupyter": {
     "outputs_hidden": false
    },
    "pycharm": {
     "name": "#%%\n"
    }
   },
   "outputs": [
    {
     "data": {
      "text/html": [
       "<div>\n",
       "<style scoped>\n",
       "    .dataframe tbody tr th:only-of-type {\n",
       "        vertical-align: middle;\n",
       "    }\n",
       "\n",
       "    .dataframe tbody tr th {\n",
       "        vertical-align: top;\n",
       "    }\n",
       "\n",
       "    .dataframe thead th {\n",
       "        text-align: right;\n",
       "    }\n",
       "</style>\n",
       "<table border=\"1\" class=\"dataframe\">\n",
       "  <thead>\n",
       "    <tr style=\"text-align: right;\">\n",
       "      <th></th>\n",
       "      <th>id</th>\n",
       "      <th>token</th>\n",
       "    </tr>\n",
       "  </thead>\n",
       "  <tbody>\n",
       "    <tr>\n",
       "      <th>0</th>\n",
       "      <td>BZCeiGkJr1WBUi6pKJQwJQ==</td>\n",
       "      <td>corredor</td>\n",
       "    </tr>\n",
       "    <tr>\n",
       "      <th>1</th>\n",
       "      <td>BZCeiGkJr1WBUi6pKJQwJQ==</td>\n",
       "      <td>responsable</td>\n",
       "    </tr>\n",
       "    <tr>\n",
       "      <th>2</th>\n",
       "      <td>BZCeiGkJr1WBUi6pKJQwJQ==</td>\n",
       "      <td>maria</td>\n",
       "    </tr>\n",
       "    <tr>\n",
       "      <th>3</th>\n",
       "      <td>BZCeiGkJr1WBUi6pKJQwJQ==</td>\n",
       "      <td>alejandra</td>\n",
       "    </tr>\n",
       "    <tr>\n",
       "      <th>4</th>\n",
       "      <td>BZCeiGkJr1WBUi6pKJQwJQ==</td>\n",
       "      <td>genoveva</td>\n",
       "    </tr>\n",
       "  </tbody>\n",
       "</table>\n",
       "</div>"
      ],
      "text/plain": [
       "                         id        token\n",
       "0  BZCeiGkJr1WBUi6pKJQwJQ==     corredor\n",
       "1  BZCeiGkJr1WBUi6pKJQwJQ==  responsable\n",
       "2  BZCeiGkJr1WBUi6pKJQwJQ==        maria\n",
       "3  BZCeiGkJr1WBUi6pKJQwJQ==    alejandra\n",
       "4  BZCeiGkJr1WBUi6pKJQwJQ==     genoveva"
      ]
     },
     "execution_count": 8,
     "metadata": {},
     "output_type": "execute_result"
    }
   ],
   "source": [
    "tokens_train = tokenized_train.explode(column='property_description')\n",
    "tokens_train = tokens_train.rename(columns={'property_description': 'token'})\n",
    "tokens_train.reset_index(inplace=True, drop=True)\n",
    "tokens_train.head()"
   ]
  },
  {
   "cell_type": "code",
   "execution_count": 9,
   "metadata": {
    "jupyter": {
     "outputs_hidden": false
    },
    "pycharm": {
     "name": "#%%\n"
    }
   },
   "outputs": [],
   "source": [
    "# Replicamos en test.\n",
    "tokens_test = tokenized_test.explode(column='property_description')\n",
    "tokens_test = tokens_test.rename(columns={'property_description': 'token'})\n",
    "tokens_test.reset_index(inplace=True, drop=True)"
   ]
  },
  {
   "cell_type": "code",
   "execution_count": 10,
   "metadata": {
    "jupyter": {
     "outputs_hidden": false
    },
    "pycharm": {
     "name": "#%%\n"
    }
   },
   "outputs": [
    {
     "data": {
      "text/plain": [
       "((11156503, 2), (2242184, 2))"
      ]
     },
     "execution_count": 10,
     "metadata": {},
     "output_type": "execute_result"
    }
   ],
   "source": [
    "tokens_train.shape, tokens_test.shape"
   ]
  },
  {
   "cell_type": "markdown",
   "metadata": {
    "pycharm": {
     "name": "#%% md\n"
    }
   },
   "source": [
    "Vemos que tenemos 11 millones de palabras en train y 3 millones en test"
   ]
  },
  {
   "cell_type": "markdown",
   "metadata": {
    "pycharm": {
     "name": "#%% md\n"
    }
   },
   "source": [
    "Notamos que las preposiciones no son relevantes para entender que atributo podria ser mejor para expandir el datast, asi que decidimos agregarlas como stopwords.\n",
    "\n",
    "Tampoco van a variar mucho el analisis de sentimiento realizado en este trabajo."
   ]
  },
  {
   "cell_type": "code",
   "execution_count": 11,
   "metadata": {
    "jupyter": {
     "outputs_hidden": false
    },
    "pycharm": {
     "name": "#%%\n"
    }
   },
   "outputs": [],
   "source": [
    "## listado de stopwords\n",
    "\n",
    "preposiciones = [\"a\", \"ante\", \"bajo\", \"cabe\", \"con\", \"contra\", \"de\", \"desde\", \"durante\", \"en\", \"entre\", \"hacia\",\n",
    "                 \"hasta\", \"mediante\", \"para\", \"por\", \"según\", \"sin\", \"sobre\", \"tras\", \"vía\"]\n",
    "\n",
    "stop_words = []\n",
    "\n",
    "stop_words += preposiciones\n",
    "\n",
    "# filtrado para excluir stopwords\n",
    "tokens_train = tokens_train[~(tokens_train[\"token\"].isin(stop_words))]\n",
    "\n",
    "tokens_test = tokens_test[~(tokens_test[\"token\"].isin(stop_words))]"
   ]
  },
  {
   "cell_type": "markdown",
   "metadata": {
    "pycharm": {
     "name": "#%% md\n"
    }
   },
   "source": [
    "Agregamos un lexicon en español de esta pagina: https://github.com/jboscomendoza/lexicos-nrc-afinn"
   ]
  },
  {
   "cell_type": "code",
   "execution_count": 12,
   "metadata": {
    "jupyter": {
     "outputs_hidden": false
    },
    "pycharm": {
     "name": "#%%\n"
    }
   },
   "outputs": [
    {
     "data": {
      "text/html": [
       "<div>\n",
       "<style scoped>\n",
       "    .dataframe tbody tr th:only-of-type {\n",
       "        vertical-align: middle;\n",
       "    }\n",
       "\n",
       "    .dataframe tbody tr th {\n",
       "        vertical-align: top;\n",
       "    }\n",
       "\n",
       "    .dataframe thead th {\n",
       "        text-align: right;\n",
       "    }\n",
       "</style>\n",
       "<table border=\"1\" class=\"dataframe\">\n",
       "  <thead>\n",
       "    <tr style=\"text-align: right;\">\n",
       "      <th></th>\n",
       "      <th>palabra</th>\n",
       "      <th>sentimiento</th>\n",
       "      <th>word</th>\n",
       "    </tr>\n",
       "  </thead>\n",
       "  <tbody>\n",
       "    <tr>\n",
       "      <th>0</th>\n",
       "      <td>ciegamente</td>\n",
       "      <td>negativo</td>\n",
       "      <td>blindly</td>\n",
       "    </tr>\n",
       "    <tr>\n",
       "      <th>1</th>\n",
       "      <td>ciegamente</td>\n",
       "      <td>tristeza</td>\n",
       "      <td>blindly</td>\n",
       "    </tr>\n",
       "    <tr>\n",
       "      <th>2</th>\n",
       "      <td>a distancia</td>\n",
       "      <td>negativo</td>\n",
       "      <td>aloof</td>\n",
       "    </tr>\n",
       "    <tr>\n",
       "      <th>3</th>\n",
       "      <td>a hurtadillas</td>\n",
       "      <td>sorpresa</td>\n",
       "      <td>stealthily</td>\n",
       "    </tr>\n",
       "    <tr>\n",
       "      <th>4</th>\n",
       "      <td>a la deriva</td>\n",
       "      <td>anticipación</td>\n",
       "      <td>adrift</td>\n",
       "    </tr>\n",
       "    <tr>\n",
       "      <th>...</th>\n",
       "      <td>...</td>\n",
       "      <td>...</td>\n",
       "      <td>...</td>\n",
       "    </tr>\n",
       "    <tr>\n",
       "      <th>15302</th>\n",
       "      <td>zumbido</td>\n",
       "      <td>anticipación</td>\n",
       "      <td>buzz</td>\n",
       "    </tr>\n",
       "    <tr>\n",
       "      <th>15303</th>\n",
       "      <td>zumbido</td>\n",
       "      <td>miedo</td>\n",
       "      <td>buzz</td>\n",
       "    </tr>\n",
       "    <tr>\n",
       "      <th>15304</th>\n",
       "      <td>zumbido</td>\n",
       "      <td>positivo</td>\n",
       "      <td>buzz</td>\n",
       "    </tr>\n",
       "    <tr>\n",
       "      <th>15305</th>\n",
       "      <td>zumbido</td>\n",
       "      <td>negativo</td>\n",
       "      <td>drone</td>\n",
       "    </tr>\n",
       "    <tr>\n",
       "      <th>15306</th>\n",
       "      <td>zurcidura</td>\n",
       "      <td>positivo</td>\n",
       "      <td>mending</td>\n",
       "    </tr>\n",
       "  </tbody>\n",
       "</table>\n",
       "<p>15307 rows × 3 columns</p>\n",
       "</div>"
      ],
      "text/plain": [
       "             palabra   sentimiento        word\n",
       "0         ciegamente      negativo     blindly\n",
       "1         ciegamente      tristeza     blindly\n",
       "2        a distancia      negativo       aloof\n",
       "3      a hurtadillas      sorpresa  stealthily\n",
       "4        a la deriva  anticipación      adrift\n",
       "...              ...           ...         ...\n",
       "15302        zumbido  anticipación        buzz\n",
       "15303        zumbido         miedo        buzz\n",
       "15304        zumbido      positivo        buzz\n",
       "15305        zumbido      negativo       drone\n",
       "15306      zurcidura      positivo     mending\n",
       "\n",
       "[15307 rows x 3 columns]"
      ]
     },
     "execution_count": 12,
     "metadata": {},
     "output_type": "execute_result"
    }
   ],
   "source": [
    "# lexicon sentimientos\n",
    "lexicon = pd.read_csv('datasets/lexico_nrc.csv')\n",
    "lexicon"
   ]
  },
  {
   "cell_type": "code",
   "execution_count": 13,
   "metadata": {
    "jupyter": {
     "outputs_hidden": false
    },
    "pycharm": {
     "name": "#%%\n"
    }
   },
   "outputs": [],
   "source": [
    "def mappear_valores_sentimiento(s):\n",
    "    # 1 Positivo\n",
    "    # 0 Neutro\n",
    "    # -1 Negativo\n",
    "    sentimiento_numerico = 0\n",
    "    if str(s) in ['negativo', 'tristeza', 'miedo', 'enfado', 'tristeza', 'asco']:\n",
    "        sentimiento_numerico = -1\n",
    "    if str(s) in ['sorpresa', 'positivo', 'confianza', 'alegría']:\n",
    "        sentimiento_numerico = 1\n",
    "    if str(s) in ['anticipación']:\n",
    "        sentimiento_numerico = 0\n",
    "\n",
    "    return sentimiento_numerico\n"
   ]
  },
  {
   "cell_type": "code",
   "execution_count": 14,
   "metadata": {
    "jupyter": {
     "outputs_hidden": false
    },
    "pycharm": {
     "name": "#%%\n"
    }
   },
   "outputs": [
    {
     "data": {
      "text/html": [
       "<div>\n",
       "<style scoped>\n",
       "    .dataframe tbody tr th:only-of-type {\n",
       "        vertical-align: middle;\n",
       "    }\n",
       "\n",
       "    .dataframe tbody tr th {\n",
       "        vertical-align: top;\n",
       "    }\n",
       "\n",
       "    .dataframe thead th {\n",
       "        text-align: right;\n",
       "    }\n",
       "</style>\n",
       "<table border=\"1\" class=\"dataframe\">\n",
       "  <thead>\n",
       "    <tr style=\"text-align: right;\">\n",
       "      <th></th>\n",
       "      <th>sentimiento</th>\n",
       "    </tr>\n",
       "  </thead>\n",
       "  <tbody>\n",
       "    <tr>\n",
       "      <th>0</th>\n",
       "      <td>-1</td>\n",
       "    </tr>\n",
       "    <tr>\n",
       "      <th>1</th>\n",
       "      <td>-1</td>\n",
       "    </tr>\n",
       "    <tr>\n",
       "      <th>2</th>\n",
       "      <td>-1</td>\n",
       "    </tr>\n",
       "    <tr>\n",
       "      <th>3</th>\n",
       "      <td>1</td>\n",
       "    </tr>\n",
       "    <tr>\n",
       "      <th>4</th>\n",
       "      <td>0</td>\n",
       "    </tr>\n",
       "  </tbody>\n",
       "</table>\n",
       "</div>"
      ],
      "text/plain": [
       "   sentimiento\n",
       "0           -1\n",
       "1           -1\n",
       "2           -1\n",
       "3            1\n",
       "4            0"
      ]
     },
     "execution_count": 14,
     "metadata": {},
     "output_type": "execute_result"
    }
   ],
   "source": [
    "lexicon['sentimiento'] = lexicon['sentimiento'].apply(lambda x: mappear_valores_sentimiento(x))\n",
    "lexicon[['sentimiento']].head()"
   ]
  },
  {
   "cell_type": "code",
   "execution_count": 15,
   "metadata": {
    "jupyter": {
     "outputs_hidden": false
    },
    "pycharm": {
     "name": "#%%\n"
    }
   },
   "outputs": [
    {
     "data": {
      "text/plain": [
       "((1305910, 2), (261835, 2))"
      ]
     },
     "execution_count": 15,
     "metadata": {},
     "output_type": "execute_result"
    }
   ],
   "source": [
    "tokens_train[tokens_train.token.isin(lexicon.palabra)].shape, tokens_test[tokens_test.token.isin(lexicon.palabra)].shape"
   ]
  },
  {
   "cell_type": "code",
   "execution_count": 16,
   "metadata": {
    "jupyter": {
     "outputs_hidden": false
    },
    "pycharm": {
     "name": "#%%\n"
    }
   },
   "outputs": [
    {
     "data": {
      "text/html": [
       "<div>\n",
       "<style scoped>\n",
       "    .dataframe tbody tr th:only-of-type {\n",
       "        vertical-align: middle;\n",
       "    }\n",
       "\n",
       "    .dataframe tbody tr th {\n",
       "        vertical-align: top;\n",
       "    }\n",
       "\n",
       "    .dataframe thead th {\n",
       "        text-align: right;\n",
       "    }\n",
       "</style>\n",
       "<table border=\"1\" class=\"dataframe\">\n",
       "  <thead>\n",
       "    <tr style=\"text-align: right;\">\n",
       "      <th></th>\n",
       "      <th>palabra</th>\n",
       "      <th>sentimiento</th>\n",
       "      <th>word</th>\n",
       "    </tr>\n",
       "  </thead>\n",
       "  <tbody>\n",
       "    <tr>\n",
       "      <th>0</th>\n",
       "      <td>ciegamente</td>\n",
       "      <td>-1</td>\n",
       "      <td>blindly</td>\n",
       "    </tr>\n",
       "    <tr>\n",
       "      <th>1</th>\n",
       "      <td>ciegamente</td>\n",
       "      <td>-1</td>\n",
       "      <td>blindly</td>\n",
       "    </tr>\n",
       "    <tr>\n",
       "      <th>2</th>\n",
       "      <td>a distancia</td>\n",
       "      <td>-1</td>\n",
       "      <td>aloof</td>\n",
       "    </tr>\n",
       "    <tr>\n",
       "      <th>3</th>\n",
       "      <td>a hurtadillas</td>\n",
       "      <td>1</td>\n",
       "      <td>stealthily</td>\n",
       "    </tr>\n",
       "    <tr>\n",
       "      <th>4</th>\n",
       "      <td>a la deriva</td>\n",
       "      <td>0</td>\n",
       "      <td>adrift</td>\n",
       "    </tr>\n",
       "    <tr>\n",
       "      <th>...</th>\n",
       "      <td>...</td>\n",
       "      <td>...</td>\n",
       "      <td>...</td>\n",
       "    </tr>\n",
       "    <tr>\n",
       "      <th>15302</th>\n",
       "      <td>zumbido</td>\n",
       "      <td>0</td>\n",
       "      <td>buzz</td>\n",
       "    </tr>\n",
       "    <tr>\n",
       "      <th>15303</th>\n",
       "      <td>zumbido</td>\n",
       "      <td>-1</td>\n",
       "      <td>buzz</td>\n",
       "    </tr>\n",
       "    <tr>\n",
       "      <th>15304</th>\n",
       "      <td>zumbido</td>\n",
       "      <td>1</td>\n",
       "      <td>buzz</td>\n",
       "    </tr>\n",
       "    <tr>\n",
       "      <th>15305</th>\n",
       "      <td>zumbido</td>\n",
       "      <td>-1</td>\n",
       "      <td>drone</td>\n",
       "    </tr>\n",
       "    <tr>\n",
       "      <th>15306</th>\n",
       "      <td>zurcidura</td>\n",
       "      <td>1</td>\n",
       "      <td>mending</td>\n",
       "    </tr>\n",
       "  </tbody>\n",
       "</table>\n",
       "<p>15307 rows × 3 columns</p>\n",
       "</div>"
      ],
      "text/plain": [
       "             palabra  sentimiento        word\n",
       "0         ciegamente           -1     blindly\n",
       "1         ciegamente           -1     blindly\n",
       "2        a distancia           -1       aloof\n",
       "3      a hurtadillas            1  stealthily\n",
       "4        a la deriva            0      adrift\n",
       "...              ...          ...         ...\n",
       "15302        zumbido            0        buzz\n",
       "15303        zumbido           -1        buzz\n",
       "15304        zumbido            1        buzz\n",
       "15305        zumbido           -1       drone\n",
       "15306      zurcidura            1     mending\n",
       "\n",
       "[15307 rows x 3 columns]"
      ]
     },
     "execution_count": 16,
     "metadata": {},
     "output_type": "execute_result"
    }
   ],
   "source": [
    "lexicon"
   ]
  },
  {
   "cell_type": "markdown",
   "metadata": {
    "pycharm": {
     "name": "#%% md\n"
    }
   },
   "source": [
    "Tenemos un millon y medio de coincidencias con el lexicón en train. Usaremos estos sentimientos para puntuar las propiedades"
   ]
  },
  {
   "cell_type": "code",
   "execution_count": 17,
   "metadata": {
    "jupyter": {
     "outputs_hidden": false
    },
    "pycharm": {
     "name": "#%%\n"
    }
   },
   "outputs": [
    {
     "data": {
      "text/html": [
       "<div>\n",
       "<style scoped>\n",
       "    .dataframe tbody tr th:only-of-type {\n",
       "        vertical-align: middle;\n",
       "    }\n",
       "\n",
       "    .dataframe tbody tr th {\n",
       "        vertical-align: top;\n",
       "    }\n",
       "\n",
       "    .dataframe thead th {\n",
       "        text-align: right;\n",
       "    }\n",
       "</style>\n",
       "<table border=\"1\" class=\"dataframe\">\n",
       "  <thead>\n",
       "    <tr style=\"text-align: right;\">\n",
       "      <th></th>\n",
       "      <th>id</th>\n",
       "      <th>token</th>\n",
       "      <th>sentimiento</th>\n",
       "    </tr>\n",
       "  </thead>\n",
       "  <tbody>\n",
       "    <tr>\n",
       "      <th>0</th>\n",
       "      <td>BZCeiGkJr1WBUi6pKJQwJQ==</td>\n",
       "      <td>responsable</td>\n",
       "      <td>1</td>\n",
       "    </tr>\n",
       "    <tr>\n",
       "      <th>1</th>\n",
       "      <td>BZCeiGkJr1WBUi6pKJQwJQ==</td>\n",
       "      <td>responsable</td>\n",
       "      <td>1</td>\n",
       "    </tr>\n",
       "    <tr>\n",
       "      <th>2</th>\n",
       "      <td>BZCeiGkJr1WBUi6pKJQwJQ==</td>\n",
       "      <td>responsable</td>\n",
       "      <td>1</td>\n",
       "    </tr>\n",
       "    <tr>\n",
       "      <th>3</th>\n",
       "      <td>boCXaj+OYbucoJeinbtaOg==</td>\n",
       "      <td>responsable</td>\n",
       "      <td>1</td>\n",
       "    </tr>\n",
       "    <tr>\n",
       "      <th>4</th>\n",
       "      <td>boCXaj+OYbucoJeinbtaOg==</td>\n",
       "      <td>responsable</td>\n",
       "      <td>1</td>\n",
       "    </tr>\n",
       "  </tbody>\n",
       "</table>\n",
       "</div>"
      ],
      "text/plain": [
       "                         id        token  sentimiento\n",
       "0  BZCeiGkJr1WBUi6pKJQwJQ==  responsable            1\n",
       "1  BZCeiGkJr1WBUi6pKJQwJQ==  responsable            1\n",
       "2  BZCeiGkJr1WBUi6pKJQwJQ==  responsable            1\n",
       "3  boCXaj+OYbucoJeinbtaOg==  responsable            1\n",
       "4  boCXaj+OYbucoJeinbtaOg==  responsable            1"
      ]
     },
     "execution_count": 17,
     "metadata": {},
     "output_type": "execute_result"
    }
   ],
   "source": [
    "# sentimiento promedio de cada descripcion\n",
    "tokens_sentimientos_train = pd.merge(\n",
    "    left=tokens_train,\n",
    "    right=lexicon,\n",
    "    left_on=\"token\",\n",
    "    right_on=\"palabra\",\n",
    "    how=\"inner\"\n",
    ")\n",
    "tokens_sentimientos_train = tokens_sentimientos_train.drop(columns=[\"palabra\", \"word\"])\n",
    "\n",
    "tokens_sentimientos_test = pd.merge(\n",
    "    left=tokens_test,\n",
    "    right=lexicon,\n",
    "    left_on=\"token\",\n",
    "    right_on=\"palabra\",\n",
    "    how=\"inner\"\n",
    ")\n",
    "tokens_sentimientos_test = tokens_sentimientos_test.drop(columns=[\"palabra\", \"word\"])\n",
    "\n",
    "tokens_sentimientos_train.head()"
   ]
  },
  {
   "cell_type": "markdown",
   "metadata": {
    "pycharm": {
     "name": "#%% md\n"
    }
   },
   "source": [
    "Ahora calcularemos el puntaje para cada propiedad como la suma de los sentimientos."
   ]
  },
  {
   "cell_type": "code",
   "execution_count": 18,
   "metadata": {
    "jupyter": {
     "outputs_hidden": false
    },
    "pycharm": {
     "name": "#%%\n"
    }
   },
   "outputs": [],
   "source": [
    "score_train = tokens_sentimientos_train[[\"id\", \"token\", \"sentimiento\"]].groupby([\"id\"]).sum().reset_index()\n",
    "\n",
    "score_test = tokens_sentimientos_test[[\"id\", \"token\", \"sentimiento\"]].groupby([\"id\"]).sum().reset_index()"
   ]
  },
  {
   "cell_type": "code",
   "execution_count": 19,
   "metadata": {
    "jupyter": {
     "outputs_hidden": false
    },
    "pycharm": {
     "name": "#%%\n"
    }
   },
   "outputs": [
    {
     "data": {
      "text/html": [
       "<div>\n",
       "<style scoped>\n",
       "    .dataframe tbody tr th:only-of-type {\n",
       "        vertical-align: middle;\n",
       "    }\n",
       "\n",
       "    .dataframe tbody tr th {\n",
       "        vertical-align: top;\n",
       "    }\n",
       "\n",
       "    .dataframe thead th {\n",
       "        text-align: right;\n",
       "    }\n",
       "</style>\n",
       "<table border=\"1\" class=\"dataframe\">\n",
       "  <thead>\n",
       "    <tr style=\"text-align: right;\">\n",
       "      <th></th>\n",
       "      <th>id</th>\n",
       "      <th>sentimiento</th>\n",
       "    </tr>\n",
       "  </thead>\n",
       "  <tbody>\n",
       "    <tr>\n",
       "      <th>0</th>\n",
       "      <td>+++LrfX9dl/rsnbNTgVaSw==</td>\n",
       "      <td>24</td>\n",
       "    </tr>\n",
       "    <tr>\n",
       "      <th>1</th>\n",
       "      <td>++170jViMoXTsnGwVScNsA==</td>\n",
       "      <td>5</td>\n",
       "    </tr>\n",
       "    <tr>\n",
       "      <th>2</th>\n",
       "      <td>++20Jf3Ha2Epz88cJxEmJw==</td>\n",
       "      <td>10</td>\n",
       "    </tr>\n",
       "    <tr>\n",
       "      <th>3</th>\n",
       "      <td>++2AcJNn9KYBeuOard+DZw==</td>\n",
       "      <td>18</td>\n",
       "    </tr>\n",
       "    <tr>\n",
       "      <th>4</th>\n",
       "      <td>++5o0X5nwMy3BtfAvsFAaA==</td>\n",
       "      <td>-2</td>\n",
       "    </tr>\n",
       "    <tr>\n",
       "      <th>...</th>\n",
       "      <td>...</td>\n",
       "      <td>...</td>\n",
       "    </tr>\n",
       "    <tr>\n",
       "      <th>60215</th>\n",
       "      <td>zziqoG25k9M8rIgzpKwFwg==</td>\n",
       "      <td>29</td>\n",
       "    </tr>\n",
       "    <tr>\n",
       "      <th>60216</th>\n",
       "      <td>zzjbYucw7Rj0OtPfDWrsuA==</td>\n",
       "      <td>15</td>\n",
       "    </tr>\n",
       "    <tr>\n",
       "      <th>60217</th>\n",
       "      <td>zzkHuJd+M8QH9JSoKm9e0A==</td>\n",
       "      <td>19</td>\n",
       "    </tr>\n",
       "    <tr>\n",
       "      <th>60218</th>\n",
       "      <td>zzrpS8TqDA6px1h/DuQdmw==</td>\n",
       "      <td>20</td>\n",
       "    </tr>\n",
       "    <tr>\n",
       "      <th>60219</th>\n",
       "      <td>zzxdSRjo9Dmr+YRiF12AKw==</td>\n",
       "      <td>2</td>\n",
       "    </tr>\n",
       "  </tbody>\n",
       "</table>\n",
       "<p>60220 rows × 2 columns</p>\n",
       "</div>"
      ],
      "text/plain": [
       "                             id  sentimiento\n",
       "0      +++LrfX9dl/rsnbNTgVaSw==           24\n",
       "1      ++170jViMoXTsnGwVScNsA==            5\n",
       "2      ++20Jf3Ha2Epz88cJxEmJw==           10\n",
       "3      ++2AcJNn9KYBeuOard+DZw==           18\n",
       "4      ++5o0X5nwMy3BtfAvsFAaA==           -2\n",
       "...                         ...          ...\n",
       "60215  zziqoG25k9M8rIgzpKwFwg==           29\n",
       "60216  zzjbYucw7Rj0OtPfDWrsuA==           15\n",
       "60217  zzkHuJd+M8QH9JSoKm9e0A==           19\n",
       "60218  zzrpS8TqDA6px1h/DuQdmw==           20\n",
       "60219  zzxdSRjo9Dmr+YRiF12AKw==            2\n",
       "\n",
       "[60220 rows x 2 columns]"
      ]
     },
     "execution_count": 19,
     "metadata": {},
     "output_type": "execute_result"
    }
   ],
   "source": [
    "score_train"
   ]
  },
  {
   "cell_type": "code",
   "execution_count": 20,
   "metadata": {
    "jupyter": {
     "outputs_hidden": false
    },
    "pycharm": {
     "name": "#%%\n"
    }
   },
   "outputs": [
    {
     "data": {
      "text/plain": [
       "216"
      ]
     },
     "execution_count": 20,
     "metadata": {},
     "output_type": "execute_result"
    }
   ],
   "source": [
    "score_train.sentimiento.max()"
   ]
  },
  {
   "cell_type": "markdown",
   "metadata": {
    "pycharm": {
     "name": "#%% md\n"
    }
   },
   "source": [
    "La mejor propiedad tiene un puntaje de 216. Analizaremos un poco las descripciones de las mejores y peores."
   ]
  },
  {
   "cell_type": "code",
   "execution_count": 21,
   "metadata": {
    "jupyter": {
     "outputs_hidden": false
    },
    "pycharm": {
     "name": "#%%\n"
    }
   },
   "outputs": [
    {
     "data": {
      "text/html": [
       "<div>\n",
       "<style scoped>\n",
       "    .dataframe tbody tr th:only-of-type {\n",
       "        vertical-align: middle;\n",
       "    }\n",
       "\n",
       "    .dataframe tbody tr th {\n",
       "        vertical-align: top;\n",
       "    }\n",
       "\n",
       "    .dataframe thead th {\n",
       "        text-align: right;\n",
       "    }\n",
       "</style>\n",
       "<table border=\"1\" class=\"dataframe\">\n",
       "  <thead>\n",
       "    <tr style=\"text-align: right;\">\n",
       "      <th></th>\n",
       "      <th>id</th>\n",
       "      <th>sentimiento</th>\n",
       "    </tr>\n",
       "  </thead>\n",
       "  <tbody>\n",
       "    <tr>\n",
       "      <th>55723</th>\n",
       "      <td>vJRa8QKk0d9i9L4Rk6Bvng==</td>\n",
       "      <td>216</td>\n",
       "    </tr>\n",
       "    <tr>\n",
       "      <th>42789</th>\n",
       "      <td>hWcrJ6XkTCTGVo80jBvI1g==</td>\n",
       "      <td>185</td>\n",
       "    </tr>\n",
       "    <tr>\n",
       "      <th>25130</th>\n",
       "      <td>Ordgp/sLvmhD+RwAtErcvw==</td>\n",
       "      <td>185</td>\n",
       "    </tr>\n",
       "    <tr>\n",
       "      <th>9679</th>\n",
       "      <td>8HZPdHHB8QMCi2U/iJkYmw==</td>\n",
       "      <td>185</td>\n",
       "    </tr>\n",
       "    <tr>\n",
       "      <th>31493</th>\n",
       "      <td>Vi4Kbdne9us6XT3kpmSmgw==</td>\n",
       "      <td>185</td>\n",
       "    </tr>\n",
       "  </tbody>\n",
       "</table>\n",
       "</div>"
      ],
      "text/plain": [
       "                             id  sentimiento\n",
       "55723  vJRa8QKk0d9i9L4Rk6Bvng==          216\n",
       "42789  hWcrJ6XkTCTGVo80jBvI1g==          185\n",
       "25130  Ordgp/sLvmhD+RwAtErcvw==          185\n",
       "9679   8HZPdHHB8QMCi2U/iJkYmw==          185\n",
       "31493  Vi4Kbdne9us6XT3kpmSmgw==          185"
      ]
     },
     "execution_count": 21,
     "metadata": {},
     "output_type": "execute_result"
    }
   ],
   "source": [
    "top5_positivas = score_train.sort_values(by='sentimiento', ascending=False).head(5)\n",
    "top5_positivas"
   ]
  },
  {
   "cell_type": "code",
   "execution_count": 22,
   "metadata": {
    "jupyter": {
     "outputs_hidden": false
    },
    "pycharm": {
     "name": "#%%\n"
    }
   },
   "outputs": [
    {
     "data": {
      "text/plain": [
       "431740    Edificio atrás del Alvear Palace Hotel, muy co...\n",
       "329471    Interesante PH para Reciclar<br>Muy buenas dim...\n",
       "191258    Muy buen departamento en Gavilán 975, muy lumi...\n",
       "72690     Corredor Responsable: Viviana Uzcudun - CSI 58...\n",
       "243161    Corredor Responsable: Cristian Arnal Ponti - C...\n",
       "Name: property_description, dtype: object"
      ]
     },
     "execution_count": 22,
     "metadata": {},
     "output_type": "execute_result"
    }
   ],
   "source": [
    "descriptions_train.property_description.iloc[top5_positivas.index]"
   ]
  },
  {
   "cell_type": "code",
   "execution_count": 23,
   "metadata": {
    "jupyter": {
     "outputs_hidden": false
    },
    "pycharm": {
     "name": "#%%\n"
    }
   },
   "outputs": [
    {
     "data": {
      "text/plain": [
       "-37"
      ]
     },
     "execution_count": 23,
     "metadata": {},
     "output_type": "execute_result"
    }
   ],
   "source": [
    "score_train.sentimiento.min()"
   ]
  },
  {
   "cell_type": "code",
   "execution_count": 24,
   "metadata": {
    "jupyter": {
     "outputs_hidden": false
    },
    "pycharm": {
     "name": "#%%\n"
    }
   },
   "outputs": [
    {
     "data": {
      "text/html": [
       "<div>\n",
       "<style scoped>\n",
       "    .dataframe tbody tr th:only-of-type {\n",
       "        vertical-align: middle;\n",
       "    }\n",
       "\n",
       "    .dataframe tbody tr th {\n",
       "        vertical-align: top;\n",
       "    }\n",
       "\n",
       "    .dataframe thead th {\n",
       "        text-align: right;\n",
       "    }\n",
       "</style>\n",
       "<table border=\"1\" class=\"dataframe\">\n",
       "  <thead>\n",
       "    <tr style=\"text-align: right;\">\n",
       "      <th></th>\n",
       "      <th>id</th>\n",
       "      <th>sentimiento</th>\n",
       "    </tr>\n",
       "  </thead>\n",
       "  <tbody>\n",
       "    <tr>\n",
       "      <th>21188</th>\n",
       "      <td>KWFIk6SR8JFrfLNsfJcoPg==</td>\n",
       "      <td>-37</td>\n",
       "    </tr>\n",
       "    <tr>\n",
       "      <th>38471</th>\n",
       "      <td>d2ghEGP8mv2R8W1wvl47yA==</td>\n",
       "      <td>-25</td>\n",
       "    </tr>\n",
       "    <tr>\n",
       "      <th>58752</th>\n",
       "      <td>yTzDOa/iBUD6x1xW0p+8jQ==</td>\n",
       "      <td>-24</td>\n",
       "    </tr>\n",
       "    <tr>\n",
       "      <th>58838</th>\n",
       "      <td>yZ1q8SipMwHAKNK0xa1ApQ==</td>\n",
       "      <td>-22</td>\n",
       "    </tr>\n",
       "    <tr>\n",
       "      <th>54017</th>\n",
       "      <td>tT6oySFAhaUtHOUoCPT5nQ==</td>\n",
       "      <td>-20</td>\n",
       "    </tr>\n",
       "  </tbody>\n",
       "</table>\n",
       "</div>"
      ],
      "text/plain": [
       "                             id  sentimiento\n",
       "21188  KWFIk6SR8JFrfLNsfJcoPg==          -37\n",
       "38471  d2ghEGP8mv2R8W1wvl47yA==          -25\n",
       "58752  yTzDOa/iBUD6x1xW0p+8jQ==          -24\n",
       "58838  yZ1q8SipMwHAKNK0xa1ApQ==          -22\n",
       "54017  tT6oySFAhaUtHOUoCPT5nQ==          -20"
      ]
     },
     "execution_count": 24,
     "metadata": {},
     "output_type": "execute_result"
    }
   ],
   "source": [
    "top5_negativas = score_train.sort_values(by='sentimiento').head(5)\n",
    "top5_negativas"
   ]
  },
  {
   "cell_type": "code",
   "execution_count": 25,
   "metadata": {
    "jupyter": {
     "outputs_hidden": false
    },
    "pycharm": {
     "name": "#%%\n"
    }
   },
   "outputs": [
    {
     "data": {
      "text/plain": [
       "161623    Corredor Responsable: Maria García Herz -  CPI...\n",
       "295727    Gran patio terraza de uso exclusivo y parrilla...\n",
       "448163    Corredor Responsable: JAVIER BURGUE DIAZ CPI 7...\n",
       "448992    Corredor Responsable: Pamela Suarez CUCICBA 53...\n",
       "419477    La propiedad está ubicada estratégicamente en ...\n",
       "Name: property_description, dtype: object"
      ]
     },
     "execution_count": 25,
     "metadata": {},
     "output_type": "execute_result"
    }
   ],
   "source": [
    "descriptions_train.iloc[top5_negativas.index].property_description"
   ]
  },
  {
   "cell_type": "markdown",
   "metadata": {
    "pycharm": {
     "name": "#%% md\n"
    }
   },
   "source": [
    "descriptions_test.head()Como es claro, la gente que publica la venta de una propiedad va a tratar de expresar la mejor publicacion y descripcion posible. Es por eso que tenemos una tasa altisima de positividad. No buscamos hacer un analisis tan profundo de las descripciones sino crear un puntaje relativamente estandarizado para poder usar la descripción como feature."
   ]
  },
  {
   "cell_type": "code",
   "execution_count": 26,
   "metadata": {
    "jupyter": {
     "outputs_hidden": false
    },
    "pycharm": {
     "name": "#%%\n"
    }
   },
   "outputs": [
    {
     "name": "stdout",
     "output_type": "stream",
     "text": [
      "Train: \n",
      "Positivos: 93.41\n",
      "Neutros  : 1.68\n",
      "Negativos: 4.92\n",
      "\n",
      "Test: \n",
      "Positivos: 93.57\n",
      "Neutros  : 1.6\n",
      "Negativos: 4.84\n"
     ]
    }
   ],
   "source": [
    "def perfil_sentimientos(title, df):\n",
    "    print(title)\n",
    "    print(f\"Positivos: {round(100 * np.mean(df.sentimiento > 0), 2)}\")\n",
    "    print(f\"Neutros  : {round(100 * np.mean(df.sentimiento == 0), 2)}\")\n",
    "    print(f\"Negativos: {round(100 * np.mean(df.sentimiento < 0), 2)}\")\n",
    "\n",
    "\n",
    "perfil_sentimientos(\"Train: \", score_train)\n",
    "print()\n",
    "perfil_sentimientos(\"Test: \", score_test)"
   ]
  },
  {
   "cell_type": "markdown",
   "metadata": {
    "pycharm": {
     "name": "#%% md\n"
    }
   },
   "source": [
    "Finalmente, agregaremos nuestro puntaje como columnas nuevas del dataset."
   ]
  },
  {
   "cell_type": "code",
   "execution_count": 27,
   "metadata": {
    "jupyter": {
     "outputs_hidden": false
    },
    "pycharm": {
     "name": "#%%\n"
    }
   },
   "outputs": [
    {
     "data": {
      "text/html": [
       "<div>\n",
       "<style scoped>\n",
       "    .dataframe tbody tr th:only-of-type {\n",
       "        vertical-align: middle;\n",
       "    }\n",
       "\n",
       "    .dataframe tbody tr th {\n",
       "        vertical-align: top;\n",
       "    }\n",
       "\n",
       "    .dataframe thead th {\n",
       "        text-align: right;\n",
       "    }\n",
       "</style>\n",
       "<table border=\"1\" class=\"dataframe\">\n",
       "  <thead>\n",
       "    <tr style=\"text-align: right;\">\n",
       "      <th></th>\n",
       "      <th>id</th>\n",
       "      <th>start_date</th>\n",
       "      <th>end_date</th>\n",
       "      <th>latitud</th>\n",
       "      <th>longitud</th>\n",
       "      <th>place_l3</th>\n",
       "      <th>property_type</th>\n",
       "      <th>property_rooms</th>\n",
       "      <th>property_bedrooms</th>\n",
       "      <th>property_surface_total</th>\n",
       "      <th>property_surface_covered</th>\n",
       "      <th>property_price</th>\n",
       "      <th>property_title</th>\n",
       "    </tr>\n",
       "  </thead>\n",
       "  <tbody>\n",
       "    <tr>\n",
       "      <th>0</th>\n",
       "      <td>poGOTUlIzEZKiMYhXKdYQQ==</td>\n",
       "      <td>2021-01-15</td>\n",
       "      <td>2021-04-29</td>\n",
       "      <td>-34.577306</td>\n",
       "      <td>-58.434056</td>\n",
       "      <td>Palermo</td>\n",
       "      <td>Departamento</td>\n",
       "      <td>3.0</td>\n",
       "      <td>2.0</td>\n",
       "      <td>68.0</td>\n",
       "      <td>68.0</td>\n",
       "      <td>158000.0</td>\n",
       "      <td>Departamento 3 Ambientes Reciclado Escritorio ...</td>\n",
       "    </tr>\n",
       "    <tr>\n",
       "      <th>1</th>\n",
       "      <td>/vmZVmXMvf5tTlS14gcC8w==</td>\n",
       "      <td>2021-09-01</td>\n",
       "      <td>2022-09-10</td>\n",
       "      <td>-34.558066</td>\n",
       "      <td>-58.473512</td>\n",
       "      <td>Belgrano</td>\n",
       "      <td>Casa</td>\n",
       "      <td>6.0</td>\n",
       "      <td>5.0</td>\n",
       "      <td>341.0</td>\n",
       "      <td>206.0</td>\n",
       "      <td>399000.0</td>\n",
       "      <td>Casa belgrano  jardin pileta luminoso doble co...</td>\n",
       "    </tr>\n",
       "    <tr>\n",
       "      <th>2</th>\n",
       "      <td>ko5Ol+Mv8KN8Kglz1k/ubA==</td>\n",
       "      <td>2021-12-08</td>\n",
       "      <td>2021-12-19</td>\n",
       "      <td>-34.545531</td>\n",
       "      <td>-58.474900</td>\n",
       "      <td>Saavedra</td>\n",
       "      <td>PH</td>\n",
       "      <td>1.0</td>\n",
       "      <td>1.0</td>\n",
       "      <td>20.0</td>\n",
       "      <td>20.0</td>\n",
       "      <td>45000.0</td>\n",
       "      <td>Dpto PH Saavedra 1amb sin expe P.Baja a la cal...</td>\n",
       "    </tr>\n",
       "    <tr>\n",
       "      <th>3</th>\n",
       "      <td>/Z37wOCvzjGlLKMdOFky+Q==</td>\n",
       "      <td>2021-04-26</td>\n",
       "      <td>2021-06-05</td>\n",
       "      <td>-34.605870</td>\n",
       "      <td>-58.457702</td>\n",
       "      <td>Caballito</td>\n",
       "      <td>Departamento</td>\n",
       "      <td>3.0</td>\n",
       "      <td>2.0</td>\n",
       "      <td>60.0</td>\n",
       "      <td>52.0</td>\n",
       "      <td>149000.0</td>\n",
       "      <td>Venta, Departamento, 3 ambientes, Balcón, coch...</td>\n",
       "    </tr>\n",
       "    <tr>\n",
       "      <th>4</th>\n",
       "      <td>RXg51b1AdPe+UXZkpRNEqg==</td>\n",
       "      <td>2021-01-07</td>\n",
       "      <td>2021-02-10</td>\n",
       "      <td>-34.587415</td>\n",
       "      <td>-58.438877</td>\n",
       "      <td>Palermo</td>\n",
       "      <td>Departamento</td>\n",
       "      <td>2.0</td>\n",
       "      <td>1.0</td>\n",
       "      <td>99.0</td>\n",
       "      <td>58.0</td>\n",
       "      <td>210000.0</td>\n",
       "      <td>U$S 210.000 - 2 amb - Palermo - Niceto Vega 52...</td>\n",
       "    </tr>\n",
       "    <tr>\n",
       "      <th>...</th>\n",
       "      <td>...</td>\n",
       "      <td>...</td>\n",
       "      <td>...</td>\n",
       "      <td>...</td>\n",
       "      <td>...</td>\n",
       "      <td>...</td>\n",
       "      <td>...</td>\n",
       "      <td>...</td>\n",
       "      <td>...</td>\n",
       "      <td>...</td>\n",
       "      <td>...</td>\n",
       "      <td>...</td>\n",
       "      <td>...</td>\n",
       "    </tr>\n",
       "    <tr>\n",
       "      <th>12061</th>\n",
       "      <td>zMNYVtyC8ZPLlHJDVEzcJg==</td>\n",
       "      <td>2021-05-22</td>\n",
       "      <td>2021-06-05</td>\n",
       "      <td>-34.562450</td>\n",
       "      <td>-58.454040</td>\n",
       "      <td>Belgrano</td>\n",
       "      <td>Departamento</td>\n",
       "      <td>3.0</td>\n",
       "      <td>2.0</td>\n",
       "      <td>76.0</td>\n",
       "      <td>70.0</td>\n",
       "      <td>204000.0</td>\n",
       "      <td>Venta Departamento 3 amb con Balcón Dependenci...</td>\n",
       "    </tr>\n",
       "    <tr>\n",
       "      <th>12062</th>\n",
       "      <td>TI8pKfusTlHy5oPeb/ZBWQ==</td>\n",
       "      <td>2021-03-02</td>\n",
       "      <td>2021-03-10</td>\n",
       "      <td>-34.598424</td>\n",
       "      <td>-58.440173</td>\n",
       "      <td>Villa Crespo</td>\n",
       "      <td>Departamento</td>\n",
       "      <td>4.0</td>\n",
       "      <td>3.0</td>\n",
       "      <td>136.0</td>\n",
       "      <td>123.0</td>\n",
       "      <td>299000.0</td>\n",
       "      <td>4 AMB C/DEP, COCHERA, PISO ALTO! VILLA CRESPO</td>\n",
       "    </tr>\n",
       "    <tr>\n",
       "      <th>12063</th>\n",
       "      <td>y8Uvsi21S5hPqQT7OeAwAw==</td>\n",
       "      <td>2021-08-10</td>\n",
       "      <td>9999-12-31</td>\n",
       "      <td>-34.639597</td>\n",
       "      <td>-58.369096</td>\n",
       "      <td>Barracas</td>\n",
       "      <td>Departamento</td>\n",
       "      <td>2.0</td>\n",
       "      <td>1.0</td>\n",
       "      <td>105.0</td>\n",
       "      <td>92.0</td>\n",
       "      <td>230000.0</td>\n",
       "      <td>Departamento - Barracas</td>\n",
       "    </tr>\n",
       "    <tr>\n",
       "      <th>12064</th>\n",
       "      <td>R1uGoXBwjP52Z1ZAwqQ3dQ==</td>\n",
       "      <td>2021-01-11</td>\n",
       "      <td>2021-02-08</td>\n",
       "      <td>-34.574611</td>\n",
       "      <td>-58.492324</td>\n",
       "      <td>Villa Urquiza</td>\n",
       "      <td>Departamento</td>\n",
       "      <td>2.0</td>\n",
       "      <td>1.0</td>\n",
       "      <td>67.0</td>\n",
       "      <td>59.0</td>\n",
       "      <td>119538.0</td>\n",
       "      <td>Departamento - Villa Urquiza</td>\n",
       "    </tr>\n",
       "    <tr>\n",
       "      <th>12065</th>\n",
       "      <td>iy6JRE+pzJhRjPEbqnQqmA==</td>\n",
       "      <td>2021-09-29</td>\n",
       "      <td>2021-12-05</td>\n",
       "      <td>-34.583990</td>\n",
       "      <td>-58.419339</td>\n",
       "      <td>Palermo</td>\n",
       "      <td>Departamento</td>\n",
       "      <td>2.0</td>\n",
       "      <td>1.0</td>\n",
       "      <td>44.0</td>\n",
       "      <td>44.0</td>\n",
       "      <td>130000.0</td>\n",
       "      <td>Departamento - Palermo</td>\n",
       "    </tr>\n",
       "  </tbody>\n",
       "</table>\n",
       "<p>12066 rows × 13 columns</p>\n",
       "</div>"
      ],
      "text/plain": [
       "                             id  start_date    end_date    latitud   longitud  \\\n",
       "0      poGOTUlIzEZKiMYhXKdYQQ==  2021-01-15  2021-04-29 -34.577306 -58.434056   \n",
       "1      /vmZVmXMvf5tTlS14gcC8w==  2021-09-01  2022-09-10 -34.558066 -58.473512   \n",
       "2      ko5Ol+Mv8KN8Kglz1k/ubA==  2021-12-08  2021-12-19 -34.545531 -58.474900   \n",
       "3      /Z37wOCvzjGlLKMdOFky+Q==  2021-04-26  2021-06-05 -34.605870 -58.457702   \n",
       "4      RXg51b1AdPe+UXZkpRNEqg==  2021-01-07  2021-02-10 -34.587415 -58.438877   \n",
       "...                         ...         ...         ...        ...        ...   \n",
       "12061  zMNYVtyC8ZPLlHJDVEzcJg==  2021-05-22  2021-06-05 -34.562450 -58.454040   \n",
       "12062  TI8pKfusTlHy5oPeb/ZBWQ==  2021-03-02  2021-03-10 -34.598424 -58.440173   \n",
       "12063  y8Uvsi21S5hPqQT7OeAwAw==  2021-08-10  9999-12-31 -34.639597 -58.369096   \n",
       "12064  R1uGoXBwjP52Z1ZAwqQ3dQ==  2021-01-11  2021-02-08 -34.574611 -58.492324   \n",
       "12065  iy6JRE+pzJhRjPEbqnQqmA==  2021-09-29  2021-12-05 -34.583990 -58.419339   \n",
       "\n",
       "            place_l3 property_type  property_rooms  property_bedrooms  \\\n",
       "0            Palermo  Departamento             3.0                2.0   \n",
       "1           Belgrano          Casa             6.0                5.0   \n",
       "2           Saavedra            PH             1.0                1.0   \n",
       "3          Caballito  Departamento             3.0                2.0   \n",
       "4            Palermo  Departamento             2.0                1.0   \n",
       "...              ...           ...             ...                ...   \n",
       "12061       Belgrano  Departamento             3.0                2.0   \n",
       "12062   Villa Crespo  Departamento             4.0                3.0   \n",
       "12063       Barracas  Departamento             2.0                1.0   \n",
       "12064  Villa Urquiza  Departamento             2.0                1.0   \n",
       "12065        Palermo  Departamento             2.0                1.0   \n",
       "\n",
       "       property_surface_total  property_surface_covered  property_price  \\\n",
       "0                        68.0                      68.0        158000.0   \n",
       "1                       341.0                     206.0        399000.0   \n",
       "2                        20.0                      20.0         45000.0   \n",
       "3                        60.0                      52.0        149000.0   \n",
       "4                        99.0                      58.0        210000.0   \n",
       "...                       ...                       ...             ...   \n",
       "12061                    76.0                      70.0        204000.0   \n",
       "12062                   136.0                     123.0        299000.0   \n",
       "12063                   105.0                      92.0        230000.0   \n",
       "12064                    67.0                      59.0        119538.0   \n",
       "12065                    44.0                      44.0        130000.0   \n",
       "\n",
       "                                          property_title  \n",
       "0      Departamento 3 Ambientes Reciclado Escritorio ...  \n",
       "1      Casa belgrano  jardin pileta luminoso doble co...  \n",
       "2      Dpto PH Saavedra 1amb sin expe P.Baja a la cal...  \n",
       "3      Venta, Departamento, 3 ambientes, Balcón, coch...  \n",
       "4      U$S 210.000 - 2 amb - Palermo - Niceto Vega 52...  \n",
       "...                                                  ...  \n",
       "12061  Venta Departamento 3 amb con Balcón Dependenci...  \n",
       "12062      4 AMB C/DEP, COCHERA, PISO ALTO! VILLA CRESPO  \n",
       "12063                            Departamento - Barracas  \n",
       "12064                       Departamento - Villa Urquiza  \n",
       "12065                             Departamento - Palermo  \n",
       "\n",
       "[12066 rows x 13 columns]"
      ]
     },
     "execution_count": 27,
     "metadata": {},
     "output_type": "execute_result"
    }
   ],
   "source": [
    "ds_test"
   ]
  },
  {
   "cell_type": "code",
   "execution_count": 28,
   "metadata": {
    "jupyter": {
     "outputs_hidden": false
    },
    "pycharm": {
     "name": "#%%\n"
    }
   },
   "outputs": [],
   "source": [
    "ds_train = pd.merge(ds_train, score_train, on='id')\n",
    "ds_train.rename(columns={'sentimiento': 'score_sentimientos'}, inplace=True)\n",
    "ds_test = pd.merge(ds_test, score_test, on='id')\n",
    "ds_test.rename(columns={'sentimiento': 'score_sentimientos'}, inplace=True)"
   ]
  },
  {
   "cell_type": "code",
   "execution_count": 29,
   "metadata": {
    "jupyter": {
     "outputs_hidden": false
    },
    "pycharm": {
     "name": "#%%\n"
    }
   },
   "outputs": [
    {
     "data": {
      "text/html": [
       "<div>\n",
       "<style scoped>\n",
       "    .dataframe tbody tr th:only-of-type {\n",
       "        vertical-align: middle;\n",
       "    }\n",
       "\n",
       "    .dataframe tbody tr th {\n",
       "        vertical-align: top;\n",
       "    }\n",
       "\n",
       "    .dataframe thead th {\n",
       "        text-align: right;\n",
       "    }\n",
       "</style>\n",
       "<table border=\"1\" class=\"dataframe\">\n",
       "  <thead>\n",
       "    <tr style=\"text-align: right;\">\n",
       "      <th></th>\n",
       "      <th>id</th>\n",
       "      <th>start_date</th>\n",
       "      <th>end_date</th>\n",
       "      <th>latitud</th>\n",
       "      <th>longitud</th>\n",
       "      <th>place_l3</th>\n",
       "      <th>property_type</th>\n",
       "      <th>property_rooms</th>\n",
       "      <th>property_bedrooms</th>\n",
       "      <th>property_surface_total</th>\n",
       "      <th>property_surface_covered</th>\n",
       "      <th>property_price</th>\n",
       "      <th>property_title</th>\n",
       "      <th>score_sentimientos</th>\n",
       "    </tr>\n",
       "  </thead>\n",
       "  <tbody>\n",
       "    <tr>\n",
       "      <th>0</th>\n",
       "      <td>1PYAQFsAktkYlJpcdrH9uQ==</td>\n",
       "      <td>2021-03-24</td>\n",
       "      <td>2021-05-26</td>\n",
       "      <td>-34.589481</td>\n",
       "      <td>-58.389144</td>\n",
       "      <td>Recoleta</td>\n",
       "      <td>Departamento</td>\n",
       "      <td>4.0</td>\n",
       "      <td>3.0</td>\n",
       "      <td>192.0</td>\n",
       "      <td>170.0</td>\n",
       "      <td>580000.0</td>\n",
       "      <td>Balcón terraza y totalmente reciclado en Recol...</td>\n",
       "      <td>13</td>\n",
       "    </tr>\n",
       "    <tr>\n",
       "      <th>1</th>\n",
       "      <td>Qgy7pmJ4NulNrdbxa8a7MQ==</td>\n",
       "      <td>2021-12-13</td>\n",
       "      <td>2021-12-23</td>\n",
       "      <td>-34.555436</td>\n",
       "      <td>-58.475303</td>\n",
       "      <td>Nuñez</td>\n",
       "      <td>Departamento</td>\n",
       "      <td>3.0</td>\n",
       "      <td>2.0</td>\n",
       "      <td>83.0</td>\n",
       "      <td>83.0</td>\n",
       "      <td>100000.0</td>\n",
       "      <td>Departamento - Nuñez</td>\n",
       "      <td>11</td>\n",
       "    </tr>\n",
       "    <tr>\n",
       "      <th>2</th>\n",
       "      <td>QO1fBv/XWsHIqP59T0Xngg==</td>\n",
       "      <td>2021-09-24</td>\n",
       "      <td>2022-03-09</td>\n",
       "      <td>-34.577124</td>\n",
       "      <td>-58.475892</td>\n",
       "      <td>Villa Urquiza</td>\n",
       "      <td>Casa</td>\n",
       "      <td>4.0</td>\n",
       "      <td>3.0</td>\n",
       "      <td>150.0</td>\n",
       "      <td>105.0</td>\n",
       "      <td>229000.0</td>\n",
       "      <td>Casa en venta 4Amb c/patio y terraza - Urquiza R</td>\n",
       "      <td>24</td>\n",
       "    </tr>\n",
       "    <tr>\n",
       "      <th>3</th>\n",
       "      <td>9yo77b8vzfYAXyFJHVhLiw==</td>\n",
       "      <td>2021-07-16</td>\n",
       "      <td>9999-12-31</td>\n",
       "      <td>-34.639306</td>\n",
       "      <td>-58.368501</td>\n",
       "      <td>Barracas</td>\n",
       "      <td>Departamento</td>\n",
       "      <td>2.0</td>\n",
       "      <td>1.0</td>\n",
       "      <td>122.0</td>\n",
       "      <td>75.0</td>\n",
       "      <td>195000.0</td>\n",
       "      <td>Departamento - Barracas</td>\n",
       "      <td>34</td>\n",
       "    </tr>\n",
       "    <tr>\n",
       "      <th>4</th>\n",
       "      <td>HEyW45D+cF+tLUGaQPDgXg==</td>\n",
       "      <td>2021-08-30</td>\n",
       "      <td>2022-01-27</td>\n",
       "      <td>-34.563572</td>\n",
       "      <td>-58.439407</td>\n",
       "      <td>Palermo</td>\n",
       "      <td>Departamento</td>\n",
       "      <td>3.0</td>\n",
       "      <td>2.0</td>\n",
       "      <td>50.0</td>\n",
       "      <td>50.0</td>\n",
       "      <td>115000.0</td>\n",
       "      <td>Dpto. 3 ambientes, con cocina independiente y ...</td>\n",
       "      <td>44</td>\n",
       "    </tr>\n",
       "  </tbody>\n",
       "</table>\n",
       "</div>"
      ],
      "text/plain": [
       "                         id  start_date    end_date    latitud   longitud  \\\n",
       "0  1PYAQFsAktkYlJpcdrH9uQ==  2021-03-24  2021-05-26 -34.589481 -58.389144   \n",
       "1  Qgy7pmJ4NulNrdbxa8a7MQ==  2021-12-13  2021-12-23 -34.555436 -58.475303   \n",
       "2  QO1fBv/XWsHIqP59T0Xngg==  2021-09-24  2022-03-09 -34.577124 -58.475892   \n",
       "3  9yo77b8vzfYAXyFJHVhLiw==  2021-07-16  9999-12-31 -34.639306 -58.368501   \n",
       "4  HEyW45D+cF+tLUGaQPDgXg==  2021-08-30  2022-01-27 -34.563572 -58.439407   \n",
       "\n",
       "        place_l3 property_type  property_rooms  property_bedrooms  \\\n",
       "0       Recoleta  Departamento             4.0                3.0   \n",
       "1          Nuñez  Departamento             3.0                2.0   \n",
       "2  Villa Urquiza          Casa             4.0                3.0   \n",
       "3       Barracas  Departamento             2.0                1.0   \n",
       "4        Palermo  Departamento             3.0                2.0   \n",
       "\n",
       "   property_surface_total  property_surface_covered  property_price  \\\n",
       "0                   192.0                     170.0        580000.0   \n",
       "1                    83.0                      83.0        100000.0   \n",
       "2                   150.0                     105.0        229000.0   \n",
       "3                   122.0                      75.0        195000.0   \n",
       "4                    50.0                      50.0        115000.0   \n",
       "\n",
       "                                      property_title  score_sentimientos  \n",
       "0  Balcón terraza y totalmente reciclado en Recol...                  13  \n",
       "1                               Departamento - Nuñez                  11  \n",
       "2   Casa en venta 4Amb c/patio y terraza - Urquiza R                  24  \n",
       "3                            Departamento - Barracas                  34  \n",
       "4  Dpto. 3 ambientes, con cocina independiente y ...                  44  "
      ]
     },
     "execution_count": 29,
     "metadata": {},
     "output_type": "execute_result"
    }
   ],
   "source": [
    "ds_train.head()"
   ]
  },
  {
   "cell_type": "markdown",
   "metadata": {
    "pycharm": {
     "name": "#%% md\n"
    }
   },
   "source": [
    "#### Tecnica Regex"
   ]
  },
  {
   "cell_type": "markdown",
   "metadata": {
    "pycharm": {
     "name": "#%% md\n"
    }
   },
   "source": [
    "Revisamos las siguientes paginas para entender cuales son los ammenities mas buscados en CABA, y en Argentina en general.\n",
    "\n",
    "https://www.iprofesional.com/negocios/371702-cuales-son-los-amenities-mas-exoticos-de-edificios-en-argentina\n",
    "\n",
    "https://www.baenegocios.com/sociedad/Ranking-de-amenities-los-servicios-que-mas-pesan-al-comprar-una-propiedad-20220119-0068.html\n",
    "\n",
    "https://www.forbesargentina.com/negocios/amenities-servicios-mas-demandados-argentinos-comprar-una-propiedad-n11901\n",
    "\n",
    "Dichos ammenities parecen hacer que la propiedad cotice entre un 15% y un 20% más que el precio de venta.\n",
    "\n",
    "Sacando un promedio y haciendo un top-5 ranking, podemos notar que los mas relevantes son:\n",
    "\n",
    "- Garage/Estacionamiento\n",
    "- Pileta\n",
    "- Jardin/Espacio al aire libre\n",
    "- Parrilla\n",
    "- SUM (Gimnasio/Spa/Sauna)\n",
    "\n",
    "Al buscar estos datos, podriamos tratar de entender si el precio resulta mayor, contra una propiedad de similares caracteristicas pero sin estos ammenities y a partir de eso, entender que % varía del precio de venta original."
   ]
  },
  {
   "cell_type": "code",
   "execution_count": 30,
   "metadata": {
    "jupyter": {
     "outputs_hidden": false
    },
    "pycharm": {
     "name": "#%%\n"
    }
   },
   "outputs": [],
   "source": [
    "def calculate_freq(feature, regex):\n",
    "    freq = descriptions_train.property_description.str.contains(regex, regex=True).sum()\n",
    "    print(\n",
    "        f\"Los anuncios de propiedades que tienen la feature {feature} son: {freq} y representan el {freq * 100 // len(descriptions_train)}% de los datos\")"
   ]
  },
  {
   "cell_type": "markdown",
   "metadata": {
    "pycharm": {
     "name": "#%% md\n"
    }
   },
   "source": [
    "##### Amenities"
   ]
  },
  {
   "cell_type": "code",
   "execution_count": 31,
   "metadata": {
    "jupyter": {
     "outputs_hidden": false
    },
    "pycharm": {
     "name": "#%%\n"
    }
   },
   "outputs": [
    {
     "name": "stdout",
     "output_type": "stream",
     "text": [
      "Los anuncios de propiedades que tienen la feature Garage son: 1079 y representan el 1% de los datos\n"
     ]
    }
   ],
   "source": [
    "garage = re.compile(r\"\\s*garage|garaje|estacionamiento|parking\")\n",
    "calculate_freq(\"Garage\", garage)"
   ]
  },
  {
   "cell_type": "code",
   "execution_count": 32,
   "metadata": {
    "jupyter": {
     "outputs_hidden": false
    },
    "pycharm": {
     "name": "#%%\n"
    }
   },
   "outputs": [
    {
     "name": "stdout",
     "output_type": "stream",
     "text": [
      "Los anuncios de propiedades que tienen la feature Pileta son: 3985 y representan el 6% de los datos\n"
     ]
    }
   ],
   "source": [
    "pileta = re.compile(r\"\\s*pileta\")\n",
    "calculate_freq(\"Pileta\", pileta)"
   ]
  },
  {
   "cell_type": "code",
   "execution_count": 33,
   "metadata": {
    "jupyter": {
     "outputs_hidden": false
    },
    "pycharm": {
     "name": "#%%\n"
    }
   },
   "outputs": [
    {
     "name": "stdout",
     "output_type": "stream",
     "text": [
      "Los anuncios de propiedades que tienen la feature Jardín son: 1173 y representan el 1% de los datos\n"
     ]
    }
   ],
   "source": [
    "jardin = re.compile(r\"\\s*jardin|espacio verde\")\n",
    "calculate_freq(\"Jardín\", jardin)"
   ]
  },
  {
   "cell_type": "code",
   "execution_count": 34,
   "metadata": {
    "jupyter": {
     "outputs_hidden": false
    },
    "pycharm": {
     "name": "#%%\n"
    }
   },
   "outputs": [
    {
     "name": "stdout",
     "output_type": "stream",
     "text": [
      "Los anuncios de propiedades que tienen la feature Parrilla son: 10787 y representan el 17% de los datos\n"
     ]
    }
   ],
   "source": [
    "parrilla = re.compile(r\"\\s*parrilla|bbq\")\n",
    "calculate_freq(\"Parrilla\", parrilla)"
   ]
  },
  {
   "cell_type": "code",
   "execution_count": 35,
   "metadata": {
    "jupyter": {
     "outputs_hidden": false
    },
    "pycharm": {
     "name": "#%%\n"
    }
   },
   "outputs": [
    {
     "name": "stdout",
     "output_type": "stream",
     "text": [
      "Los anuncios de propiedades que tienen la feature SUM son: 22641 y representan el 37% de los datos\n"
     ]
    }
   ],
   "source": [
    "sum = re.compile(r\"\\s*zoom|sum|gimansio|spa\")\n",
    "calculate_freq(\"SUM\", sum)"
   ]
  },
  {
   "cell_type": "code",
   "execution_count": 36,
   "metadata": {
    "jupyter": {
     "outputs_hidden": false
    },
    "pycharm": {
     "name": "#%%\n"
    }
   },
   "outputs": [
    {
     "name": "stdout",
     "output_type": "stream",
     "text": [
      "Los anuncios de propiedades que tienen la feature Balcón son: 28807 y representan el 47% de los datos\n"
     ]
    }
   ],
   "source": [
    "balcon = re.compile(r\"\\s*balcon|balcón\")\n",
    "calculate_freq(\"Balcón\", balcon)"
   ]
  },
  {
   "cell_type": "markdown",
   "metadata": {
    "pycharm": {
     "name": "#%% md\n"
    }
   },
   "source": [
    "Otro aspecto interesante que dejamos fuera del análisis es a que tipo de vivienda pertenece cada ammenity. Y si donde encontramos una amenity en particular, encontramos consecuentemente otra. Por ejemplo, una casa con jardin y parrila y/o pileta. De esta manera podriamos tratar de determinar el costo de cada ammenity o como afecta al precio."
   ]
  },
  {
   "cell_type": "markdown",
   "metadata": {
    "pycharm": {
     "name": "#%% md\n"
    }
   },
   "source": [
    "Por último, construiremos columnas booleanas para los mejores features y las agregaremos a nuestros datasets. Usaremos parrilla, sum, balcón y pileta."
   ]
  },
  {
   "cell_type": "code",
   "execution_count": 37,
   "metadata": {
    "jupyter": {
     "outputs_hidden": false
    },
    "pycharm": {
     "name": "#%%\n"
    }
   },
   "outputs": [
    {
     "data": {
      "text/html": [
       "<div>\n",
       "<style scoped>\n",
       "    .dataframe tbody tr th:only-of-type {\n",
       "        vertical-align: middle;\n",
       "    }\n",
       "\n",
       "    .dataframe tbody tr th {\n",
       "        vertical-align: top;\n",
       "    }\n",
       "\n",
       "    .dataframe thead th {\n",
       "        text-align: right;\n",
       "    }\n",
       "</style>\n",
       "<table border=\"1\" class=\"dataframe\">\n",
       "  <thead>\n",
       "    <tr style=\"text-align: right;\">\n",
       "      <th></th>\n",
       "      <th>id</th>\n",
       "      <th>pileta</th>\n",
       "      <th>parrilla</th>\n",
       "      <th>balcon</th>\n",
       "      <th>sum</th>\n",
       "    </tr>\n",
       "  </thead>\n",
       "  <tbody>\n",
       "    <tr>\n",
       "      <th>0</th>\n",
       "      <td>BZCeiGkJr1WBUi6pKJQwJQ==</td>\n",
       "      <td>False</td>\n",
       "      <td>False</td>\n",
       "      <td>False</td>\n",
       "      <td>False</td>\n",
       "    </tr>\n",
       "    <tr>\n",
       "      <th>3</th>\n",
       "      <td>gn55JPmcjftBV/at1a7fPg==</td>\n",
       "      <td>False</td>\n",
       "      <td>False</td>\n",
       "      <td>False</td>\n",
       "      <td>False</td>\n",
       "    </tr>\n",
       "    <tr>\n",
       "      <th>11</th>\n",
       "      <td>uH5H+RfQM87Qtrb13+T4hA==</td>\n",
       "      <td>False</td>\n",
       "      <td>False</td>\n",
       "      <td>False</td>\n",
       "      <td>False</td>\n",
       "    </tr>\n",
       "    <tr>\n",
       "      <th>16</th>\n",
       "      <td>n7NJmavbeNUlyKufoGRr+g==</td>\n",
       "      <td>False</td>\n",
       "      <td>False</td>\n",
       "      <td>False</td>\n",
       "      <td>False</td>\n",
       "    </tr>\n",
       "    <tr>\n",
       "      <th>153</th>\n",
       "      <td>lZyClw0vqQvUiJkIemcg8A==</td>\n",
       "      <td>False</td>\n",
       "      <td>False</td>\n",
       "      <td>True</td>\n",
       "      <td>True</td>\n",
       "    </tr>\n",
       "  </tbody>\n",
       "</table>\n",
       "</div>"
      ],
      "text/plain": [
       "                           id  pileta  parrilla  balcon    sum\n",
       "0    BZCeiGkJr1WBUi6pKJQwJQ==   False     False   False  False\n",
       "3    gn55JPmcjftBV/at1a7fPg==   False     False   False  False\n",
       "11   uH5H+RfQM87Qtrb13+T4hA==   False     False   False  False\n",
       "16   n7NJmavbeNUlyKufoGRr+g==   False     False   False  False\n",
       "153  lZyClw0vqQvUiJkIemcg8A==   False     False    True   True"
      ]
     },
     "execution_count": 37,
     "metadata": {},
     "output_type": "execute_result"
    }
   ],
   "source": [
    "amenities_train = pd.DataFrame({\n",
    "    'id': descriptions_train.id,\n",
    "    'pileta': descriptions_train.property_description.str.contains(pileta, regex=True),\n",
    "    'parrilla': descriptions_train.property_description.str.contains(parrilla, regex=True),\n",
    "    'balcon': descriptions_train.property_description.str.contains(balcon, regex=True),\n",
    "    'sum': descriptions_train.property_description.str.contains(sum, regex=True)\n",
    "})\n",
    "amenities_train.head()"
   ]
  },
  {
   "cell_type": "code",
   "execution_count": 38,
   "metadata": {
    "jupyter": {
     "outputs_hidden": false
    },
    "pycharm": {
     "name": "#%%\n"
    }
   },
   "outputs": [
    {
     "data": {
      "text/html": [
       "<div>\n",
       "<style scoped>\n",
       "    .dataframe tbody tr th:only-of-type {\n",
       "        vertical-align: middle;\n",
       "    }\n",
       "\n",
       "    .dataframe tbody tr th {\n",
       "        vertical-align: top;\n",
       "    }\n",
       "\n",
       "    .dataframe thead th {\n",
       "        text-align: right;\n",
       "    }\n",
       "</style>\n",
       "<table border=\"1\" class=\"dataframe\">\n",
       "  <thead>\n",
       "    <tr style=\"text-align: right;\">\n",
       "      <th></th>\n",
       "      <th>id</th>\n",
       "      <th>pileta</th>\n",
       "      <th>parrilla</th>\n",
       "      <th>balcon</th>\n",
       "      <th>sum</th>\n",
       "    </tr>\n",
       "  </thead>\n",
       "  <tbody>\n",
       "    <tr>\n",
       "      <th>2</th>\n",
       "      <td>TUL813tXchVBlHUsfaA6DA==</td>\n",
       "      <td>False</td>\n",
       "      <td>True</td>\n",
       "      <td>True</td>\n",
       "      <td>False</td>\n",
       "    </tr>\n",
       "    <tr>\n",
       "      <th>151</th>\n",
       "      <td>ns8QWxBXYIdnEccdiu3qog==</td>\n",
       "      <td>False</td>\n",
       "      <td>False</td>\n",
       "      <td>False</td>\n",
       "      <td>False</td>\n",
       "    </tr>\n",
       "    <tr>\n",
       "      <th>154</th>\n",
       "      <td>AZJX5ab3sBKZK1bSC3zW9A==</td>\n",
       "      <td>False</td>\n",
       "      <td>False</td>\n",
       "      <td>False</td>\n",
       "      <td>False</td>\n",
       "    </tr>\n",
       "    <tr>\n",
       "      <th>336</th>\n",
       "      <td>Ta6ZlfqWQbNbo3jVCHHDVQ==</td>\n",
       "      <td>False</td>\n",
       "      <td>False</td>\n",
       "      <td>True</td>\n",
       "      <td>True</td>\n",
       "    </tr>\n",
       "    <tr>\n",
       "      <th>341</th>\n",
       "      <td>TFL4KKRhKUuOS9QiO4VM+g==</td>\n",
       "      <td>False</td>\n",
       "      <td>False</td>\n",
       "      <td>False</td>\n",
       "      <td>False</td>\n",
       "    </tr>\n",
       "  </tbody>\n",
       "</table>\n",
       "</div>"
      ],
      "text/plain": [
       "                           id  pileta  parrilla  balcon    sum\n",
       "2    TUL813tXchVBlHUsfaA6DA==   False      True    True  False\n",
       "151  ns8QWxBXYIdnEccdiu3qog==   False     False   False  False\n",
       "154  AZJX5ab3sBKZK1bSC3zW9A==   False     False   False  False\n",
       "336  Ta6ZlfqWQbNbo3jVCHHDVQ==   False     False    True   True\n",
       "341  TFL4KKRhKUuOS9QiO4VM+g==   False     False   False  False"
      ]
     },
     "execution_count": 38,
     "metadata": {},
     "output_type": "execute_result"
    }
   ],
   "source": [
    "# Replicamos lo mismo en test\n",
    "amenities_test = pd.DataFrame({\n",
    "    'id': descriptions_test.id,\n",
    "    'pileta': descriptions_test.property_description.str.contains(pileta, regex=True),\n",
    "    'parrilla': descriptions_test.property_description.str.contains(parrilla, regex=True),\n",
    "    'balcon': descriptions_test.property_description.str.contains(balcon, regex=True),\n",
    "    'sum': descriptions_test.property_description.str.contains(sum, regex=True)\n",
    "})\n",
    "amenities_test.head()"
   ]
  },
  {
   "cell_type": "code",
   "execution_count": 39,
   "metadata": {
    "jupyter": {
     "outputs_hidden": false
    },
    "pycharm": {
     "name": "#%%\n"
    }
   },
   "outputs": [
    {
     "data": {
      "text/html": [
       "<div>\n",
       "<style scoped>\n",
       "    .dataframe tbody tr th:only-of-type {\n",
       "        vertical-align: middle;\n",
       "    }\n",
       "\n",
       "    .dataframe tbody tr th {\n",
       "        vertical-align: top;\n",
       "    }\n",
       "\n",
       "    .dataframe thead th {\n",
       "        text-align: right;\n",
       "    }\n",
       "</style>\n",
       "<table border=\"1\" class=\"dataframe\">\n",
       "  <thead>\n",
       "    <tr style=\"text-align: right;\">\n",
       "      <th></th>\n",
       "      <th>id</th>\n",
       "      <th>start_date</th>\n",
       "      <th>end_date</th>\n",
       "      <th>latitud</th>\n",
       "      <th>longitud</th>\n",
       "      <th>place_l3</th>\n",
       "      <th>property_type</th>\n",
       "      <th>property_rooms</th>\n",
       "      <th>property_bedrooms</th>\n",
       "      <th>property_surface_total</th>\n",
       "      <th>property_surface_covered</th>\n",
       "      <th>property_price</th>\n",
       "      <th>property_title</th>\n",
       "      <th>score_sentimientos</th>\n",
       "    </tr>\n",
       "  </thead>\n",
       "  <tbody>\n",
       "    <tr>\n",
       "      <th>0</th>\n",
       "      <td>poGOTUlIzEZKiMYhXKdYQQ==</td>\n",
       "      <td>2021-01-15</td>\n",
       "      <td>2021-04-29</td>\n",
       "      <td>-34.577306</td>\n",
       "      <td>-58.434056</td>\n",
       "      <td>Palermo</td>\n",
       "      <td>Departamento</td>\n",
       "      <td>3.0</td>\n",
       "      <td>2.0</td>\n",
       "      <td>68.0</td>\n",
       "      <td>68.0</td>\n",
       "      <td>158000.0</td>\n",
       "      <td>Departamento 3 Ambientes Reciclado Escritorio ...</td>\n",
       "      <td>29</td>\n",
       "    </tr>\n",
       "    <tr>\n",
       "      <th>1</th>\n",
       "      <td>/vmZVmXMvf5tTlS14gcC8w==</td>\n",
       "      <td>2021-09-01</td>\n",
       "      <td>2022-09-10</td>\n",
       "      <td>-34.558066</td>\n",
       "      <td>-58.473512</td>\n",
       "      <td>Belgrano</td>\n",
       "      <td>Casa</td>\n",
       "      <td>6.0</td>\n",
       "      <td>5.0</td>\n",
       "      <td>341.0</td>\n",
       "      <td>206.0</td>\n",
       "      <td>399000.0</td>\n",
       "      <td>Casa belgrano  jardin pileta luminoso doble co...</td>\n",
       "      <td>16</td>\n",
       "    </tr>\n",
       "    <tr>\n",
       "      <th>2</th>\n",
       "      <td>ko5Ol+Mv8KN8Kglz1k/ubA==</td>\n",
       "      <td>2021-12-08</td>\n",
       "      <td>2021-12-19</td>\n",
       "      <td>-34.545531</td>\n",
       "      <td>-58.474900</td>\n",
       "      <td>Saavedra</td>\n",
       "      <td>PH</td>\n",
       "      <td>1.0</td>\n",
       "      <td>1.0</td>\n",
       "      <td>20.0</td>\n",
       "      <td>20.0</td>\n",
       "      <td>45000.0</td>\n",
       "      <td>Dpto PH Saavedra 1amb sin expe P.Baja a la cal...</td>\n",
       "      <td>38</td>\n",
       "    </tr>\n",
       "    <tr>\n",
       "      <th>3</th>\n",
       "      <td>/Z37wOCvzjGlLKMdOFky+Q==</td>\n",
       "      <td>2021-04-26</td>\n",
       "      <td>2021-06-05</td>\n",
       "      <td>-34.605870</td>\n",
       "      <td>-58.457702</td>\n",
       "      <td>Caballito</td>\n",
       "      <td>Departamento</td>\n",
       "      <td>3.0</td>\n",
       "      <td>2.0</td>\n",
       "      <td>60.0</td>\n",
       "      <td>52.0</td>\n",
       "      <td>149000.0</td>\n",
       "      <td>Venta, Departamento, 3 ambientes, Balcón, coch...</td>\n",
       "      <td>74</td>\n",
       "    </tr>\n",
       "    <tr>\n",
       "      <th>4</th>\n",
       "      <td>RXg51b1AdPe+UXZkpRNEqg==</td>\n",
       "      <td>2021-01-07</td>\n",
       "      <td>2021-02-10</td>\n",
       "      <td>-34.587415</td>\n",
       "      <td>-58.438877</td>\n",
       "      <td>Palermo</td>\n",
       "      <td>Departamento</td>\n",
       "      <td>2.0</td>\n",
       "      <td>1.0</td>\n",
       "      <td>99.0</td>\n",
       "      <td>58.0</td>\n",
       "      <td>210000.0</td>\n",
       "      <td>U$S 210.000 - 2 amb - Palermo - Niceto Vega 52...</td>\n",
       "      <td>3</td>\n",
       "    </tr>\n",
       "    <tr>\n",
       "      <th>...</th>\n",
       "      <td>...</td>\n",
       "      <td>...</td>\n",
       "      <td>...</td>\n",
       "      <td>...</td>\n",
       "      <td>...</td>\n",
       "      <td>...</td>\n",
       "      <td>...</td>\n",
       "      <td>...</td>\n",
       "      <td>...</td>\n",
       "      <td>...</td>\n",
       "      <td>...</td>\n",
       "      <td>...</td>\n",
       "      <td>...</td>\n",
       "      <td>...</td>\n",
       "    </tr>\n",
       "    <tr>\n",
       "      <th>11947</th>\n",
       "      <td>zMNYVtyC8ZPLlHJDVEzcJg==</td>\n",
       "      <td>2021-05-22</td>\n",
       "      <td>2021-06-05</td>\n",
       "      <td>-34.562450</td>\n",
       "      <td>-58.454040</td>\n",
       "      <td>Belgrano</td>\n",
       "      <td>Departamento</td>\n",
       "      <td>3.0</td>\n",
       "      <td>2.0</td>\n",
       "      <td>76.0</td>\n",
       "      <td>70.0</td>\n",
       "      <td>204000.0</td>\n",
       "      <td>Venta Departamento 3 amb con Balcón Dependenci...</td>\n",
       "      <td>18</td>\n",
       "    </tr>\n",
       "    <tr>\n",
       "      <th>11948</th>\n",
       "      <td>TI8pKfusTlHy5oPeb/ZBWQ==</td>\n",
       "      <td>2021-03-02</td>\n",
       "      <td>2021-03-10</td>\n",
       "      <td>-34.598424</td>\n",
       "      <td>-58.440173</td>\n",
       "      <td>Villa Crespo</td>\n",
       "      <td>Departamento</td>\n",
       "      <td>4.0</td>\n",
       "      <td>3.0</td>\n",
       "      <td>136.0</td>\n",
       "      <td>123.0</td>\n",
       "      <td>299000.0</td>\n",
       "      <td>4 AMB C/DEP, COCHERA, PISO ALTO! VILLA CRESPO</td>\n",
       "      <td>23</td>\n",
       "    </tr>\n",
       "    <tr>\n",
       "      <th>11949</th>\n",
       "      <td>y8Uvsi21S5hPqQT7OeAwAw==</td>\n",
       "      <td>2021-08-10</td>\n",
       "      <td>9999-12-31</td>\n",
       "      <td>-34.639597</td>\n",
       "      <td>-58.369096</td>\n",
       "      <td>Barracas</td>\n",
       "      <td>Departamento</td>\n",
       "      <td>2.0</td>\n",
       "      <td>1.0</td>\n",
       "      <td>105.0</td>\n",
       "      <td>92.0</td>\n",
       "      <td>230000.0</td>\n",
       "      <td>Departamento - Barracas</td>\n",
       "      <td>3</td>\n",
       "    </tr>\n",
       "    <tr>\n",
       "      <th>11950</th>\n",
       "      <td>R1uGoXBwjP52Z1ZAwqQ3dQ==</td>\n",
       "      <td>2021-01-11</td>\n",
       "      <td>2021-02-08</td>\n",
       "      <td>-34.574611</td>\n",
       "      <td>-58.492324</td>\n",
       "      <td>Villa Urquiza</td>\n",
       "      <td>Departamento</td>\n",
       "      <td>2.0</td>\n",
       "      <td>1.0</td>\n",
       "      <td>67.0</td>\n",
       "      <td>59.0</td>\n",
       "      <td>119538.0</td>\n",
       "      <td>Departamento - Villa Urquiza</td>\n",
       "      <td>6</td>\n",
       "    </tr>\n",
       "    <tr>\n",
       "      <th>11951</th>\n",
       "      <td>iy6JRE+pzJhRjPEbqnQqmA==</td>\n",
       "      <td>2021-09-29</td>\n",
       "      <td>2021-12-05</td>\n",
       "      <td>-34.583990</td>\n",
       "      <td>-58.419339</td>\n",
       "      <td>Palermo</td>\n",
       "      <td>Departamento</td>\n",
       "      <td>2.0</td>\n",
       "      <td>1.0</td>\n",
       "      <td>44.0</td>\n",
       "      <td>44.0</td>\n",
       "      <td>130000.0</td>\n",
       "      <td>Departamento - Palermo</td>\n",
       "      <td>5</td>\n",
       "    </tr>\n",
       "  </tbody>\n",
       "</table>\n",
       "<p>11952 rows × 14 columns</p>\n",
       "</div>"
      ],
      "text/plain": [
       "                             id  start_date    end_date    latitud   longitud  \\\n",
       "0      poGOTUlIzEZKiMYhXKdYQQ==  2021-01-15  2021-04-29 -34.577306 -58.434056   \n",
       "1      /vmZVmXMvf5tTlS14gcC8w==  2021-09-01  2022-09-10 -34.558066 -58.473512   \n",
       "2      ko5Ol+Mv8KN8Kglz1k/ubA==  2021-12-08  2021-12-19 -34.545531 -58.474900   \n",
       "3      /Z37wOCvzjGlLKMdOFky+Q==  2021-04-26  2021-06-05 -34.605870 -58.457702   \n",
       "4      RXg51b1AdPe+UXZkpRNEqg==  2021-01-07  2021-02-10 -34.587415 -58.438877   \n",
       "...                         ...         ...         ...        ...        ...   \n",
       "11947  zMNYVtyC8ZPLlHJDVEzcJg==  2021-05-22  2021-06-05 -34.562450 -58.454040   \n",
       "11948  TI8pKfusTlHy5oPeb/ZBWQ==  2021-03-02  2021-03-10 -34.598424 -58.440173   \n",
       "11949  y8Uvsi21S5hPqQT7OeAwAw==  2021-08-10  9999-12-31 -34.639597 -58.369096   \n",
       "11950  R1uGoXBwjP52Z1ZAwqQ3dQ==  2021-01-11  2021-02-08 -34.574611 -58.492324   \n",
       "11951  iy6JRE+pzJhRjPEbqnQqmA==  2021-09-29  2021-12-05 -34.583990 -58.419339   \n",
       "\n",
       "            place_l3 property_type  property_rooms  property_bedrooms  \\\n",
       "0            Palermo  Departamento             3.0                2.0   \n",
       "1           Belgrano          Casa             6.0                5.0   \n",
       "2           Saavedra            PH             1.0                1.0   \n",
       "3          Caballito  Departamento             3.0                2.0   \n",
       "4            Palermo  Departamento             2.0                1.0   \n",
       "...              ...           ...             ...                ...   \n",
       "11947       Belgrano  Departamento             3.0                2.0   \n",
       "11948   Villa Crespo  Departamento             4.0                3.0   \n",
       "11949       Barracas  Departamento             2.0                1.0   \n",
       "11950  Villa Urquiza  Departamento             2.0                1.0   \n",
       "11951        Palermo  Departamento             2.0                1.0   \n",
       "\n",
       "       property_surface_total  property_surface_covered  property_price  \\\n",
       "0                        68.0                      68.0        158000.0   \n",
       "1                       341.0                     206.0        399000.0   \n",
       "2                        20.0                      20.0         45000.0   \n",
       "3                        60.0                      52.0        149000.0   \n",
       "4                        99.0                      58.0        210000.0   \n",
       "...                       ...                       ...             ...   \n",
       "11947                    76.0                      70.0        204000.0   \n",
       "11948                   136.0                     123.0        299000.0   \n",
       "11949                   105.0                      92.0        230000.0   \n",
       "11950                    67.0                      59.0        119538.0   \n",
       "11951                    44.0                      44.0        130000.0   \n",
       "\n",
       "                                          property_title  score_sentimientos  \n",
       "0      Departamento 3 Ambientes Reciclado Escritorio ...                  29  \n",
       "1      Casa belgrano  jardin pileta luminoso doble co...                  16  \n",
       "2      Dpto PH Saavedra 1amb sin expe P.Baja a la cal...                  38  \n",
       "3      Venta, Departamento, 3 ambientes, Balcón, coch...                  74  \n",
       "4      U$S 210.000 - 2 amb - Palermo - Niceto Vega 52...                   3  \n",
       "...                                                  ...                 ...  \n",
       "11947  Venta Departamento 3 amb con Balcón Dependenci...                  18  \n",
       "11948      4 AMB C/DEP, COCHERA, PISO ALTO! VILLA CRESPO                  23  \n",
       "11949                            Departamento - Barracas                   3  \n",
       "11950                       Departamento - Villa Urquiza                   6  \n",
       "11951                             Departamento - Palermo                   5  \n",
       "\n",
       "[11952 rows x 14 columns]"
      ]
     },
     "execution_count": 39,
     "metadata": {},
     "output_type": "execute_result"
    }
   ],
   "source": [
    "ds_test"
   ]
  },
  {
   "cell_type": "code",
   "execution_count": 40,
   "metadata": {
    "jupyter": {
     "outputs_hidden": false
    },
    "pycharm": {
     "name": "#%%\n"
    }
   },
   "outputs": [
    {
     "data": {
      "text/html": [
       "<div>\n",
       "<style scoped>\n",
       "    .dataframe tbody tr th:only-of-type {\n",
       "        vertical-align: middle;\n",
       "    }\n",
       "\n",
       "    .dataframe tbody tr th {\n",
       "        vertical-align: top;\n",
       "    }\n",
       "\n",
       "    .dataframe thead th {\n",
       "        text-align: right;\n",
       "    }\n",
       "</style>\n",
       "<table border=\"1\" class=\"dataframe\">\n",
       "  <thead>\n",
       "    <tr style=\"text-align: right;\">\n",
       "      <th></th>\n",
       "      <th>id</th>\n",
       "      <th>start_date</th>\n",
       "      <th>end_date</th>\n",
       "      <th>latitud</th>\n",
       "      <th>longitud</th>\n",
       "      <th>place_l3</th>\n",
       "      <th>property_type</th>\n",
       "      <th>property_rooms</th>\n",
       "      <th>property_bedrooms</th>\n",
       "      <th>property_surface_total</th>\n",
       "      <th>property_surface_covered</th>\n",
       "      <th>property_price</th>\n",
       "      <th>property_title</th>\n",
       "      <th>score_sentimientos</th>\n",
       "      <th>pileta</th>\n",
       "      <th>parrilla</th>\n",
       "      <th>balcon</th>\n",
       "      <th>sum</th>\n",
       "    </tr>\n",
       "  </thead>\n",
       "  <tbody>\n",
       "    <tr>\n",
       "      <th>0</th>\n",
       "      <td>1PYAQFsAktkYlJpcdrH9uQ==</td>\n",
       "      <td>2021-03-24</td>\n",
       "      <td>2021-05-26</td>\n",
       "      <td>-34.589481</td>\n",
       "      <td>-58.389144</td>\n",
       "      <td>Recoleta</td>\n",
       "      <td>Departamento</td>\n",
       "      <td>4.0</td>\n",
       "      <td>3.0</td>\n",
       "      <td>192.0</td>\n",
       "      <td>170.0</td>\n",
       "      <td>580000.0</td>\n",
       "      <td>Balcón terraza y totalmente reciclado en Recol...</td>\n",
       "      <td>13</td>\n",
       "      <td>False</td>\n",
       "      <td>False</td>\n",
       "      <td>False</td>\n",
       "      <td>False</td>\n",
       "    </tr>\n",
       "    <tr>\n",
       "      <th>1</th>\n",
       "      <td>Qgy7pmJ4NulNrdbxa8a7MQ==</td>\n",
       "      <td>2021-12-13</td>\n",
       "      <td>2021-12-23</td>\n",
       "      <td>-34.555436</td>\n",
       "      <td>-58.475303</td>\n",
       "      <td>Nuñez</td>\n",
       "      <td>Departamento</td>\n",
       "      <td>3.0</td>\n",
       "      <td>2.0</td>\n",
       "      <td>83.0</td>\n",
       "      <td>83.0</td>\n",
       "      <td>100000.0</td>\n",
       "      <td>Departamento - Nuñez</td>\n",
       "      <td>11</td>\n",
       "      <td>False</td>\n",
       "      <td>True</td>\n",
       "      <td>False</td>\n",
       "      <td>False</td>\n",
       "    </tr>\n",
       "    <tr>\n",
       "      <th>2</th>\n",
       "      <td>QO1fBv/XWsHIqP59T0Xngg==</td>\n",
       "      <td>2021-09-24</td>\n",
       "      <td>2022-03-09</td>\n",
       "      <td>-34.577124</td>\n",
       "      <td>-58.475892</td>\n",
       "      <td>Villa Urquiza</td>\n",
       "      <td>Casa</td>\n",
       "      <td>4.0</td>\n",
       "      <td>3.0</td>\n",
       "      <td>150.0</td>\n",
       "      <td>105.0</td>\n",
       "      <td>229000.0</td>\n",
       "      <td>Casa en venta 4Amb c/patio y terraza - Urquiza R</td>\n",
       "      <td>24</td>\n",
       "      <td>False</td>\n",
       "      <td>False</td>\n",
       "      <td>True</td>\n",
       "      <td>False</td>\n",
       "    </tr>\n",
       "    <tr>\n",
       "      <th>3</th>\n",
       "      <td>9yo77b8vzfYAXyFJHVhLiw==</td>\n",
       "      <td>2021-07-16</td>\n",
       "      <td>9999-12-31</td>\n",
       "      <td>-34.639306</td>\n",
       "      <td>-58.368501</td>\n",
       "      <td>Barracas</td>\n",
       "      <td>Departamento</td>\n",
       "      <td>2.0</td>\n",
       "      <td>1.0</td>\n",
       "      <td>122.0</td>\n",
       "      <td>75.0</td>\n",
       "      <td>195000.0</td>\n",
       "      <td>Departamento - Barracas</td>\n",
       "      <td>34</td>\n",
       "      <td>False</td>\n",
       "      <td>False</td>\n",
       "      <td>False</td>\n",
       "      <td>True</td>\n",
       "    </tr>\n",
       "    <tr>\n",
       "      <th>4</th>\n",
       "      <td>HEyW45D+cF+tLUGaQPDgXg==</td>\n",
       "      <td>2021-08-30</td>\n",
       "      <td>2022-01-27</td>\n",
       "      <td>-34.563572</td>\n",
       "      <td>-58.439407</td>\n",
       "      <td>Palermo</td>\n",
       "      <td>Departamento</td>\n",
       "      <td>3.0</td>\n",
       "      <td>2.0</td>\n",
       "      <td>50.0</td>\n",
       "      <td>50.0</td>\n",
       "      <td>115000.0</td>\n",
       "      <td>Dpto. 3 ambientes, con cocina independiente y ...</td>\n",
       "      <td>44</td>\n",
       "      <td>False</td>\n",
       "      <td>False</td>\n",
       "      <td>False</td>\n",
       "      <td>False</td>\n",
       "    </tr>\n",
       "  </tbody>\n",
       "</table>\n",
       "</div>"
      ],
      "text/plain": [
       "                         id  start_date    end_date    latitud   longitud  \\\n",
       "0  1PYAQFsAktkYlJpcdrH9uQ==  2021-03-24  2021-05-26 -34.589481 -58.389144   \n",
       "1  Qgy7pmJ4NulNrdbxa8a7MQ==  2021-12-13  2021-12-23 -34.555436 -58.475303   \n",
       "2  QO1fBv/XWsHIqP59T0Xngg==  2021-09-24  2022-03-09 -34.577124 -58.475892   \n",
       "3  9yo77b8vzfYAXyFJHVhLiw==  2021-07-16  9999-12-31 -34.639306 -58.368501   \n",
       "4  HEyW45D+cF+tLUGaQPDgXg==  2021-08-30  2022-01-27 -34.563572 -58.439407   \n",
       "\n",
       "        place_l3 property_type  property_rooms  property_bedrooms  \\\n",
       "0       Recoleta  Departamento             4.0                3.0   \n",
       "1          Nuñez  Departamento             3.0                2.0   \n",
       "2  Villa Urquiza          Casa             4.0                3.0   \n",
       "3       Barracas  Departamento             2.0                1.0   \n",
       "4        Palermo  Departamento             3.0                2.0   \n",
       "\n",
       "   property_surface_total  property_surface_covered  property_price  \\\n",
       "0                   192.0                     170.0        580000.0   \n",
       "1                    83.0                      83.0        100000.0   \n",
       "2                   150.0                     105.0        229000.0   \n",
       "3                   122.0                      75.0        195000.0   \n",
       "4                    50.0                      50.0        115000.0   \n",
       "\n",
       "                                      property_title  score_sentimientos  \\\n",
       "0  Balcón terraza y totalmente reciclado en Recol...                  13   \n",
       "1                               Departamento - Nuñez                  11   \n",
       "2   Casa en venta 4Amb c/patio y terraza - Urquiza R                  24   \n",
       "3                            Departamento - Barracas                  34   \n",
       "4  Dpto. 3 ambientes, con cocina independiente y ...                  44   \n",
       "\n",
       "   pileta  parrilla  balcon    sum  \n",
       "0   False     False   False  False  \n",
       "1   False      True   False  False  \n",
       "2   False     False    True  False  \n",
       "3   False     False   False   True  \n",
       "4   False     False   False  False  "
      ]
     },
     "execution_count": 40,
     "metadata": {},
     "output_type": "execute_result"
    }
   ],
   "source": [
    "ds_train = pd.merge(ds_train, amenities_train, on='id')\n",
    "ds_train.head()"
   ]
  },
  {
   "cell_type": "code",
   "execution_count": 41,
   "metadata": {
    "jupyter": {
     "outputs_hidden": false
    },
    "pycharm": {
     "name": "#%%\n"
    }
   },
   "outputs": [
    {
     "data": {
      "text/html": [
       "<div>\n",
       "<style scoped>\n",
       "    .dataframe tbody tr th:only-of-type {\n",
       "        vertical-align: middle;\n",
       "    }\n",
       "\n",
       "    .dataframe tbody tr th {\n",
       "        vertical-align: top;\n",
       "    }\n",
       "\n",
       "    .dataframe thead th {\n",
       "        text-align: right;\n",
       "    }\n",
       "</style>\n",
       "<table border=\"1\" class=\"dataframe\">\n",
       "  <thead>\n",
       "    <tr style=\"text-align: right;\">\n",
       "      <th></th>\n",
       "      <th>id</th>\n",
       "      <th>start_date</th>\n",
       "      <th>end_date</th>\n",
       "      <th>latitud</th>\n",
       "      <th>longitud</th>\n",
       "      <th>place_l3</th>\n",
       "      <th>property_type</th>\n",
       "      <th>property_rooms</th>\n",
       "      <th>property_bedrooms</th>\n",
       "      <th>property_surface_total</th>\n",
       "      <th>property_surface_covered</th>\n",
       "      <th>property_price</th>\n",
       "      <th>property_title</th>\n",
       "      <th>score_sentimientos</th>\n",
       "      <th>pileta</th>\n",
       "      <th>parrilla</th>\n",
       "      <th>balcon</th>\n",
       "      <th>sum</th>\n",
       "    </tr>\n",
       "  </thead>\n",
       "  <tbody>\n",
       "    <tr>\n",
       "      <th>0</th>\n",
       "      <td>poGOTUlIzEZKiMYhXKdYQQ==</td>\n",
       "      <td>2021-01-15</td>\n",
       "      <td>2021-04-29</td>\n",
       "      <td>-34.577306</td>\n",
       "      <td>-58.434056</td>\n",
       "      <td>Palermo</td>\n",
       "      <td>Departamento</td>\n",
       "      <td>3.0</td>\n",
       "      <td>2.0</td>\n",
       "      <td>68.0</td>\n",
       "      <td>68.0</td>\n",
       "      <td>158000.0</td>\n",
       "      <td>Departamento 3 Ambientes Reciclado Escritorio ...</td>\n",
       "      <td>29</td>\n",
       "      <td>False</td>\n",
       "      <td>False</td>\n",
       "      <td>False</td>\n",
       "      <td>False</td>\n",
       "    </tr>\n",
       "    <tr>\n",
       "      <th>1</th>\n",
       "      <td>/vmZVmXMvf5tTlS14gcC8w==</td>\n",
       "      <td>2021-09-01</td>\n",
       "      <td>2022-09-10</td>\n",
       "      <td>-34.558066</td>\n",
       "      <td>-58.473512</td>\n",
       "      <td>Belgrano</td>\n",
       "      <td>Casa</td>\n",
       "      <td>6.0</td>\n",
       "      <td>5.0</td>\n",
       "      <td>341.0</td>\n",
       "      <td>206.0</td>\n",
       "      <td>399000.0</td>\n",
       "      <td>Casa belgrano  jardin pileta luminoso doble co...</td>\n",
       "      <td>16</td>\n",
       "      <td>False</td>\n",
       "      <td>False</td>\n",
       "      <td>False</td>\n",
       "      <td>False</td>\n",
       "    </tr>\n",
       "    <tr>\n",
       "      <th>2</th>\n",
       "      <td>ko5Ol+Mv8KN8Kglz1k/ubA==</td>\n",
       "      <td>2021-12-08</td>\n",
       "      <td>2021-12-19</td>\n",
       "      <td>-34.545531</td>\n",
       "      <td>-58.474900</td>\n",
       "      <td>Saavedra</td>\n",
       "      <td>PH</td>\n",
       "      <td>1.0</td>\n",
       "      <td>1.0</td>\n",
       "      <td>20.0</td>\n",
       "      <td>20.0</td>\n",
       "      <td>45000.0</td>\n",
       "      <td>Dpto PH Saavedra 1amb sin expe P.Baja a la cal...</td>\n",
       "      <td>38</td>\n",
       "      <td>False</td>\n",
       "      <td>False</td>\n",
       "      <td>False</td>\n",
       "      <td>True</td>\n",
       "    </tr>\n",
       "    <tr>\n",
       "      <th>3</th>\n",
       "      <td>/Z37wOCvzjGlLKMdOFky+Q==</td>\n",
       "      <td>2021-04-26</td>\n",
       "      <td>2021-06-05</td>\n",
       "      <td>-34.605870</td>\n",
       "      <td>-58.457702</td>\n",
       "      <td>Caballito</td>\n",
       "      <td>Departamento</td>\n",
       "      <td>3.0</td>\n",
       "      <td>2.0</td>\n",
       "      <td>60.0</td>\n",
       "      <td>52.0</td>\n",
       "      <td>149000.0</td>\n",
       "      <td>Venta, Departamento, 3 ambientes, Balcón, coch...</td>\n",
       "      <td>74</td>\n",
       "      <td>False</td>\n",
       "      <td>False</td>\n",
       "      <td>True</td>\n",
       "      <td>False</td>\n",
       "    </tr>\n",
       "    <tr>\n",
       "      <th>4</th>\n",
       "      <td>RXg51b1AdPe+UXZkpRNEqg==</td>\n",
       "      <td>2021-01-07</td>\n",
       "      <td>2021-02-10</td>\n",
       "      <td>-34.587415</td>\n",
       "      <td>-58.438877</td>\n",
       "      <td>Palermo</td>\n",
       "      <td>Departamento</td>\n",
       "      <td>2.0</td>\n",
       "      <td>1.0</td>\n",
       "      <td>99.0</td>\n",
       "      <td>58.0</td>\n",
       "      <td>210000.0</td>\n",
       "      <td>U$S 210.000 - 2 amb - Palermo - Niceto Vega 52...</td>\n",
       "      <td>3</td>\n",
       "      <td>False</td>\n",
       "      <td>True</td>\n",
       "      <td>True</td>\n",
       "      <td>False</td>\n",
       "    </tr>\n",
       "  </tbody>\n",
       "</table>\n",
       "</div>"
      ],
      "text/plain": [
       "                         id  start_date    end_date    latitud   longitud  \\\n",
       "0  poGOTUlIzEZKiMYhXKdYQQ==  2021-01-15  2021-04-29 -34.577306 -58.434056   \n",
       "1  /vmZVmXMvf5tTlS14gcC8w==  2021-09-01  2022-09-10 -34.558066 -58.473512   \n",
       "2  ko5Ol+Mv8KN8Kglz1k/ubA==  2021-12-08  2021-12-19 -34.545531 -58.474900   \n",
       "3  /Z37wOCvzjGlLKMdOFky+Q==  2021-04-26  2021-06-05 -34.605870 -58.457702   \n",
       "4  RXg51b1AdPe+UXZkpRNEqg==  2021-01-07  2021-02-10 -34.587415 -58.438877   \n",
       "\n",
       "    place_l3 property_type  property_rooms  property_bedrooms  \\\n",
       "0    Palermo  Departamento             3.0                2.0   \n",
       "1   Belgrano          Casa             6.0                5.0   \n",
       "2   Saavedra            PH             1.0                1.0   \n",
       "3  Caballito  Departamento             3.0                2.0   \n",
       "4    Palermo  Departamento             2.0                1.0   \n",
       "\n",
       "   property_surface_total  property_surface_covered  property_price  \\\n",
       "0                    68.0                      68.0        158000.0   \n",
       "1                   341.0                     206.0        399000.0   \n",
       "2                    20.0                      20.0         45000.0   \n",
       "3                    60.0                      52.0        149000.0   \n",
       "4                    99.0                      58.0        210000.0   \n",
       "\n",
       "                                      property_title  score_sentimientos  \\\n",
       "0  Departamento 3 Ambientes Reciclado Escritorio ...                  29   \n",
       "1  Casa belgrano  jardin pileta luminoso doble co...                  16   \n",
       "2  Dpto PH Saavedra 1amb sin expe P.Baja a la cal...                  38   \n",
       "3  Venta, Departamento, 3 ambientes, Balcón, coch...                  74   \n",
       "4  U$S 210.000 - 2 amb - Palermo - Niceto Vega 52...                   3   \n",
       "\n",
       "   pileta  parrilla  balcon    sum  \n",
       "0   False     False   False  False  \n",
       "1   False     False   False  False  \n",
       "2   False     False   False   True  \n",
       "3   False     False    True  False  \n",
       "4   False      True    True  False  "
      ]
     },
     "execution_count": 41,
     "metadata": {},
     "output_type": "execute_result"
    }
   ],
   "source": [
    "ds_test = pd.merge(ds_test, amenities_test, on='id')\n",
    "ds_test.head()"
   ]
  },
  {
   "cell_type": "markdown",
   "metadata": {
    "pycharm": {
     "name": "#%% md\n"
    }
   },
   "source": [
    "##### Expensas"
   ]
  },
  {
   "cell_type": "markdown",
   "metadata": {
    "pycharm": {
     "name": "#%% md\n"
    }
   },
   "source": [
    "Por último, trabajaremos en crear una columna numérica con el valor de las expensas. Evaluaremos primero que porcentaje de valores podemos conseguir con regex"
   ]
  },
  {
   "cell_type": "code",
   "execution_count": 42,
   "metadata": {
    "jupyter": {
     "outputs_hidden": false
    },
    "pycharm": {
     "name": "#%%\n"
    }
   },
   "outputs": [
    {
     "name": "stdout",
     "output_type": "stream",
     "text": [
      "Los anuncios de propiedades que tienen la feature Expensas son: 21748 y representan el 35% de los datos\n"
     ]
    }
   ],
   "source": [
    "expensas = re.compile(r\"\\s*[0-9.]*\\s*exp|expensas\")\n",
    "calculate_freq(\"Expensas\", expensas)"
   ]
  },
  {
   "cell_type": "code",
   "execution_count": null,
   "metadata": {
    "jupyter": {
     "outputs_hidden": false
    },
    "pycharm": {
     "name": "#%%\n"
    }
   },
   "outputs": [],
   "source": [
    "expensas_extract = re.compile('((?:[a-zA-Z0-9]+\\s*){5}(?:expensas|exp)\\s(?:[a-zA-Z0-9]+\\s){10})')\n",
    "expensas_train = descriptions_train.property_description.str.extract(expensas_extract)\n",
    "expensas_train.value_counts()"
   ]
  },
  {
   "cell_type": "code",
   "execution_count": null,
   "metadata": {
    "jupyter": {
     "outputs_hidden": false
    },
    "pycharm": {
     "name": "#%%\n"
    }
   },
   "outputs": [],
   "source": [
    "expensas_extract = re.compile('((?:[0-9a-zA-Z,.]+\\s*){5}?(?:con|sin|de)\\s*(?:expensas|exp))')\n",
    "expensas_train = descriptions_train.sample(100).property_description.str.extract(expensas_extract)"
   ]
  },
  {
   "cell_type": "code",
   "execution_count": null,
   "metadata": {
    "jupyter": {
     "outputs_hidden": false
    },
    "pycharm": {
     "name": "#%%\n"
    }
   },
   "outputs": [],
   "source": [
    "sin_expensas = re.compile('\\s*([0-9.]+)\\s*exp|expensas')\n",
    "descriptions_train.property_description.str.extract(sin_expensas)"
   ]
  },
  {
   "cell_type": "markdown",
   "metadata": {
    "jupyter": {
     "outputs_hidden": false
    },
    "pycharm": {
     "name": "#%% md\n"
    }
   },
   "source": [
    "## Modelos"
   ]
  },
  {
   "cell_type": "markdown",
   "metadata": {
    "pycharm": {
     "name": "#%% md\n"
    }
   },
   "source": [
    "#### Selección de features"
   ]
  },
  {
   "cell_type": "markdown",
   "metadata": {
    "pycharm": {
     "name": "#%% md\n"
    }
   },
   "source": [
    "Para entrenar los modelos usaremos nuestro dataset recien generado, descartaremos el id, el título y las fechas. Convertiremos las categóricas en variables numéricas."
   ]
  },
  {
   "cell_type": "code",
   "execution_count": null,
   "metadata": {
    "jupyter": {
     "outputs_hidden": false
    },
    "pycharm": {
     "name": "#%%\n"
    }
   },
   "outputs": [],
   "source": [
    "ds_train.columns"
   ]
  },
  {
   "cell_type": "code",
   "execution_count": null,
   "metadata": {
    "jupyter": {
     "outputs_hidden": false
    },
    "pycharm": {
     "name": "#%%\n"
    }
   },
   "outputs": [],
   "source": [
    "ds_trabajo_train = ds_train.drop(['id','property_title', 'start_date', 'end_date'], axis=1)\n",
    "ds_trabajo_train['place_l3'] = pd.factorize(ds_train['place_l3'])[0]\n",
    "ds_trabajo_train['property_type'] = pd.factorize(ds_train['property_type'])[0]\n",
    "ds_trabajo_train"
   ]
  },
  {
   "cell_type": "code",
   "execution_count": null,
   "metadata": {
    "jupyter": {
     "outputs_hidden": false
    },
    "pycharm": {
     "name": "#%%\n"
    }
   },
   "outputs": [],
   "source": [
    "## Replicamos en test\n",
    "ds_trabajo_test = ds_test.drop(['id','property_title', 'start_date', 'end_date'], axis=1)\n",
    "ds_trabajo_test['place_l3'] = pd.factorize(ds_test['place_l3'])[0]\n",
    "ds_trabajo_test['property_type'] = pd.factorize(ds_test['property_type'])[0]\n",
    "ds_trabajo_test"
   ]
  },
  {
   "cell_type": "code",
   "execution_count": null,
   "metadata": {
    "jupyter": {
     "outputs_hidden": false
    },
    "pycharm": {
     "name": "#%%\n"
    }
   },
   "outputs": [],
   "source": [
    "ds_trabajo_train.shape, ds_trabajo_test.shape"
   ]
  },
  {
   "cell_type": "markdown",
   "metadata": {
    "pycharm": {
     "name": "#%% md\n"
    }
   },
   "source": [
    "Sacamos la variable target y creamos nuestros datasets de entrenamiento"
   ]
  },
  {
   "cell_type": "code",
   "execution_count": null,
   "metadata": {
    "jupyter": {
     "outputs_hidden": false
    },
    "pycharm": {
     "name": "#%%\n"
    }
   },
   "outputs": [],
   "source": [
    "columnas_predictoras = ds_trabajo_train.columns.to_list()\n",
    "columnas_predictoras.remove('property_price')\n",
    "columnas_predictoras"
   ]
  },
  {
   "cell_type": "code",
   "execution_count": null,
   "metadata": {
    "jupyter": {
     "outputs_hidden": false
    },
    "pycharm": {
     "name": "#%%\n"
    }
   },
   "outputs": [],
   "source": [
    "x_train = ds_trabajo_train.loc[:, columnas_predictoras]\n",
    "x_test = ds_trabajo_test.loc[:, columnas_predictoras]\n",
    "\n",
    "y_train = ds_trabajo_train.property_price\n",
    "y_test = ds_trabajo_test.property_price"
   ]
  },
  {
   "cell_type": "code",
   "execution_count": null,
   "metadata": {
    "jupyter": {
     "outputs_hidden": false
    },
    "pycharm": {
     "name": "#%%\n"
    }
   },
   "outputs": [],
   "source": [
    "x_train"
   ]
  },
  {
   "cell_type": "markdown",
   "metadata": {},
   "source": [
    "#### XGBoost - Regresión"
   ]
  },
  {
   "cell_type": "markdown",
   "metadata": {},
   "source": [
    "best_xgb_tp1 es el arbol que tiene los mejores hiper parametros y estimaodores obtenidos en el TP1."
   ]
  },
  {
   "cell_type": "code",
   "execution_count": null,
   "metadata": {},
   "outputs": [],
   "source": [
    "def regression_metrics(title, real, predicted):\n",
    "    mse = sk.metrics.mean_squared_error(y_true=real, y_pred=predicted)\n",
    "    rmse = sk.metrics.mean_squared_error(y_true=real, y_pred=predicted, squared=False)\n",
    "    r2 = sk.metrics.r2_score(y_true=real, y_pred=predicted)\n",
    "\n",
    "    print(title)\n",
    "    print(f\"El error (mse) es: {mse}\")\n",
    "    print(f\"El error (rmse) es: {rmse}\")\n",
    "    print(f\"El error (r²) es: {r2}\\n\")"
   ]
  },
  {
   "cell_type": "code",
   "execution_count": null,
   "metadata": {},
   "outputs": [],
   "source": [
    "best_xgb_tp1 = load('XGBoost-pca.joblib')"
   ]
  },
  {
   "cell_type": "code",
   "execution_count": null,
   "metadata": {},
   "outputs": [],
   "source": [
    "best_xgb_tp1.fit(x_train_transform, y_train)\n",
    "y_pred = best_xgb_tp1.predict(x_train_transform)\n",
    "y_pred_test = best_xgb_tp1.predict(x_test)"
   ]
  },
  {
   "cell_type": "markdown",
   "metadata": {
    "tags": []
   },
   "source": [
    "##### Metricas obtenidas con el dataset del TP1."
   ]
  },
  {
   "cell_type": "markdown",
   "metadata": {},
   "source": [
    "Metricas XGBoost optimizado - Train\n",
    "\n",
    "El error (mse) es: 761704416.3937123\n",
    "\n",
    "El error (rmse) es: 27598.993032241455\n",
    "\n",
    "El error (r²) es: 0.9652453545965177\n",
    "\n",
    "---------------------------------------\n",
    "\n",
    "Metricas XGBoost optimizado - Test\n",
    "\n",
    "El error (mse) es: 3287902738.8784523\n",
    "\n",
    "El error (rmse) es: 57340.23664825994\n",
    "\n",
    "El error (r²) es: 0.8477123168506954"
   ]
  },
  {
   "cell_type": "code",
   "execution_count": null,
   "metadata": {},
   "outputs": [],
   "source": [
    "regression_metrics(\"Metricas XGBoost optimizado - Train\", y_train, y_pred)\n",
    "regression_metrics(\"Metricas XGBoost optimizado - Test\", y_test, y_pred_test)"
   ]
  },
  {
   "cell_type": "markdown",
   "metadata": {},
   "source": [
    "Utilizamos esta pagina como soporte para entender mejor que representa cada metrica de error: \n",
    "\n",
    "https://sitiobigdata.com/2018/08/27/machine-learning-metricas-regresion-mse/"
   ]
  },
  {
   "cell_type": "markdown",
   "metadata": {},
   "source": [
    "**Train**\n",
    "\n",
    "Notamos como el modelo con el dataset expandido mejora significativamente.\n",
    "\n",
    "Podemos observar un delta de **MSE** de: 432564299. Esto significa que el error se redujo un 400%. Esto es relevante ya que esta metrica nos dice sobre cuan bueno es realmente el modelo entrenado.\n",
    "\n",
    "Luego, para **RMSE** tenemos un delta de: 9456. Esto significa que el error se redujo un 65%.\n",
    "\n",
    "Finalmente para **R2** obtuvimos un delta de: -0,19. Esto significa que el modelo mejoró un 20%, ya que, mientras mas tengamos un valor mas cercano a uno, tenemos un modelo con un error cercano a cero."
   ]
  },
  {
   "cell_type": "markdown",
   "metadata": {},
   "source": [
    "**Test**\n",
    "\n",
    "Notamos como el modelo con el dataset expandido mejora significativamente.\n",
    "\n",
    "Podemos observar un delta de **MSE** de: -96136560337. Esto significa que el error en test empeoró un 3%. \n",
    "\n",
    "Luego, para **RMSE** tenemos un delta de: -257976,21245748526. Esto significa que el error empeoró un 550%.\n",
    "\n",
    "Finalmente para **R2** obtuvimos un delta de: 0,52. Esto significa que el modelo empeoró un 52%."
   ]
  },
  {
   "cell_type": "markdown",
   "metadata": {},
   "source": [
    "##### Nuevos Hiperparametros optimizados con el nuevo dataset ampliado."
   ]
  },
  {
   "cell_type": "code",
   "execution_count": null,
   "metadata": {},
   "outputs": [],
   "source": [
    "from xgboost import XGBRegressor\n",
    "\n",
    "#Cantidad de combinaciones que quiero porbar\n",
    "n = 10\n",
    "\n",
    "params = {\n",
    "    \"max_depth\": [3, 12, 4],\n",
    "    \"learning_rate\": [0.02, 0.03, 0.06],\n",
    "    \"min_child_weight\": [2, 12, 2],\n",
    "    \"n_estimators\": [100, 350],\n",
    "    'alpha': np.linspace(0.03, 0.09, n),\n",
    "}\n",
    "\n",
    "kfold = KFold(n_splits=5)\n",
    "\n",
    "search_regressor = XGBRegressor()\n",
    "\n",
    "search = RandomizedSearchCV(search_regressor, params, cv=5, random_state=9, n_iter=10, verbose=10000)\n",
    "\n",
    "search.fit(x_train_transform, y_train)"
   ]
  },
  {
   "cell_type": "code",
   "execution_count": null,
   "metadata": {},
   "outputs": [],
   "source": [
    "# Mejores Hiperparámetros\n",
    "search.best_params_"
   ]
  },
  {
   "cell_type": "code",
   "execution_count": null,
   "metadata": {},
   "outputs": [],
   "source": [
    "# Mejor Metrica\n",
    "search.best_score_"
   ]
  },
  {
   "cell_type": "code",
   "execution_count": null,
   "metadata": {},
   "outputs": [],
   "source": [
    "best_xgb = search.best_estimator_\n",
    "best_xgb.fit(x_train_transform, y_train)\n",
    "y_pred = best_xgb.predict(x_train_transform)\n",
    "y_pred_test = best_xgb.predict(x_test)"
   ]
  },
  {
   "cell_type": "code",
   "execution_count": null,
   "metadata": {},
   "outputs": [],
   "source": [
    "regression_metrics(\"Metricas XGBoost optimizado - Train\", y_train, y_pred)\n",
    "regression_metrics(\"Metricas XGBoost optimizado - Test\", y_test, y_pred_test)"
   ]
  },
  {
   "cell_type": "markdown",
   "metadata": {},
   "source": [
    "**Train**\n",
    "\n",
    "Notamos como el modelo con el dataset sigue teniendo muy buenos resultados para el dataset de Train pero con una leve baja.\n",
    "\n",
    "Con respecto a las metricas obtenidas con el dataset del TP1, podemos observar un delta de **MSE** de: 617388041. Esto significa que el error, en comparacion con las metricas anteriores se incrementó un 287%.\n",
    "\n",
    "Luego, para **RMSE** tenemos un delta de: 12623. Esto significa que el error se redujo un 3%.\n",
    "\n",
    "Finalmente para **R2** obtuvimos un delta de: -0,02. Esto significa que el modelo empeoró un 2%."
   ]
  },
  {
   "cell_type": "markdown",
   "metadata": {},
   "source": [
    "**Test**\n",
    "\n",
    "Notamos como el modelo con el dataset expandido y la busqueda de un nuevo arbol con mejores hiper-parametros, resulto en un pequeño detrimento del dataset de train pero mejoró mucho mas el dataset de test.\n",
    "\n",
    "Con respecto a las metricas obtenidas con el dataset del TP1, podemos observar un delta de **MSE** de: 45032742345. Esto significa que el error en test mejoró un 54%. \n",
    "\n",
    "Luego, para **RMSE** tenemos un delta de: 82096. Esto significa que el error mejoró un 73%.\n",
    "\n",
    "Finalmente para **R2** obtuvimos un delta de: -9795260413860356. Esto significa que el modelo mejoró un 405%."
   ]
  },
  {
   "cell_type": "markdown",
   "metadata": {},
   "source": [
    "----------------------------------------------------\n",
    "\n",
    "Como **conclusion**, notamos que el dataset expandido nos mejora el modelo con el dataset de train un 20% pero para el dataset de test, nos lo empeora un 52%.\n",
    "\n",
    "Cuando hicimos la busqueda de mejores hiper-parametros para el nuevo dataset expandido, logramos balancear estos resultados.\n",
    "\n",
    "Finalmente, haciendo el delta final, el resultado de expandir el dataset nos resulto en una mejora del 18% para el dataset de train y en un 353% de mejora en el dataset de test."
   ]
  },
  {
   "cell_type": "markdown",
   "metadata": {
    "pycharm": {
     "name": "#%% md\n"
    },
    "tags": []
   },
   "source": [
    "### Redes Neuronales"
   ]
  },
  {
   "cell_type": "markdown",
   "metadata": {
    "pycharm": {
     "name": "#%% md\n"
    }
   },
   "source": [
    "#### Regresión"
   ]
  },
  {
   "cell_type": "markdown",
   "metadata": {
    "pycharm": {
     "name": "#%% md\n"
    }
   },
   "source": [
    "Predecir el precio de la propiedad y utilizar como métrica de evaluación el error cuadrático medio."
   ]
  },
  {
   "cell_type": "markdown",
   "metadata": {
    "pycharm": {
     "name": "#%% md\n"
    }
   },
   "source": [
    "Vamos a predecir el precio de la propiedad (dolares) en base a la superifice total y cubierta. Ya que como vimos en el trabajo pasado, eran los atributos que mas se correlacionaban con el precio.\n",
    "\n",
    "(Todas columnas tienen que ser numericas para Redes Neuronales)"
   ]
  },
  {
   "cell_type": "code",
   "execution_count": null,
   "metadata": {
    "jupyter": {
     "outputs_hidden": false
    },
    "pycharm": {
     "name": "#%%\n"
    }
   },
   "outputs": [],
   "source": [
    "def regression_scatter(x, y_true, y_pred):\n",
    "    fig, (ax1, ax2, ax3) = plt.subplots(1, 3, figsize=(15, 5))\n",
    "\n",
    "    fig.suptitle(f\"Precio según {x.name}\")\n",
    "    sns.scatterplot(x=x, y=y_true, ax=ax1)\n",
    "    ax1.set_title(f\"{x.name} vs Precio real\")\n",
    "\n",
    "    sns.scatterplot(x=x, y=y_pred, ax=ax2)\n",
    "    ax1.set_title(f\"{x.name} vs Precio predicho\")\n",
    "\n",
    "    sns.scatterplot(x=x, y=y_true, ax=ax3)\n",
    "    sns.scatterplot(x=x, y=y_pred, ax=ax3)\n",
    "    ax3.set_title(f\"Grafico combinado\");"
   ]
  },
  {
   "cell_type": "code",
   "execution_count": null,
   "metadata": {
    "jupyter": {
     "outputs_hidden": false
    },
    "pycharm": {
     "name": "#%%\n"
    }
   },
   "outputs": [],
   "source": [
    "def plot_regression(x, y_true, y_pred, title=\"\", xlabel=\"x\", ylabel=\"y\"):\n",
    "    plt.figure()\n",
    "\n",
    "    plt.plot(x, y_true, \"o\", label=\"Valores verdaderos\")\n",
    "    plt.plot(x, y_pred, \"x\", label=\"Valores estimados\")\n",
    "\n",
    "    plt.xlabel(xlabel)\n",
    "    plt.ylabel(ylabel)\n",
    "    plt.title(title)\n",
    "    plt.legend()\n",
    "    plt.show()"
   ]
  },
  {
   "cell_type": "code",
   "execution_count": null,
   "metadata": {
    "jupyter": {
     "outputs_hidden": false
    },
    "pycharm": {
     "name": "#%%\n"
    }
   },
   "outputs": [],
   "source": [
    "def calcular_metricas_error(title, real, predicted):\n",
    "    mae = mean_absolute_error(real, predicted)\n",
    "    mse = mean_squared_error(real, predicted)\n",
    "    rmse = mean_squared_error(real, predicted, squared=False)\n",
    "    r2 = r2_score(real, predicted)\n",
    "\n",
    "    print(title)\n",
    "    print(f\"Error absoluto medio {mae}\")\n",
    "    print(f\"Error cuadrático medio {mse}\")\n",
    "    print(f\"Raiz del error cuadrático medio {rmse}\")\n",
    "    print(f\"R² {r2}\")"
   ]
  },
  {
   "cell_type": "markdown",
   "metadata": {
    "pycharm": {
     "name": "#%% md\n"
    }
   },
   "source": [
    "Como todas las features que tenemos están en escalas completamente diferentes y no pueden compararse, normalizaremos el dataset"
   ]
  },
  {
   "cell_type": "code",
   "execution_count": null,
   "metadata": {
    "jupyter": {
     "outputs_hidden": false
    },
    "pycharm": {
     "name": "#%%\n"
    }
   },
   "outputs": [],
   "source": [
    "sscaler = StandardScaler()\n",
    "x_train_transform = sscaler.fit_transform(pd.DataFrame(x_train))\n",
    "x_test_transform = sscaler.fit_transform(pd.DataFrame(x_test))"
   ]
  },
  {
   "cell_type": "markdown",
   "metadata": {
    "pycharm": {
     "name": "#%% md\n"
    }
   },
   "source": [
    "#### Construcción del modelo"
   ]
  },
  {
   "cell_type": "markdown",
   "metadata": {
    "pycharm": {
     "name": "#%% md\n"
    }
   },
   "source": [
    "##### Modelo base"
   ]
  },
  {
   "cell_type": "markdown",
   "metadata": {
    "pycharm": {
     "name": "#%% md\n"
    }
   },
   "source": [
    "Entrenaremos este modelo base con una Cross validation de 10 folds"
   ]
  },
  {
   "cell_type": "code",
   "execution_count": null,
   "metadata": {
    "jupyter": {
     "outputs_hidden": false
    },
    "pycharm": {
     "name": "#%%\n"
    }
   },
   "outputs": [],
   "source": [
    "d_in = 13\n",
    "d_out = 1\n",
    "\n",
    "\n",
    "def base_model():\n",
    "    model = keras.Sequential([\n",
    "        keras.layers.Dense(13, input_shape=(d_in,), kernel_initializer='normal', activation='relu'),\n",
    "        keras.layers.Dense(d_out, kernel_initializer='normal')])\n",
    "    model.compile(loss='mean_squared_error', optimizer='adam')\n",
    "    return model"
   ]
  },
  {
   "cell_type": "code",
   "execution_count": null,
   "metadata": {
    "jupyter": {
     "outputs_hidden": false
    },
    "pycharm": {
     "is_executing": true,
     "name": "#%%\n"
    }
   },
   "outputs": [],
   "source": [
    "estimator = KerasRegressor(model=base_model, batch_size=5, epochs=100)\n",
    "kfold = KFold(n_splits=5)\n",
    "results_base = cross_val_score(estimator, x_train_transform, y_train, cv=kfold, scoring='neg_mean_squared_error')"
   ]
  },
  {
   "cell_type": "code",
   "execution_count": null,
   "metadata": {
    "jupyter": {
     "outputs_hidden": false
    },
    "pycharm": {
     "name": "#%%\n"
    }
   },
   "outputs": [],
   "source": [
    "print(\"Baseline: %.2f (%.2f) MSE\" % (results_base.mean(), results_base.std()))\n",
    "print(\"La raíz del error cuadrático medio para el modelo base es: %.2f\" % np.sqrt(abs(results_base.mean())))"
   ]
  },
  {
   "cell_type": "markdown",
   "metadata": {
    "pycharm": {
     "name": "#%% md\n"
    }
   },
   "source": [
    "Ahora probaremos lo mismo pero en un modelo un poco más grande, agregaremos una capa intermedia. Reduciremos los splits a 5 para reducir un poco el tiempo de ejecución."
   ]
  },
  {
   "cell_type": "markdown",
   "metadata": {
    "pycharm": {
     "name": "#%% md\n"
    }
   },
   "source": [
    "##### Modelo de 3 capas"
   ]
  },
  {
   "cell_type": "code",
   "execution_count": null,
   "metadata": {
    "jupyter": {
     "outputs_hidden": false
    },
    "pycharm": {
     "is_executing": true,
     "name": "#%%\n"
    }
   },
   "outputs": [],
   "source": [
    "def larger_model():\n",
    "    model = keras.Sequential([\n",
    "        keras.layers.Dense(13, input_shape=(d_in,), kernel_initializer='normal', activation='relu'),\n",
    "        keras.layers.Dense(6, kernel_initializer='normal', activation='relu'),\n",
    "        keras.layers.Dense(1, kernel_initializer='normal')\n",
    "    ])\n",
    "    model.compile(loss='mean_squared_error', optimizer='adam')\n",
    "    return model"
   ]
  },
  {
   "cell_type": "code",
   "execution_count": null,
   "metadata": {
    "jupyter": {
     "outputs_hidden": false
    },
    "pycharm": {
     "is_executing": true,
     "name": "#%%\n"
    }
   },
   "outputs": [],
   "source": [
    "estimator = KerasRegressor(build_fn=larger_model, batch_size=5, epochs=100)\n",
    "kfold = KFold(n_splits=5)\n",
    "results_larger = cross_val_score(estimator, x_train_transform, y_train, cv=kfold, scoring='neg_mean_squared_error')"
   ]
  },
  {
   "cell_type": "code",
   "execution_count": null,
   "metadata": {
    "jupyter": {
     "outputs_hidden": false
    },
    "pycharm": {
     "is_executing": true,
     "name": "#%%\n"
    }
   },
   "outputs": [],
   "source": [
    "print(\"El MSE %.2f (%.2f)\" % (results_larger.mean(), results_larger.std()))\n",
    "print(f\"La raíz del error cuadrático medio para el modelo profundo es {np.sqrt(abs(results_larger.mean()))}\")"
   ]
  },
  {
   "cell_type": "markdown",
   "metadata": {
    "pycharm": {
     "name": "#%% md\n"
    }
   },
   "source": [
    "Por último, probaremos un tercer modelo con una capa inical más ancha."
   ]
  },
  {
   "cell_type": "markdown",
   "metadata": {
    "pycharm": {
     "name": "#%% md\n"
    }
   },
   "source": [
    "##### Modelo ancho"
   ]
  },
  {
   "cell_type": "code",
   "execution_count": null,
   "metadata": {
    "jupyter": {
     "outputs_hidden": false
    },
    "pycharm": {
     "is_executing": true,
     "name": "#%%\n"
    }
   },
   "outputs": [],
   "source": [
    "def wider_model():\n",
    "    model = keras.Sequential([\n",
    "        keras.layers.Dense(26, input_shape=(d_in,), kernel_initializer='normal', activation='relu'),\n",
    "        keras.layers.Dense(1, kernel_initializer='normal')\n",
    "    ])\n",
    "    model.compile(loss='mean_squared_error', optimizer='adam')\n",
    "    return model"
   ]
  },
  {
   "cell_type": "code",
   "execution_count": null,
   "metadata": {
    "jupyter": {
     "outputs_hidden": false
    },
    "pycharm": {
     "is_executing": true,
     "name": "#%%\n"
    }
   },
   "outputs": [],
   "source": [
    "estimator = KerasRegressor(build_fn=wider_model, batch_size=5, epochs=100)\n",
    "kfold = KFold(n_splits=5)\n",
    "results_wider = cross_val_score(estimator, x_train_transform, y_train, cv=kfold, scoring='neg_mean_squared_error')"
   ]
  },
  {
   "cell_type": "code",
   "execution_count": null,
   "metadata": {
    "jupyter": {
     "outputs_hidden": false
    },
    "pycharm": {
     "is_executing": true,
     "name": "#%%\n"
    }
   },
   "outputs": [],
   "source": [
    "print(\"El MSE %.2f (%.2f)\" % (results_wider.mean(), results_wider.std()))\n",
    "print(f\"La raíz del error cuadrático medio para el modelo ancho es {np.sqrt(abs(results_wider.mean()))}\")"
   ]
  },
  {
   "cell_type": "markdown",
   "metadata": {
    "pycharm": {
     "name": "#%% md\n"
    }
   },
   "source": [
    "#### Análisis de métricas"
   ]
  },
  {
   "cell_type": "code",
   "execution_count": null,
   "metadata": {
    "jupyter": {
     "outputs_hidden": false
    },
    "pycharm": {
     "is_executing": true,
     "name": "#%%\n"
    }
   },
   "outputs": [],
   "source": [
    "print(\"La raíz del error cuadrático medio para el modelo base es: %.2f\" % np.sqrt(abs(results_base.mean())))\n",
    "print(\"La raíz del error cuadrático medio para el modelo profundo es: %.2f\" % np.sqrt(abs(results_larger.mean())))\n",
    "print(f\"La raíz del error cuadrático medio para el modelo ancho es {np.sqrt(abs(results_wider.mean()))}\")"
   ]
  },
  {
   "cell_type": "markdown",
   "metadata": {
    "pycharm": {
     "name": "#%% md\n"
    }
   },
   "source": [
    "Analizaremos un poco más en detalle el modelo profundo que tiene mejor métrica."
   ]
  },
  {
   "cell_type": "code",
   "execution_count": null,
   "metadata": {
    "jupyter": {
     "outputs_hidden": false
    },
    "pycharm": {
     "is_executing": true,
     "name": "#%%\n"
    }
   },
   "outputs": [],
   "source": [
    "model = larger_model()\n",
    "\n",
    "model.fit(x_train_transform, y_train)"
   ]
  },
  {
   "cell_type": "code",
   "execution_count": null,
   "metadata": {
    "jupyter": {
     "outputs_hidden": false
    },
    "pycharm": {
     "name": "#%%\n"
    }
   },
   "outputs": [],
   "source": [
    "y_pred = model.predict(x_train_transform)\n",
    "y_pred_test = model.predict(x_test_transform)"
   ]
  },
  {
   "cell_type": "code",
   "execution_count": null,
   "metadata": {
    "jupyter": {
     "outputs_hidden": false
    },
    "pycharm": {
     "name": "#%%\n"
    }
   },
   "outputs": [],
   "source": [
    "precios_train = pd.concat([y_train, pd.DataFrame(y_pred, columns=['predicted'])], axis=1)\n",
    "precios_test = pd.concat([y_test, pd.DataFrame(y_pred_test, columns=['predicted'])], axis=1)"
   ]
  },
  {
   "cell_type": "code",
   "execution_count": null,
   "metadata": {
    "jupyter": {
     "outputs_hidden": false
    },
    "pycharm": {
     "name": "#%%\n"
    }
   },
   "outputs": [],
   "source": [
    "fig, (ax1, ax2) = plt.subplots(1, 2, figsize=(20, 5))\n",
    "fig.suptitle(\"Distribución de precios reales y predichos Train\")\n",
    "\n",
    "sns.kdeplot(precios_train['property_price'], ax=ax1)\n",
    "sns.kdeplot(y_pred[:,0], ax=ax2)"
   ]
  },
  {
   "cell_type": "markdown",
   "metadata": {
    "pycharm": {
     "name": "#%% md\n"
    }
   },
   "source": [
    "Podemos ver que la campana real es bastante similar a la predicha tanto en train como en test. La campana predicha es levemente más baja habiendo menos densidad en los precios medios."
   ]
  },
  {
   "cell_type": "code",
   "execution_count": null,
   "metadata": {
    "jupyter": {
     "outputs_hidden": false
    },
    "pycharm": {
     "name": "#%%\n"
    }
   },
   "outputs": [],
   "source": [
    "calcular_metricas_error(\"Metricas de train:\", y_train, y_pred)\n",
    "calcular_metricas_error(\"Metricas de test:\", y_test, y_pred_test)"
   ]
  },
  {
   "cell_type": "code",
   "execution_count": null,
   "metadata": {
    "jupyter": {
     "outputs_hidden": false
    },
    "pycharm": {
     "name": "#%%\n"
    }
   },
   "outputs": [],
   "source": [
    "regression_scatter(ds_train.property_surface_covered, y_train, y_pred[:, 0])\n",
    "regression_scatter(ds_train.property_surface_total, y_train, y_pred[:, 0])\n",
    "regression_scatter(ds_train.latitud, y_train, y_pred[:, 0])\n",
    "regression_scatter(ds_train.longitud, y_train, y_pred[:, 0])"
   ]
  },
  {
   "cell_type": "markdown",
   "metadata": {
    "pycharm": {
     "name": "#%% md\n"
    }
   },
   "source": [
    "#### Clasificación"
   ]
  },
  {
   "cell_type": "markdown",
   "metadata": {
    "jupyter": {
     "outputs_hidden": false
    },
    "pycharm": {
     "name": "#%% md\n"
    }
   },
   "source": [
    "##### Construcción del target"
   ]
  },
  {
   "cell_type": "code",
   "execution_count": null,
   "metadata": {},
   "outputs": [],
   "source": [
    "scaler = StandardScaler()\n",
    "# Droppeamos todas las columnas del dataset que no vamos a utilizar\n",
    "x_train = train_ds.drop(axis = 1, columns = [\"start_date\", \n",
    "                                             \"end_date\", \n",
    "                                             \"place_l3\",\n",
    "                                             \"property_price\" ,\n",
    "                                             \"property_type\", \n",
    "                                             \"property_title\", \n",
    "                                             \"pxm2\", \n",
    "                                             'tipo_precio'])\n",
    "# Escalamos los datos\n",
    "x_train = scaler.fit_transform(x_train)\n",
    "\n",
    "# Construimos el target con la variable objetivo\n",
    "y_train = train_ds.tipo_precio\n",
    "y_train = np.array(y_train)\n",
    "\n",
    "# Repetimos los pasos con el dataset de test\n",
    "x_test = test_ds.drop(axis=1, columns= ['place_l3', \n",
    "                       'property_title', \n",
    "                       'property_type', \n",
    "                       'property_price', \n",
    "                       'tipo_precio',\n",
    "                       'pxm2'])\n",
    "\n",
    "x_test = scaler.fit_transform(x_test)\n",
    "y_test = test_ds.tipo_precio\n",
    "y_test = np.array(y_test)\n",
    "\n",
    "\n",
    "# Realizamos el one hot encoder para transformar la variable target en numérica tanto en train como test\n",
    "enc = OneHotEncoder()\n",
    "y_train_encoded = enc.fit_transform(y_train[:, np.newaxis]).toarray()\n",
    "y_test_encoded = enc.transform(y_test[:, np.newaxis]).toarray()"
   ]
  },
  {
   "cell_type": "markdown",
   "metadata": {
    "jupyter": {
     "outputs_hidden": false
    },
    "pycharm": {
     "name": "#%% md\n"
    }
   },
   "source": [
    "##### Modelo"
   ]
  },
  {
   "cell_type": "markdown",
   "metadata": {},
   "source": [
    "Optamos por agregar una capa intermedia de 6 neuronas con la función de activación reLU. Luego una capa de 4 neuronas con función tanh. Finalmente una capa de salida de 3 neuronas con la función de activación sigmoidea ya que se trata de un problema de clasificación."
   ]
  },
  {
   "cell_type": "code",
   "execution_count": null,
   "metadata": {},
   "outputs": [],
   "source": [
    "cantidad_de_posibles_respuestas=len(np.unique(y_train))\n",
    "cantidad_de_variables_predictoras=len(x_train[0])\n",
    "\n",
    "\n",
    "modelo = keras.Sequential([\n",
    "    keras.layers.Dense(6,input_shape=(cantidad_de_variables_predictoras,), activation='relu'),\n",
    "    keras.layers.Dense(4,activation= 'tanh'),\n",
    "    keras.layers.Dense(cantidad_de_posibles_respuestas,input_shape=(cantidad_de_variables_predictoras,),activation='sigmoid')])\n",
    "\n",
    "modelo.summary()"
   ]
  },
  {
   "cell_type": "code",
   "execution_count": null,
   "metadata": {},
   "outputs": [],
   "source": [
    "Como optimizador decidimos utilizar Adam con un learning rate lo suficientemente bajo como para no realizar saltos demasiado grandes a la hora de converger."
   ]
  },
  {
   "cell_type": "code",
   "execution_count": null,
   "metadata": {},
   "outputs": [],
   "source": [
    "modelo.compile(\n",
    "  optimizer=keras.optimizers.Adam(learning_rate=0.0005),\n",
    "    # Elegimos la siguiente función ya que se trata de una red neuronal de clasificación\n",
    "  loss='categorical_crossentropy',\n",
    "    # Como métrica elegimos accuracy\n",
    "  metrics=['accuracy'], \n",
    ")\n",
    "\n",
    "# La cantidad de Epochs está en 300 para ver si mejoraban las métricas, se pueden cambiar a 100 tranquilamente \n",
    "# para que ejecute más rápido\n",
    "cant_epochs= 100\n",
    "\n",
    "historia_entrenamiento_modelo = modelo.fit(x_train,y_train_encoded,epochs=cant_epochs,batch_size=16,verbose=True, workers= -1, use_multiprocessing=True)"
   ]
  },
  {
   "cell_type": "code",
   "execution_count": null,
   "metadata": {},
   "outputs": [],
   "source": [
    "output_modelo = modelo.predict(x_train)\n",
    "\n",
    "predicciones = np.argmax(output_modelo, axis=1).tolist()\n",
    "valores_esperados = np.argmax(y_train_encoded, axis=1).tolist()\n",
    "\n",
    "\n",
    "tabla_iris = confusion_matrix(predicciones, valores_esperados)\n",
    "sns.heatmap(tabla_iris,annot=True, cmap = 'Blues', fmt= 'g').set(title='Predicciones sobre el conjunto de entrenamiento')\n",
    "plt.xlabel('Predicted')\n",
    "plt.ylabel('True')\n",
    "plt.show()\n",
    "print(classification_report(predicciones, valores_esperados))"
   ]
  },
  {
   "cell_type": "code",
   "execution_count": null,
   "metadata": {},
   "outputs": [],
   "source": [
    "output_modelo = modelo.predict(x_test)\n",
    "\n",
    "predicciones = np.argmax(output_modelo, axis=1).tolist()\n",
    "valores_esperados = np.argmax(y_test_encoded, axis=1).tolist()\n",
    "\n",
    "\n",
    "tabla_iris = confusion_matrix(predicciones, valores_esperados)\n",
    "sns.heatmap(tabla_iris,annot=True, cmap = 'Blues', fmt= 'g').set(title='Predicciones sobre el conjunto de testeo')\n",
    "plt.xlabel('Predicted')\n",
    "plt.ylabel('True')\n",
    "plt.show()\n",
    "print(classification_report(predicciones, valores_esperados))"
   ]
  },
  {
   "cell_type": "markdown",
   "metadata": {},
   "source": [
    "Vemos como en los primeros 10 epochs rápidamente se progresa fuertemente la métric de accuracy y pasado eso la mejora es paulatina"
   ]
  },
  {
   "cell_type": "code",
   "execution_count": null,
   "metadata": {},
   "outputs": [],
   "source": [
    "epochs = range(cant_epochs)\n",
    "\n",
    "plt.plot(epochs, historia_entrenamiento_modelo.history['accuracy'], color='orange', label='accuracy')\n",
    "plt.xlabel(\"epochs\")\n",
    "plt.ylabel(\"accuracy\")\n",
    "plt.legend()"
   ]
  },
  {
   "cell_type": "markdown",
   "metadata": {},
   "source": [
    "En el caso del minimizado del error vemos como en los primeros 10 epochs se reduce fuertemente. Entre el epoch 10 y 40 a una menor medida y pasado el epoch 40 la reducción es mínima."
   ]
  },
  {
   "cell_type": "code",
   "execution_count": null,
   "metadata": {},
   "outputs": [],
   "source": [
    "epochs = range(cant_epochs)\n",
    "\n",
    "plt.plot(epochs, historia_entrenamiento_modelo.history['loss'], color='orange', label='loss')\n",
    "plt.xlabel(\"epochs\")\n",
    "plt.ylabel(\"loss\")\n",
    "plt.legend()"
   ]
  },
  {
   "cell_type": "code",
   "execution_count": null,
   "metadata": {},
   "outputs": [],
   "source": [
    "### DS Expandido:\n",
    "\n",
    "### top3 > % regex -> booleanas\n",
    "### expensas sacadas con regex --> numerico\n",
    "### property_desc_score = tecnica chino -> numerico\n",
    "### serian 5 columnas en total"
   ]
  },
  {
   "cell_type": "markdown",
   "metadata": {
    "pycharm": {
     "name": "#%% md\n"
    }
   },
   "source": [
    "Otro factor interesante que podriamos analizar es a que tipo de vivienda pertenece cada ammenity. Y si donde encontramos una ammenity en particular, encontramos consecuentemente otra. Por ejemplo, una casa con jardin y parrila y/o pileta.\n",
    "De esta manera podriamos tratar de determinar el costo de cada ammenity o como afecta al precio."
   ]
  },
  {
   "cell_type": "markdown",
   "metadata": {
    "jp-MarkdownHeadingCollapsed": true,
    "pycharm": {
     "name": "#%% md\n"
    },
    "tags": []
   },
   "source": [
    "## Ensambles de modelos"
   ]
  },
  {
   "cell_type": "markdown",
   "metadata": {
    "pycharm": {
     "name": "#%% md\n"
    }
   },
   "source": [
    "### Ensamble 1"
   ]
  },
  {
   "cell_type": "markdown",
   "metadata": {
    "pycharm": {
     "name": "#%% md\n"
    }
   },
   "source": [
    "### Ensamble 2"
   ]
  },
  {
   "cell_type": "markdown",
   "metadata": {
    "jp-MarkdownHeadingCollapsed": true,
    "pycharm": {
     "name": "#%% md\n"
    },
    "tags": []
   },
   "source": [
    "## Conclusiones"
   ]
  }
 ],
 "metadata": {
  "kernelspec": {
   "display_name": "Python 3 (ipykernel)",
   "language": "python",
   "name": "python3"
  },
  "language_info": {
   "codemirror_mode": {
    "name": "ipython",
    "version": 3
   },
   "file_extension": ".py",
   "mimetype": "text/x-python",
   "name": "python",
   "nbconvert_exporter": "python",
   "pygments_lexer": "ipython3",
   "version": "3.9.13"
  }
 },
 "nbformat": 4,
 "nbformat_minor": 4
}
